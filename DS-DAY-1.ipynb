{
 "cells": [
  {
   "cell_type": "code",
   "execution_count": 2,
   "id": "f2a1bbf0",
   "metadata": {},
   "outputs": [
    {
     "name": "stdout",
     "output_type": "stream",
     "text": [
      "3.11.5 | packaged by Anaconda, Inc. | (main, Sep 11 2023, 13:26:23) [MSC v.1916 64 bit (AMD64)]\n"
     ]
    }
   ],
   "source": [
    "import sys\n",
    "print(sys.version)"
   ]
  },
  {
   "cell_type": "markdown",
   "id": "b9a4f019",
   "metadata": {},
   "source": [
    "Python \n",
    "------\n",
    "  |->class <--> object design model \n",
    "     |           |__real value - own state/memory\n",
    "    type\n",
    "    \n",
    "    10 11 12 0 -1 23423.234  'abc' True False "
   ]
  },
  {
   "cell_type": "code",
   "execution_count": 3,
   "id": "6a802336",
   "metadata": {},
   "outputs": [
    {
     "name": "stdout",
     "output_type": "stream",
     "text": [
      "<class 'int'> <class 'float'> <class 'str'> <class 'bool'>\n"
     ]
    }
   ],
   "source": [
    "print(type(10),type(10.0),type(''),type(True))"
   ]
  },
  {
   "cell_type": "code",
   "execution_count": 6,
   "id": "86bbb8a7",
   "metadata": {},
   "outputs": [
    {
     "name": "stdout",
     "output_type": "stream",
     "text": [
      "0x7ffc2b7e9448\n",
      "0x7ffc2b7e9448\n",
      "0x7ffc2b7e9448\n",
      "0x7ffc2b7e9448\n",
      "0x7ffc2b7e9448\n"
     ]
    }
   ],
   "source": [
    "a = 10\n",
    "b = 4+6\n",
    "c = 5+5\n",
    "d = 3+7\n",
    "print(hex(id(10)))\n",
    "print(hex(id(a)))\n",
    "print(hex(id(b)))\n",
    "print(hex(id(c)))\n",
    "print(hex(id(d)))"
   ]
  },
  {
   "cell_type": "code",
   "execution_count": null,
   "id": "1eeaebbf",
   "metadata": {},
   "outputs": [],
   "source": [
    "int float complex # numerical / number operation - arithmetic,relational,logical\n",
    "          -------\n",
    "             |-> real ; img"
   ]
  },
  {
   "cell_type": "code",
   "execution_count": 8,
   "id": "f5a02376",
   "metadata": {},
   "outputs": [
    {
     "name": "stdout",
     "output_type": "stream",
     "text": [
      "<class 'int'>\n"
     ]
    },
    {
     "data": {
      "text/plain": [
       "10.0"
      ]
     },
     "execution_count": 8,
     "metadata": {},
     "output_type": "execute_result"
    }
   ],
   "source": [
    "print(type(10))\n",
    "float(10)"
   ]
  },
  {
   "cell_type": "code",
   "execution_count": 9,
   "id": "f0c5e112",
   "metadata": {},
   "outputs": [
    {
     "data": {
      "text/plain": [
       "(10+0j)"
      ]
     },
     "execution_count": 9,
     "metadata": {},
     "output_type": "execute_result"
    }
   ],
   "source": [
    "complex(10)"
   ]
  },
  {
   "cell_type": "code",
   "execution_count": 14,
   "id": "528997b8",
   "metadata": {},
   "outputs": [
    {
     "name": "stdout",
     "output_type": "stream",
     "text": [
      "<class 'complex'>\n"
     ]
    },
    {
     "data": {
      "text/plain": [
       "(10+0j)"
      ]
     },
     "execution_count": 14,
     "metadata": {},
     "output_type": "execute_result"
    }
   ],
   "source": [
    "c = complex(10)\n",
    "print(type(c))\n",
    "c"
   ]
  },
  {
   "cell_type": "code",
   "execution_count": null,
   "id": "240553f1",
   "metadata": {},
   "outputs": [],
   "source": [
    "bool - True False \n",
    "NoneType - None"
   ]
  },
  {
   "cell_type": "markdown",
   "id": "f54e2f47",
   "metadata": {},
   "source": [
    "Collection - Collection of items\n",
    "    |\n",
    "    |---> sequential - ordered format - index based - str,bytes,list,tuple\n",
    "    |---> mapping - unordered - key:value      - dict\n",
    "                    unordered - key only    - set "
   ]
  },
  {
   "cell_type": "markdown",
   "id": "c71c28eb",
   "metadata": {},
   "source": [
    "Product\n",
    "   |----> product_id : 101 , product_name: prodA , product_Cost: 93939.13\n",
    "          product_sales: 98.24 , product_status: True ...."
   ]
  },
  {
   "cell_type": "code",
   "execution_count": 31,
   "id": "90b45cd5",
   "metadata": {},
   "outputs": [],
   "source": [
    "prod_id = 101\n",
    "prod_name = 'prodA'\n",
    "prod_cost = 93939.34\n",
    "prod_status = True\n",
    "    # Vs\n",
    "product_infoB  = [102,'prodB',93939.35,False] # list - mutable (we can add/modify/delete)\n",
    "    # Vs\n",
    "product_infoC  = (103,'prodC',63939.35,True)  # tuple - immutable ( we can't add/modify/delete)\n",
    "    # Vs\n",
    "product_infoD  = {'K1':104,'K2':'prodD','K3':True,'K4':293923.42} # dict - mutable (we can add/modify/delete)"
   ]
  },
  {
   "cell_type": "code",
   "execution_count": 15,
   "id": "c6003807",
   "metadata": {},
   "outputs": [
    {
     "data": {
      "text/plain": [
       "{'a': ['1'], 'b': ['2'], 'c': ['3'], 'd': ['4']}"
      ]
     },
     "execution_count": 15,
     "metadata": {},
     "output_type": "execute_result"
    }
   ],
   "source": [
    "# dictName = {Key:Value}\n",
    "d = {'1':'a', '2':'b', '3':'c', '4':'d'}\n",
    " \n",
    "{v:[i for i in d.keys() if d[i] == v] for k,v in d.items()}\n",
    " "
   ]
  },
  {
   "cell_type": "code",
   "execution_count": 29,
   "id": "b4a90889",
   "metadata": {},
   "outputs": [
    {
     "data": {
      "text/plain": [
       "dict_keys(['K1', 'K2', 'K3', 'K4', 'K5'])"
      ]
     },
     "execution_count": 29,
     "metadata": {},
     "output_type": "execute_result"
    }
   ],
   "source": [
    "d.keys()"
   ]
  },
  {
   "cell_type": "code",
   "execution_count": 30,
   "id": "0bbf9c12",
   "metadata": {},
   "outputs": [
    {
     "data": {
      "text/plain": [
       "dict_items([('K1', 10), ('K2', 20), ('K3', 30), ('K4', 40), ('K5', 50)])"
      ]
     },
     "execution_count": 30,
     "metadata": {},
     "output_type": "execute_result"
    }
   ],
   "source": [
    "d.items()"
   ]
  },
  {
   "cell_type": "code",
   "execution_count": 18,
   "id": "b52d4230",
   "metadata": {},
   "outputs": [
    {
     "name": "stdout",
     "output_type": "stream",
     "text": [
      "--> ('1', 'a')\n",
      "1 a\n",
      "--> ('2', 'b')\n",
      "2 b\n",
      "--> ('3', 'c')\n",
      "3 c\n",
      "--> ('4', 'd')\n",
      "4 d\n"
     ]
    }
   ],
   "source": [
    "for V in d.items():\n",
    "    print(\"-->\",V)\n",
    "    k,v = V # multiple initialization  V1,V2,V3 = value1,value2,value3\n",
    "    print(k,v)"
   ]
  },
  {
   "cell_type": "code",
   "execution_count": 19,
   "id": "a13d3af7",
   "metadata": {},
   "outputs": [
    {
     "data": {
      "text/plain": [
       "[110, 120, 130, 140, 150]"
      ]
     },
     "execution_count": 19,
     "metadata": {},
     "output_type": "execute_result"
    }
   ],
   "source": [
    "L=[10,20,30,40,50]\n",
    "\n",
    "result=[]\n",
    "\n",
    "for var in L:\n",
    "    r=var+100\n",
    "    result.append(r)\n",
    "    \n",
    "result"
   ]
  },
  {
   "cell_type": "code",
   "execution_count": 20,
   "id": "d3b5b60a",
   "metadata": {},
   "outputs": [
    {
     "data": {
      "text/plain": [
       "[110, 120, 130, 140, 150]"
      ]
     },
     "execution_count": 20,
     "metadata": {},
     "output_type": "execute_result"
    }
   ],
   "source": [
    "[var+100 for var in [10,20,30,40,50]]"
   ]
  },
  {
   "cell_type": "code",
   "execution_count": 21,
   "id": "eec2fa2f",
   "metadata": {},
   "outputs": [
    {
     "data": {
      "text/plain": [
       "[140, 150]"
      ]
     },
     "execution_count": 21,
     "metadata": {},
     "output_type": "execute_result"
    }
   ],
   "source": [
    "L=[10,20,30,40,50]\n",
    "\n",
    "result=[]\n",
    "\n",
    "for var in L:\n",
    "    if(var >30):\n",
    "        r=var+100\n",
    "        result.append(r)\n",
    "    \n",
    "result"
   ]
  },
  {
   "cell_type": "code",
   "execution_count": 22,
   "id": "ae301f84",
   "metadata": {},
   "outputs": [
    {
     "data": {
      "text/plain": [
       "[140, 150]"
      ]
     },
     "execution_count": 22,
     "metadata": {},
     "output_type": "execute_result"
    }
   ],
   "source": [
    "[var+100 for var in [10,20,30,40,50] if var >30]"
   ]
  },
  {
   "cell_type": "code",
   "execution_count": 23,
   "id": "1102416d",
   "metadata": {},
   "outputs": [
    {
     "data": {
      "text/plain": [
       "['K1', 'K2', 'K3', 'K4', 'K5']"
      ]
     },
     "execution_count": 23,
     "metadata": {},
     "output_type": "execute_result"
    }
   ],
   "source": [
    "d={'K1':10,'K2':20,'K3':30,'K4':40,'K5':50}\n",
    "[var for var in d]"
   ]
  },
  {
   "cell_type": "code",
   "execution_count": 25,
   "id": "3ca28836",
   "metadata": {},
   "outputs": [
    {
     "data": {
      "text/plain": [
       "[40, 50]"
      ]
     },
     "execution_count": 25,
     "metadata": {},
     "output_type": "execute_result"
    }
   ],
   "source": [
    "[d[var] for var in d if d[var] >30]"
   ]
  },
  {
   "cell_type": "code",
   "execution_count": 28,
   "id": "ab5a9940",
   "metadata": {},
   "outputs": [
    {
     "data": {
      "text/plain": [
       "{'K1': [40, 50]}"
      ]
     },
     "execution_count": 28,
     "metadata": {},
     "output_type": "execute_result"
    }
   ],
   "source": [
    "{'K1':[d[var] for var in d if d[var] >30]}"
   ]
  },
  {
   "cell_type": "markdown",
   "id": "d30d6043",
   "metadata": {},
   "source": [
    "Python program\n",
    " 1. procedure code style - direct approach \n",
    " 2. object oriented style - object based approach   obj.var = <value>  obj.fx()//methodcall\n",
    " 3. Functional style - Single line code - computing "
   ]
  },
  {
   "cell_type": "code",
   "execution_count": null,
   "id": "0012c0e3",
   "metadata": {},
   "outputs": [],
   "source": []
  },
  {
   "cell_type": "code",
   "execution_count": 35,
   "id": "ec3d8709",
   "metadata": {},
   "outputs": [
    {
     "name": "stdout",
     "output_type": "stream",
     "text": [
      "102\n",
      "prodB\n",
      "False\n",
      "\n",
      "103\n",
      "prodC\n",
      "True\n"
     ]
    }
   ],
   "source": [
    "prod_id = 101\n",
    "prod_name = 'prodA'\n",
    "prod_cost = 93939.34\n",
    "prod_status = True\n",
    "    # Vs\n",
    "product_infoB  = [102,'prodB',93939.35,False] # list - mutable (we can add/modify/delete)\n",
    "print(product_infoB[0])\n",
    "print(product_infoB[1])\n",
    "print(product_infoB[-1])\n",
    "print('') # empty line\n",
    "\n",
    "    # Vs\n",
    "product_infoC  = (103,'prodC',63939.35,True)  # tuple - immutable ( we can't add/modify/delete)\n",
    "print(product_infoC[0])\n",
    "print(product_infoC[1])\n",
    "print(product_infoC[-1])"
   ]
  },
  {
   "cell_type": "code",
   "execution_count": null,
   "id": "39ffe0f9",
   "metadata": {},
   "outputs": [],
   "source": [
    "list is mutable - we can new data \n",
    "listname.append(Value) ->None \n",
    "listname.insert(index,value) ->None\n"
   ]
  },
  {
   "cell_type": "code",
   "execution_count": 36,
   "id": "f85a5305",
   "metadata": {},
   "outputs": [
    {
     "data": {
      "text/plain": [
       "['Data1', 'Data2']"
      ]
     },
     "execution_count": 36,
     "metadata": {},
     "output_type": "execute_result"
    }
   ],
   "source": [
    "L=[]\n",
    "L.append('Data1')\n",
    "L.append('Data2')\n",
    "L"
   ]
  },
  {
   "cell_type": "code",
   "execution_count": 37,
   "id": "78ec3cdd",
   "metadata": {},
   "outputs": [],
   "source": [
    "L.insert(1,'Data3')"
   ]
  },
  {
   "cell_type": "code",
   "execution_count": 38,
   "id": "62e95f8a",
   "metadata": {},
   "outputs": [
    {
     "data": {
      "text/plain": [
       "['Data1', 'Data3', 'Data2']"
      ]
     },
     "execution_count": 38,
     "metadata": {},
     "output_type": "execute_result"
    }
   ],
   "source": [
    "L"
   ]
  },
  {
   "cell_type": "code",
   "execution_count": null,
   "id": "6a3c8736",
   "metadata": {},
   "outputs": [],
   "source": [
    "How to modify an existing list ?\n",
    "      -------------\n",
    "    ListName[oldIndex] = updatedValue "
   ]
  },
  {
   "cell_type": "code",
   "execution_count": 39,
   "id": "49a419a9",
   "metadata": {},
   "outputs": [
    {
     "data": {
      "text/plain": [
       "'Data3'"
      ]
     },
     "execution_count": 39,
     "metadata": {},
     "output_type": "execute_result"
    }
   ],
   "source": [
    "L=['Data1','Data2','Data3','Data4','Data5']\n",
    "L[2]"
   ]
  },
  {
   "cell_type": "code",
   "execution_count": 40,
   "id": "45e6ae5f",
   "metadata": {},
   "outputs": [],
   "source": [
    "L[2]='Data-XYZ' # modification"
   ]
  },
  {
   "cell_type": "code",
   "execution_count": 41,
   "id": "886cfad4",
   "metadata": {},
   "outputs": [
    {
     "data": {
      "text/plain": [
       "['Data1', 'Data2', 'Data-XYZ', 'Data4', 'Data5']"
      ]
     },
     "execution_count": 41,
     "metadata": {},
     "output_type": "execute_result"
    }
   ],
   "source": [
    "L"
   ]
  },
  {
   "cell_type": "code",
   "execution_count": 42,
   "id": "a2301ec9",
   "metadata": {},
   "outputs": [
    {
     "data": {
      "text/plain": [
       "5"
      ]
     },
     "execution_count": 42,
     "metadata": {},
     "output_type": "execute_result"
    }
   ],
   "source": [
    "len(L)"
   ]
  },
  {
   "cell_type": "code",
   "execution_count": 43,
   "id": "6631616e",
   "metadata": {},
   "outputs": [
    {
     "data": {
      "text/plain": [
       "'Data-XYZ'"
      ]
     },
     "execution_count": 43,
     "metadata": {},
     "output_type": "execute_result"
    }
   ],
   "source": [
    "L[2]"
   ]
  },
  {
   "cell_type": "code",
   "execution_count": 44,
   "id": "c49d6130",
   "metadata": {},
   "outputs": [
    {
     "data": {
      "text/plain": [
       "['Data-XYZ', 'Data4', 'Data5']"
      ]
     },
     "execution_count": 44,
     "metadata": {},
     "output_type": "execute_result"
    }
   ],
   "source": [
    "L[2:]"
   ]
  },
  {
   "cell_type": "code",
   "execution_count": 45,
   "id": "e598ac66",
   "metadata": {},
   "outputs": [
    {
     "data": {
      "text/plain": [
       "['Data-XYZ', 'Data4']"
      ]
     },
     "execution_count": 45,
     "metadata": {},
     "output_type": "execute_result"
    }
   ],
   "source": [
    "L[2:4]"
   ]
  },
  {
   "cell_type": "code",
   "execution_count": 46,
   "id": "0251082f",
   "metadata": {},
   "outputs": [
    {
     "data": {
      "text/plain": [
       "['Data1', 'Data2']"
      ]
     },
     "execution_count": 46,
     "metadata": {},
     "output_type": "execute_result"
    }
   ],
   "source": [
    "L[:2]"
   ]
  },
  {
   "cell_type": "code",
   "execution_count": 47,
   "id": "6cbde808",
   "metadata": {},
   "outputs": [
    {
     "data": {
      "text/plain": [
       "['Data4', 'Data5']"
      ]
     },
     "execution_count": 47,
     "metadata": {},
     "output_type": "execute_result"
    }
   ],
   "source": [
    "L[-2:] # last 2 items"
   ]
  },
  {
   "cell_type": "markdown",
   "id": "7e77a047",
   "metadata": {},
   "source": [
    "How to delete nth item from list ?\n",
    "\n",
    " listname.pop(index) -> removed_value Vs listname.pop() ->remove_last_indexvalue\n",
    "        <or>\n",
    " del(listname[index]) ->None"
   ]
  },
  {
   "cell_type": "code",
   "execution_count": 48,
   "id": "56f052a4",
   "metadata": {},
   "outputs": [
    {
     "data": {
      "text/plain": [
       "['Data1', 'Data2', 'Data-XYZ', 'Data4', 'Data5']"
      ]
     },
     "execution_count": 48,
     "metadata": {},
     "output_type": "execute_result"
    }
   ],
   "source": [
    "L"
   ]
  },
  {
   "cell_type": "code",
   "execution_count": 49,
   "id": "fecf35bf",
   "metadata": {},
   "outputs": [
    {
     "data": {
      "text/plain": [
       "'Data5'"
      ]
     },
     "execution_count": 49,
     "metadata": {},
     "output_type": "execute_result"
    }
   ],
   "source": [
    "L.pop()"
   ]
  },
  {
   "cell_type": "code",
   "execution_count": 50,
   "id": "67bd31d5",
   "metadata": {},
   "outputs": [
    {
     "data": {
      "text/plain": [
       "['Data1', 'Data2', 'Data-XYZ', 'Data4']"
      ]
     },
     "execution_count": 50,
     "metadata": {},
     "output_type": "execute_result"
    }
   ],
   "source": [
    "L"
   ]
  },
  {
   "cell_type": "code",
   "execution_count": 51,
   "id": "bf817a17",
   "metadata": {},
   "outputs": [
    {
     "data": {
      "text/plain": [
       "'Data2'"
      ]
     },
     "execution_count": 51,
     "metadata": {},
     "output_type": "execute_result"
    }
   ],
   "source": [
    "L.pop(1)"
   ]
  },
  {
   "cell_type": "code",
   "execution_count": 52,
   "id": "45eaecf5",
   "metadata": {},
   "outputs": [
    {
     "data": {
      "text/plain": [
       "['Data1', 'Data-XYZ', 'Data4']"
      ]
     },
     "execution_count": 52,
     "metadata": {},
     "output_type": "execute_result"
    }
   ],
   "source": [
    "L"
   ]
  },
  {
   "cell_type": "code",
   "execution_count": 53,
   "id": "d336c7f3",
   "metadata": {},
   "outputs": [
    {
     "name": "stdout",
     "output_type": "stream",
     "text": [
      "prompt messageproductA\n",
      "product name is: productA\n",
      "product name is:productA\n",
      "product name is:productA\n"
     ]
    }
   ],
   "source": [
    "var = input('prompt message')\n",
    "print('product name is:',var)  # 1way\n",
    "print(f'product name is:{var}') # 2nd style \n",
    "print('product name is:{}'.format(var)) # 3rd style"
   ]
  },
  {
   "cell_type": "code",
   "execution_count": null,
   "id": "8a9eb65b",
   "metadata": {},
   "outputs": [],
   "source": [
    "'''\n",
    "Write a python program:\n",
    "\n",
    "step 1:  initialize an empty list   (ex:   products = [])\n",
    "step 2:  use while loop - limit is 5\n",
    "                      -> read a productName from <STDIN>\n",
    "                      -> add input productName into an list - do append operation\n",
    "step 3:  use for loop - display list of product Name one by one\n",
    "step 4:  use len() - display total no.of products\n",
    "'''\n"
   ]
  },
  {
   "cell_type": "code",
   "execution_count": 54,
   "id": "e1305a9e",
   "metadata": {},
   "outputs": [
    {
     "name": "stdout",
     "output_type": "stream",
     "text": [
      "Enter a productName:prodA\n",
      "Enter a productName:prodB\n",
      "Enter a productName:prodC\n",
      "Enter a productName:prodD\n",
      "Enter a productName:prodE\n",
      "list of products:-\n",
      "prodA\n",
      "prodB\n",
      "prodC\n",
      "prodD\n",
      "prodE\n",
      "\n",
      "Total no.of products:5\n"
     ]
    }
   ],
   "source": [
    "products=[]\n",
    "c=0\n",
    "while (c <5):\n",
    "    p = input('Enter a productName:')\n",
    "    products.append(p)\n",
    "    c=c+1\n",
    "    \n",
    "print('list of products:-')\n",
    "for var in products:\n",
    "    print(var)\n",
    "print('') # empty line\n",
    "print(f'Total no.of products:{len(products)}')"
   ]
  },
  {
   "cell_type": "code",
   "execution_count": null,
   "id": "aa6ea444",
   "metadata": {},
   "outputs": [],
   "source": [
    "dict - like list - mutable \n",
    "\n",
    "d={'K1':'V1'}\n",
    "\n",
    "To add new data \n",
    "----------------\n",
    "dictName['newKey'] = value  -->(1) <or>  dictName.setdefault('newKey',value)\n",
    "\n",
    "To modify an existing value\n",
    "-------------------------------\n",
    "dictName['oldKey'] = updated_Value\n",
    "\n",
    "To delete nth data from dict\n",
    "------------------------------\n",
    "dictname.pop('oldKey') ->removedValue  <or> del(dictname['oldKey'])\n"
   ]
  },
  {
   "cell_type": "code",
   "execution_count": 55,
   "id": "31999793",
   "metadata": {},
   "outputs": [
    {
     "name": "stdout",
     "output_type": "stream",
     "text": [
      "Enter a productName:prodA\n",
      "Enter a productName:prodB\n",
      "Enter a productName:prodC\n",
      "Enter a productName:prodD\n",
      "Enter a productName:prodE\n",
      "To get list of products\n",
      "prodA\n",
      "prodB\n",
      "prodC\n",
      "prodD\n",
      "prodE\n",
      "\n",
      "Total no.of products:5\n"
     ]
    }
   ],
   "source": [
    "products = {} # empty dict\n",
    "c=0\n",
    "while(c<5):\n",
    "    pname = input('Enter a productName:')\n",
    "    products['K'+str(c+1)]=pname # adding new data to dict <or> products.setdefault('K'+str(c+1),pname)\n",
    "    c=c+1\n",
    "    \n",
    "print('To get list of products')\n",
    "for var in products:  # products.keys() <or> products.items()\n",
    "    print(products[var])\n",
    "    \n",
    "print('')\n",
    "print(f'Total no.of products:{len(products)}')"
   ]
  },
  {
   "cell_type": "code",
   "execution_count": 56,
   "id": "4d591d61",
   "metadata": {},
   "outputs": [
    {
     "data": {
      "text/plain": [
       "dict_items([('K1', 'prodA'), ('K2', 'prodB'), ('K3', 'prodC'), ('K4', 'prodD'), ('K5', 'prodE')])"
      ]
     },
     "execution_count": 56,
     "metadata": {},
     "output_type": "execute_result"
    }
   ],
   "source": [
    "products.items()"
   ]
  },
  {
   "cell_type": "code",
   "execution_count": null,
   "id": "b1eb001d",
   "metadata": {},
   "outputs": [],
   "source": [
    "list of list,tuple,dict\n",
    "tuple of list,tuple,dict\n",
    "dict of list,tuple,dict\n",
    "#################################### MD"
   ]
  },
  {
   "cell_type": "code",
   "execution_count": 59,
   "id": "4e1966a1",
   "metadata": {},
   "outputs": [
    {
     "name": "stdout",
     "output_type": "stream",
     "text": [
      "[['p101', 'pA', 1000], ['p102', 'pB', 2000], ['p103', 'pC', 3000]]\n",
      "['p101', 'pA', 1000]\n",
      "['p103', 'pC', 3000]\n"
     ]
    }
   ],
   "source": [
    "products=[['p101','pA',1000],['p102','pB',2000],['p103','pC',3000]] # list of list\n",
    "\n",
    "print(products)\n",
    "print(products[0])\n",
    "print(products[-1])"
   ]
  },
  {
   "cell_type": "code",
   "execution_count": 60,
   "id": "24aca23c",
   "metadata": {},
   "outputs": [
    {
     "name": "stdout",
     "output_type": "stream",
     "text": [
      "p101\n",
      "pA\n"
     ]
    }
   ],
   "source": [
    "print(products[0][0])\n",
    "print(products[0][1])"
   ]
  },
  {
   "cell_type": "code",
   "execution_count": 61,
   "id": "ab96d657",
   "metadata": {},
   "outputs": [
    {
     "data": {
      "text/plain": [
       "1000"
      ]
     },
     "execution_count": 61,
     "metadata": {},
     "output_type": "execute_result"
    }
   ],
   "source": [
    "products[0][2]"
   ]
  },
  {
   "cell_type": "code",
   "execution_count": 62,
   "id": "d88f16cb",
   "metadata": {},
   "outputs": [],
   "source": [
    "products[0][2]=1245.62 # we can modify"
   ]
  },
  {
   "cell_type": "code",
   "execution_count": 63,
   "id": "008b84aa",
   "metadata": {},
   "outputs": [
    {
     "data": {
      "text/plain": [
       "[['p101', 'pA', 1245.62], ['p102', 'pB', 2000], ['p103', 'pC', 3000]]"
      ]
     },
     "execution_count": 63,
     "metadata": {},
     "output_type": "execute_result"
    }
   ],
   "source": [
    "products"
   ]
  },
  {
   "cell_type": "code",
   "execution_count": 64,
   "id": "736681de",
   "metadata": {},
   "outputs": [
    {
     "data": {
      "text/plain": [
       "[('p101', 'pA', 1000),\n",
       " ('p102', 'pB', 2000),\n",
       " ('p103', 'pC', 3000),\n",
       " ('p104', 'pD', 4000)]"
      ]
     },
     "execution_count": 64,
     "metadata": {},
     "output_type": "execute_result"
    }
   ],
   "source": [
    "products=[('p101','pA',1000),('p102','pB',2000),('p103','pC',3000)] # list of tuple\n",
    "products.append(('p104','pD',4000))\n",
    "products"
   ]
  },
  {
   "cell_type": "code",
   "execution_count": 65,
   "id": "47c5c020",
   "metadata": {},
   "outputs": [
    {
     "name": "stdout",
     "output_type": "stream",
     "text": [
      "p101\n",
      "pA\n"
     ]
    }
   ],
   "source": [
    "print(products[0][0])\n",
    "print(products[0][1])"
   ]
  },
  {
   "cell_type": "code",
   "execution_count": 66,
   "id": "feb3e70d",
   "metadata": {},
   "outputs": [
    {
     "data": {
      "text/plain": [
       "1000"
      ]
     },
     "execution_count": 66,
     "metadata": {},
     "output_type": "execute_result"
    }
   ],
   "source": [
    "products[0][2]"
   ]
  },
  {
   "cell_type": "code",
   "execution_count": 67,
   "id": "d7231ce5",
   "metadata": {},
   "outputs": [
    {
     "ename": "TypeError",
     "evalue": "'tuple' object does not support item assignment",
     "output_type": "error",
     "traceback": [
      "\u001b[1;31m---------------------------------------------------------------------------\u001b[0m",
      "\u001b[1;31mTypeError\u001b[0m                                 Traceback (most recent call last)",
      "Cell \u001b[1;32mIn[67], line 1\u001b[0m\n\u001b[1;32m----> 1\u001b[0m products[\u001b[38;5;241m0\u001b[39m][\u001b[38;5;241m2\u001b[39m] \u001b[38;5;241m=\u001b[39m \u001b[38;5;241m2250.23\u001b[39m\n",
      "\u001b[1;31mTypeError\u001b[0m: 'tuple' object does not support item assignment"
     ]
    }
   ],
   "source": [
    "products[0][2] = 2250.23"
   ]
  },
  {
   "cell_type": "code",
   "execution_count": 68,
   "id": "86b0cf0c",
   "metadata": {},
   "outputs": [
    {
     "name": "stdout",
     "output_type": "stream",
     "text": [
      "{'pid': 103, 'pname': 'pB'}\n"
     ]
    }
   ],
   "source": [
    "d={'pid':101,'pname':'pA','pid':102,'pname':'pB','pid':103}\n",
    "print(d)"
   ]
  },
  {
   "cell_type": "code",
   "execution_count": 69,
   "id": "174372d4",
   "metadata": {},
   "outputs": [
    {
     "data": {
      "text/plain": [
       "[{'pid': 101, 'pname': 'pA'},\n",
       " {'pid': 102, 'pname': 'pB'},\n",
       " {'pid': 103, 'pname': 'pC'}]"
      ]
     },
     "execution_count": 69,
     "metadata": {},
     "output_type": "execute_result"
    }
   ],
   "source": [
    "L=[{'pid':101,'pname':'pA'},{'pid':102,'pname':'pB'},{'pid':103,'pname':'pC'}] # list of dict\n",
    "L"
   ]
  },
  {
   "cell_type": "code",
   "execution_count": 70,
   "id": "f276ab30",
   "metadata": {},
   "outputs": [
    {
     "data": {
      "text/plain": [
       "{'pid': 101, 'pname': 'pA'}"
      ]
     },
     "execution_count": 70,
     "metadata": {},
     "output_type": "execute_result"
    }
   ],
   "source": [
    "L[0]"
   ]
  },
  {
   "cell_type": "code",
   "execution_count": 71,
   "id": "c7a4963a",
   "metadata": {},
   "outputs": [
    {
     "data": {
      "text/plain": [
       "101"
      ]
     },
     "execution_count": 71,
     "metadata": {},
     "output_type": "execute_result"
    }
   ],
   "source": [
    "L[0]['pid']"
   ]
  },
  {
   "cell_type": "code",
   "execution_count": 72,
   "id": "c774d250",
   "metadata": {},
   "outputs": [
    {
     "name": "stdout",
     "output_type": "stream",
     "text": [
      "102\n",
      "103\n"
     ]
    }
   ],
   "source": [
    "print(L[1]['pid'])\n",
    "print(L[2]['pid'])"
   ]
  },
  {
   "cell_type": "code",
   "execution_count": 76,
   "id": "5ff8672f",
   "metadata": {},
   "outputs": [
    {
     "name": "stdout",
     "output_type": "stream",
     "text": [
      "<class 'tuple'>\n",
      "<class 'list'>\n",
      "3\n"
     ]
    }
   ],
   "source": [
    "T=([],('D1','D2'),{}) # tuple of list/tuple/dict \n",
    "\n",
    "print(type(T))\n",
    "print(type(T[0]))\n",
    "print(len(T))"
   ]
  },
  {
   "cell_type": "code",
   "execution_count": 77,
   "id": "a7b3e68e",
   "metadata": {},
   "outputs": [
    {
     "data": {
      "text/plain": [
       "(['Data1', 'Data2', 'Data3', 'Data4', 'Data5'], ('D1', 'D2'), {})"
      ]
     },
     "execution_count": 77,
     "metadata": {},
     "output_type": "execute_result"
    }
   ],
   "source": [
    "T[0].append('Data1')\n",
    "T[0].append('Data2')\n",
    "T[0].append('Data3')\n",
    "T[0].append('Data4')\n",
    "T[0].append('Data5')\n",
    "T"
   ]
  },
  {
   "cell_type": "code",
   "execution_count": 78,
   "id": "2559a4ae",
   "metadata": {},
   "outputs": [
    {
     "name": "stdout",
     "output_type": "stream",
     "text": [
      "3\n"
     ]
    }
   ],
   "source": [
    "print(len(T))"
   ]
  },
  {
   "cell_type": "code",
   "execution_count": 79,
   "id": "1abc40ef",
   "metadata": {},
   "outputs": [
    {
     "data": {
      "text/plain": [
       "dict"
      ]
     },
     "execution_count": 79,
     "metadata": {},
     "output_type": "execute_result"
    }
   ],
   "source": [
    "type(T[-1])"
   ]
  },
  {
   "cell_type": "code",
   "execution_count": 81,
   "id": "0836b44a",
   "metadata": {},
   "outputs": [
    {
     "data": {
      "text/plain": [
       "(['Data1', 'Data2', 'Data3', 'Data4', 'Data5'],\n",
       " ('D1', 'D2'),\n",
       " {'K1': 'V1', 'K2': 'V2'})"
      ]
     },
     "execution_count": 81,
     "metadata": {},
     "output_type": "execute_result"
    }
   ],
   "source": [
    "T[-1]['K1']='V1'\n",
    "T[-1]['K2']='V2'\n",
    "T"
   ]
  },
  {
   "cell_type": "code",
   "execution_count": 82,
   "id": "e5c8d37e",
   "metadata": {},
   "outputs": [
    {
     "name": "stdout",
     "output_type": "stream",
     "text": [
      "Data1\n",
      "D1\n",
      "V1\n"
     ]
    }
   ],
   "source": [
    "print(T[0][0])\n",
    "print(T[1][0])\n",
    "print(T[-1]['K1'])"
   ]
  },
  {
   "cell_type": "code",
   "execution_count": 83,
   "id": "2e2f60b3",
   "metadata": {},
   "outputs": [
    {
     "name": "stdout",
     "output_type": "stream",
     "text": [
      "pA\n",
      "pB\n",
      "pC\n"
     ]
    }
   ],
   "source": [
    "# dict of list/tuple/dict\n",
    "\n",
    "# 1Key => Multiple values \n",
    "\n",
    "products = {'K1':['p101','pA',1000],\n",
    "            \n",
    "            'K2':('p102','pB',2000),\n",
    "            \n",
    "            'K3':{'K1':'p103','K2':'pC','K3':3000}\n",
    "           }\n",
    "# display product names\n",
    "print(products['K1'][1])\n",
    "print(products['K2'][1])\n",
    "print(products['K3']['K2'])"
   ]
  },
  {
   "cell_type": "code",
   "execution_count": 84,
   "id": "b6738fa2",
   "metadata": {},
   "outputs": [],
   "source": [
    "products = {'K1':['p101',('pA1','pA2','pA3'),1000],\n",
    "            \n",
    "            'K2':('p102',['pB1','pB2','pB3'],2000),\n",
    "            \n",
    "            'K3':{'K1':'p103','K2':{'Key1':'pC','Key2':['pC1','pC2','pC3']},'K3':3000}\n",
    "           }"
   ]
  },
  {
   "cell_type": "code",
   "execution_count": 85,
   "id": "f8150717",
   "metadata": {},
   "outputs": [
    {
     "data": {
      "text/plain": [
       "{'K1': ['p101', ('pA1', 'pA2', 'pA3'), 1000],\n",
       " 'K2': ('p102', ['pB1', 'pB2', 'pB3'], 2000),\n",
       " 'K3': {'K1': 'p103',\n",
       "  'K2': {'Key1': 'pC', 'Key2': ['pC1', 'pC2', 'pC3']},\n",
       "  'K3': 3000}}"
      ]
     },
     "execution_count": 85,
     "metadata": {},
     "output_type": "execute_result"
    }
   ],
   "source": [
    "products"
   ]
  },
  {
   "cell_type": "code",
   "execution_count": 86,
   "id": "897b80df",
   "metadata": {},
   "outputs": [
    {
     "name": "stdout",
     "output_type": "stream",
     "text": [
      "{'K1': ['p101', ('pA1', 'pA2', 'pA3'), 1000],\n",
      " 'K2': ('p102', ['pB1', 'pB2', 'pB3'], 2000),\n",
      " 'K3': {'K1': 'p103',\n",
      "        'K2': {'Key1': 'pC', 'Key2': ['pC1', 'pC2', 'pC3']},\n",
      "        'K3': 3000}}\n"
     ]
    }
   ],
   "source": [
    "import pprint\n",
    "pprint.pprint(products)"
   ]
  },
  {
   "cell_type": "code",
   "execution_count": 87,
   "id": "2286edc3",
   "metadata": {},
   "outputs": [
    {
     "name": "stdout",
     "output_type": "stream",
     "text": [
      "{'K1': 'p103', 'K2': {'Key1': 'pC', 'Key2': ['pC1', 'pC2', 'pC3']}, 'K3': 3000}\n"
     ]
    }
   ],
   "source": [
    "pprint.pprint(products['K3'])"
   ]
  },
  {
   "cell_type": "code",
   "execution_count": 88,
   "id": "22372564",
   "metadata": {},
   "outputs": [
    {
     "data": {
      "text/plain": [
       "'pC2'"
      ]
     },
     "execution_count": 88,
     "metadata": {},
     "output_type": "execute_result"
    }
   ],
   "source": [
    "products['K3']['K2']['Key2'][1]"
   ]
  },
  {
   "cell_type": "code",
   "execution_count": 89,
   "id": "0a8224e9",
   "metadata": {},
   "outputs": [
    {
     "name": "stdout",
     "output_type": "stream",
     "text": [
      "<class 'set'> 4\n"
     ]
    },
    {
     "data": {
      "text/plain": [
       "{10, 20, 'D1', 'D2'}"
      ]
     },
     "execution_count": 89,
     "metadata": {},
     "output_type": "execute_result"
    }
   ],
   "source": [
    "s={10,20,10,20,10,20,'D1','D1','D2','D2','D1','D1','D2','D1'}\n",
    "print(type(s),len(s))\n",
    "s"
   ]
  },
  {
   "cell_type": "code",
   "execution_count": 90,
   "id": "6279638f",
   "metadata": {},
   "outputs": [
    {
     "name": "stdout",
     "output_type": "stream",
     "text": [
      "D1\n",
      "10\n",
      "D2\n",
      "20\n"
     ]
    }
   ],
   "source": [
    "for var in s:\n",
    "    print(var)"
   ]
  },
  {
   "cell_type": "code",
   "execution_count": 91,
   "id": "ec97716b",
   "metadata": {},
   "outputs": [
    {
     "data": {
      "text/plain": [
       "8"
      ]
     },
     "execution_count": 91,
     "metadata": {},
     "output_type": "execute_result"
    }
   ],
   "source": [
    "L=['D1','D1','D2','D1','D2','D3','D2','D2']\n",
    "len(L)"
   ]
  },
  {
   "cell_type": "code",
   "execution_count": 92,
   "id": "d46c6abb",
   "metadata": {},
   "outputs": [
    {
     "data": {
      "text/plain": [
       "{'D1', 'D2', 'D3'}"
      ]
     },
     "execution_count": 92,
     "metadata": {},
     "output_type": "execute_result"
    }
   ],
   "source": [
    "set(L) # typecast to set"
   ]
  },
  {
   "cell_type": "code",
   "execution_count": 93,
   "id": "0c7abfea",
   "metadata": {},
   "outputs": [
    {
     "data": {
      "text/plain": [
       "['D1', 'D2', 'D3']"
      ]
     },
     "execution_count": 93,
     "metadata": {},
     "output_type": "execute_result"
    }
   ],
   "source": [
    "list(set(L))"
   ]
  },
  {
   "cell_type": "code",
   "execution_count": null,
   "id": "f25a18e6",
   "metadata": {},
   "outputs": [],
   "source": [
    "# Function \n",
    "# -------------\n",
    "# Code block\n",
    "\n",
    "1. function definition \n",
    "2. function call - invoke a definition\n",
    "\n",
    "def functionName():\n",
    "    '''\n",
    "    named function definition block\n",
    "    '''\n",
    "    \n",
    "functionName() # simple function call"
   ]
  },
  {
   "cell_type": "code",
   "execution_count": 98,
   "id": "6b328d93",
   "metadata": {},
   "outputs": [
    {
     "name": "stdout",
     "output_type": "stream",
     "text": [
      "a1= data1 a2= data2\n"
     ]
    }
   ],
   "source": [
    "def display(a1,a2):\n",
    "    print(\"a1=\",a1,\"a2=\",a2)\n",
    "    \n",
    "#display()\n",
    "#TypeError: display() missing 2 required positional arguments: 'a1' and 'a2'\n",
    " \n",
    "#display('data1')\n",
    "#TypeError: display() missing 1 required positional argument: 'a2'\n",
    "\n",
    "#display('data1','data2','data3')\n",
    "#TypeError: display() takes 2 positional arguments but 3 were given\n",
    "\n",
    "display('data1','data2')"
   ]
  },
  {
   "cell_type": "code",
   "execution_count": 103,
   "id": "e120b9e1",
   "metadata": {},
   "outputs": [
    {
     "name": "stdout",
     "output_type": "stream",
     "text": [
      "a1= 100 a2= True\n",
      "a1= DataA a2= True\n",
      "a1= DataX a2= DataY\n"
     ]
    }
   ],
   "source": [
    "def display(a1=100,a2=True): # default args \n",
    "    print(\"a1=\",a1,\"a2=\",a2)\n",
    "    \n",
    "display()\n",
    "display(\"DataA\")\n",
    "display(\"DataX\",\"DataY\")\n",
    "\n",
    "#display('Da','Db','Dc')\n",
    "#TypeError: display() takes from 0 to 2 positional arguments but 3 were given"
   ]
  },
  {
   "cell_type": "code",
   "execution_count": 106,
   "id": "b17bc924",
   "metadata": {},
   "outputs": [
    {
     "name": "stdout",
     "output_type": "stream",
     "text": [
      "login= userA password= abc123\n",
      "20 emp.csv\n"
     ]
    }
   ],
   "source": [
    "def display(login,password,port=20,fname='emp.csv'):\n",
    "    print('login=',login,'password=',password)\n",
    "    print(port,fname)\n",
    "    \n",
    "#display()\n",
    "#TypeError: display() missing 2 required positional arguments: 'login' and 'password'\n",
    "\n",
    "display('userA','abc123')"
   ]
  },
  {
   "cell_type": "code",
   "execution_count": 107,
   "id": "012ffa83",
   "metadata": {},
   "outputs": [
    {
     "ename": "SyntaxError",
     "evalue": "non-default argument follows default argument (464208256.py, line 1)",
     "output_type": "error",
     "traceback": [
      "\u001b[1;36m  Cell \u001b[1;32mIn[107], line 1\u001b[1;36m\u001b[0m\n\u001b[1;33m    def fx(a1,a2,a3=True,a4):\u001b[0m\n\u001b[1;37m                         ^\u001b[0m\n\u001b[1;31mSyntaxError\u001b[0m\u001b[1;31m:\u001b[0m non-default argument follows default argument\n"
     ]
    }
   ],
   "source": [
    "def fx(a1,a2,a3=True,a4):\n",
    "    print(\"Hello\")"
   ]
  },
  {
   "cell_type": "code",
   "execution_count": 108,
   "id": "7a984bba",
   "metadata": {},
   "outputs": [],
   "source": [
    "def fx(a1,a2,a4,a3=True):\n",
    "    print(\"Hello\")"
   ]
  },
  {
   "cell_type": "code",
   "execution_count": 110,
   "id": "c35dd67c",
   "metadata": {},
   "outputs": [
    {
     "name": "stdout",
     "output_type": "stream",
     "text": [
      "<class 'tuple'> ()\n",
      "<class 'tuple'> (10, 20, 30, 40)\n",
      "<class 'tuple'> (10, 20, 'D1', 'D2')\n"
     ]
    },
    {
     "ename": "TypeError",
     "evalue": "fx() got an unexpected keyword argument 'fname'",
     "output_type": "error",
     "traceback": [
      "\u001b[1;31m---------------------------------------------------------------------------\u001b[0m",
      "\u001b[1;31mTypeError\u001b[0m                                 Traceback (most recent call last)",
      "Cell \u001b[1;32mIn[110], line 7\u001b[0m\n\u001b[0;32m      5\u001b[0m fx(\u001b[38;5;241m10\u001b[39m,\u001b[38;5;241m20\u001b[39m,\u001b[38;5;241m30\u001b[39m,\u001b[38;5;241m40\u001b[39m)\n\u001b[0;32m      6\u001b[0m fx(\u001b[38;5;241m10\u001b[39m,\u001b[38;5;241m20\u001b[39m,\u001b[38;5;124m'\u001b[39m\u001b[38;5;124mD1\u001b[39m\u001b[38;5;124m'\u001b[39m,\u001b[38;5;124m'\u001b[39m\u001b[38;5;124mD2\u001b[39m\u001b[38;5;124m'\u001b[39m)\n\u001b[1;32m----> 7\u001b[0m fx(fname\u001b[38;5;241m=\u001b[39m\u001b[38;5;124m'\u001b[39m\u001b[38;5;124memp.csv\u001b[39m\u001b[38;5;124m'\u001b[39m)\n",
      "\u001b[1;31mTypeError\u001b[0m: fx() got an unexpected keyword argument 'fname'"
     ]
    }
   ],
   "source": [
    "def fx(*a1):\n",
    "    print(type(a1),a1)\n",
    "    \n",
    "fx()\n",
    "fx(10,20,30,40)\n",
    "fx(10,20,'D1','D2')\n",
    "\n",
    "\n",
    "fx(fname='emp.csv')"
   ]
  },
  {
   "cell_type": "code",
   "execution_count": 111,
   "id": "7b5f3e68",
   "metadata": {},
   "outputs": [
    {
     "name": "stdout",
     "output_type": "stream",
     "text": [
      "{}\n",
      "{'fname': 'p1.csv'}\n"
     ]
    }
   ],
   "source": [
    "def fx(**kwargs):\n",
    "    print(kwargs)\n",
    "    \n",
    "fx()\n",
    "fx(fname='p1.csv')"
   ]
  },
  {
   "cell_type": "code",
   "execution_count": 112,
   "id": "1b8a181b",
   "metadata": {},
   "outputs": [
    {
     "name": "stdout",
     "output_type": "stream",
     "text": [
      "Help on method_descriptor:\n",
      "\n",
      "append(self, object, /)\n",
      "    Append object to the end of the list.\n",
      "\n"
     ]
    }
   ],
   "source": [
    "help(list.append)"
   ]
  },
  {
   "cell_type": "code",
   "execution_count": 113,
   "id": "4744bf8b",
   "metadata": {},
   "outputs": [
    {
     "name": "stdout",
     "output_type": "stream",
     "text": [
      "Help on function search in module re:\n",
      "\n",
      "search(pattern, string, flags=0)\n",
      "    Scan through string looking for a match to the pattern, returning\n",
      "    a Match object, or None if no match was found.\n",
      "\n"
     ]
    }
   ],
   "source": [
    "import re\n",
    "help(re.search)"
   ]
  },
  {
   "cell_type": "code",
   "execution_count": 114,
   "id": "af30bb2d",
   "metadata": {},
   "outputs": [
    {
     "name": "stdout",
     "output_type": "stream",
     "text": [
      "Help on function sub in module re:\n",
      "\n",
      "sub(pattern, repl, string, count=0, flags=0)\n",
      "    Return the string obtained by replacing the leftmost\n",
      "    non-overlapping occurrences of the pattern in string by the\n",
      "    replacement repl.  repl can be either a string or a callable;\n",
      "    if a string, backslash escapes in it are processed.  If it is\n",
      "    a callable, it's passed the Match object and must return\n",
      "    a replacement string to be used.\n",
      "\n"
     ]
    }
   ],
   "source": [
    "help(re.sub)"
   ]
  },
  {
   "cell_type": "code",
   "execution_count": 115,
   "id": "6944afbf",
   "metadata": {},
   "outputs": [
    {
     "data": {
      "text/plain": [
       "'V1'"
      ]
     },
     "execution_count": 115,
     "metadata": {},
     "output_type": "execute_result"
    }
   ],
   "source": [
    "T=({'K':'V1'},)\n",
    "T[0]['K']"
   ]
  },
  {
   "cell_type": "markdown",
   "id": "02174421",
   "metadata": {},
   "source": [
    "File Handling\n",
    "------------------\n",
    "   1. read data from <FILE> to python - display to monitor\n",
    "   2. python ->create and write data to File\n",
    "   \n",
    "   3. read data from <File1> to python - create and write data to another File2 \n",
    "  \n",
    "   open('inputFile','r') -> <fileobject>\n",
    "    \n",
    "   fobj = open('inputFile','r')\n",
    "   fobj.read() -> 'str'  <or> fobj.readlines() ->[]    \n",
    "   fobj.close()"
   ]
  },
  {
   "cell_type": "code",
   "execution_count": 116,
   "id": "028c6355",
   "metadata": {},
   "outputs": [
    {
     "ename": "FileNotFoundError",
     "evalue": "[Errno 2] No such file or directory: 'emp.csv'",
     "output_type": "error",
     "traceback": [
      "\u001b[1;31m---------------------------------------------------------------------------\u001b[0m",
      "\u001b[1;31mFileNotFoundError\u001b[0m                         Traceback (most recent call last)",
      "Cell \u001b[1;32mIn[116], line 1\u001b[0m\n\u001b[1;32m----> 1\u001b[0m \u001b[38;5;28mopen\u001b[39m(\u001b[38;5;124m'\u001b[39m\u001b[38;5;124memp.csv\u001b[39m\u001b[38;5;124m'\u001b[39m,\u001b[38;5;124m'\u001b[39m\u001b[38;5;124mr\u001b[39m\u001b[38;5;124m'\u001b[39m)\n",
      "File \u001b[1;32mC:\\ProgramData\\anaconda3\\Lib\\site-packages\\IPython\\core\\interactiveshell.py:286\u001b[0m, in \u001b[0;36m_modified_open\u001b[1;34m(file, *args, **kwargs)\u001b[0m\n\u001b[0;32m    279\u001b[0m \u001b[38;5;28;01mif\u001b[39;00m file \u001b[38;5;129;01min\u001b[39;00m {\u001b[38;5;241m0\u001b[39m, \u001b[38;5;241m1\u001b[39m, \u001b[38;5;241m2\u001b[39m}:\n\u001b[0;32m    280\u001b[0m     \u001b[38;5;28;01mraise\u001b[39;00m \u001b[38;5;167;01mValueError\u001b[39;00m(\n\u001b[0;32m    281\u001b[0m         \u001b[38;5;124mf\u001b[39m\u001b[38;5;124m\"\u001b[39m\u001b[38;5;124mIPython won\u001b[39m\u001b[38;5;124m'\u001b[39m\u001b[38;5;124mt let you open fd=\u001b[39m\u001b[38;5;132;01m{\u001b[39;00mfile\u001b[38;5;132;01m}\u001b[39;00m\u001b[38;5;124m by default \u001b[39m\u001b[38;5;124m\"\u001b[39m\n\u001b[0;32m    282\u001b[0m         \u001b[38;5;124m\"\u001b[39m\u001b[38;5;124mas it is likely to crash IPython. If you know what you are doing, \u001b[39m\u001b[38;5;124m\"\u001b[39m\n\u001b[0;32m    283\u001b[0m         \u001b[38;5;124m\"\u001b[39m\u001b[38;5;124myou can use builtins\u001b[39m\u001b[38;5;124m'\u001b[39m\u001b[38;5;124m open.\u001b[39m\u001b[38;5;124m\"\u001b[39m\n\u001b[0;32m    284\u001b[0m     )\n\u001b[1;32m--> 286\u001b[0m \u001b[38;5;28;01mreturn\u001b[39;00m io_open(file, \u001b[38;5;241m*\u001b[39margs, \u001b[38;5;241m*\u001b[39m\u001b[38;5;241m*\u001b[39mkwargs)\n",
      "\u001b[1;31mFileNotFoundError\u001b[0m: [Errno 2] No such file or directory: 'emp.csv'"
     ]
    }
   ],
   "source": [
    "open('emp.csv','r')"
   ]
  },
  {
   "cell_type": "code",
   "execution_count": 117,
   "id": "94723cb6",
   "metadata": {},
   "outputs": [
    {
     "data": {
      "text/plain": [
       "<_io.TextIOWrapper name='E:\\\\emp.csv' mode='r' encoding='cp1252'>"
      ]
     },
     "execution_count": 117,
     "metadata": {},
     "output_type": "execute_result"
    }
   ],
   "source": [
    "open('E:\\\\emp.csv','r')"
   ]
  },
  {
   "cell_type": "code",
   "execution_count": 120,
   "id": "0ab0cdec",
   "metadata": {},
   "outputs": [
    {
     "name": "stdout",
     "output_type": "stream",
     "text": [
      "eid,ename,edept,eplace,ecost\n",
      "101,raj,sales,pune,1000\n",
      "102,leo,prod,bglore,2000\n",
      "103,paul,HR,chennai,3000\n",
      "104,anu,hr,hyderabad,4000\n",
      "456,kumar,sales,bglore,3000\n",
      "105,zion,Hr,mumbai,5000\n",
      "106,bibu,sales,bglore,1450\n",
      "107,theeb,sales,noida,4590\n",
      "108,bibu,sales,bglore,5000\n",
      "113,kumar,prod,hyderabad,5423\n"
     ]
    },
    {
     "data": {
      "text/plain": [
       "'eid,ename,edept,eplace,ecost\\n101,raj,sales,pune,1000\\n102,leo,prod,bglore,2000\\n103,paul,HR,chennai,3000\\n104,anu,hr,hyderabad,4000\\n456,kumar,sales,bglore,3000\\n105,zion,Hr,mumbai,5000\\n106,bibu,sales,bglore,1450\\n107,theeb,sales,noida,4590\\n108,bibu,sales,bglore,5000\\n113,kumar,prod,hyderabad,5423'"
      ]
     },
     "execution_count": 120,
     "metadata": {},
     "output_type": "execute_result"
    }
   ],
   "source": [
    "fobj = open('E:\\\\emp.csv','r')\n",
    "\n",
    "s = fobj.read()\n",
    "\n",
    "fobj.close()\n",
    "\n",
    "print(s)\n",
    "s"
   ]
  },
  {
   "cell_type": "code",
   "execution_count": 119,
   "id": "efa79f0a",
   "metadata": {},
   "outputs": [
    {
     "name": "stdout",
     "output_type": "stream",
     "text": [
      "['eid,ename,edept,eplace,ecost\\n', '101,raj,sales,pune,1000\\n', '102,leo,prod,bglore,2000\\n', '103,paul,HR,chennai,3000\\n', '104,anu,hr,hyderabad,4000\\n', '456,kumar,sales,bglore,3000\\n', '105,zion,Hr,mumbai,5000\\n', '106,bibu,sales,bglore,1450\\n', '107,theeb,sales,noida,4590\\n', '108,bibu,sales,bglore,5000\\n', '113,kumar,prod,hyderabad,5423']\n"
     ]
    }
   ],
   "source": [
    "fobj = open('E:\\\\emp.csv','r')\n",
    "\n",
    "L = fobj.readlines()\n",
    "\n",
    "fobj.close()\n",
    "\n",
    "print(L)"
   ]
  },
  {
   "cell_type": "code",
   "execution_count": null,
   "id": "14a3b78d",
   "metadata": {},
   "outputs": [],
   "source": [
    "# 2. python ->create and write data to File\n",
    "\n",
    "wobj = open('new_filename','w') \n",
    "wobj.write('Single data\\n')\n",
    "wobj.close()"
   ]
  },
  {
   "cell_type": "code",
   "execution_count": 123,
   "id": "5288ea30",
   "metadata": {},
   "outputs": [],
   "source": [
    "wobj = open('E:\\\\r1.log','w')\n",
    "\n",
    "wobj.write('data1\\n')\n",
    "#wobj.write(34324)\n",
    "#wobj.write('D1','D2')\n",
    "wobj.write('34562'+'Rs'+'\\n')\n",
    "cost=234232.34\n",
    "wobj.write(str(cost)+'\\n')\n",
    "wobj.close()"
   ]
  },
  {
   "cell_type": "code",
   "execution_count": 124,
   "id": "e082dfb9",
   "metadata": {},
   "outputs": [
    {
     "data": {
      "text/plain": [
       "'data1\\n34562Rs\\n234232.34\\n'"
      ]
     },
     "execution_count": 124,
     "metadata": {},
     "output_type": "execute_result"
    }
   ],
   "source": [
    "fobj = open('E:\\\\r1.log','r')\n",
    "fobj.read()"
   ]
  },
  {
   "cell_type": "markdown",
   "id": "9e810c1b",
   "metadata": {},
   "source": [
    "# Write a python program:\n",
    "# ---------------------------\n",
    "step 1: initialize a pin number (ex: pin=1234)\n",
    "step 2: use - while loop limit is 3\n",
    "                - read a pin Number from <STDIN>\n",
    "                - test inputPin with an existing pin\n",
    "                -       ---------------------------//Success - display success - 1st / 2nd /3rd\n",
    "                \n",
    "step 3: pin is blocked - if all 3 inputs are failed.\n",
    "|\n",
    "create a newFile(pin_history.log) ->append mode\n",
    "        - write user input details + date/time  to file\n",
    "---------------------------------------------------------------------------------------------------\n"
   ]
  },
  {
   "cell_type": "code",
   "execution_count": 125,
   "id": "d9af5f8f",
   "metadata": {},
   "outputs": [
    {
     "data": {
      "text/plain": [
       "'Mon Mar 10 15:06:27 2025'"
      ]
     },
     "execution_count": 125,
     "metadata": {},
     "output_type": "execute_result"
    }
   ],
   "source": [
    "import time\n",
    "time.ctime()"
   ]
  },
  {
   "cell_type": "code",
   "execution_count": 130,
   "id": "f0a8d1cc",
   "metadata": {},
   "outputs": [
    {
     "name": "stdout",
     "output_type": "stream",
     "text": [
      "Enter a pin Number:1231312\n",
      "Enter a pin Number:1231231\n",
      "Enter a pin Number:231212\n",
      "pin is blocked\n"
     ]
    }
   ],
   "source": [
    "pin = 1234\n",
    "count = 0\n",
    "while(count <3):\n",
    "    p = input('Enter a pin Number:')\n",
    "    count = count + 1\n",
    "    if(int(p) == pin):\n",
    "        print(f'Success - pin is matched - {count}')\n",
    "        break # exit from loop\n",
    "        \n",
    "if(int(p) != pin):\n",
    "    print('pin is blocked')"
   ]
  },
  {
   "cell_type": "code",
   "execution_count": null,
   "id": "08d77c92",
   "metadata": {},
   "outputs": [],
   "source": []
  },
  {
   "cell_type": "code",
   "execution_count": 137,
   "id": "1b7c97f9",
   "metadata": {},
   "outputs": [
    {
     "name": "stdout",
     "output_type": "stream",
     "text": [
      "Enter a pin Number:3456\n",
      "Enter a pin Number:5432\n",
      "Enter a pin Number:22221\n",
      "pin is blocked\n"
     ]
    }
   ],
   "source": [
    "wobj = open('E:\\\\pin_history.log','a')\n",
    "pin = 1234\n",
    "count = 0\n",
    "while(count <3):\n",
    "    p = input('Enter a pin Number:')\n",
    "    count = count + 1\n",
    "    if(int(p) == pin):\n",
    "        wobj.write(f'Success - pin is matched - {count} - date/time:{time.ctime()}\\n')\n",
    "        print(f'Success - pin is matched - {count}')\n",
    "        break # exit from loop\n",
    "    else:\n",
    "        wobj.write(f'Failed - Input pin {p} is not matched - date/time:{time.ctime()}\\n')\n",
    "        \n",
    "if(int(p) != pin):\n",
    "    print('pin is blocked')\n",
    "    wobj.write(f'pin is blocked - date/time:{time.ctime()}\\n')\n",
    "    \n",
    "wobj.close()"
   ]
  },
  {
   "cell_type": "code",
   "execution_count": 138,
   "id": "c8ef94a2",
   "metadata": {},
   "outputs": [],
   "source": [
    "def pin_test(pin_number):\n",
    "    wobj = open('E:\\\\pin_history.log','a')\n",
    "    pin = pin_number\n",
    "    count = 0\n",
    "    while(count <3):\n",
    "        p = input('Enter a pin Number:')\n",
    "        count = count + 1\n",
    "        if(int(p) == pin):\n",
    "            wobj.write(f'Success - pin is matched - {count} - date/time:{time.ctime()}\\n')\n",
    "            print(f'Success - pin is matched - {count}')\n",
    "            break # exit from loop\n",
    "        else:\n",
    "            wobj.write(f'Failed - Input pin {p} is not matched - date/time:{time.ctime()}\\n')\n",
    "        \n",
    "    if(int(p) != pin):\n",
    "        print('pin is blocked')\n",
    "        wobj.write(f'pin is blocked - date/time:{time.ctime()}\\n')\n",
    "    \n",
    "    wobj.close()\n",
    "    "
   ]
  },
  {
   "cell_type": "code",
   "execution_count": 139,
   "id": "52a725c7",
   "metadata": {},
   "outputs": [
    {
     "name": "stdout",
     "output_type": "stream",
     "text": [
      "Enter a pin Number:3451\n",
      "Enter a pin Number:1234\n",
      "Success - pin is matched - 2\n"
     ]
    }
   ],
   "source": [
    "pin_test(1234)"
   ]
  },
  {
   "cell_type": "code",
   "execution_count": null,
   "id": "7be80b1b",
   "metadata": {},
   "outputs": [],
   "source": [
    "Regular Expression (Regx)   ->  import re \n",
    "-------------------------\n",
    " |-> Search                 ->  re.search() \n",
    "                                => re.search('pattern_string','input_string',re.I) -><ack>/None\n",
    "                                => re.findall('pattern_string','input_string',re.I) ->[list]/[]\n",
    "            \n",
    " |-> Substitute             ->  re.sub()\n",
    "                     => re.sub('oldpattern_string','replace_string','input_string',count,re.I) ->str\n",
    "\n",
    "    |-> Split                  ->  re.split()\n",
    "                     => re.split('pattern_string','input_string') ->[splitted_results]"
   ]
  },
  {
   "cell_type": "code",
   "execution_count": 140,
   "id": "e066546b",
   "metadata": {},
   "outputs": [],
   "source": [
    "import re\n",
    "\n",
    "msg='101,raj,sales,pune,1000'"
   ]
  },
  {
   "cell_type": "code",
   "execution_count": 141,
   "id": "f581f51b",
   "metadata": {},
   "outputs": [
    {
     "data": {
      "text/plain": [
       "<re.Match object; span=(8, 13), match='sales'>"
      ]
     },
     "execution_count": 141,
     "metadata": {},
     "output_type": "execute_result"
    }
   ],
   "source": [
    "re.search('sales',msg)"
   ]
  },
  {
   "cell_type": "code",
   "execution_count": 142,
   "id": "380dbe6e",
   "metadata": {},
   "outputs": [],
   "source": [
    "re.search('prod',msg)"
   ]
  },
  {
   "cell_type": "code",
   "execution_count": 143,
   "id": "a4bcc9d1",
   "metadata": {},
   "outputs": [
    {
     "data": {
      "text/plain": [
       "True"
      ]
     },
     "execution_count": 143,
     "metadata": {},
     "output_type": "execute_result"
    }
   ],
   "source": [
    "re.search('prod',msg) == None"
   ]
  },
  {
   "cell_type": "code",
   "execution_count": 144,
   "id": "5d0a809c",
   "metadata": {},
   "outputs": [
    {
     "data": {
      "text/plain": [
       "True"
      ]
     },
     "execution_count": 144,
     "metadata": {},
     "output_type": "execute_result"
    }
   ],
   "source": [
    "bool(re.search('sales',msg))"
   ]
  },
  {
   "cell_type": "code",
   "execution_count": 145,
   "id": "3a5a0873",
   "metadata": {},
   "outputs": [
    {
     "data": {
      "text/plain": [
       "False"
      ]
     },
     "execution_count": 145,
     "metadata": {},
     "output_type": "execute_result"
    }
   ],
   "source": [
    "bool(re.search('QA',msg))"
   ]
  },
  {
   "cell_type": "code",
   "execution_count": 146,
   "id": "18fc9f45",
   "metadata": {},
   "outputs": [
    {
     "name": "stdout",
     "output_type": "stream",
     "text": [
      "Yes - pattern is matched\n",
      "101,raj,sales,pune,1000\n"
     ]
    }
   ],
   "source": [
    "if(re.search('sales',msg)):\n",
    "    print('Yes - pattern is matched')\n",
    "    print(msg)"
   ]
  },
  {
   "cell_type": "code",
   "execution_count": 147,
   "id": "9e10172a",
   "metadata": {},
   "outputs": [
    {
     "name": "stdout",
     "output_type": "stream",
     "text": [
      "Sorry pattern is not matched\n"
     ]
    }
   ],
   "source": [
    "if(re.search('QA',msg)):\n",
    "    print('Yes - matched')\n",
    "else:\n",
    "    print('Sorry pattern is not matched')"
   ]
  },
  {
   "cell_type": "code",
   "execution_count": 149,
   "id": "dbbd5a85",
   "metadata": {},
   "outputs": [
    {
     "name": "stdout",
     "output_type": "stream",
     "text": [
      "101,raj,sales,pune,1000\n",
      "456,kumar,sales,bglore,3000\n",
      "106,bibu,sales,bglore,1450\n",
      "107,theeb,sales,noida,4590\n",
      "108,bibu,sales,bglore,5000\n"
     ]
    }
   ],
   "source": [
    "fobj = open('E:\\\\emp.csv','r')\n",
    "L = fobj.readlines()\n",
    "fobj.close()\n",
    "\n",
    "\n",
    "for v in L:\n",
    "    if(re.search('sales',v)):\n",
    "        print(v.strip()) # remove \\n chars"
   ]
  },
  {
   "cell_type": "code",
   "execution_count": 150,
   "id": "39c716a1",
   "metadata": {},
   "outputs": [],
   "source": [
    "re.search('sales','101,raj,SALES,pune')"
   ]
  },
  {
   "cell_type": "code",
   "execution_count": 151,
   "id": "ed6054d2",
   "metadata": {},
   "outputs": [
    {
     "data": {
      "text/plain": [
       "<re.Match object; span=(8, 13), match='SALES'>"
      ]
     },
     "execution_count": 151,
     "metadata": {},
     "output_type": "execute_result"
    }
   ],
   "source": [
    "re.search('sales','101,raj,SALES,pune',re.I) # re.IGNORECASE "
   ]
  },
  {
   "cell_type": "markdown",
   "id": "6497a77d",
   "metadata": {},
   "source": [
    "Regx Chars\n",
    "------------------\n",
    "Basic Regular Expression (BRE)      - Single pattern\n",
    "Extended Regular Expression (ERE)   - Multiple pattern \n",
    "\n",
    "Basic Regular Expression (BRE)      - Single pattern\n",
    "\n",
    "^                   ==>  ^pattern\n",
    "\n",
    "$                   ==>   pattern$\n",
    "\n",
    "^pattern$          ==> ^pattern$ - pattern only style\n",
    "\n",
    ".  ================> match any single char except \\n   \n",
    "\n",
    "                  ^sales.. <== line starts with sales followed by any two chars\n",
    "                  ^5.  <== line starts with 5<anySingleChar>\n",
    "                  \n",
    ".*  ================> List of all \n",
    "\n",
    "[]  ---------> character class \n",
    "\n",
    " [Aa]run  --> Arun arun //OK\n",
    " \n",
    " [Aav]run --->Arun arun vrun //OK\n",
    " \n",
    " [Aa][Rr]un ---> ARun  Arun aRun arun //OK\n",
    " \n",
    " [a-z] [A-Z]  [a-zA-Z] [0-9]  [a-zA-Z0-9] \n",
    " \n",
    " ^[a-zA-Z].*[0-9]$  <=== line starts with anyalpha followed by any Text ends with single digit\n",
    "\n",
    "^[]  []$ \n",
    "\n",
    "[at5] -> any where 'a' ->OK   => b[a]sh //OK\n",
    "         any where 't' ->OK   => [t]emp //OK\n",
    "         any where '5' ->OK   => OL[5] //OK\n",
    "         \n",
    " ^[at5] -> line starts with  'a'  -> bash //Not matched ; [a]ix //OK\n",
    " \n",
    "           line starts with  't'  -> [t]emp //OK\n",
    "           \n",
    "           line starts with '5'   -> OL5 //Not matched ; [5]Rs //OK\n",
    "           \n",
    "  [^at5] -> Not matching pattern 'a'\n",
    "            Not matching pattern 't'\n",
    "            Not matching pattern '5' \n",
    "            \n",
    "      [^a-zA-Z] => Not matching any alpha \n",
    "      [^a-zA-Z0-9] => Not matching any alpha numeric\n",
    "      \n",
    " space  -> \\s\n",
    " \n",
    "     ^\\s <-- line starts with space\n",
    "     \\s$ <-- line ends with space\n",
    "     \n",
    "     [^a-zA-Z0-9\\s] -> Match special chars only.\n",
    "     \n",
    " [a-zA-Z0-9] (or) \\w\n",
    " [0-9] (or) \\d\n",
    " \n",
    " [^a-zA-Z0-9] ->\\W\n",
    " \n",
    "    [^\\w\\s] <== Match specialchars only\n",
    "    ----------------------------------------\n",
    "         \n",
    "^$ <-- empty line\n",
    "\n",
    "Extended Regular Expression (ERE)   - Multiple pattern \n",
    "-------------------------------------------------------------------------------\n",
    " | () + {}\n",
    " \n",
    " |  => pattern1 | pattern2 any one pattern is matched - anyorder/anywhere \n",
    " \n",
    " () => (pattern1)(pattern2) - both pattern should match same order\n",
    " \n",
    " <pattern>+  - 1 time or more time\n",
    "    \n",
    "    a+bc   -> abc aaaaaaaaaaaaaaaabc //OK\n",
    "    \n",
    "    ab+c   -> abc //OK \n",
    "              aaaaaaaaaaaabc //Not-matched\n",
    "              abbbbbbbbbbbbbbbbbbbbbbbbbbbbbbbbbbbbbbbbc //OK\n",
    "    \n",
    "    \n",
    "    ^\\s+.*([0-9]|[a-z])$\n",
    "    ----------------------------\n",
    "    \n",
    "    {}\n",
    "    ---\n",
    "     pattern{n}  - ntimes \n",
    "     pattern{n,m} - minimum n times maximum m times\n",
    "     pattern{n,}  # minimun n times or maximum nolimit \n"
   ]
  },
  {
   "cell_type": "code",
   "execution_count": 152,
   "id": "5677d4bc",
   "metadata": {},
   "outputs": [
    {
     "data": {
      "text/plain": [
       "<re.Match object; span=(0, 5), match='sales'>"
      ]
     },
     "execution_count": 152,
     "metadata": {},
     "output_type": "execute_result"
    }
   ],
   "source": [
    "re.search('sales','sales,raj,sales,sales,pune,sales')"
   ]
  },
  {
   "cell_type": "code",
   "execution_count": 153,
   "id": "56dd7a5e",
   "metadata": {},
   "outputs": [
    {
     "data": {
      "text/plain": [
       "<re.Match object; span=(0, 5), match='sales'>"
      ]
     },
     "execution_count": 153,
     "metadata": {},
     "output_type": "execute_result"
    }
   ],
   "source": [
    "re.search('sales','sales dtails')"
   ]
  },
  {
   "cell_type": "code",
   "execution_count": 154,
   "id": "e1684df3",
   "metadata": {},
   "outputs": [
    {
     "data": {
      "text/plain": [
       "<re.Match object; span=(0, 5), match='sales'>"
      ]
     },
     "execution_count": 154,
     "metadata": {},
     "output_type": "execute_result"
    }
   ],
   "source": [
    "re.search('sales','sales dtails,sales ,sales count')"
   ]
  },
  {
   "cell_type": "code",
   "execution_count": 155,
   "id": "e40b8495",
   "metadata": {},
   "outputs": [
    {
     "data": {
      "text/plain": [
       "['sales', 'sales', 'sales']"
      ]
     },
     "execution_count": 155,
     "metadata": {},
     "output_type": "execute_result"
    }
   ],
   "source": [
    "re.findall('sales','sales dtails,sales ,sales count')"
   ]
  },
  {
   "cell_type": "code",
   "execution_count": null,
   "id": "abf5fc9a",
   "metadata": {},
   "outputs": [],
   "source": [
    "# re.subsitute\n",
    "# ------------------\n",
    "re.sub('old_str','replace_str','input_string',count,re.I) -> result_str\n",
    "\n",
    "result_str -> replaced_str\n",
    "result_str -> original_str\n",
    "\n",
    "                                                            "
   ]
  },
  {
   "cell_type": "code",
   "execution_count": 156,
   "id": "3687759a",
   "metadata": {},
   "outputs": [
    {
     "data": {
      "text/plain": [
       "'101,raj,prod,pune,1000'"
      ]
     },
     "execution_count": 156,
     "metadata": {},
     "output_type": "execute_result"
    }
   ],
   "source": [
    "re.sub('sales','prod','101,raj,sales,pune,1000')"
   ]
  },
  {
   "cell_type": "code",
   "execution_count": 157,
   "id": "8db72b0b",
   "metadata": {},
   "outputs": [
    {
     "data": {
      "text/plain": [
       "'101,raj,sales,pune,2000'"
      ]
     },
     "execution_count": 157,
     "metadata": {},
     "output_type": "execute_result"
    }
   ],
   "source": [
    "re.sub('QA','prod','101,raj,sales,pune,2000')"
   ]
  },
  {
   "cell_type": "code",
   "execution_count": null,
   "id": "060b3751",
   "metadata": {},
   "outputs": [],
   "source": [
    "re.split(pattern,inputdata)"
   ]
  },
  {
   "cell_type": "code",
   "execution_count": 159,
   "id": "5244f566",
   "metadata": {},
   "outputs": [
    {
     "data": {
      "text/plain": [
       "['d1', '10,20,30', 'data1']"
      ]
     },
     "execution_count": 159,
     "metadata": {},
     "output_type": "execute_result"
    }
   ],
   "source": [
    "data=\"d1:10,20,30:data1\"\n",
    "\n",
    "re.split(\":\",data)"
   ]
  },
  {
   "cell_type": "code",
   "execution_count": 160,
   "id": "2c3371b7",
   "metadata": {},
   "outputs": [
    {
     "data": {
      "text/plain": [
       "['d1', '10', '20', '30', 'data1']"
      ]
     },
     "execution_count": 160,
     "metadata": {},
     "output_type": "execute_result"
    }
   ],
   "source": [
    "re.split('[^\\w\\s]',data)"
   ]
  },
  {
   "cell_type": "code",
   "execution_count": 164,
   "id": "cdc6d503",
   "metadata": {},
   "outputs": [
    {
     "name": "stdout",
     "output_type": "stream",
     "text": [
      "101:10,20,30,40,50\n",
      "102:100,200\n",
      "103:15,25,35\n",
      "104:1000,2000\n",
      "105:10,20,30,40,50,60,70\n",
      "106:100,200,300\n",
      "107:15,25,65,55\n"
     ]
    }
   ],
   "source": [
    "fobj = open('E:\\\\inventory.txt','r')\n",
    "for var in fobj.readlines():\n",
    "    if(re.search('^[0-9]',var)):\n",
    "        print(var.strip())\n",
    "        \n"
   ]
  },
  {
   "cell_type": "code",
   "execution_count": 166,
   "id": "d38c698b",
   "metadata": {},
   "outputs": [
    {
     "name": "stdout",
     "output_type": "stream",
     "text": [
      "['101', '10', '20', '30', '40', '50']\n",
      "['102', '100', '200']\n",
      "['103', '15', '25', '35']\n",
      "['104', '1000', '2000']\n",
      "['105', '10', '20', '30', '40', '50', '60', '70']\n",
      "['106', '100', '200', '300']\n",
      "['107', '15', '25', '65', '55']\n"
     ]
    }
   ],
   "source": [
    "fobj = open('E:\\\\inventory.txt','r')\n",
    "for var in fobj.readlines():\n",
    "    var=var.strip()\n",
    "    if(re.search('^[0-9]',var)): # filter line starts with any digits\n",
    "        L=re.split('[^\\w\\s]',var) # split each line into multiple values based on any specialchars \n",
    "        print(L)\n"
   ]
  },
  {
   "cell_type": "code",
   "execution_count": 167,
   "id": "bcf634b8",
   "metadata": {},
   "outputs": [
    {
     "name": "stdout",
     "output_type": "stream",
     "text": [
      "['10', '20', '30', '40', '50']\n",
      "['100', '200']\n",
      "['15', '25', '35']\n",
      "['1000', '2000']\n",
      "['10', '20', '30', '40', '50', '60', '70']\n",
      "['100', '200', '300']\n",
      "['15', '25', '65', '55']\n"
     ]
    }
   ],
   "source": [
    "fobj = open('E:\\\\inventory.txt','r')\n",
    "for var in fobj.readlines():\n",
    "    var=var.strip()\n",
    "    if(re.search('^[0-9]',var)): # filter line starts with any digits\n",
    "        L=re.split('[^\\w\\s]',var) # split each line into multiple values based on any specialchars \n",
    "        print(L[1:])\n"
   ]
  },
  {
   "cell_type": "code",
   "execution_count": 168,
   "id": "06bc220f",
   "metadata": {},
   "outputs": [
    {
     "name": "stdout",
     "output_type": "stream",
     "text": [
      "ItemCode:101\t Sum of sales count:150\n",
      "ItemCode:102\t Sum of sales count:300\n",
      "ItemCode:103\t Sum of sales count:75\n",
      "ItemCode:104\t Sum of sales count:3000\n",
      "ItemCode:105\t Sum of sales count:280\n",
      "ItemCode:106\t Sum of sales count:600\n",
      "ItemCode:107\t Sum of sales count:160\n"
     ]
    }
   ],
   "source": [
    "fobj = open('E:\\\\inventory.txt','r')\n",
    "for var in fobj.readlines():\n",
    "    var=var.strip()\n",
    "    if(re.search('^[0-9]',var)): # filter line starts with any digits\n",
    "        L=re.split('[^\\w\\s]',var) # split each line into multiple values based on any specialchars \n",
    "        total = 0\n",
    "        for v in L[1:]:\n",
    "            total = total + int(v)\n",
    "        else:\n",
    "            print(f'ItemCode:{L[0]}\\t Sum of sales count:{total}')"
   ]
  },
  {
   "cell_type": "code",
   "execution_count": null,
   "id": "3cb425b2",
   "metadata": {},
   "outputs": [],
   "source": [
    "# after updating inventory file"
   ]
  },
  {
   "cell_type": "code",
   "execution_count": 169,
   "id": "0f2062fb",
   "metadata": {},
   "outputs": [
    {
     "name": "stdout",
     "output_type": "stream",
     "text": [
      "ItemCode:101\t Sum of sales count:150\n",
      "ItemCode:102\t Sum of sales count:300\n",
      "ItemCode:103\t Sum of sales count:195\n",
      "ItemCode:104\t Sum of sales count:3000\n",
      "ItemCode:105\t Sum of sales count:280\n",
      "ItemCode:106\t Sum of sales count:600\n",
      "ItemCode:107\t Sum of sales count:160\n",
      "ItemCode:108\t Sum of sales count:1100\n"
     ]
    }
   ],
   "source": [
    "fobj = open('E:\\\\inventory.txt','r')\n",
    "for var in fobj.readlines():\n",
    "    var=var.strip()\n",
    "    if(re.search('^[0-9]',var)): # filter line starts with any digits\n",
    "        L=re.split('[^\\w\\s]',var) # split each line into multiple values based on any specialchars \n",
    "        total = 0\n",
    "        for v in L[1:]:\n",
    "            total = total + int(v)\n",
    "        else:\n",
    "            print(f'ItemCode:{L[0]}\\t Sum of sales count:{total}')"
   ]
  },
  {
   "cell_type": "code",
   "execution_count": null,
   "id": "53556771",
   "metadata": {},
   "outputs": [],
   "source": []
  },
  {
   "cell_type": "code",
   "execution_count": null,
   "id": "36169d0f",
   "metadata": {},
   "outputs": [],
   "source": [
    ">>> import re\n",
    ">>>\n",
    ">>> IP=\"101,raj,sales,pune\"\n",
    ">>>\n",
    ">>> re.search(\"sales\",IP)\n",
    "<re.Match object; span=(8, 13), match='sales'>\n",
    ">>>\n",
    ">>>\n",
    ">>> re.search(\"^sales\",IP)\n",
    ">>>\n",
    ">>> re.search(\"^sales\",\"salesaa asfasdfsd\")\n",
    "<re.Match object; span=(0, 5), match='sales'>\n",
    ">>> re.search(\"^5\",\"data5\")\n",
    ">>>\n",
    ">>> re.search(\"^5\",\"5days\")\n",
    "<re.Match object; span=(0, 1), match='5'>\n",
    ">>>\n",
    ">>> re.search(\"sales$\",IP)\n",
    ">>> re.search(\"sales$\",\"data1,data2,sales\")\n",
    "<re.Match object; span=(12, 17), match='sales'>\n",
    ">>>\n",
    ">>> re.search(\"^sales$\",IP)\n",
    ">>>\n",
    ">>> re.search(\"^sales$\",\"sales data sales\")\n",
    ">>>\n",
    ">>>\n",
    ">>> re.search(\"^sales$\",\"sales:\")\n",
    ">>>\n",
    ">>>\n",
    ">>> re.search(\"^sales.*\",\"sales $@#$@#a a ASDFSDA234234SADafasfs\")\n",
    "<re.Match object; span=(0, 38), match='sales $@#$@#a a ASDFSDA234234SADafasfs'>\n",
    ">>>\n",
    ">>>\n",
    ">>>\n",
    ">>> re.search(\"^sales.*S\",\"sales $@#$@#a a ASDFSDA234234SADafasfs\")\n",
    "<re.Match object; span=(0, 30), match='sales $@#$@#a a ASDFSDA234234S'>\n",
    ">>>\n",
    ">>> re.search(\"(java).*(sql)\",\"programming java and sql topics\")\n",
    "<re.Match object; span=(12, 24), match='java and sql'>\n",
    ">>>\n",
    ">>> re.search(\"(sql).*(java)\",\"programming java and sql topics\")\n",
    ">>>\n",
    ">>>"
   ]
  },
  {
   "cell_type": "code",
   "execution_count": null,
   "id": "de59f681",
   "metadata": {},
   "outputs": [],
   "source": [
    "Object Oriented style programming\n",
    "-----------------------------------\n",
    "class className:\n",
    "    .... \n",
    "    ....\n",
    "    <attribute>\n",
    "    \n",
    "class - type \n",
    "className.<attribute>"
   ]
  },
  {
   "cell_type": "code",
   "execution_count": 175,
   "id": "00b7494f",
   "metadata": {},
   "outputs": [
    {
     "name": "stdout",
     "output_type": "stream",
     "text": [
      "<class 'type'> <class 'type'> <class 'type'> <class 'type'> <class 'type'>\n"
     ]
    }
   ],
   "source": [
    "class box:\n",
    "    bid = 101\n",
    "    bname = 'b1'\n",
    "    \n",
    "print(type(box),type(list),type(tuple),type(dict),type(int))"
   ]
  },
  {
   "cell_type": "code",
   "execution_count": 176,
   "id": "fc3fe9f4",
   "metadata": {},
   "outputs": [
    {
     "data": {
      "text/plain": [
       "101"
      ]
     },
     "execution_count": 176,
     "metadata": {},
     "output_type": "execute_result"
    }
   ],
   "source": [
    "box.bid"
   ]
  },
  {
   "cell_type": "code",
   "execution_count": 177,
   "id": "4e749b01",
   "metadata": {},
   "outputs": [
    {
     "ename": "AttributeError",
     "evalue": "type object 'box' has no attribute 'Bid'",
     "output_type": "error",
     "traceback": [
      "\u001b[1;31m---------------------------------------------------------------------------\u001b[0m",
      "\u001b[1;31mAttributeError\u001b[0m                            Traceback (most recent call last)",
      "Cell \u001b[1;32mIn[177], line 1\u001b[0m\n\u001b[1;32m----> 1\u001b[0m box\u001b[38;5;241m.\u001b[39mBid\n",
      "\u001b[1;31mAttributeError\u001b[0m: type object 'box' has no attribute 'Bid'"
     ]
    }
   ],
   "source": [
    "box.Bid"
   ]
  },
  {
   "cell_type": "code",
   "execution_count": null,
   "id": "9a094bcc",
   "metadata": {},
   "outputs": [],
   "source": [
    "#python user defined class - mutable - like dict "
   ]
  },
  {
   "cell_type": "code",
   "execution_count": 178,
   "id": "94620bca",
   "metadata": {},
   "outputs": [
    {
     "name": "stdout",
     "output_type": "stream",
     "text": [
      "101\n",
      "505 10cm\n"
     ]
    }
   ],
   "source": [
    "class box:\n",
    "    bid = 101\n",
    "    \n",
    "print(box.bid)     # we can access it\n",
    "\n",
    "box.bid=505 # we can modify it\n",
    "\n",
    "box.bsize = '10cm' # we can add new attribute\n",
    "\n",
    "print(box.bid,box.bsize)"
   ]
  },
  {
   "cell_type": "code",
   "execution_count": null,
   "id": "06f3b67a",
   "metadata": {},
   "outputs": [],
   "source": [
    " +-------------------+\n",
    " | [ ]  |   |  [ ]   |  <== blueprint sheet - class\n",
    " | (white)           |\n",
    " +-------------------+\n",
    "\n",
    "+-----------+   +---------+\n",
    "|[] | | []  |   | []| |[] |   ... <== real building - object\n",
    "| (white)   |   |(white)  |\n",
    "+-----------+   +---------+\n",
    "  1st Block       2nd Block\n",
    "    \n",
    "    \n",
    "class className:\n",
    "    ....\n",
    "\n",
    "className() <== Constructor \n"
   ]
  },
  {
   "cell_type": "code",
   "execution_count": 179,
   "id": "5f2f3114",
   "metadata": {},
   "outputs": [],
   "source": [
    "class Enrollment:\n",
    "    '''class attributes'''\n",
    "    Name = ''\n",
    "    DOB = ''\n",
    "    Place = ''"
   ]
  },
  {
   "cell_type": "code",
   "execution_count": 181,
   "id": "92b5cd67",
   "metadata": {},
   "outputs": [],
   "source": [
    "obj1 = Enrollment()\n",
    "obj1.Name = 'Arun'\n",
    "obj1.DOB = '1st Jan'\n",
    "obj1.Place = 'City-1'\n",
    "\n",
    "obj2 = Enrollment()\n",
    "obj2.Name = 'Leo'\n",
    "obj2.DOB = '2nd Feb'\n",
    "obj2.Place = 'City-2'\n"
   ]
  },
  {
   "cell_type": "code",
   "execution_count": 182,
   "id": "45aa074a",
   "metadata": {},
   "outputs": [
    {
     "name": "stdout",
     "output_type": "stream",
     "text": [
      "Arun 1st Jan City-1\n",
      "Leo 2nd Feb City-2\n"
     ]
    }
   ],
   "source": [
    "# display emp detils\n",
    "print(obj1.Name,obj1.DOB,obj1.Place)\n",
    "print(obj2.Name,obj2.DOB,obj2.Place)"
   ]
  },
  {
   "cell_type": "code",
   "execution_count": 183,
   "id": "533544f8",
   "metadata": {},
   "outputs": [],
   "source": [
    "obj2.Place = 'Hyderabad' # update working City"
   ]
  },
  {
   "cell_type": "code",
   "execution_count": 184,
   "id": "68454db1",
   "metadata": {},
   "outputs": [
    {
     "name": "stdout",
     "output_type": "stream",
     "text": [
      "Arun 1st Jan City-1\n",
      "Leo 2nd Feb Hyderabad\n"
     ]
    }
   ],
   "source": [
    "print(obj1.Name,obj1.DOB,obj1.Place)\n",
    "print(obj2.Name,obj2.DOB,obj2.Place)"
   ]
  },
  {
   "cell_type": "code",
   "execution_count": 185,
   "id": "98aa6e47",
   "metadata": {},
   "outputs": [
    {
     "name": "stdout",
     "output_type": "stream",
     "text": [
      "<class 'function'> <class 'method'>\n"
     ]
    }
   ],
   "source": [
    "# function Vs  method\n",
    "# -------      ---------\n",
    "\n",
    "# fx()         obj.fx() \n",
    "# ----         --------\n",
    "\n",
    "def f1():\n",
    "    print('Hello')\n",
    "    \n",
    "class box:\n",
    "    def f2():\n",
    "        print('Hello')\n",
    "        \n",
    "        \n",
    "obj = box()\n",
    "\n",
    "print(type(f1),type(obj.f2))"
   ]
  },
  {
   "cell_type": "code",
   "execution_count": 186,
   "id": "67ffef02",
   "metadata": {},
   "outputs": [
    {
     "name": "stdout",
     "output_type": "stream",
     "text": [
      "Hello\n"
     ]
    }
   ],
   "source": [
    "f1()"
   ]
  },
  {
   "cell_type": "code",
   "execution_count": 187,
   "id": "d6482c4a",
   "metadata": {},
   "outputs": [
    {
     "ename": "TypeError",
     "evalue": "box.f2() takes 0 positional arguments but 1 was given",
     "output_type": "error",
     "traceback": [
      "\u001b[1;31m---------------------------------------------------------------------------\u001b[0m",
      "\u001b[1;31mTypeError\u001b[0m                                 Traceback (most recent call last)",
      "Cell \u001b[1;32mIn[187], line 1\u001b[0m\n\u001b[1;32m----> 1\u001b[0m obj\u001b[38;5;241m.\u001b[39mf2()\n",
      "\u001b[1;31mTypeError\u001b[0m: box.f2() takes 0 positional arguments but 1 was given"
     ]
    }
   ],
   "source": [
    "obj.f2()"
   ]
  },
  {
   "cell_type": "code",
   "execution_count": 189,
   "id": "2548aa40",
   "metadata": {},
   "outputs": [
    {
     "name": "stdout",
     "output_type": "stream",
     "text": [
      "Hello\n"
     ]
    },
    {
     "ename": "TypeError",
     "evalue": "F2() takes 0 positional arguments but 1 was given",
     "output_type": "error",
     "traceback": [
      "\u001b[1;31m---------------------------------------------------------------------------\u001b[0m",
      "\u001b[1;31mTypeError\u001b[0m                                 Traceback (most recent call last)",
      "Cell \u001b[1;32mIn[189], line 5\u001b[0m\n\u001b[0;32m      2\u001b[0m     \u001b[38;5;28mprint\u001b[39m(\u001b[38;5;124m'\u001b[39m\u001b[38;5;124mHello\u001b[39m\u001b[38;5;124m'\u001b[39m)\n\u001b[0;32m      4\u001b[0m F2()\n\u001b[1;32m----> 5\u001b[0m F2(\u001b[38;5;241m10\u001b[39m)\n",
      "\u001b[1;31mTypeError\u001b[0m: F2() takes 0 positional arguments but 1 was given"
     ]
    }
   ],
   "source": [
    "def F2():\n",
    "    print('Hello')\n",
    "\n",
    "F2()\n",
    "F2(10)"
   ]
  },
  {
   "cell_type": "code",
   "execution_count": null,
   "id": "421def51",
   "metadata": {},
   "outputs": [],
   "source": [
    "obj.f2() # f2(obj)\n",
    "\n",
    "# obj.f2('D1','D2','D3') -> f2(obj,'D1','D2','D3')"
   ]
  },
  {
   "cell_type": "code",
   "execution_count": 190,
   "id": "4a0a618f",
   "metadata": {},
   "outputs": [
    {
     "name": "stdout",
     "output_type": "stream",
     "text": [
      "obj1= <__main__.box object at 0x000001C1D1C1BB10>\n",
      "self= <__main__.box object at 0x000001C1D1C1BB10>\n"
     ]
    }
   ],
   "source": [
    "class box:\n",
    "    def f2(self):\n",
    "        print('self=',self)\n",
    "        \n",
    "obj1 = box()\n",
    "print(\"obj1=\",obj1)\n",
    "obj1.f2() # f2(obj1)"
   ]
  },
  {
   "cell_type": "code",
   "execution_count": 191,
   "id": "36a5d89c",
   "metadata": {},
   "outputs": [
    {
     "name": "stdout",
     "output_type": "stream",
     "text": [
      "obj2= <__main__.box object at 0x000001C1D1BFA410>\n",
      "self= <__main__.box object at 0x000001C1D1BFA410>\n"
     ]
    }
   ],
   "source": [
    "obj2 = box()\n",
    "print(\"obj2=\",obj2)\n",
    "obj2.f2()"
   ]
  },
  {
   "cell_type": "code",
   "execution_count": 192,
   "id": "51453468",
   "metadata": {},
   "outputs": [],
   "source": [
    "class box:\n",
    "    bid=101\n",
    "    def f1(self,a):\n",
    "        print(self.bid) # obj1.bid\n",
    "        self.bid = a"
   ]
  },
  {
   "cell_type": "code",
   "execution_count": 193,
   "id": "67786554",
   "metadata": {},
   "outputs": [
    {
     "name": "stdout",
     "output_type": "stream",
     "text": [
      "101\n",
      "101\n"
     ]
    }
   ],
   "source": [
    "obj1 = box()\n",
    "print(obj1.bid) # 101\n",
    "\n",
    "obj1.f1(505) # f1(obj1,505)"
   ]
  },
  {
   "cell_type": "code",
   "execution_count": 194,
   "id": "3d610c60",
   "metadata": {},
   "outputs": [
    {
     "data": {
      "text/plain": [
       "505"
      ]
     },
     "execution_count": 194,
     "metadata": {},
     "output_type": "execute_result"
    }
   ],
   "source": [
    "obj1.bid"
   ]
  },
  {
   "cell_type": "code",
   "execution_count": 195,
   "id": "b1a3ad5b",
   "metadata": {},
   "outputs": [
    {
     "data": {
      "text/plain": [
       "101"
      ]
     },
     "execution_count": 195,
     "metadata": {},
     "output_type": "execute_result"
    }
   ],
   "source": [
    "obj2 = box()\n",
    "obj2.bid"
   ]
  },
  {
   "cell_type": "code",
   "execution_count": 196,
   "id": "981117ab",
   "metadata": {},
   "outputs": [],
   "source": [
    "class Enrollment:\n",
    "    '''class attributes'''\n",
    "    Name = ''\n",
    "    DOB = ''\n",
    "    Place = ''\n",
    "    def f1(self,n,d,p):\n",
    "        self.Name = n\n",
    "        self.DOB = d\n",
    "        self.Place = p\n",
    "        print('Enrollment is done')\n",
    "    def f2(self):\n",
    "        print(f'About {self.Name} details')\n",
    "        print(f'Emp name:{self.Name} DOB:{self.DOB}')\n",
    "        print(f'Place:{self.Place}')\n",
    "    def f3(self,p):\n",
    "        self.Place = p # updating\n",
    "        print('Updated details:-')\n",
    "        self.f2()"
   ]
  },
  {
   "cell_type": "code",
   "execution_count": 197,
   "id": "e9fe7375",
   "metadata": {},
   "outputs": [
    {
     "name": "stdout",
     "output_type": "stream",
     "text": [
      "Enrollment is done\n"
     ]
    }
   ],
   "source": [
    "obj1 = Enrollment()\n",
    "obj1.f1('Arun','1st Jan','City-1')"
   ]
  },
  {
   "cell_type": "code",
   "execution_count": 198,
   "id": "65b6b7a0",
   "metadata": {},
   "outputs": [
    {
     "name": "stdout",
     "output_type": "stream",
     "text": [
      "Enrollment is done\n"
     ]
    }
   ],
   "source": [
    "obj2 = Enrollment()\n",
    "obj2.f1('Leo','2nd Feb','City-2')"
   ]
  },
  {
   "cell_type": "code",
   "execution_count": 199,
   "id": "dce27327",
   "metadata": {},
   "outputs": [
    {
     "name": "stdout",
     "output_type": "stream",
     "text": [
      "About Arun details\n",
      "Emp name:Arun DOB:1st Jan\n",
      "Place:City-1\n"
     ]
    }
   ],
   "source": [
    "obj1.f2()"
   ]
  },
  {
   "cell_type": "code",
   "execution_count": 200,
   "id": "cc79a107",
   "metadata": {},
   "outputs": [
    {
     "name": "stdout",
     "output_type": "stream",
     "text": [
      "About Leo details\n",
      "Emp name:Leo DOB:2nd Feb\n",
      "Place:City-2\n"
     ]
    }
   ],
   "source": [
    "obj2.f2()"
   ]
  },
  {
   "cell_type": "code",
   "execution_count": 201,
   "id": "ccc77f32",
   "metadata": {},
   "outputs": [
    {
     "name": "stdout",
     "output_type": "stream",
     "text": [
      "Updated details:-\n",
      "About Leo details\n",
      "Emp name:Leo DOB:2nd Feb\n",
      "Place:Hyderabad\n"
     ]
    }
   ],
   "source": [
    "obj2.f3('Hyderabad')"
   ]
  },
  {
   "cell_type": "code",
   "execution_count": 202,
   "id": "c09f8753",
   "metadata": {},
   "outputs": [
    {
     "name": "stdout",
     "output_type": "stream",
     "text": [
      "About Arun details\n",
      "Emp name:Arun DOB:1st Jan\n",
      "Place:City-1\n"
     ]
    }
   ],
   "source": [
    "obj1.f2()"
   ]
  },
  {
   "cell_type": "code",
   "execution_count": 203,
   "id": "5b50d23f",
   "metadata": {},
   "outputs": [
    {
     "name": "stdout",
     "output_type": "stream",
     "text": [
      "About Leo details\n",
      "Emp name:Leo DOB:2nd Feb\n",
      "Place:Hyderabad\n"
     ]
    }
   ],
   "source": [
    "obj2.f2()"
   ]
  },
  {
   "cell_type": "code",
   "execution_count": null,
   "id": "83fbd928",
   "metadata": {},
   "outputs": [],
   "source": [
    "1st ->Enrolled ->2nd display details\n",
    "---------------  ====================\n",
    "use case - DB\n",
    "-----------------\n",
    "1st -> establish database connection -> 2nd ->Query "
   ]
  },
  {
   "cell_type": "code",
   "execution_count": 204,
   "id": "7891c66a",
   "metadata": {},
   "outputs": [
    {
     "name": "stdout",
     "output_type": "stream",
     "text": [
      "About  details\n",
      "Emp name: DOB:\n",
      "Place:\n"
     ]
    }
   ],
   "source": [
    "obj3 = Enrollment()\n",
    "obj3.f2()"
   ]
  },
  {
   "cell_type": "code",
   "execution_count": null,
   "id": "ad04a684",
   "metadata": {},
   "outputs": [],
   "source": [
    "class DBI:\n",
    "    def connect(self,....):\n",
    "        ......\n",
    "    def method1(self):\n",
    "        .... # Query\n",
    "    def method2(self):\n",
    "        .....# Query\n",
    "        \n",
    "obj1 = DBI()\n",
    "obj1.method2() -> In oops - OK - valid Call  but operation is failed."
   ]
  },
  {
   "cell_type": "code",
   "execution_count": null,
   "id": "82e1572e",
   "metadata": {},
   "outputs": [],
   "source": [
    "__variable/method__ <== special attribute"
   ]
  },
  {
   "cell_type": "code",
   "execution_count": 206,
   "id": "777fb112",
   "metadata": {},
   "outputs": [
    {
     "name": "stdout",
     "output_type": "stream",
     "text": [
      "Enrollment is done\n",
      "Enrollment is done\n"
     ]
    }
   ],
   "source": [
    "class Enrollment:\n",
    "    #def f1(self,n,d,p):\n",
    "    def __init__(self,n,d,p):\n",
    "        self.Name = n\n",
    "        self.DOB = d\n",
    "        self.Place = p\n",
    "        print('Enrollment is done')\n",
    "    def f2(self):\n",
    "        print(f'About {self.Name} details')\n",
    "        print(f'Emp name:{self.Name} DOB:{self.DOB}')\n",
    "        print(f'Place:{self.Place}')\n",
    "    def f3(self,p):\n",
    "        self.Place = p # updating\n",
    "        print('Updated details:-')\n",
    "        self.f2()\n",
    "        \n",
    "obj1 = Enrollment('Arun','1st Jan','City-1')\n",
    "#obj1.f1('Arun','1st Jan','City-1')\n",
    "\n",
    "obj2 = Enrollment('Leo','2nd Feb','City-2')\n",
    "#obj2.f1('Leo','2nd Feb','City-2')\n"
   ]
  },
  {
   "cell_type": "code",
   "execution_count": 207,
   "id": "bb4aeae9",
   "metadata": {},
   "outputs": [
    {
     "name": "stdout",
     "output_type": "stream",
     "text": [
      "About Arun details\n",
      "Emp name:Arun DOB:1st Jan\n",
      "Place:City-1\n",
      "About Leo details\n",
      "Emp name:Leo DOB:2nd Feb\n",
      "Place:City-2\n"
     ]
    }
   ],
   "source": [
    "obj1.f2()\n",
    "obj2.f2()"
   ]
  },
  {
   "cell_type": "code",
   "execution_count": 208,
   "id": "ec360950",
   "metadata": {},
   "outputs": [
    {
     "ename": "TypeError",
     "evalue": "Enrollment.__init__() missing 3 required positional arguments: 'n', 'd', and 'p'",
     "output_type": "error",
     "traceback": [
      "\u001b[1;31m---------------------------------------------------------------------------\u001b[0m",
      "\u001b[1;31mTypeError\u001b[0m                                 Traceback (most recent call last)",
      "Cell \u001b[1;32mIn[208], line 1\u001b[0m\n\u001b[1;32m----> 1\u001b[0m OBJ3 \u001b[38;5;241m=\u001b[39m Enrollment()\n",
      "\u001b[1;31mTypeError\u001b[0m: Enrollment.__init__() missing 3 required positional arguments: 'n', 'd', and 'p'"
     ]
    }
   ],
   "source": [
    "OBJ3 = Enrollment()"
   ]
  },
  {
   "cell_type": "code",
   "execution_count": 209,
   "id": "977862c7",
   "metadata": {},
   "outputs": [
    {
     "ename": "NameError",
     "evalue": "name 'OBJ3' is not defined",
     "output_type": "error",
     "traceback": [
      "\u001b[1;31m---------------------------------------------------------------------------\u001b[0m",
      "\u001b[1;31mNameError\u001b[0m                                 Traceback (most recent call last)",
      "Cell \u001b[1;32mIn[209], line 1\u001b[0m\n\u001b[1;32m----> 1\u001b[0m OBJ3\n",
      "\u001b[1;31mNameError\u001b[0m: name 'OBJ3' is not defined"
     ]
    }
   ],
   "source": [
    "OBJ3"
   ]
  },
  {
   "cell_type": "code",
   "execution_count": 211,
   "id": "eca488fc",
   "metadata": {},
   "outputs": [],
   "source": [
    "# file: myab.py\n",
    "# -------------------\n",
    "def mysearch(a1,a2):\n",
    "    class myMatch:\n",
    "        def __init__(self,a1,a2):\n",
    "            self.pattern = a1\n",
    "            self.input_str = a2\n",
    "        def method1(self):\n",
    "            return self.pattern in self.input_str\n",
    "        \n",
    "    obj = myMatch(a1,a2)\n",
    "    return obj"
   ]
  },
  {
   "cell_type": "code",
   "execution_count": 212,
   "id": "3f365320",
   "metadata": {},
   "outputs": [
    {
     "data": {
      "text/plain": [
       "<__main__.mysearch.<locals>.myMatch at 0x1c1d1d5dad0>"
      ]
     },
     "execution_count": 212,
     "metadata": {},
     "output_type": "execute_result"
    }
   ],
   "source": [
    "# import myab\n",
    "# myab.mysearch('sales','101,raj,sales,pune')\n",
    "\n",
    "mysearch('sales','101,raj,sales,pune')"
   ]
  },
  {
   "cell_type": "code",
   "execution_count": 213,
   "id": "c309d9a8",
   "metadata": {},
   "outputs": [
    {
     "data": {
      "text/plain": [
       "True"
      ]
     },
     "execution_count": 213,
     "metadata": {},
     "output_type": "execute_result"
    }
   ],
   "source": [
    "myobj1 = mysearch('sales','101,raj,sales,pune')\n",
    "myobj1.method1()"
   ]
  },
  {
   "cell_type": "code",
   "execution_count": 214,
   "id": "b7d40cad",
   "metadata": {},
   "outputs": [
    {
     "name": "stdout",
     "output_type": "stream",
     "text": [
      "<function mysearch at 0x000001C1D1C2E660>\n"
     ]
    }
   ],
   "source": [
    "print(mysearch)"
   ]
  },
  {
   "cell_type": "code",
   "execution_count": null,
   "id": "25538c22",
   "metadata": {},
   "outputs": [],
   "source": [
    ">>>\n",
    ">>> class box:\n",
    "...     bid=101\n",
    "...\n",
    ">>> box\n",
    "<class '__main__.box'>\n",
    ">>>\n",
    ">>> box()\n",
    "<__main__.box object at 0x00000234BDD606E0>\n",
    ">>>\n",
    ">>> box()\n",
    "<__main__.box object at 0x00000234BDCCDF90>\n",
    ">>>\n",
    ">>> obj1 = box()\n",
    ">>>\n",
    ">>> obj2 = box()\n",
    ">>>\n",
    ">>> obj1.bid\n",
    "101\n",
    ">>> obj2.bid\n",
    "101\n",
    ">>> obj1.bid = 'B-001'\n",
    ">>>\n",
    ">>> obj2.bid = 'B-002'\n",
    ">>>\n",
    ">>> obj1.bid\n",
    "'B-001'\n",
    ">>> obj2.bid\n",
    "'B-002'\n",
    ">>> box.bid\n",
    "101\n",
    ">>> obj3 = box()\n",
    ">>> obj3.bid\n",
    "101\n",
    ">>>\n",
    "\n",
    ">>> class box:\n",
    "...     def f1(self):\n",
    "...         print('This is non-constructor')\n",
    "...\n",
    ">>> box()\n",
    "<__main__.box object at 0x000001595ADC06E0>\n",
    ">>>\n",
    ">>> obj = box()\n",
    ">>> obj.f1()\n",
    "This is non-constructor\n",
    ">>>\n",
    ">>>\n",
    ">>> class box:\n",
    "...     def __init__(self):\n",
    "...         print(\"This is special method\")\n",
    "...\n",
    ">>> box()\n",
    "This is special method\n",
    "<__main__.box object at 0x000001595ADC0830>\n",
    ">>>\n",
    ">>> class box:\n",
    "...     def __init__(self,a1,a2=0,*a3,**a4):\n",
    "...         print(\"Initiaization method\")\n",
    "...         print(\"a1=\",a1,\"a2=\",0,\"a3=\",a3,\"a4=\",a4)\n",
    "...\n",
    ">>>\n",
    ">>> obj1 = box(10,20,30,40)\n",
    "Initiaization method\n",
    "a1= 10 a2= 0 a3= (30, 40) a4= {}\n",
    ">>>\n",
    ">>> obj1 = box(10,20,30,40,db=\"oracle\")\n",
    "Initiaization method\n",
    "a1= 10 a2= 0 a3= (30, 40) a4= {'db': 'oracle'}\n",
    ">>>\n",
    ">>> obj1 = box(10,db=\"oracle\")\n",
    "Initiaization method\n",
    "a1= 10 a2= 0 a3= () a4= {'db': 'oracle'}\n",
    ">>>\n",
    ">>>\n",
    "\n",
    "\n",
    "\n",
    "\n",
    "\n"
   ]
  }
 ],
 "metadata": {
  "kernelspec": {
   "display_name": "Python 3 (ipykernel)",
   "language": "python",
   "name": "python3"
  },
  "language_info": {
   "codemirror_mode": {
    "name": "ipython",
    "version": 3
   },
   "file_extension": ".py",
   "mimetype": "text/x-python",
   "name": "python",
   "nbconvert_exporter": "python",
   "pygments_lexer": "ipython3",
   "version": "3.11.5"
  }
 },
 "nbformat": 4,
 "nbformat_minor": 5
}
