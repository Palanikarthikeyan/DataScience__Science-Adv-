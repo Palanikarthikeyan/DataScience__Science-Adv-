{
 "cells": [
  {
   "cell_type": "code",
   "execution_count": null,
   "id": "e9e28bf3",
   "metadata": {},
   "outputs": [],
   "source": [
    "# Functional style code - Single line Code\n",
    "# -----------------------------------------\n",
    "lambda\n",
    "comprehension \n",
    "generator\n",
    "map filter enumerate\n",
    "|\n",
    "Database ; webscrabing ; json ; numpy ; pandas "
   ]
  },
  {
   "cell_type": "code",
   "execution_count": null,
   "id": "a9ede506",
   "metadata": {},
   "outputs": [],
   "source": [
    "lambda\n",
    "------\n",
    " |->unnamed function - this is not block style code\n",
    " |->function call with arguments return some value\n",
    "    ..............................................\n",
    " |-> lambda <list of arguments>:<basic_Operation>\n",
    "                                  arithmetic;relational;logical;membership;external functionCall etc"
   ]
  },
  {
   "cell_type": "code",
   "execution_count": 1,
   "id": "adee2d26",
   "metadata": {},
   "outputs": [
    {
     "data": {
      "text/plain": [
       "30"
      ]
     },
     "execution_count": 1,
     "metadata": {},
     "output_type": "execute_result"
    }
   ],
   "source": [
    "'''named function block'''\n",
    "def f1(a1,a2):\n",
    "    return a1+a2\n",
    "\n",
    "f1(10,20)"
   ]
  },
  {
   "cell_type": "code",
   "execution_count": 2,
   "id": "b2eafaa5",
   "metadata": {},
   "outputs": [
    {
     "data": {
      "text/plain": [
       "<function __main__.<lambda>(a1, a2)>"
      ]
     },
     "execution_count": 2,
     "metadata": {},
     "output_type": "execute_result"
    }
   ],
   "source": [
    "lambda a1,a2:a1+a2"
   ]
  },
  {
   "cell_type": "code",
   "execution_count": 3,
   "id": "acfbe565",
   "metadata": {},
   "outputs": [
    {
     "data": {
      "text/plain": [
       "30"
      ]
     },
     "execution_count": 3,
     "metadata": {},
     "output_type": "execute_result"
    }
   ],
   "source": [
    "f2 = lambda a1,a2:a1+a2\n",
    "f2(10,20)"
   ]
  },
  {
   "cell_type": "code",
   "execution_count": 4,
   "id": "e4438f44",
   "metadata": {},
   "outputs": [
    {
     "data": {
      "text/plain": [
       "'ABC'"
      ]
     },
     "execution_count": 4,
     "metadata": {},
     "output_type": "execute_result"
    }
   ],
   "source": [
    "f3=lambda a:a.upper()\n",
    "f3('abc')"
   ]
  },
  {
   "cell_type": "code",
   "execution_count": 5,
   "id": "27344467",
   "metadata": {},
   "outputs": [
    {
     "data": {
      "text/plain": [
       "'ABC'"
      ]
     },
     "execution_count": 5,
     "metadata": {},
     "output_type": "execute_result"
    }
   ],
   "source": [
    "def f4(a):\n",
    "    return a.upper()\n",
    "\n",
    "f4('abc')"
   ]
  },
  {
   "cell_type": "code",
   "execution_count": 6,
   "id": "a60ed4a5",
   "metadata": {},
   "outputs": [
    {
     "data": {
      "text/plain": [
       "False"
      ]
     },
     "execution_count": 6,
     "metadata": {},
     "output_type": "execute_result"
    }
   ],
   "source": [
    "f5=lambda a1,a2: a1 > a2\n",
    "f5(10,20)"
   ]
  },
  {
   "cell_type": "code",
   "execution_count": 7,
   "id": "e113f629",
   "metadata": {},
   "outputs": [
    {
     "data": {
      "text/plain": [
       "True"
      ]
     },
     "execution_count": 7,
     "metadata": {},
     "output_type": "execute_result"
    }
   ],
   "source": [
    "f5(150,25)"
   ]
  },
  {
   "cell_type": "code",
   "execution_count": 9,
   "id": "ee076b9f",
   "metadata": {},
   "outputs": [],
   "source": [
    "def fx(a=0):\n",
    "    if a > 100 and a <200:\n",
    "        a = a + 150\n",
    "        return a\n",
    "    elif a > 500 and a < 600:\n",
    "        a = a + 550\n",
    "        return a\n",
    "    else:\n",
    "        return a+600\n",
    "    \n",
    "fx() \n",
    "fx(10)\n",
    "fx(50)"
   ]
  },
  {
   "cell_type": "code",
   "execution_count": 10,
   "id": "9bc4dee5",
   "metadata": {},
   "outputs": [
    {
     "data": {
      "text/plain": [
       "270"
      ]
     },
     "execution_count": 10,
     "metadata": {},
     "output_type": "execute_result"
    }
   ],
   "source": [
    "f5 = lambda a1:fx(a1)\n",
    "f5(120)"
   ]
  },
  {
   "cell_type": "code",
   "execution_count": 11,
   "id": "09f72654",
   "metadata": {},
   "outputs": [
    {
     "data": {
      "text/plain": [
       "1110"
      ]
     },
     "execution_count": 11,
     "metadata": {},
     "output_type": "execute_result"
    }
   ],
   "source": [
    "f5(560)"
   ]
  },
  {
   "cell_type": "code",
   "execution_count": 12,
   "id": "6de98a30",
   "metadata": {},
   "outputs": [
    {
     "data": {
      "text/plain": [
       "1300"
      ]
     },
     "execution_count": 12,
     "metadata": {},
     "output_type": "execute_result"
    }
   ],
   "source": [
    "f5(700)"
   ]
  },
  {
   "cell_type": "code",
   "execution_count": 13,
   "id": "8e496e8b",
   "metadata": {},
   "outputs": [
    {
     "data": {
      "text/plain": [
       "[101, 102, 103, 104, 105]"
      ]
     },
     "execution_count": 13,
     "metadata": {},
     "output_type": "execute_result"
    }
   ],
   "source": [
    "# list comprehension - list append operation\n",
    "L = []\n",
    "for var in range(1,6):\n",
    "    result = var + 100\n",
    "    L.append(result)\n",
    "L"
   ]
  },
  {
   "cell_type": "code",
   "execution_count": null,
   "id": "916db9f9",
   "metadata": {},
   "outputs": [],
   "source": [
    "Syntax:-\n",
    "---------\n",
    "[variable for variable in <collection>]\n",
    "          --------(1)-----------\n",
    "---(2)----"
   ]
  },
  {
   "cell_type": "code",
   "execution_count": 14,
   "id": "7f82b9eb",
   "metadata": {},
   "outputs": [
    {
     "data": {
      "text/plain": [
       "[1, 2, 3, 4, 5]"
      ]
     },
     "execution_count": 14,
     "metadata": {},
     "output_type": "execute_result"
    }
   ],
   "source": [
    "[var for var in range(1,6)]"
   ]
  },
  {
   "cell_type": "code",
   "execution_count": 15,
   "id": "fc55db80",
   "metadata": {},
   "outputs": [
    {
     "data": {
      "text/plain": [
       "[101, 102, 103, 104, 105]"
      ]
     },
     "execution_count": 15,
     "metadata": {},
     "output_type": "execute_result"
    }
   ],
   "source": [
    "[var+100 for var in range(1,6)]"
   ]
  },
  {
   "cell_type": "code",
   "execution_count": 17,
   "id": "97d33a2c",
   "metadata": {},
   "outputs": [
    {
     "data": {
      "text/plain": [
       "[501, 502, 503, 104, 105]"
      ]
     },
     "execution_count": 17,
     "metadata": {},
     "output_type": "execute_result"
    }
   ],
   "source": [
    "# list comprehension - list append operation\n",
    "L = []\n",
    "for var in range(1,6):\n",
    "    if (var >3):\n",
    "        result = var + 100\n",
    "        L.append(result)\n",
    "    else:\n",
    "        result = var + 500\n",
    "        L.append(result)\n",
    "L"
   ]
  },
  {
   "cell_type": "code",
   "execution_count": 18,
   "id": "be02d435",
   "metadata": {},
   "outputs": [
    {
     "data": {
      "text/plain": [
       "[501, 502, 503, 104, 105]"
      ]
     },
     "execution_count": 18,
     "metadata": {},
     "output_type": "execute_result"
    }
   ],
   "source": [
    "[var+100 if var > 3 else var+500 for var in range(1,6)]"
   ]
  },
  {
   "cell_type": "code",
   "execution_count": 19,
   "id": "d4d834bd",
   "metadata": {},
   "outputs": [
    {
     "data": {
      "text/plain": [
       "{'K1': [501, 502, 503, 104, 105]}"
      ]
     },
     "execution_count": 19,
     "metadata": {},
     "output_type": "execute_result"
    }
   ],
   "source": [
    "d={}\n",
    "d['K1']=[var+100 if var > 3 else var+500 for var in range(1,6)]\n",
    "d"
   ]
  },
  {
   "cell_type": "code",
   "execution_count": 20,
   "id": "17576055",
   "metadata": {},
   "outputs": [
    {
     "data": {
      "text/plain": [
       "[104, 105]"
      ]
     },
     "execution_count": 20,
     "metadata": {},
     "output_type": "execute_result"
    }
   ],
   "source": [
    "L = []\n",
    "for var in range(1,6):\n",
    "    if (var >3):\n",
    "        result = var + 100\n",
    "        L.append(result)\n",
    "        \n",
    "L"
   ]
  },
  {
   "cell_type": "code",
   "execution_count": 21,
   "id": "e2b56d91",
   "metadata": {},
   "outputs": [
    {
     "data": {
      "text/plain": [
       "[104, 105]"
      ]
     },
     "execution_count": 21,
     "metadata": {},
     "output_type": "execute_result"
    }
   ],
   "source": [
    "[var+100 for var in range(1,6) if var >3]"
   ]
  },
  {
   "cell_type": "code",
   "execution_count": 33,
   "id": "43495597",
   "metadata": {},
   "outputs": [
    {
     "name": "stdout",
     "output_type": "stream",
     "text": [
      "<class 'dict'>\n",
      "<class 'set'>\n",
      "<class 'dict'>\n"
     ]
    }
   ],
   "source": [
    "print(type({}))\n",
    "\n",
    "s1 = {1,2,3,4}\n",
    "print(type(s1))\n",
    "\n",
    "d1 = {'K1':1,'K2':2}\n",
    "print(type(d1))"
   ]
  },
  {
   "cell_type": "code",
   "execution_count": null,
   "id": "a65c553e",
   "metadata": {},
   "outputs": [],
   "source": [
    "[value for iterable ]\n",
    "\n",
    "{key: value for iterable}"
   ]
  },
  {
   "cell_type": "code",
   "execution_count": 35,
   "id": "cf5b6426",
   "metadata": {},
   "outputs": [
    {
     "name": "stdout",
     "output_type": "stream",
     "text": [
      "{101, 102, 103, 104, 105}\n",
      "<class 'set'>\n"
     ]
    }
   ],
   "source": [
    "print({var+100 for var in range(1,6)})\n",
    "\n",
    "print(type({var+100 for var in range(1,6)}))\n"
   ]
  },
  {
   "cell_type": "code",
   "execution_count": 36,
   "id": "dbe0e0bf",
   "metadata": {},
   "outputs": [
    {
     "data": {
      "text/plain": [
       "{'K': 5}"
      ]
     },
     "execution_count": 36,
     "metadata": {},
     "output_type": "execute_result"
    }
   ],
   "source": [
    "{'K': var for var in range(1,6)}\n",
    "\n",
    "# {'K':1}\n",
    "# {'K':2}\n",
    "# ..\n",
    "#{'K':5}"
   ]
  },
  {
   "cell_type": "code",
   "execution_count": 23,
   "id": "f3529894",
   "metadata": {},
   "outputs": [
    {
     "data": {
      "text/plain": [
       "{'K1': 101, 'K2': 102, 'K3': 103, 'K4': 104, 'K5': 105}"
      ]
     },
     "execution_count": 23,
     "metadata": {},
     "output_type": "execute_result"
    }
   ],
   "source": [
    "{'K'+str(var):var+100 for var in range(1,6)}"
   ]
  },
  {
   "cell_type": "code",
   "execution_count": 27,
   "id": "066d0d01",
   "metadata": {},
   "outputs": [
    {
     "data": {
      "text/plain": [
       "{'K1': 101, 'K2': 102, 'K3': 103, 'K4': 104, 'K5': 105}"
      ]
     },
     "execution_count": 27,
     "metadata": {},
     "output_type": "execute_result"
    }
   ],
   "source": [
    "{'K'+str(var):var+100 for var in range(1,6)}\n"
   ]
  },
  {
   "cell_type": "code",
   "execution_count": 37,
   "id": "29d86c4a",
   "metadata": {},
   "outputs": [
    {
     "data": {
      "text/plain": [
       "{'K1': 501, 'K2': 502, 'K3': 503, 'K4': 104, 'K5': 105}"
      ]
     },
     "execution_count": 37,
     "metadata": {},
     "output_type": "execute_result"
    }
   ],
   "source": [
    "d={}\n",
    "for var in range(1,6):\n",
    "    if(var >3):\n",
    "        d['K'+str(var)]=var+100\n",
    "    else:\n",
    "        d['K'+str(var)]=var+500\n",
    "        \n",
    "d"
   ]
  },
  {
   "cell_type": "code",
   "execution_count": 39,
   "id": "a3b6bae0",
   "metadata": {},
   "outputs": [
    {
     "data": {
      "text/plain": [
       "{'K1': 501, 'K2': 502, 'K3': 503, 'K4': 104, 'K5': 105}"
      ]
     },
     "execution_count": 39,
     "metadata": {},
     "output_type": "execute_result"
    }
   ],
   "source": [
    "# {'Key':Value}\n",
    "\n",
    "{'K'+str(var):var+100 if var >3 else var+500 for var in range(1,6)}\n",
    "# ----------- ===================================================="
   ]
  },
  {
   "cell_type": "code",
   "execution_count": 41,
   "id": "9b3bf100",
   "metadata": {},
   "outputs": [
    {
     "data": {
      "text/plain": [
       "'K1'"
      ]
     },
     "execution_count": 41,
     "metadata": {},
     "output_type": "execute_result"
    }
   ],
   "source": [
    "\"K\"+str(1)"
   ]
  },
  {
   "cell_type": "code",
   "execution_count": 42,
   "id": "9bddf8e8",
   "metadata": {},
   "outputs": [
    {
     "data": {
      "text/plain": [
       "30"
      ]
     },
     "execution_count": 42,
     "metadata": {},
     "output_type": "execute_result"
    }
   ],
   "source": [
    "10+20"
   ]
  },
  {
   "cell_type": "code",
   "execution_count": 43,
   "id": "aa5323d7",
   "metadata": {},
   "outputs": [
    {
     "data": {
      "text/plain": [
       "'ab'"
      ]
     },
     "execution_count": 43,
     "metadata": {},
     "output_type": "execute_result"
    }
   ],
   "source": [
    "\"a\"+\"b\""
   ]
  },
  {
   "cell_type": "code",
   "execution_count": 45,
   "id": "913f447d",
   "metadata": {},
   "outputs": [
    {
     "data": {
      "text/plain": [
       "'56'"
      ]
     },
     "execution_count": 45,
     "metadata": {},
     "output_type": "execute_result"
    }
   ],
   "source": [
    "str(5)+str(6)"
   ]
  },
  {
   "cell_type": "code",
   "execution_count": 46,
   "id": "6966201a",
   "metadata": {},
   "outputs": [],
   "source": [
    "mydict = {}\n",
    "\n",
    "mydict['prod1']={'K'+str(var):var+100 if var >3 else var+500 for var in range(1,6)}\n",
    "mydict['prod2']=[v+100 for v in range(1,15,3)]"
   ]
  },
  {
   "cell_type": "code",
   "execution_count": 47,
   "id": "68af48f3",
   "metadata": {},
   "outputs": [
    {
     "data": {
      "text/plain": [
       "{'prod1': {'K1': 501, 'K2': 502, 'K3': 503, 'K4': 104, 'K5': 105},\n",
       " 'prod2': [101, 104, 107, 110, 113]}"
      ]
     },
     "execution_count": 47,
     "metadata": {},
     "output_type": "execute_result"
    }
   ],
   "source": [
    "mydict"
   ]
  },
  {
   "cell_type": "code",
   "execution_count": 48,
   "id": "12520238",
   "metadata": {},
   "outputs": [
    {
     "data": {
      "text/plain": [
       "dict_items([('K1', 501), ('K2', 502), ('K3', 503), ('K4', 104), ('K5', 105)])"
      ]
     },
     "execution_count": 48,
     "metadata": {},
     "output_type": "execute_result"
    }
   ],
   "source": [
    "{'K'+str(var):var+100 if var >3 else var+500 for var in range(1,6)}.items()"
   ]
  },
  {
   "cell_type": "code",
   "execution_count": 49,
   "id": "1921695d",
   "metadata": {},
   "outputs": [
    {
     "data": {
      "text/plain": [
       "dict_keys(['K1', 'K2', 'K3', 'K4', 'K5'])"
      ]
     },
     "execution_count": 49,
     "metadata": {},
     "output_type": "execute_result"
    }
   ],
   "source": [
    "{'K'+str(var):var+100 if var >3 else var+500 for var in range(1,6)}.keys()"
   ]
  },
  {
   "cell_type": "code",
   "execution_count": 50,
   "id": "e0174133",
   "metadata": {},
   "outputs": [
    {
     "data": {
      "text/plain": [
       "dict_values([501, 502, 503, 104, 105])"
      ]
     },
     "execution_count": 50,
     "metadata": {},
     "output_type": "execute_result"
    }
   ],
   "source": [
    "{'K'+str(var):var+100 if var >3 else var+500 for var in range(1,6)}.values()"
   ]
  },
  {
   "cell_type": "code",
   "execution_count": 51,
   "id": "4782d043",
   "metadata": {},
   "outputs": [
    {
     "data": {
      "text/plain": [
       "True"
      ]
     },
     "execution_count": 51,
     "metadata": {},
     "output_type": "execute_result"
    }
   ],
   "source": [
    "'K3' in {'K'+str(var):var+100 if var >3 else var+500 for var in range(1,6)}"
   ]
  },
  {
   "cell_type": "code",
   "execution_count": null,
   "id": "6e29f7c1",
   "metadata": {},
   "outputs": [],
   "source": [
    "# generator\n",
    "# -------------\n",
    "function iterate over a sequence of values\n",
    "         -------------------------\n",
    "             yields values one at a time\n",
    "       \n",
    "    we can use multiple yield - pausing its state between yields\n",
    "    \n",
    "function return value // exit from definition\n",
    "function yield value //state of the function is saved ->resume ..."
   ]
  },
  {
   "cell_type": "code",
   "execution_count": 54,
   "id": "ee14dc90",
   "metadata": {},
   "outputs": [
    {
     "name": "stdout",
     "output_type": "stream",
     "text": [
      "<class 'function'> <class 'function'>\n",
      "<class 'int'> <class 'generator'>\n"
     ]
    }
   ],
   "source": [
    "def f1():\n",
    "    return 10\n",
    "\n",
    "def f2():\n",
    "    yield 10\n",
    "    \n",
    "print(type(f1),type(f2))\n",
    "print(type(f1()),type(f2()))"
   ]
  },
  {
   "cell_type": "code",
   "execution_count": 55,
   "id": "4cf4380a",
   "metadata": {},
   "outputs": [
    {
     "data": {
      "text/plain": [
       "10"
      ]
     },
     "execution_count": 55,
     "metadata": {},
     "output_type": "execute_result"
    }
   ],
   "source": [
    "def f1():\n",
    "    return 10  # exit from function definition\n",
    "    print(\"This line won't display\")\n",
    "    return 20\n",
    "\n",
    "f1()"
   ]
  },
  {
   "cell_type": "code",
   "execution_count": 56,
   "id": "08ba4b9c",
   "metadata": {},
   "outputs": [],
   "source": [
    "def f2():\n",
    "    yield 10\n",
    "    print(\"This line will display\")\n",
    "    yield 20\n",
    "    yield 30,40,50\n",
    "    yield \"D1\",[\"D2\",\"D2\"]"
   ]
  },
  {
   "cell_type": "code",
   "execution_count": 57,
   "id": "80d7efaf",
   "metadata": {},
   "outputs": [
    {
     "data": {
      "text/plain": [
       "<generator object f2 at 0x000001CA0193C640>"
      ]
     },
     "execution_count": 57,
     "metadata": {},
     "output_type": "execute_result"
    }
   ],
   "source": [
    "f2()"
   ]
  },
  {
   "cell_type": "code",
   "execution_count": null,
   "id": "3f0e70a4",
   "metadata": {},
   "outputs": [],
   "source": [
    "# next(genobject) ->value .... StopIteration   \n",
    "\n",
    "# <or>\n",
    "# for iterable      for variable in genObject:\n",
    "#                           ...   # we won't get stopiteration \n",
    "\n",
    "# <or>\n",
    "\n",
    "# we can type cast to list     ->  list(genObject)"
   ]
  },
  {
   "cell_type": "code",
   "execution_count": 58,
   "id": "ee54e91d",
   "metadata": {},
   "outputs": [],
   "source": [
    "genobj = f2()"
   ]
  },
  {
   "cell_type": "code",
   "execution_count": 59,
   "id": "82d7398a",
   "metadata": {},
   "outputs": [
    {
     "name": "stdout",
     "output_type": "stream",
     "text": [
      "10\n",
      "This line will display\n",
      "20\n",
      "(30, 40, 50)\n",
      "('D1', ['D2', 'D2'])\n"
     ]
    },
    {
     "ename": "StopIteration",
     "evalue": "",
     "output_type": "error",
     "traceback": [
      "\u001b[1;31m---------------------------------------------------------------------------\u001b[0m",
      "\u001b[1;31mStopIteration\u001b[0m                             Traceback (most recent call last)",
      "Cell \u001b[1;32mIn[59], line 5\u001b[0m\n\u001b[0;32m      3\u001b[0m \u001b[38;5;28mprint\u001b[39m(\u001b[38;5;28mnext\u001b[39m(genobj))\n\u001b[0;32m      4\u001b[0m \u001b[38;5;28mprint\u001b[39m(\u001b[38;5;28mnext\u001b[39m(genobj))\n\u001b[1;32m----> 5\u001b[0m \u001b[38;5;28mprint\u001b[39m(\u001b[38;5;28mnext\u001b[39m(genobj))\n",
      "\u001b[1;31mStopIteration\u001b[0m: "
     ]
    }
   ],
   "source": [
    "print(next(genobj))\n",
    "print(next(genobj))\n",
    "print(next(genobj))\n",
    "print(next(genobj))\n",
    "print(next(genobj))"
   ]
  },
  {
   "cell_type": "code",
   "execution_count": 60,
   "id": "fc8348a2",
   "metadata": {},
   "outputs": [],
   "source": [
    "genobj = f2()"
   ]
  },
  {
   "cell_type": "code",
   "execution_count": 61,
   "id": "067a866f",
   "metadata": {},
   "outputs": [
    {
     "name": "stdout",
     "output_type": "stream",
     "text": [
      "10\n",
      "This line will display\n",
      "20\n",
      "(30, 40, 50)\n",
      "('D1', ['D2', 'D2'])\n"
     ]
    }
   ],
   "source": [
    "for var in genobj:\n",
    "    print(var)"
   ]
  },
  {
   "cell_type": "code",
   "execution_count": 62,
   "id": "48e91209",
   "metadata": {},
   "outputs": [
    {
     "name": "stdout",
     "output_type": "stream",
     "text": [
      "This line will display\n"
     ]
    },
    {
     "data": {
      "text/plain": [
       "[10, 20, (30, 40, 50), ('D1', ['D2', 'D2'])]"
      ]
     },
     "execution_count": 62,
     "metadata": {},
     "output_type": "execute_result"
    }
   ],
   "source": [
    "genobj = f2()\n",
    "list(genobj)"
   ]
  },
  {
   "cell_type": "code",
   "execution_count": 63,
   "id": "c0fa095c",
   "metadata": {},
   "outputs": [],
   "source": [
    "def mywalk():\n",
    "    yield \"D1\",[\"Sub1\",\"Sub2\",\"Sub3\"],[\"F1\",\"F2\",\"F3\"]"
   ]
  },
  {
   "cell_type": "code",
   "execution_count": 64,
   "id": "01e66d2c",
   "metadata": {},
   "outputs": [
    {
     "data": {
      "text/plain": [
       "[('D1', ['Sub1', 'Sub2', 'Sub3'], ['F1', 'F2', 'F3'])]"
      ]
     },
     "execution_count": 64,
     "metadata": {},
     "output_type": "execute_result"
    }
   ],
   "source": [
    "list(mywalk())"
   ]
  },
  {
   "cell_type": "markdown",
   "id": "06944fc1",
   "metadata": {},
   "source": [
    "map\n",
    "---//reduce block style code\n",
    "  // omit for loop\n",
    "\n",
    "map(function,<collection>) -> generator_result \n",
    "      |            |\n",
    "    we can use    comprehension <or> iterable \n",
    "      lambda\n",
    " ----//used arithmetic,relational,logical...\n",
    "    \n",
    "filter(function,<collection>) ->generator_result\n",
    "-----//filter only - filter true value only\n",
    "     //not used for arithmetic "
   ]
  },
  {
   "cell_type": "code",
   "execution_count": 65,
   "id": "40dd56a7",
   "metadata": {},
   "outputs": [
    {
     "data": {
      "text/plain": [
       "[101, 102, 103, 104, 105]"
      ]
     },
     "execution_count": 65,
     "metadata": {},
     "output_type": "execute_result"
    }
   ],
   "source": [
    "L = []\n",
    "\n",
    "def f1(a):\n",
    "    return a+100\n",
    "\n",
    "for var in range(1,6):\n",
    "    r = f1(var)\n",
    "    L.append(r)\n",
    "    \n",
    "L"
   ]
  },
  {
   "cell_type": "code",
   "execution_count": 67,
   "id": "dd0e446b",
   "metadata": {},
   "outputs": [
    {
     "data": {
      "text/plain": [
       "[101, 102, 103, 104, 105]"
      ]
     },
     "execution_count": 67,
     "metadata": {},
     "output_type": "execute_result"
    }
   ],
   "source": [
    "list(map(lambda a:a+100,range(1,6)))"
   ]
  },
  {
   "cell_type": "code",
   "execution_count": 68,
   "id": "eef57f0c",
   "metadata": {},
   "outputs": [
    {
     "data": {
      "text/plain": [
       "[False, False, False, True, True]"
      ]
     },
     "execution_count": 68,
     "metadata": {},
     "output_type": "execute_result"
    }
   ],
   "source": [
    "list(map(lambda a:a>3,range(1,6)))"
   ]
  },
  {
   "cell_type": "code",
   "execution_count": 69,
   "id": "8acd4957",
   "metadata": {},
   "outputs": [
    {
     "data": {
      "text/plain": [
       "[False, False, False, True, True]"
      ]
     },
     "execution_count": 69,
     "metadata": {},
     "output_type": "execute_result"
    }
   ],
   "source": [
    "L = []\n",
    "\n",
    "def f1(a):\n",
    "    if(a>3):\n",
    "        return True\n",
    "    else:\n",
    "        return False\n",
    "\n",
    "for var in range(1,6):\n",
    "    r = f1(var)\n",
    "    L.append(r)\n",
    "    \n",
    "L"
   ]
  },
  {
   "cell_type": "code",
   "execution_count": 70,
   "id": "3066c88d",
   "metadata": {},
   "outputs": [
    {
     "data": {
      "text/plain": [
       "[4, 5]"
      ]
     },
     "execution_count": 70,
     "metadata": {},
     "output_type": "execute_result"
    }
   ],
   "source": [
    "list(filter(lambda a:a>3,range(1,6)))"
   ]
  },
  {
   "cell_type": "code",
   "execution_count": 71,
   "id": "9f115204",
   "metadata": {},
   "outputs": [
    {
     "data": {
      "text/plain": [
       "<_io.TextIOWrapper name='E:\\\\emp.csv' mode='r' encoding='cp1252'>"
      ]
     },
     "execution_count": 71,
     "metadata": {},
     "output_type": "execute_result"
    }
   ],
   "source": [
    "open('E:\\\\emp.csv')        "
   ]
  },
  {
   "cell_type": "code",
   "execution_count": 72,
   "id": "7a04ab7c",
   "metadata": {},
   "outputs": [
    {
     "data": {
      "text/plain": [
       "['eid,ename,edept,eplace,ecost\\n',\n",
       " '101,raj,sales,pune,1000\\n',\n",
       " '102,leo,prod,bglore,2000\\n',\n",
       " '103,paul,HR,chennai,3000\\n',\n",
       " '104,anu,hr,hyderabad,4000\\n',\n",
       " '456,kumar,sales,bglore,3000\\n',\n",
       " '105,zion,Hr,mumbai,5000\\n',\n",
       " '106,bibu,sales,bglore,1450\\n',\n",
       " '107,theeb,sales,noida,4590\\n',\n",
       " '108,bibu,sales,bglore,5000\\n',\n",
       " '113,kumar,prod,hyderabad,5423']"
      ]
     },
     "execution_count": 72,
     "metadata": {},
     "output_type": "execute_result"
    }
   ],
   "source": [
    "fobj = open('E:\\\\emp.csv')\n",
    "list(fobj)"
   ]
  },
  {
   "cell_type": "code",
   "execution_count": 74,
   "id": "764ad742",
   "metadata": {},
   "outputs": [
    {
     "name": "stdout",
     "output_type": "stream",
     "text": [
      "eid,ename,edept,eplace,ecost\n",
      "101,raj,sales,pune,1000\n",
      "102,leo,prod,bglore,2000\n",
      "103,paul,HR,chennai,3000\n",
      "104,anu,hr,hyderabad,4000\n",
      "456,kumar,sales,bglore,3000\n",
      "105,zion,Hr,mumbai,5000\n",
      "106,bibu,sales,bglore,1450\n",
      "107,theeb,sales,noida,4590\n",
      "108,bibu,sales,bglore,5000\n",
      "113,kumar,prod,hyderabad,5423\n"
     ]
    }
   ],
   "source": [
    "fobj = open('E:\\\\emp.csv')\n",
    "for var in fobj:\n",
    "    print(var.strip())"
   ]
  },
  {
   "cell_type": "code",
   "execution_count": 75,
   "id": "80ae56ff",
   "metadata": {},
   "outputs": [
    {
     "data": {
      "text/plain": [
       "['eid,ename,edept,eplace,ecost\\n',\n",
       " '101,raj,sales,pune,1000\\n',\n",
       " '102,leo,prod,bglore,2000\\n',\n",
       " '103,paul,HR,chennai,3000\\n',\n",
       " '104,anu,hr,hyderabad,4000\\n',\n",
       " '456,kumar,sales,bglore,3000\\n',\n",
       " '105,zion,Hr,mumbai,5000\\n',\n",
       " '106,bibu,sales,bglore,1450\\n',\n",
       " '107,theeb,sales,noida,4590\\n',\n",
       " '108,bibu,sales,bglore,5000\\n',\n",
       " '113,kumar,prod,hyderabad,5423']"
      ]
     },
     "execution_count": 75,
     "metadata": {},
     "output_type": "execute_result"
    }
   ],
   "source": [
    "list(map(lambda a:a,open('E:\\\\emp.csv')))"
   ]
  },
  {
   "cell_type": "code",
   "execution_count": 76,
   "id": "55a7c8cf",
   "metadata": {},
   "outputs": [
    {
     "data": {
      "text/plain": [
       "{'CSV': ['eid,ename,edept,eplace,ecost\\n',\n",
       "  '101,raj,sales,pune,1000\\n',\n",
       "  '102,leo,prod,bglore,2000\\n',\n",
       "  '103,paul,HR,chennai,3000\\n',\n",
       "  '104,anu,hr,hyderabad,4000\\n',\n",
       "  '456,kumar,sales,bglore,3000\\n',\n",
       "  '105,zion,Hr,mumbai,5000\\n',\n",
       "  '106,bibu,sales,bglore,1450\\n',\n",
       "  '107,theeb,sales,noida,4590\\n',\n",
       "  '108,bibu,sales,bglore,5000\\n',\n",
       "  '113,kumar,prod,hyderabad,5423']}"
      ]
     },
     "execution_count": 76,
     "metadata": {},
     "output_type": "execute_result"
    }
   ],
   "source": [
    "d={}\n",
    "d['CSV']=list(map(lambda a:a,open('E:\\\\emp.csv')))\n",
    "d"
   ]
  },
  {
   "cell_type": "code",
   "execution_count": 79,
   "id": "f814deb5",
   "metadata": {},
   "outputs": [
    {
     "data": {
      "text/plain": [
       "[(0, 'a'), (1, 'b'), (2, 'c')]"
      ]
     },
     "execution_count": 79,
     "metadata": {},
     "output_type": "execute_result"
    }
   ],
   "source": [
    "#help(enumerate)\n",
    "\n",
    "enumerate(collection,start=0)\n",
    "                           |___ we can change\n",
    "list(enumerate('abc'))"
   ]
  },
  {
   "cell_type": "code",
   "execution_count": 80,
   "id": "5fc769e2",
   "metadata": {},
   "outputs": [
    {
     "data": {
      "text/plain": [
       "[(5, 'a'), (6, 'b'), (7, 'c')]"
      ]
     },
     "execution_count": 80,
     "metadata": {},
     "output_type": "execute_result"
    }
   ],
   "source": [
    "list(enumerate('abc',5))"
   ]
  },
  {
   "cell_type": "code",
   "execution_count": 81,
   "id": "947156ba",
   "metadata": {},
   "outputs": [
    {
     "name": "stdout",
     "output_type": "stream",
     "text": [
      "(0, 'D1')\n",
      "(1, 'D2')\n",
      "(2, 'D3')\n",
      "(3, 'D4')\n",
      "(4, 'D5')\n"
     ]
    }
   ],
   "source": [
    "L=['D1','D2','D3','D4','D5']\n",
    "\n",
    "for var in enumerate(L):\n",
    "    print(var)"
   ]
  },
  {
   "cell_type": "code",
   "execution_count": 82,
   "id": "85307741",
   "metadata": {},
   "outputs": [
    {
     "name": "stdout",
     "output_type": "stream",
     "text": [
      "(3, 'D1')\n",
      "(4, 'D2')\n",
      "(5, 'D3')\n",
      "(6, 'D4')\n",
      "(7, 'D5')\n"
     ]
    }
   ],
   "source": [
    "L=['D1','D2','D3','D4','D5']\n",
    "\n",
    "for var in enumerate(L,3):\n",
    "    print(var)"
   ]
  },
  {
   "cell_type": "code",
   "execution_count": 83,
   "id": "3a2a707a",
   "metadata": {},
   "outputs": [
    {
     "name": "stdout",
     "output_type": "stream",
     "text": [
      "(1, 'D1')\n",
      "(2, 'D2')\n",
      "(3, 'D3')\n",
      "(4, 'D4')\n",
      "(5, 'D5')\n"
     ]
    }
   ],
   "source": [
    "L=['D1','D2','D3','D4','D5']\n",
    "\n",
    "for var in enumerate(L,1):\n",
    "    print(var)"
   ]
  },
  {
   "cell_type": "code",
   "execution_count": 84,
   "id": "4ecf2806",
   "metadata": {},
   "outputs": [
    {
     "name": "stdout",
     "output_type": "stream",
     "text": [
      "1 - D1\n",
      "2 - D2\n",
      "3 - D3\n",
      "4 - D4\n",
      "5 - D5\n"
     ]
    }
   ],
   "source": [
    "L=['D1','D2','D3','D4','D5']\n",
    "\n",
    "for var in enumerate(L,1):\n",
    "    v1,v2 = var # multiple initialization\n",
    "    print(f'{v1} - {v2}')"
   ]
  },
  {
   "cell_type": "markdown",
   "id": "a31dd157",
   "metadata": {},
   "source": [
    "# Task\n",
    "open sysinfo.log file \n",
    "https://github.com/Palanikarthikeyan/DataScience__Science-Adv-/blob/main/sysinfo.log\n",
    "|\n",
    "use enumerate - set index number 1\n",
    "|\n",
    "filter line number 10 - 15 line contents "
   ]
  },
  {
   "cell_type": "code",
   "execution_count": 86,
   "id": "6c0bb7f3",
   "metadata": {},
   "outputs": [
    {
     "data": {
      "text/plain": [
       "<enumerate at 0x1ca01a18720>"
      ]
     },
     "execution_count": 86,
     "metadata": {},
     "output_type": "execute_result"
    }
   ],
   "source": [
    "enumerate(open('sysinfo.log'),1)"
   ]
  },
  {
   "cell_type": "code",
   "execution_count": 91,
   "id": "a189ebf8",
   "metadata": {},
   "outputs": [
    {
     "name": "stdout",
     "output_type": "stream",
     "text": [
      "10 host07:10.20.30.45:98.45,99,32,90,120,400,99,80.44\n",
      "11 host08:10.20.30.46:98.25,99,32,90,120,200,99,90.45\n",
      "12 \n",
      "13 \n",
      "14 host09:10.20.30.47:88.45,99,32,90,120,500,99,80.44\n",
      "15 host09:10.20.30.47:98.75,99,32,90,120,200,99,80.43\n"
     ]
    }
   ],
   "source": [
    "for var in enumerate(open('sysinfo.log'),1):\n",
    "    line,data = var \n",
    "    if(line >=10 and line <=15):\n",
    "        print(line,data.strip())"
   ]
  },
  {
   "cell_type": "code",
   "execution_count": 92,
   "id": "a50e2811",
   "metadata": {},
   "outputs": [
    {
     "name": "stdout",
     "output_type": "stream",
     "text": [
      "10 host07:10.20.30.45:98.45,99,32,90,120,400,99,80.44\n",
      "11 host08:10.20.30.46:98.25,99,32,90,120,200,99,90.45\n",
      "14 host09:10.20.30.47:88.45,99,32,90,120,500,99,80.44\n",
      "15 host09:10.20.30.47:98.75,99,32,90,120,200,99,80.43\n"
     ]
    }
   ],
   "source": [
    "import re\n",
    "# ^$ - empty line\n",
    "for var in enumerate(open('sysinfo.log'),1):\n",
    "    line,data = var \n",
    "    if(line >=10 and line <=15):\n",
    "        if not(re.search('^$',data)): # ignore empty lines \n",
    "            print(line,data.strip())"
   ]
  },
  {
   "cell_type": "markdown",
   "id": "8fdf36a7",
   "metadata": {},
   "source": [
    "python ------------------------ database \n",
    "--------                        -----------\n",
    " DS+function                        SQL\n",
    " class,object\n",
    " \n",
    " s='select *from table'              select *from table //SQL\n",
    "   |__________________|                   |\n",
    "     |->string                            |\n",
    "                                          |\n",
    "     ----------------<--------------------|\n",
    "         python_understanding_format\n",
    "              str,list,tuple,dict\n",
    "               generator ..."
   ]
  },
  {
   "cell_type": "markdown",
   "id": "a99a33a3",
   "metadata": {},
   "source": [
    "E:\\D2>python\n",
    "Python 3.13.1 (tags/v3.13.1:0671451, Dec  3 2024, 19:06:28) [MSC v.1942 64 bit (AMD64)] on win32\n",
    "Type \"help\", \"copyright\", \"credits\" or \"license\" for more information.\n",
    ">>>\n",
    ">>> import sqlite3\n",
    ">>> sqlite3.connect\n",
    "<built-in function connect>\n",
    ">>>\n",
    ">>> sqlite3.connect(\"products.db\")\n",
    "<sqlite3.Connection object at 0x00000274B1372E30>\n",
    ">>>\n",
    ">>> con  = sqlite3.connect(\"products.db\")\n",
    ">>> con.cursor\n",
    "<built-in method cursor of sqlite3.Connection object at 0x00000274B1372F20>\n",
    ">>>\n",
    ">>> con.cursor()\n",
    "<sqlite3.Cursor object at 0x00000274B1458840>\n",
    ">>>\n",
    ">>> sth = con.cursor()\n",
    ">>>\n",
    ">>> sth.execute(\"create table pT (pID INT,pName Text,pCost INT)\")\n",
    "<sqlite3.Cursor object at 0x00000274B1417E40>\n",
    ">>>\n",
    ">>> sth.execute(\"insert into pT(pID,pName,pCost) values(101,'prodA',1000)\")\n",
    "<sqlite3.Cursor object at 0x00000274B1417E40>\n",
    ">>>\n",
    ">>> sth.execute(\"insert into pT(pID,pName,pCost) values(102,'prodB',2000)\")\n",
    "<sqlite3.Cursor object at 0x00000274B1417E40>\n",
    ">>>\n",
    ">>> va=103\n",
    ">>> vb='prodC'\n",
    ">>> vc=3000\n",
    ">>>\n",
    ">>> sth.execute(\"insert into pT(pID,pName,pCost) values(?,?,?)\",(va,vb,vc))\n",
    "<sqlite3.Cursor object at 0x00000274B1417E40>\n",
    ">>>\n",
    ">>> sth.execute(\"select *from pT\")\n",
    "<sqlite3.Cursor object at 0x00000274B1417E40>\n",
    ">>>\n",
    ">>> sth.fetchone()\n",
    "(101, 'prodA', 1000)\n",
    ">>> sth.fetchone()\n",
    "(102, 'prodB', 2000)\n",
    ">>> sth.fetchone()\n",
    "(103, 'prodC', 3000)\n",
    ">>> sth.fetchone()\n",
    ">>>\n",
    ">>> sth.execute(\"select *from pT\")\n",
    "<sqlite3.Cursor object at 0x00000274B1417E40>\n",
    ">>>\n",
    ">>> sth.fetchall()\n",
    "[(101, 'prodA', 1000), (102, 'prodB', 2000), (103, 'prodC', 3000)]\n",
    ">>>\n",
    ">>>\n",
    ">>> sth.execute(\"select *from pT\")\n",
    "<sqlite3.Cursor object at 0x00000274B1417E40>\n",
    ">>>\n",
    ">>> list(sth) # generator\n",
    "[(101, 'prodA', 1000), (102, 'prodB', 2000), (103, 'prodC', 3000)]\n",
    ">>> con.commit()\n",
    ">>> con.close()\n",
    ">>>\n",
    ">>>\n",
    ">>> import sqlite3\n",
    ">>> sqlite3.connect(\"products.db\")\n",
    "<sqlite3.Connection object at 0x00000274B1373010>\n",
    ">>>\n",
    ">>> db_con = sqlite3.connect(\"products.db\")\n",
    ">>> sth=db_con.cursor()\n",
    ">>> sth.execute(\"select *from pT\")\n",
    "<sqlite3.Cursor object at 0x00000274B1459940>\n",
    ">>> list(sth)\n",
    "[(101, 'prodA', 1000), (102, 'prodB', 2000), (103, 'prodC', 3000)]\n",
    ">>>"
   ]
  },
  {
   "cell_type": "code",
   "execution_count": 93,
   "id": "95f45bf6",
   "metadata": {},
   "outputs": [
    {
     "data": {
      "text/plain": [
       "<sqlite3.Cursor at 0x1ca01a039c0>"
      ]
     },
     "execution_count": 93,
     "metadata": {},
     "output_type": "execute_result"
    }
   ],
   "source": [
    "import sqlite3\n",
    "conn = sqlite3.connect('Test1.db')\n",
    "sth = conn.cursor()\n",
    "sth.execute(\"create table T1(f1 INT,f2 Text)\")\n",
    "sth.execute(\"insert into T1(f1,f2) values(101,'Data1')\")\n",
    "sth.execute(\"insert into T1(f1,f2) values(102,'Data2')\")\n",
    "sth.execute(\"insert into T1(f1,f2) values(103,'Data3')\")\n",
    "sth.execute(\"insert into T1(f1,f2) values(104,'Data4')\")"
   ]
  },
  {
   "cell_type": "code",
   "execution_count": 94,
   "id": "cf8aa54d",
   "metadata": {},
   "outputs": [
    {
     "data": {
      "text/plain": [
       "<sqlite3.Cursor at 0x1ca01a039c0>"
      ]
     },
     "execution_count": 94,
     "metadata": {},
     "output_type": "execute_result"
    }
   ],
   "source": [
    "sth.execute(\"select *from T1\")"
   ]
  },
  {
   "cell_type": "code",
   "execution_count": 95,
   "id": "4b252783",
   "metadata": {},
   "outputs": [
    {
     "data": {
      "text/plain": [
       "[(101, 'Data1'), (102, 'Data2'), (103, 'Data3'), (104, 'Data4')]"
      ]
     },
     "execution_count": 95,
     "metadata": {},
     "output_type": "execute_result"
    }
   ],
   "source": [
    "list(sth)"
   ]
  },
  {
   "cell_type": "code",
   "execution_count": 96,
   "id": "be8c232d",
   "metadata": {},
   "outputs": [
    {
     "data": {
      "text/plain": [
       "<sqlite3.Cursor at 0x1ca01a039c0>"
      ]
     },
     "execution_count": 96,
     "metadata": {},
     "output_type": "execute_result"
    }
   ],
   "source": [
    "sth.execute(\"select *from T1 where f1 >102\")"
   ]
  },
  {
   "cell_type": "code",
   "execution_count": 97,
   "id": "f6f23171",
   "metadata": {},
   "outputs": [
    {
     "data": {
      "text/plain": [
       "[(103, 'Data3'), (104, 'Data4')]"
      ]
     },
     "execution_count": 97,
     "metadata": {},
     "output_type": "execute_result"
    }
   ],
   "source": [
    "list(sth)"
   ]
  },
  {
   "cell_type": "code",
   "execution_count": 98,
   "id": "66411721",
   "metadata": {},
   "outputs": [],
   "source": [
    "conn.close()"
   ]
  },
  {
   "cell_type": "code",
   "execution_count": 100,
   "id": "8d3c2b22",
   "metadata": {},
   "outputs": [
    {
     "data": {
      "text/plain": [
       "<sqlite3.Cursor at 0x1ca01a03840>"
      ]
     },
     "execution_count": 100,
     "metadata": {},
     "output_type": "execute_result"
    }
   ],
   "source": [
    "db_con = sqlite3.connect('Test1.db')\n",
    "sth = db_con.cursor()\n",
    "sth.execute(\"select *from T1\")"
   ]
  },
  {
   "cell_type": "code",
   "execution_count": 101,
   "id": "f96c361d",
   "metadata": {},
   "outputs": [
    {
     "data": {
      "text/plain": [
       "[]"
      ]
     },
     "execution_count": 101,
     "metadata": {},
     "output_type": "execute_result"
    }
   ],
   "source": [
    "list(sth)"
   ]
  },
  {
   "cell_type": "code",
   "execution_count": null,
   "id": "ece9c8ff",
   "metadata": {},
   "outputs": [],
   "source": [
    "# commit() was not used "
   ]
  },
  {
   "cell_type": "code",
   "execution_count": null,
   "id": "ce469098",
   "metadata": {},
   "outputs": [],
   "source": [
    "enumerate(collection,indexNumber)\n",
    "zip(collection1,collection2,....) - combined - Combine multiple iterables element by element"
   ]
  },
  {
   "cell_type": "code",
   "execution_count": 102,
   "id": "f2e062e7",
   "metadata": {},
   "outputs": [
    {
     "data": {
      "text/plain": [
       "<zip at 0x1ca01a2fac0>"
      ]
     },
     "execution_count": 102,
     "metadata": {},
     "output_type": "execute_result"
    }
   ],
   "source": [
    "zip(['sales','prod','Qa','CRM'],[101,102,103,104])"
   ]
  },
  {
   "cell_type": "code",
   "execution_count": 103,
   "id": "1932467f",
   "metadata": {},
   "outputs": [
    {
     "data": {
      "text/plain": [
       "[('sales', 101), ('prod', 102), ('Qa', 103), ('CRM', 104)]"
      ]
     },
     "execution_count": 103,
     "metadata": {},
     "output_type": "execute_result"
    }
   ],
   "source": [
    "zipped_obj = zip(['sales','prod','Qa','CRM'],[101,102,103,104])\n",
    "\n",
    "list(zipped_obj)"
   ]
  },
  {
   "cell_type": "code",
   "execution_count": 104,
   "id": "6c4dfae1",
   "metadata": {},
   "outputs": [
    {
     "name": "stdout",
     "output_type": "stream",
     "text": [
      "('sales', 101)\n",
      "('prod', 102)\n",
      "('Qa', 103)\n",
      "('CRM', 104)\n"
     ]
    }
   ],
   "source": [
    "zipped_obj = zip(['sales','prod','Qa','CRM'],[101,102,103,104])\n",
    "for var in zipped_obj:\n",
    "    print(var)"
   ]
  },
  {
   "cell_type": "code",
   "execution_count": 105,
   "id": "f5d8ea45",
   "metadata": {},
   "outputs": [
    {
     "data": {
      "text/plain": [
       "<zip at 0x1ca01a25dc0>"
      ]
     },
     "execution_count": 105,
     "metadata": {},
     "output_type": "execute_result"
    }
   ],
   "source": [
    "zip(['D1','D2','D3'])"
   ]
  },
  {
   "cell_type": "code",
   "execution_count": 106,
   "id": "55c179f9",
   "metadata": {},
   "outputs": [
    {
     "data": {
      "text/plain": [
       "[('D1',), ('D2',), ('D3',)]"
      ]
     },
     "execution_count": 106,
     "metadata": {},
     "output_type": "execute_result"
    }
   ],
   "source": [
    "list(zip(['D1','D2','D3']))"
   ]
  },
  {
   "cell_type": "code",
   "execution_count": 107,
   "id": "a4c6a552",
   "metadata": {},
   "outputs": [
    {
     "data": {
      "text/plain": [
       "[(0, 'D1'), (1, 'D2'), (2, 'D3')]"
      ]
     },
     "execution_count": 107,
     "metadata": {},
     "output_type": "execute_result"
    }
   ],
   "source": [
    "list(enumerate(['D1','D2','D3']))"
   ]
  },
  {
   "cell_type": "code",
   "execution_count": null,
   "id": "e26229f8",
   "metadata": {},
   "outputs": [],
   "source": [
    "Data Source \n",
    "------------\n",
    " webcontent\n",
    " ----------\n",
    "        ->page\n",
    "        ->data\n",
    "        \n",
    "Client\n",
    "   input_ -> [empID] --------------->serverCode ----->execute\n",
    "               Emp Name                                   |\n",
    "               Emp DOB                                    |\n",
    "               Emp Dept           ------------<-----------\n",
    "                -------------//Data            webpage format_\n",
    "                \n",
    "webpage = <html>+data\n",
    "          ..... --------//data only\n",
    "            |     |\n",
    "            |   json \n",
    "            |\n",
    "            webpage - webscraping - clean the tags - get the data only\n",
    "            \n",
    "response1- webpage                     Vs              response2 - data \n",
    "Content-Type: text/html                                Content-Type: application/json\n",
    "             \n",
    "<html>                                               [ename,edob,eplace]\n",
    "<head>                                                         <or>\n",
    "<title>...</title>                                   {eid:[ename,edob,eplace]}\n",
    "<body>                                              -----------------------------//Data only\n",
    "<p>Emp name:{{ename}}</p>\n",
    "<h1>Emp DOB:{{edob}}</h1>\n",
    "<h2>Emp Place:{{eplace}}</h2>\n",
    "..\n",
    "</html>\n",
    "\n",
    "json \n",
    "-----\n",
    " ->store and exchange the data between webapplications\n",
    " ->Dashboard --------->Customer/Team\n",
    "   ---------\n",
    "   ---------\n",
    "     |--->json ---------> upload the json file ->Dashboard is ready\n",
    "    \n",
    "In python ----------- In Json\n",
    "int                    int\n",
    "float                  float\n",
    "str                    str\n",
    "list/tuple ----------> Array\n",
    "---                    -----//mutable\n",
    "|_________________________|\n",
    "\n",
    "dict -----------------> object//mutable\n",
    "\n",
    "True,False ------------> true,false\n",
    "None --------------------> null\n",
    "\n",
    "import json <== builtin module\n",
    "\n",
    "json.dumps(<python_str>) - Convert from python to json\n",
    "\n",
    "json.loads(<json_str>) - Convert from json to python\n"
   ]
  },
  {
   "cell_type": "code",
   "execution_count": 108,
   "id": "539f3a77",
   "metadata": {},
   "outputs": [
    {
     "name": "stdout",
     "output_type": "stream",
     "text": [
      "<class 'dict'>\n"
     ]
    }
   ],
   "source": [
    "import json\n",
    "product_app = {\"pid\":['p101','pA',1000]}\n",
    "print(type(product_app))"
   ]
  },
  {
   "cell_type": "code",
   "execution_count": 109,
   "id": "4f9d0f21",
   "metadata": {},
   "outputs": [
    {
     "data": {
      "text/plain": [
       "'{\"pid\": [\"p101\", \"pA\", 1000]}'"
      ]
     },
     "execution_count": 109,
     "metadata": {},
     "output_type": "execute_result"
    }
   ],
   "source": [
    "json.dumps(product_app) # convert to json object"
   ]
  },
  {
   "cell_type": "code",
   "execution_count": 110,
   "id": "19c2c2d7",
   "metadata": {},
   "outputs": [
    {
     "data": {
      "text/plain": [
       "{'pid': ['p101', 'pA', 1000]}"
      ]
     },
     "execution_count": 110,
     "metadata": {},
     "output_type": "execute_result"
    }
   ],
   "source": [
    "jd = json.dumps(product_app)\n",
    "\n",
    "json.loads(jd) # from json to python"
   ]
  },
  {
   "cell_type": "markdown",
   "id": "be2fba19",
   "metadata": {},
   "source": [
    "import requests \n",
    "requests.get(URL) ->status_code \n",
    "                    --------------> 200 OK  ; != 200 - failed\n",
    "|\n",
    "Header info - URL web header - Type of response ; size; etc.,\n",
    "|\n",
    "download the content -> text - attribute\n"
   ]
  },
  {
   "cell_type": "code",
   "execution_count": 111,
   "id": "3dee1cee",
   "metadata": {},
   "outputs": [
    {
     "data": {
      "text/plain": [
       "<Response [200]>"
      ]
     },
     "execution_count": 111,
     "metadata": {},
     "output_type": "execute_result"
    }
   ],
   "source": [
    "import requests\n",
    "requests.get('https://www.google.com')"
   ]
  },
  {
   "cell_type": "code",
   "execution_count": 112,
   "id": "b891bb1a",
   "metadata": {},
   "outputs": [
    {
     "data": {
      "text/plain": [
       "200"
      ]
     },
     "execution_count": 112,
     "metadata": {},
     "output_type": "execute_result"
    }
   ],
   "source": [
    "r = requests.get('https://www.google.com')\n",
    "r.status_code"
   ]
  },
  {
   "cell_type": "code",
   "execution_count": 113,
   "id": "d8cfa69a",
   "metadata": {},
   "outputs": [
    {
     "data": {
      "text/plain": [
       "{'Date': 'Tue, 11 Mar 2025 09:37:00 GMT', 'Expires': '-1', 'Cache-Control': 'private, max-age=0', 'Content-Type': 'text/html; charset=ISO-8859-1', 'Content-Security-Policy-Report-Only': \"object-src 'none';base-uri 'self';script-src 'nonce-igzHUYY0YXd714uje7pAiA' 'strict-dynamic' 'report-sample' 'unsafe-eval' 'unsafe-inline' https: http:;report-uri https://csp.withgoogle.com/csp/gws/other-hp\", 'Accept-CH': 'Sec-CH-Prefers-Color-Scheme', 'P3P': 'CP=\"This is not a P3P policy! See g.co/p3phelp for more info.\"', 'Content-Encoding': 'gzip', 'Server': 'gws', 'X-XSS-Protection': '0', 'X-Frame-Options': 'SAMEORIGIN', 'Set-Cookie': 'AEC=AVcja2fce2hMKHn0SP6Hw_iveTDJ1kJcT3A0-watLlmfXB_7OSlrpdA1aM8; expires=Sun, 07-Sep-2025 09:37:00 GMT; path=/; domain=.google.com; Secure; HttpOnly; SameSite=lax, NID=522=ib4J9H1q6JlmjpXxxg3q8E30teMEjWfmeVA2WgKeqtR2MP0mYt2886ATQwGhqhdSHVW_9XUbFjxBzeeh5Qo-MDK2DMaO3AJhU38GL6h0gSSP4wG9h2UXg_LHEP98b00Z6pFaqhwvPx_oNZBOlpjzOolEL4hv2XBPYc3zPgEHqihDsspmwe-clU7_sNvGrAFOsSXunrVjcDhMwQ; expires=Wed, 10-Sep-2025 09:37:00 GMT; path=/; domain=.google.com; HttpOnly', 'Alt-Svc': 'h3=\":443\"; ma=2592000,h3-29=\":443\"; ma=2592000', 'Transfer-Encoding': 'chunked'}"
      ]
     },
     "execution_count": 113,
     "metadata": {},
     "output_type": "execute_result"
    }
   ],
   "source": [
    "r.headers"
   ]
  },
  {
   "cell_type": "code",
   "execution_count": 114,
   "id": "719288c5",
   "metadata": {},
   "outputs": [
    {
     "data": {
      "text/plain": [
       "'text/html; charset=ISO-8859-1'"
      ]
     },
     "execution_count": 114,
     "metadata": {},
     "output_type": "execute_result"
    }
   ],
   "source": [
    "r.headers['Content-Type']"
   ]
  },
  {
   "cell_type": "code",
   "execution_count": 116,
   "id": "b0bf462d",
   "metadata": {},
   "outputs": [
    {
     "data": {
      "text/plain": [
       "200"
      ]
     },
     "execution_count": 116,
     "metadata": {},
     "output_type": "execute_result"
    }
   ],
   "source": [
    "r = requests.get('https://api.github.com/repos/hadley/ggplot2/commits')\n",
    "r.status_code"
   ]
  },
  {
   "cell_type": "code",
   "execution_count": 117,
   "id": "adec822c",
   "metadata": {},
   "outputs": [
    {
     "data": {
      "text/plain": [
       "'application/json; charset=utf-8'"
      ]
     },
     "execution_count": 117,
     "metadata": {},
     "output_type": "execute_result"
    }
   ],
   "source": [
    "r.headers['Content-Type']"
   ]
  },
  {
   "cell_type": "code",
   "execution_count": 118,
   "id": "e388eb01",
   "metadata": {},
   "outputs": [
    {
     "data": {
      "text/plain": [
       "'[{\"sha\":\"1800a9af9e2d29292b67a236f654e2bacb524bae\",\"node_id\":\"C_kwDNS-7aACgxODAwYTlhZjllMmQyOTI5MmI2N2EyMzZmNjU0ZTJiYWNiNTI0YmFl\",\"commit\":{\"author\":{\"name\":\"Mathieu YECHE\",\"email\":\"99674960+MathieuYeche@users.noreply.github.com\",\"date\":\"2025-03-07T17:52:01Z\"},\"committer\":{\"name\":\"GitHub\",\"email\":\"noreply@github.com\",\"date\":\"2025-03-07T17:52:01Z\"},\"message\":\"fix_6357 (#6358)\\\\n\\\\nSee https://github.com/tidyverse/ggplot2/issues/6357\",\"tree\":{\"sha\":\"e249ee1f198d5053b2607cd42ba025a804eadb24\",\"url\":\"https://api.github.com/repos/tidyverse/ggplot2/git/trees/e249ee1f198d5053b2607cd42ba025a804eadb24\"},\"url\":\"https://api.github.com/repos/tidyverse/ggplot2/git/commits/1800a9af9e2d29292b67a236f654e2bacb524bae\",\"comment_count\":0,\"verification\":{\"verified\":true,\"reason\":\"valid\",\"signature\":\"-----BEGIN PGP SIGNATURE-----\\\\n\\\\nwsFcBAABCAAQBQJnyzJBCRC1aQ7uu5UhlAAAwQMQAIxOTfdY0oMHgyBpWrT1G918\\\\nuEWNJ30YsNsSYefGGVE6Yo+oJqFMeOcrwiU5cMcbAhFHoXpoP7cNGBzHmL1wzhlC\\\\n2/bzRtCLls+P4CTVlaCXE+3ewUTCi3RreH7GXUBwz5J4L7NeSNk3Ax0+YTMXdnrp\\\\nngan5GxKYy2NRUOjwVg4/ieIYQmQrPCdIM7Onjb57sgU78jOThNREZZTvlNxY7M9\\\\nu+BiOfqxWOwqHxfUPwpYsuMxr666BrbqmsTAjMtbJDTttyMGdFEyZL4Bhm9PEXZf\\\\nGlk2STba8nPVFD4w4J5ik6dZI3WjQDeyZF+T7RwgaDIXqo6hW1lhir6zsfh5S3Og\\\\nUM1+87+J8dls//xo7FvoYVj92BLRf1jMgOP1KCS/tfVlzdsKqQpkV900KJcy9L9Q\\\\nQmkR71lHv5wOrrTcYF2NoxG7MOy3sOzORHzl3iRefnXqunY1pwUuoIKM+2/7xYDh\\\\nFeP6buAyJPD/wkKy8rLcYV39p5TTCx7RjvU/sKCmAQFlMr3BLzCRZwvpc1eJUHm1\\\\neeWLsHv1Fu1QrjZ/8shSt/vyrfQJd2MFAftSOamuWh31DZZohcGMTLatteZ/RDFi\\\\nyS5sYjbgU0O+f4/gKY23rIRRPEqMjgySA5l1ylpVEozjyBC6UzFOrPxBZYs93oaW\\\\nxWAGjlwIc54tj17BAWZg\\\\n=yEt0\\\\n-----END PGP SIGNATURE-----\\\\n\",\"payload\":\"tree e249ee1f198d5053b2607cd42ba025a804eadb24\\\\nparent e727e2bdc9407a9bbc732dd283f41aec70a3a253\\\\nauthor Mathieu YECHE <99674960+MathieuYeche@users.noreply.github.com> 1741369921 +0100\\\\ncommitter GitHub <noreply@github.com> 1741369921 +0100\\\\n\\\\nfix_6357 (#6358)\\\\n\\\\nSee https://github.com/tidyverse/ggplot2/issues/6357\",\"verified_at\":\"2025-03-07T17:52:03Z\"}},\"url\":\"https://api.github.com/repos/tidyverse/ggplot2/commits/1800a9af9e2d29292b67a236f654e2bacb524bae\",\"html_url\":\"https://github.com/tidyverse/ggplot2/commit/1800a9af9e2d29292b67a236f654e2bacb524bae\",\"comments_url\":\"https://api.github.com/repos/tidyverse/ggplot2/commits/1800a9af9e2d29292b67a236f654e2bacb524bae/comments\",\"author\":{\"login\":\"MathieuYeche\",\"id\":99674960,\"node_id\":\"U_kgDOBfDrUA\",\"avatar_url\":\"https://avatars.githubusercontent.com/u/99674960?v=4\",\"gravatar_id\":\"\",\"url\":\"https://api.github.com/users/MathieuYeche\",\"html_url\":\"https://github.com/MathieuYeche\",\"followers_url\":\"https://api.github.com/users/MathieuYeche/followers\",\"following_url\":\"https://api.github.com/users/MathieuYeche/following{/other_user}\",\"gists_url\":\"https://api.github.com/users/MathieuYeche/gists{/gist_id}\",\"starred_url\":\"https://api.github.com/users/MathieuYeche/starred{/owner}{/repo}\",\"subscriptions_url\":\"https://api.github.com/users/MathieuYeche/subscriptions\",\"organizations_url\":\"https://api.github.com/users/MathieuYeche/orgs\",\"repos_url\":\"https://api.github.com/users/MathieuYeche/repos\",\"events_url\":\"https://api.github.com/users/MathieuYeche/events{/privacy}\",\"received_events_url\":\"https://api.github.com/users/MathieuYeche/received_events\",\"type\":\"User\",\"user_view_type\":\"public\",\"site_admin\":false},\"committer\":{\"login\":\"web-flow\",\"id\":19864447,\"node_id\":\"MDQ6VXNlcjE5ODY0NDQ3\",\"avatar_url\":\"https://avatars.githubusercontent.com/u/19864447?v=4\",\"gravatar_id\":\"\",\"url\":\"https://api.github.com/users/web-flow\",\"html_url\":\"https://github.com/web-flow\",\"followers_url\":\"https://api.github.com/users/web-flow/followers\",\"following_url\":\"https://api.github.com/users/web-flow/following{/other_user}\",\"gists_url\":\"https://api.github.com/users/web-flow/gists{/gist_id}\",\"starred_url\":\"https://api.github.com/users/web-flow/starred{/owner}{/repo}\",\"subscriptions_url\":\"https://api.github.com/users/web-flow/subscriptions\",\"organizations_url\":\"https://api.github.com/users/web-flow/orgs\",\"repos_url\":\"https://api.github.com/users/web-flow/repos\",\"events_url\":\"https://api.github.com/users/web-flow/events{/privacy}\",\"received_events_url\":\"https://api.github.com/users/web-flow/received_events\",\"type\":\"User\",\"user_view_type\":\"public\",\"site_admin\":false},\"parents\":[{\"sha\":\"e727e2bdc9407a9bbc732dd283f41aec70a3a253\",\"url\":\"https://api.github.com/repos/tidyverse/ggplot2/commits/e727e2bdc9407a9bbc732dd283f41aec70a3a253\",\"html_url\":\"https://github.com/tidyverse/ggplot2/commit/e727e2bdc9407a9bbc732dd283f41aec70a3a253\"}]},{\"sha\":\"e727e2bdc9407a9bbc732dd283f41aec70a3a253\",\"node_id\":\"C_kwDNS-7aAChlNzI3ZTJiZGM5NDA3YTliYmM3MzJkZDI4M2Y0MWFlYzcwYTNhMjUz\",\"commit\":{\"author\":{\"name\":\"Teun van den Brand\",\"email\":\"49372158+teunbrand@users.noreply.github.com\",\"date\":\"2025-02-27T09:14:28Z\"},\"committer\":{\"name\":\"GitHub\",\"email\":\"noreply@github.com\",\"date\":\"2025-02-27T09:14:28Z\"},\"message\":\"don\\'t warn when fatten is absent (#6310)\",\"tree\":{\"sha\":\"6fbb07397db4772dd9ce8dab3487c10e18bf4ae6\",\"url\":\"https://api.github.com/repos/tidyverse/ggplot2/git/trees/6fbb07397db4772dd9ce8dab3487c10e18bf4ae6\"},\"url\":\"https://api.github.com/repos/tidyverse/ggplot2/git/commits/e727e2bdc9407a9bbc732dd283f41aec70a3a253\",\"comment_count\":0,\"verification\":{\"verified\":true,\"reason\":\"valid\",\"signature\":\"-----BEGIN PGP SIGNATURE-----\\\\n\\\\nwsFcBAABCAAQBQJnwCz0CRC1aQ7uu5UhlAAA9n8QABJ9HDvYkSNI8vCpYgIHt++l\\\\nE4tWdat1VSEOR0lI3EAn1DBePfF2/NErCKJOSY7LztBtRlO31IhuMdr+VDIqPogv\\\\ntUA46RLGAT7jKJk8U6q6qzD0wJC7LuhHcLLCWti9c0CHTPOtV8PVvbRhBnz1SBCk\\\\nbVkdTAif0drKQb0qSepPHiBQ9OHvF876L8pU94dSPaDhnRKwrNXLK13krhBn2t3B\\\\nDYtZJNgi2tLZLnwbTvSg/xzUBXPUlMs51LsxKWM4It2EppnhT0YVlVXdoSGW62oM\\\\nrwOUTnUaTbn/2beZIe/Yx3j69VNXwmPaJhgzU5WV9Y5Hx+5jEBV3HICZdfU7Bf4C\\\\n8PFyWIIdBAbvG5fPba/40XJiq4pfipHk9nXyko1h7ZV0tCEUYR0thbAD0RH+zTU2\\\\nOP73DGZ8fqJgBxiw0m3ayGQ+lRWVQUQbcCa0tNJhWENgy4H54pq0TPDMCZotBKf7\\\\nKzPK5gl9lYfNuX8jiHMqm7n43iBaVBSSVhxPPxZdiN6lyCAkxr4QWXdJChBlrKVm\\\\nPr9bfYgEifVWWPXEyGmM80pAn3d8e7iGzfC5Di8aLMqYli3SiBnfQGG1OazywTJp\\\\nRT/eabRxz6/S9JOQa6lsDu5Ro4BP2WafyY24ra/p2OgfhsHg/TnPejyJsXcCK8ER\\\\nDirCEtp++z5EdSMwQaoD\\\\n=ZXzl\\\\n-----END PGP SIGNATURE-----\\\\n\",\"payload\":\"tree 6fbb07397db4772dd9ce8dab3487c10e18bf4ae6\\\\nparent d1fb5506bd99ef983b5e7c1c2f766f4f056074b0\\\\nauthor Teun van den Brand <49372158+teunbrand@users.noreply.github.com> 1740647668 +0100\\\\ncommitter GitHub <noreply@github.com> 1740647668 +0100\\\\n\\\\ndon\\'t warn when fatten is absent (#6310)\\\\n\\\\n\",\"verified_at\":\"2025-02-27T09:14:32Z\"}},\"url\":\"https://api.github.com/repos/tidyverse/ggplot2/commits/e727e2bdc9407a9bbc732dd283f41aec70a3a253\",\"html_url\":\"https://github.com/tidyverse/ggplot2/commit/e727e2bdc9407a9bbc732dd283f41aec70a3a253\",\"comments_url\":\"https://api.github.com/repos/tidyverse/ggplot2/commits/e727e2bdc9407a9bbc732dd283f41aec70a3a253/comments\",\"author\":{\"login\":\"teunbrand\",\"id\":49372158,\"node_id\":\"MDQ6VXNlcjQ5MzcyMTU4\",\"avatar_url\":\"https://avatars.githubusercontent.com/u/49372158?v=4\",\"gravatar_id\":\"\",\"url\":\"https://api.github.com/users/teunbrand\",\"html_url\":\"https://github.com/teunbrand\",\"followers_url\":\"https://api.github.com/users/teunbrand/followers\",\"following_url\":\"https://api.github.com/users/teunbrand/following{/other_user}\",\"gists_url\":\"https://api.github.com/users/teunbrand/gists{/gist_id}\",\"starred_url\":\"https://api.github.com/users/teunbrand/starred{/owner}{/repo}\",\"subscriptions_url\":\"https://api.github.com/users/teunbrand/subscriptions\",\"organizations_url\":\"https://api.github.com/users/teunbrand/orgs\",\"repos_url\":\"https://api.github.com/users/teunbrand/repos\",\"events_url\":\"https://api.github.com/users/teunbrand/events{/privacy}\",\"received_events_url\":\"https://api.github.com/users/teunbrand/received_events\",\"type\":\"User\",\"user_view_type\":\"public\",\"site_admin\":false},\"committer\":{\"login\":\"web-flow\",\"id\":19864447,\"node_id\":\"MDQ6VXNlcjE5ODY0NDQ3\",\"avatar_url\":\"https://avatars.githubusercontent.com/u/19864447?v=4\",\"gravatar_id\":\"\",\"url\":\"https://api.github.com/users/web-flow\",\"html_url\":\"https://github.com/web-flow\",\"followers_url\":\"https://api.github.com/users/web-flow/followers\",\"following_url\":\"https://api.github.com/users/web-flow/following{/other_user}\",\"gists_url\":\"https://api.github.com/users/web-flow/gists{/gist_id}\",\"starred_url\":\"https://api.github.com/users/web-flow/starred{/owner}{/repo}\",\"subscriptions_url\":\"https://api.github.com/users/web-flow/subscriptions\",\"organizations_url\":\"https://api.github.com/users/web-flow/orgs\",\"repos_url\":\"https://api.github.com/users/web-flow/repos\",\"events_url\":\"https://api.github.com/users/web-flow/events{/privacy}\",\"received_events_url\":\"https://api.github.com/users/web-flow/received_events\",\"type\":\"User\",\"user_view_type\":\"public\",\"site_admin\":false},\"parents\":[{\"sha\":\"d1fb5506bd99ef983b5e7c1c2f766f4f056074b0\",\"url\":\"https://api.github.com/repos/tidyverse/ggplot2/commits/d1fb5506bd99ef983b5e7c1c2f766f4f056074b0\",\"html_url\":\"https://github.com/tidyverse/ggplot2/commit/d1fb5506bd99ef983b5e7c1c2f766f4f056074b0\"}]},{\"sha\":\"d1fb5506bd99ef983b5e7c1c2f766f4f056074b0\",\"node_id\":\"C_kwDNS-7aAChkMWZiNTUwNmJkOTllZjk4M2I1ZTdjMWMyZjc2NmY0ZjA1NjA3NGIw\",\"commit\":{\"author\":{\"name\":\"Thomas M. Schöller\",\"email\":\"7847075+MaxAtoms@users.noreply.github.com\",\"date\":\"2025-02-25T09:09:26Z\"},\"committer\":{\"name\":\"GitHub\",\"email\":\"noreply@github.com\",\"date\":\"2025-02-25T09:09:26Z\"},\"message\":\"Document vector passing to nudge_y/nudge_x/position_nudge (#6335)\\\\n\\\\n* Document vector passing to position_nudge\\\\n\\\\n* Put nudge_y into aes call\\\\n\\\\nAs discussed in #6355.\\\\n\\\\n* Update documentation\\\\n\\\\n* redocument\\\\n\\\\n---------\\\\n\\\\nCo-authored-by: Teun van den Brand <tahvdbrand@gmail.com>\",\"tree\":{\"sha\":\"8ad4af6445aa6f365d703d986ee77ba572e5d4cc\",\"url\":\"https://api.github.com/repos/tidyverse/ggplot2/git/trees/8ad4af6445aa6f365d703d986ee77ba572e5d4cc\"},\"url\":\"https://api.github.com/repos/tidyverse/ggplot2/git/commits/d1fb5506bd99ef983b5e7c1c2f766f4f056074b0\",\"comment_count\":0,\"verification\":{\"verified\":true,\"reason\":\"valid\",\"signature\":\"-----BEGIN PGP SIGNATURE-----\\\\n\\\\nwsFcBAABCAAQBQJnvYjGCRC1aQ7uu5UhlAAAuxEQAIv7TEQ/YfYXThShrshqay7Y\\\\n0FK9wISfRbfwtW9tLJ6LSoqKfUsMPgRS5eMpPVoiv0cVc9SSVxczKJeX+UeNZ+9g\\\\nAudn/OAhjzoNzBPZDy3vR5SPX7IJICCry/BiBYu++zsju48gMIpNec2CFbKMDCxC\\\\ngwdxiKvZTOfQPRU5bS+wbzwVHoOF5QWzvh0fL8gcaZE8Cr6IFyGse/Ue3d79yZIu\\\\ntSn3aoGbh5N+aHIbtV93PzzspaCZYkc9Bpe2exjfmccyJJzKrD3Namvp1b1zccuG\\\\nWD/D2xkymP6orlSa6MW2hbCA14Aa+lfI1yI6niPCmCabueecz89DqztQ2u04k83q\\\\nauNdBbEbeikVK/2CzQL3++NiQzALycaMJ3AseO4oSoSudL59YzT0UwRofB2HfqYJ\\\\nzrnXXaatLmvc+q4igMyDFWe3NBW2rUXkBzzZ6JBU7s9vb5X4VDqEC3Io6vU1bKW6\\\\nAy+U7k1Ozj4leSyCUVCBo5WgnbwmhACgLpFdE+7cSVgYA6TDl1AvCTAAsUMRHYwY\\\\n1PuQVXinhggI8F264l+bE1G05fabFR6lHY1LqnQp+zZUf9sT73rSFcbm7McjSp9+\\\\nYodY1qN1iRcczYL0kQcgJ2eQ0DC1GZvpuYebXoaSMJPWX6ppW7BLAXQ76+w7b89v\\\\nCzaojbCNoZJ7J3PT6IsY\\\\n=l42C\\\\n-----END PGP SIGNATURE-----\\\\n\",\"payload\":\"tree 8ad4af6445aa6f365d703d986ee77ba572e5d4cc\\\\nparent d835cfe2ffb0ff68c9a4b224ec1fcb4caba83892\\\\nauthor Thomas M. Schöller <7847075+MaxAtoms@users.noreply.github.com> 1740474566 +0000\\\\ncommitter GitHub <noreply@github.com> 1740474566 +0100\\\\n\\\\nDocument vector passing to nudge_y/nudge_x/position_nudge (#6335)\\\\n\\\\n* Document vector passing to position_nudge\\\\n\\\\n* Put nudge_y into aes call\\\\n\\\\nAs discussed in #6355.\\\\n\\\\n* Update documentation\\\\n\\\\n* redocument\\\\n\\\\n---------\\\\n\\\\nCo-authored-by: Teun van den Brand <tahvdbrand@gmail.com>\",\"verified_at\":\"2025-02-25T09:09:29Z\"}},\"url\":\"https://api.github.com/repos/tidyverse/ggplot2/commits/d1fb5506bd99ef983b5e7c1c2f766f4f056074b0\",\"html_url\":\"https://github.com/tidyverse/ggplot2/commit/d1fb5506bd99ef983b5e7c1c2f766f4f056074b0\",\"comments_url\":\"https://api.github.com/repos/tidyverse/ggplot2/commits/d1fb5506bd99ef983b5e7c1c2f766f4f056074b0/comments\",\"author\":{\"login\":\"MaxAtoms\",\"id\":7847075,\"node_id\":\"MDQ6VXNlcjc4NDcwNzU=\",\"avatar_url\":\"https://avatars.githubusercontent.com/u/7847075?v=4\",\"gravatar_id\":\"\",\"url\":\"https://api.github.com/users/MaxAtoms\",\"html_url\":\"https://github.com/MaxAtoms\",\"followers_url\":\"https://api.github.com/users/MaxAtoms/followers\",\"following_url\":\"https://api.github.com/users/MaxAtoms/following{/other_user}\",\"gists_url\":\"https://api.github.com/users/MaxAtoms/gists{/gist_id}\",\"starred_url\":\"https://api.github.com/users/MaxAtoms/starred{/owner}{/repo}\",\"subscriptions_url\":\"https://api.github.com/users/MaxAtoms/subscriptions\",\"organizations_url\":\"https://api.github.com/users/MaxAtoms/orgs\",\"repos_url\":\"https://api.github.com/users/MaxAtoms/repos\",\"events_url\":\"https://api.github.com/users/MaxAtoms/events{/privacy}\",\"received_events_url\":\"https://api.github.com/users/MaxAtoms/received_events\",\"type\":\"User\",\"user_view_type\":\"public\",\"site_admin\":false},\"committer\":{\"login\":\"web-flow\",\"id\":19864447,\"node_id\":\"MDQ6VXNlcjE5ODY0NDQ3\",\"avatar_url\":\"https://avatars.githubusercontent.com/u/19864447?v=4\",\"gravatar_id\":\"\",\"url\":\"https://api.github.com/users/web-flow\",\"html_url\":\"https://github.com/web-flow\",\"followers_url\":\"https://api.github.com/users/web-flow/followers\",\"following_url\":\"https://api.github.com/users/web-flow/following{/other_user}\",\"gists_url\":\"https://api.github.com/users/web-flow/gists{/gist_id}\",\"starred_url\":\"https://api.github.com/users/web-flow/starred{/owner}{/repo}\",\"subscriptions_url\":\"https://api.github.com/users/web-flow/subscriptions\",\"organizations_url\":\"https://api.github.com/users/web-flow/orgs\",\"repos_url\":\"https://api.github.com/users/web-flow/repos\",\"events_url\":\"https://api.github.com/users/web-flow/events{/privacy}\",\"received_events_url\":\"https://api.github.com/users/web-flow/received_events\",\"type\":\"User\",\"user_view_type\":\"public\",\"site_admin\":false},\"parents\":[{\"sha\":\"d835cfe2ffb0ff68c9a4b224ec1fcb4caba83892\",\"url\":\"https://api.github.com/repos/tidyverse/ggplot2/commits/d835cfe2ffb0ff68c9a4b224ec1fcb4caba83892\",\"html_url\":\"https://github.com/tidyverse/ggplot2/commit/d835cfe2ffb0ff68c9a4b224ec1fcb4caba83892\"}]},{\"sha\":\"d835cfe2ffb0ff68c9a4b224ec1fcb4caba83892\",\"node_id\":\"C_kwDNS-7aAChkODM1Y2ZlMmZmYjBmZjY4YzlhNGIyMjRlYzFmY2I0Y2FiYTgzODky\",\"commit\":{\"author\":{\"name\":\"Randall Boyes\",\"email\":\"33524191+rdboyes@users.noreply.github.com\",\"date\":\"2025-02-13T18:04:41Z\"},\"committer\":{\"name\":\"GitHub\",\"email\":\"noreply@github.com\",\"date\":\"2025-02-13T18:04:41Z\"},\"message\":\"Fixes a small typo in docstring for scale_linewidth (#6331)\\\\n\\\\n* Update scale-linewidth.R\\\\r\\\\n\\\\r\\\\nfixes a small typo\\\\r\\\\n\\\\r\\\\n* document\\\\r\\\\n\\\\r\\\\n---------\\\\r\\\\n\\\\r\\\\nCo-authored-by: Teun van den Brand <tahvdbrand@gmail.com>\",\"tree\":{\"sha\":\"7e26a6c1215175cc01fd1ee87cea4d1c4c132a7a\",\"url\":\"https://api.github.com/repos/tidyverse/ggplot2/git/trees/7e26a6c1215175cc01fd1ee87cea4d1c4c132a7a\"},\"url\":\"https://api.github.com/repos/tidyverse/ggplot2/git/commits/d835cfe2ffb0ff68c9a4b224ec1fcb4caba83892\",\"comment_count\":0,\"verification\":{\"verified\":true,\"reason\":\"valid\",\"signature\":\"-----BEGIN PGP SIGNATURE-----\\\\n\\\\nwsFcBAABCAAQBQJnrjQ5CRC1aQ7uu5UhlAAAXSwQAIRl1gRkbxRgHkEK945AFqkS\\\\nRRpW7FwDF2OyX5z5JhDKuq56NaUXdHnEgwa5ETE6DyUWahEcYhtMUSOXBK+CNAE6\\\\niaKTiGvspIDBoKWBPaGxKrzpVBKAHk+OSmmXOLe4A/m2prA70+2kbTLkF/9mGdNA\\\\nInS+rou2LFsx2jOpAlLC32ZHNQp35U1ORpKC9JwMhmm1VxqFOrxRviltLjzJYv0J\\\\nO5EhFOqMQ1f/77FauVMPaDyz3znl3YA7x7/iZiKNN52xNWnCSyfew35CinurDdVk\\\\nmA4tR7HOb0X8gxl3nflWxE53xfLdhtxsgT0n5lwUzTWAFNfWF01z9moA8/V5Sdex\\\\n+lEeI4Z5aTBfuihWDzaDIsj6bVrwxM+hRK3Ahu+FyhBCE4qIlj+PEnYO7vaWrkVn\\\\njE+UU8eX4rGmqphgnNBoX9sNwDn7YugyC0Uuh3KofySzccYHcYx2XqWfI82ap+sR\\\\nyptnkbgXulU8dUKUXbUxOAIIV9RpmwJRv9gAnPzzBqklu6eNUw19iOoOHdelqOy3\\\\n0vWB+74ujBl1XTUvJ4NNYDBIOJkw2ur3aA4eckzwjkkfpt/ZS5k9FvUPs2MEFLJ7\\\\n4Fs4EKE2xl0BjSs1OklSFOgXLL8gn+n6goSolYBJwvAWAbL26yY8TfC3gOiurHYs\\\\nJ4RM+IWnBp5LXXPn9SCQ\\\\n=nga8\\\\n-----END PGP SIGNATURE-----\\\\n\",\"payload\":\"tree 7e26a6c1215175cc01fd1ee87cea4d1c4c132a7a\\\\nparent b87a6e354d19fef05e6d20a24e7b62482ac80b5a\\\\nauthor Randall Boyes <33524191+rdboyes@users.noreply.github.com> 1739469881 -0500\\\\ncommitter GitHub <noreply@github.com> 1739469881 +0100\\\\n\\\\nFixes a small typo in docstring for scale_linewidth (#6331)\\\\n\\\\n* Update scale-linewidth.R\\\\r\\\\n\\\\r\\\\nfixes a small typo\\\\r\\\\n\\\\r\\\\n* document\\\\r\\\\n\\\\r\\\\n---------\\\\r\\\\n\\\\r\\\\nCo-authored-by: Teun van den Brand <tahvdbrand@gmail.com>\",\"verified_at\":\"2025-02-13T18:04:45Z\"}},\"url\":\"https://api.github.com/repos/tidyverse/ggplot2/commits/d835cfe2ffb0ff68c9a4b224ec1fcb4caba83892\",\"html_url\":\"https://github.com/tidyverse/ggplot2/commit/d835cfe2ffb0ff68c9a4b224ec1fcb4caba83892\",\"comments_url\":\"https://api.github.com/repos/tidyverse/ggplot2/commits/d835cfe2ffb0ff68c9a4b224ec1fcb4caba83892/comments\",\"author\":{\"login\":\"rdboyes\",\"id\":33524191,\"node_id\":\"MDQ6VXNlcjMzNTI0MTkx\",\"avatar_url\":\"https://avatars.githubusercontent.com/u/33524191?v=4\",\"gravatar_id\":\"\",\"url\":\"https://api.github.com/users/rdboyes\",\"html_url\":\"https://github.com/rdboyes\",\"followers_url\":\"https://api.github.com/users/rdboyes/followers\",\"following_url\":\"https://api.github.com/users/rdboyes/following{/other_user}\",\"gists_url\":\"https://api.github.com/users/rdboyes/gists{/gist_id}\",\"starred_url\":\"https://api.github.com/users/rdboyes/starred{/owner}{/repo}\",\"subscriptions_url\":\"https://api.github.com/users/rdboyes/subscriptions\",\"organizations_url\":\"https://api.github.com/users/rdboyes/orgs\",\"repos_url\":\"https://api.github.com/users/rdboyes/repos\",\"events_url\":\"https://api.github.com/users/rdboyes/events{/privacy}\",\"received_events_url\":\"https://api.github.com/users/rdboyes/received_events\",\"type\":\"User\",\"user_view_type\":\"public\",\"site_admin\":false},\"committer\":{\"login\":\"web-flow\",\"id\":19864447,\"node_id\":\"MDQ6VXNlcjE5ODY0NDQ3\",\"avatar_url\":\"https://avatars.githubusercontent.com/u/19864447?v=4\",\"gravatar_id\":\"\",\"url\":\"https://api.github.com/users/web-flow\",\"html_url\":\"https://github.com/web-flow\",\"followers_url\":\"https://api.github.com/users/web-flow/followers\",\"following_url\":\"https://api.github.com/users/web-flow/following{/other_user}\",\"gists_url\":\"https://api.github.com/users/web-flow/gists{/gist_id}\",\"starred_url\":\"https://api.github.com/users/web-flow/starred{/owner}{/repo}\",\"subscriptions_url\":\"https://api.github.com/users/web-flow/subscriptions\",\"organizations_url\":\"https://api.github.com/users/web-flow/orgs\",\"repos_url\":\"https://api.github.com/users/web-flow/repos\",\"events_url\":\"https://api.github.com/users/web-flow/events{/privacy}\",\"received_events_url\":\"https://api.github.com/users/web-flow/received_events\",\"type\":\"User\",\"user_view_type\":\"public\",\"site_admin\":false},\"parents\":[{\"sha\":\"b87a6e354d19fef05e6d20a24e7b62482ac80b5a\",\"url\":\"https://api.github.com/repos/tidyverse/ggplot2/commits/b87a6e354d19fef05e6d20a24e7b62482ac80b5a\",\"html_url\":\"https://github.com/tidyverse/ggplot2/commit/b87a6e354d19fef05e6d20a24e7b62482ac80b5a\"}]},{\"sha\":\"b87a6e354d19fef05e6d20a24e7b62482ac80b5a\",\"node_id\":\"C_kwDNS-7aAChiODdhNmUzNTRkMTlmZWYwNWU2ZDIwYTI0ZTdiNjI0ODJhYzgwYjVh\",\"commit\":{\"author\":{\"name\":\"Teun van den Brand\",\"email\":\"49372158+teunbrand@users.noreply.github.com\",\"date\":\"2025-02-04T10:50:56Z\"},\"committer\":{\"name\":\"GitHub\",\"email\":\"noreply@github.com\",\"date\":\"2025-02-04T10:50:56Z\"},\"message\":\"Demote errors in legend modified expressions (#6267)\\\\n\\\\n* handle after scale errors\\\\r\\\\n\\\\r\\\\n* add test\\\\r\\\\n\\\\r\\\\n* add news bullet\\\\r\\\\n\\\\r\\\\n* tweak message\\\\r\\\\n\\\\r\\\\n* conditional test\",\"tree\":{\"sha\":\"c8e814ec89761e087803445eb9e2dad42424cf9f\",\"url\":\"https://api.github.com/repos/tidyverse/ggplot2/git/trees/c8e814ec89761e087803445eb9e2dad42424cf9f\"},\"url\":\"https://api.github.com/repos/tidyverse/ggplot2/git/commits/b87a6e354d19fef05e6d20a24e7b62482ac80b5a\",\"comment_count\":0,\"verification\":{\"verified\":true,\"reason\":\"valid\",\"signature\":\"-----BEGIN PGP SIGNATURE-----\\\\n\\\\nwsFcBAABCAAQBQJnofEQCRC1aQ7uu5UhlAAAu0sQAFOYalr+5kodiUcIaKf8w+uQ\\\\nq5Yxm0Tj3bUAOL/j8E52YDgQ8SDs15DYZIxv42APeLAbdl3EWNd97KnpQxdnci1s\\\\nesUzGp96Yx1FP4xjIhAZ7vjUhTaTyFTcoS58KOdH+D9kM/9oLMBVXvbqFs95yqV3\\\\nCT+oNsPuKcJS4GkdYD8X8r+ztVfcHAVeRuDu6O2Ccrxf+9wwAj2900g6zZkTUz0O\\\\ndEdvYGb1q67lBOjbiIdEpEdGngBiLcrWQUt8eiLyKbzicaINqGuKpUd4GIon6tjd\\\\nJDQRifI+1VT4PTFCtdSIsP3dEfUlU0m9yF1U/GRPQhekAik3R2VuR7Ti7Cd81IoF\\\\n3NxgS4gq3ADgl2TJDF02klKet+gw11gOFFDH4rrVWHBXe8i/JKpu6bxANZp9n78x\\\\nprGHhRx8aGURGkPVSNHV34FnwuZUQwk6TZz4dFNw+fkyyMwXXWzeVaVVhtNpH7nJ\\\\nDPLqlXngSzKgY48+G9xmMDpIu+jOLZmxKxeaFI050woYBmp93137jAcKoBzDU/eS\\\\nLqVl+URRh9mA7iXldI52f7vDv6G2nUCILY2W1oyySPHv7js7U9+8hWpHFtD65YkQ\\\\nPM3+5q/AeWjm1WUDho8VmhJAnhNP9F5BH9U8CMc1q22uZ/WlKN3pKc1vIaYZWy2V\\\\nsiBMxv6JXr9WHLNOTs39\\\\n=B0KS\\\\n-----END PGP SIGNATURE-----\\\\n\",\"payload\":\"tree c8e814ec89761e087803445eb9e2dad42424cf9f\\\\nparent 1bfb3c9b26a046a878d97a15cccf108973a8150a\\\\nauthor Teun van den Brand <49372158+teunbrand@users.noreply.github.com> 1738666256 +0100\\\\ncommitter GitHub <noreply@github.com> 1738666256 +0100\\\\n\\\\nDemote errors in legend modified expressions (#6267)\\\\n\\\\n* handle after scale errors\\\\r\\\\n\\\\r\\\\n* add test\\\\r\\\\n\\\\r\\\\n* add news bullet\\\\r\\\\n\\\\r\\\\n* tweak message\\\\r\\\\n\\\\r\\\\n* conditional test\",\"verified_at\":\"2025-02-04T10:50:59Z\"}},\"url\":\"https://api.github.com/repos/tidyverse/ggplot2/commits/b87a6e354d19fef05e6d20a24e7b62482ac80b5a\",\"html_url\":\"https://github.com/tidyverse/ggplot2/commit/b87a6e354d19fef05e6d20a24e7b62482ac80b5a\",\"comments_url\":\"https://api.github.com/repos/tidyverse/ggplot2/commits/b87a6e354d19fef05e6d20a24e7b62482ac80b5a/comments\",\"author\":{\"login\":\"teunbrand\",\"id\":49372158,\"node_id\":\"MDQ6VXNlcjQ5MzcyMTU4\",\"avatar_url\":\"https://avatars.githubusercontent.com/u/49372158?v=4\",\"gravatar_id\":\"\",\"url\":\"https://api.github.com/users/teunbrand\",\"html_url\":\"https://github.com/teunbrand\",\"followers_url\":\"https://api.github.com/users/teunbrand/followers\",\"following_url\":\"https://api.github.com/users/teunbrand/following{/other_user}\",\"gists_url\":\"https://api.github.com/users/teunbrand/gists{/gist_id}\",\"starred_url\":\"https://api.github.com/users/teunbrand/starred{/owner}{/repo}\",\"subscriptions_url\":\"https://api.github.com/users/teunbrand/subscriptions\",\"organizations_url\":\"https://api.github.com/users/teunbrand/orgs\",\"repos_url\":\"https://api.github.com/users/teunbrand/repos\",\"events_url\":\"https://api.github.com/users/teunbrand/events{/privacy}\",\"received_events_url\":\"https://api.github.com/users/teunbrand/received_events\",\"type\":\"User\",\"user_view_type\":\"public\",\"site_admin\":false},\"committer\":{\"login\":\"web-flow\",\"id\":19864447,\"node_id\":\"MDQ6VXNlcjE5ODY0NDQ3\",\"avatar_url\":\"https://avatars.githubusercontent.com/u/19864447?v=4\",\"gravatar_id\":\"\",\"url\":\"https://api.github.com/users/web-flow\",\"html_url\":\"https://github.com/web-flow\",\"followers_url\":\"https://api.github.com/users/web-flow/followers\",\"following_url\":\"https://api.github.com/users/web-flow/following{/other_user}\",\"gists_url\":\"https://api.github.com/users/web-flow/gists{/gist_id}\",\"starred_url\":\"https://api.github.com/users/web-flow/starred{/owner}{/repo}\",\"subscriptions_url\":\"https://api.github.com/users/web-flow/subscriptions\",\"organizations_url\":\"https://api.github.com/users/web-flow/orgs\",\"repos_url\":\"https://api.github.com/users/web-flow/repos\",\"events_url\":\"https://api.github.com/users/web-flow/events{/privacy}\",\"received_events_url\":\"https://api.github.com/users/web-flow/received_events\",\"type\":\"User\",\"user_view_type\":\"public\",\"site_admin\":false},\"parents\":[{\"sha\":\"1bfb3c9b26a046a878d97a15cccf108973a8150a\",\"url\":\"https://api.github.com/repos/tidyverse/ggplot2/commits/1bfb3c9b26a046a878d97a15cccf108973a8150a\",\"html_url\":\"https://github.com/tidyverse/ggplot2/commit/1bfb3c9b26a046a878d97a15cccf108973a8150a\"}]},{\"sha\":\"1bfb3c9b26a046a878d97a15cccf108973a8150a\",\"node_id\":\"C_kwDNS-7aACgxYmZiM2M5YjI2YTA0NmE4NzhkOTdhMTVjY2NmMTA4OTczYTgxNTBh\",\"commit\":{\"author\":{\"name\":\"Teun van den Brand\",\"email\":\"49372158+teunbrand@users.noreply.github.com\",\"date\":\"2025-01-28T14:05:47Z\"},\"committer\":{\"name\":\"GitHub\",\"email\":\"noreply@github.com\",\"date\":\"2025-01-28T14:05:47Z\"},\"message\":\"Additional settings for `geom_label()` (#6307)\\\\n\\\\n* replace `geom_label(label.size)` with `linewidth` aesthetic\\\\r\\\\n\\\\r\\\\n* add `linetype` aesthetic\\\\r\\\\n\\\\r\\\\n* add border and text colours\\\\r\\\\n\\\\r\\\\n* vectorise some operations\\\\r\\\\n\\\\r\\\\n* preserve thinner linewidth\\\\r\\\\n\\\\r\\\\n* apply to `geom_sf_labels()` too\\\\r\\\\n\\\\r\\\\n* adapt legend key\\\\r\\\\n\\\\r\\\\n* document new params\\\\r\\\\n\\\\r\\\\n* add test\\\\r\\\\n\\\\r\\\\n* add news bullet\",\"tree\":{\"sha\":\"6d86e885d174ba9731e518780c4f56c6ba6298c0\",\"url\":\"https://api.github.com/repos/tidyverse/ggplot2/git/trees/6d86e885d174ba9731e518780c4f56c6ba6298c0\"},\"url\":\"https://api.github.com/repos/tidyverse/ggplot2/git/commits/1bfb3c9b26a046a878d97a15cccf108973a8150a\",\"comment_count\":0,\"verification\":{\"verified\":true,\"reason\":\"valid\",\"signature\":\"-----BEGIN PGP SIGNATURE-----\\\\n\\\\nwsFcBAABCAAQBQJnmOQ7CRC1aQ7uu5UhlAAAyjQQABfEDZG4QKgl5vIGLrrbzrZV\\\\nmZbCiarqhdtUnr6tEcxC/x6Dh8OP0lKTIhs5z+YXXBftP0f8gITM/+b1r9n2l/Wt\\\\n3h6jLPcJ7RI/OoeAqFGDUx7cdGP7qOqTkk34/7G0tDzLYjL8XGnaUuVVNfUuDJS+\\\\nGWdHNp8U1Ey92AWhykILcQihBN65MEY2ChgWuUDX5ok0p55OKuDSxnnoOrRrOxiW\\\\n9DqmHs5RKetoavPoPB38FmdRwlhVq4f+MYRnDWix8yV8wLVrta6zAkdqy1gFsjgT\\\\nOvfZdzdKK8A53s5KFb04vXuEIs9Wsl/Sk8n0uR7eNfaDclfE5fnKCn+RHtH2/Rv+\\\\nadYaryGtt1XD2W/WDbzJywXOjlT0THYY7U63HVfWUbssSt62cHC9RU5Ll/pEHCW0\\\\nKL4gpfepRHWXpENaAfCyOD9XLfp4Hh5ph+YMgae+sg5p3rTnVI5+UxCRw6DKlpQu\\\\nviOOkQKOw/zEA+0nK24pZCng/NHrPuZXA71Gzl9S9470qVaDDQ72Q+RMO7d9fBya\\\\nxR9S0bojnJEgu5Wug47dnYSOXteD8m5SJ25PTTvHPKQZ9e/1jtuJM0ZpfoyuRoVG\\\\nLM1zoicI61ZxXk1eww4D9fkNgoN69MFDHXDwbcOZjapRNWFRPwXsYK/4hGQnuaYR\\\\nIC4LU3zDE81K4CdFx3k+\\\\n=pp9n\\\\n-----END PGP SIGNATURE-----\\\\n\",\"payload\":\"tree 6d86e885d174ba9731e518780c4f56c6ba6298c0\\\\nparent 6e0664b78a7a9208f6b09df7ec7d149da00b90d4\\\\nauthor Teun van den Brand <49372158+teunbrand@users.noreply.github.com> 1738073147 +0100\\\\ncommitter GitHub <noreply@github.com> 1738073147 +0100\\\\n\\\\nAdditional settings for `geom_label()` (#6307)\\\\n\\\\n* replace `geom_label(label.size)` with `linewidth` aesthetic\\\\r\\\\n\\\\r\\\\n* add `linetype` aesthetic\\\\r\\\\n\\\\r\\\\n* add border and text colours\\\\r\\\\n\\\\r\\\\n* vectorise some operations\\\\r\\\\n\\\\r\\\\n* preserve thinner linewidth\\\\r\\\\n\\\\r\\\\n* apply to `geom_sf_labels()` too\\\\r\\\\n\\\\r\\\\n* adapt legend key\\\\r\\\\n\\\\r\\\\n* document new params\\\\r\\\\n\\\\r\\\\n* add test\\\\r\\\\n\\\\r\\\\n* add news bullet\",\"verified_at\":\"2025-01-28T14:05:51Z\"}},\"url\":\"https://api.github.com/repos/tidyverse/ggplot2/commits/1bfb3c9b26a046a878d97a15cccf108973a8150a\",\"html_url\":\"https://github.com/tidyverse/ggplot2/commit/1bfb3c9b26a046a878d97a15cccf108973a8150a\",\"comments_url\":\"https://api.github.com/repos/tidyverse/ggplot2/commits/1bfb3c9b26a046a878d97a15cccf108973a8150a/comments\",\"author\":{\"login\":\"teunbrand\",\"id\":49372158,\"node_id\":\"MDQ6VXNlcjQ5MzcyMTU4\",\"avatar_url\":\"https://avatars.githubusercontent.com/u/49372158?v=4\",\"gravatar_id\":\"\",\"url\":\"https://api.github.com/users/teunbrand\",\"html_url\":\"https://github.com/teunbrand\",\"followers_url\":\"https://api.github.com/users/teunbrand/followers\",\"following_url\":\"https://api.github.com/users/teunbrand/following{/other_user}\",\"gists_url\":\"https://api.github.com/users/teunbrand/gists{/gist_id}\",\"starred_url\":\"https://api.github.com/users/teunbrand/starred{/owner}{/repo}\",\"subscriptions_url\":\"https://api.github.com/users/teunbrand/subscriptions\",\"organizations_url\":\"https://api.github.com/users/teunbrand/orgs\",\"repos_url\":\"https://api.github.com/users/teunbrand/repos\",\"events_url\":\"https://api.github.com/users/teunbrand/events{/privacy}\",\"received_events_url\":\"https://api.github.com/users/teunbrand/received_events\",\"type\":\"User\",\"user_view_type\":\"public\",\"site_admin\":false},\"committer\":{\"login\":\"web-flow\",\"id\":19864447,\"node_id\":\"MDQ6VXNlcjE5ODY0NDQ3\",\"avatar_url\":\"https://avatars.githubusercontent.com/u/19864447?v=4\",\"gravatar_id\":\"\",\"url\":\"https://api.github.com/users/web-flow\",\"html_url\":\"https://github.com/web-flow\",\"followers_url\":\"https://api.github.com/users/web-flow/followers\",\"following_url\":\"https://api.github.com/users/web-flow/following{/other_user}\",\"gists_url\":\"https://api.github.com/users/web-flow/gists{/gist_id}\",\"starred_url\":\"https://api.github.com/users/web-flow/starred{/owner}{/repo}\",\"subscriptions_url\":\"https://api.github.com/users/web-flow/subscriptions\",\"organizations_url\":\"https://api.github.com/users/web-flow/orgs\",\"repos_url\":\"https://api.github.com/users/web-flow/repos\",\"events_url\":\"https://api.github.com/users/web-flow/events{/privacy}\",\"received_events_url\":\"https://api.github.com/users/web-flow/received_events\",\"type\":\"User\",\"user_view_type\":\"public\",\"site_admin\":false},\"parents\":[{\"sha\":\"6e0664b78a7a9208f6b09df7ec7d149da00b90d4\",\"url\":\"https://api.github.com/repos/tidyverse/ggplot2/commits/6e0664b78a7a9208f6b09df7ec7d149da00b90d4\",\"html_url\":\"https://github.com/tidyverse/ggplot2/commit/6e0664b78a7a9208f6b09df7ec7d149da00b90d4\"}]},{\"sha\":\"6e0664b78a7a9208f6b09df7ec7d149da00b90d4\",\"node_id\":\"C_kwDNS-7aACg2ZTA2NjRiNzhhN2E5MjA4ZjZiMDlkZjdlYzdkMTQ5ZGEwMGI5MGQ0\",\"commit\":{\"author\":{\"name\":\"Teun van den Brand\",\"email\":\"49372158+teunbrand@users.noreply.github.com\",\"date\":\"2025-01-28T13:21:29Z\"},\"committer\":{\"name\":\"GitHub\",\"email\":\"noreply@github.com\",\"date\":\"2025-01-28T13:21:29Z\"},\"message\":\"prepopulate theme (#6304)\",\"tree\":{\"sha\":\"ce5762e5b7aacc45fe6670b7449b6b7850e6c010\",\"url\":\"https://api.github.com/repos/tidyverse/ggplot2/git/trees/ce5762e5b7aacc45fe6670b7449b6b7850e6c010\"},\"url\":\"https://api.github.com/repos/tidyverse/ggplot2/git/commits/6e0664b78a7a9208f6b09df7ec7d149da00b90d4\",\"comment_count\":0,\"verification\":{\"verified\":true,\"reason\":\"valid\",\"signature\":\"-----BEGIN PGP SIGNATURE-----\\\\n\\\\nwsFcBAABCAAQBQJnmNnZCRC1aQ7uu5UhlAAA/hsQAHJ92qiaWgnHuuMwWWzXiTd5\\\\nJMXpW1QMAyq+0C9hDe+mXaz1BZDbEOEOkJrNbQwv9wLhZbW6ECHPL6dT6n8X3vNN\\\\noMisGEZU1BeDr4AlKKfHDZqVObHrp597793IVZDTGo1szYuyAxtY/poCpsJrH1X1\\\\nC41RBQslmw/WHvA9gTkYLZhmSkHBqva/A/lmWBdg4t9MRuE9yJ57H8KOHmgbjMCq\\\\nHuz/jkcyKnNwFmDTT3ZVsVq51CiiEM8jQg9g6YLIojhyjjWuK3SvnIjlfaGB6Y92\\\\nBOKL5myizxmmg6gDD1OCGazc74M7EDcsqZQixig8vx7mejsnH0xkuzy2dS5NKsKZ\\\\nuRERqFlz0EIak+otbP+D83Y4LZDUem7SpPJg2csu0jyW2PqP+LDy5a15tOIE6qJf\\\\n5m3fpZoRwrv+1q7suWfJ4Ers2PFrMDV+0qRa/tPrIR85jef6J4oJMaSvk3qDBnpm\\\\nTITtBy5tIYnD7+Unrmgsykxmwrx0/hMpfeUapj1dl6PmIyBvE20MK7yIvNScr5Ul\\\\nsm0xBXK0OOHhE4hDyxWIudR2x9J6s9k5tZWdi7meyg6bAbHqEQRoaRmhF2sPVMfI\\\\nIVBpkRui8Vbmxu0oLmjdtTYzCLl+5f31Avb8fAmY+nVOnV+PUg+QPBPAqzivpesH\\\\ntB5vfifmHJqX+z6cZQNf\\\\n=maOc\\\\n-----END PGP SIGNATURE-----\\\\n\",\"payload\":\"tree ce5762e5b7aacc45fe6670b7449b6b7850e6c010\\\\nparent df0e150249474f1d465a45b01ad16a6771091cc8\\\\nauthor Teun van den Brand <49372158+teunbrand@users.noreply.github.com> 1738070489 +0100\\\\ncommitter GitHub <noreply@github.com> 1738070489 +0100\\\\n\\\\nprepopulate theme (#6304)\\\\n\\\\n\",\"verified_at\":\"2025-01-28T13:21:37Z\"}},\"url\":\"https://api.github.com/repos/tidyverse/ggplot2/commits/6e0664b78a7a9208f6b09df7ec7d149da00b90d4\",\"html_url\":\"https://github.com/tidyverse/ggplot2/commit/6e0664b78a7a9208f6b09df7ec7d149da00b90d4\",\"comments_url\":\"https://api.github.com/repos/tidyverse/ggplot2/commits/6e0664b78a7a9208f6b09df7ec7d149da00b90d4/comments\",\"author\":{\"login\":\"teunbrand\",\"id\":49372158,\"node_id\":\"MDQ6VXNlcjQ5MzcyMTU4\",\"avatar_url\":\"https://avatars.githubusercontent.com/u/49372158?v=4\",\"gravatar_id\":\"\",\"url\":\"https://api.github.com/users/teunbrand\",\"html_url\":\"https://github.com/teunbrand\",\"followers_url\":\"https://api.github.com/users/teunbrand/followers\",\"following_url\":\"https://api.github.com/users/teunbrand/following{/other_user}\",\"gists_url\":\"https://api.github.com/users/teunbrand/gists{/gist_id}\",\"starred_url\":\"https://api.github.com/users/teunbrand/starred{/owner}{/repo}\",\"subscriptions_url\":\"https://api.github.com/users/teunbrand/subscriptions\",\"organizations_url\":\"https://api.github.com/users/teunbrand/orgs\",\"repos_url\":\"https://api.github.com/users/teunbrand/repos\",\"events_url\":\"https://api.github.com/users/teunbrand/events{/privacy}\",\"received_events_url\":\"https://api.github.com/users/teunbrand/received_events\",\"type\":\"User\",\"user_view_type\":\"public\",\"site_admin\":false},\"committer\":{\"login\":\"web-flow\",\"id\":19864447,\"node_id\":\"MDQ6VXNlcjE5ODY0NDQ3\",\"avatar_url\":\"https://avatars.githubusercontent.com/u/19864447?v=4\",\"gravatar_id\":\"\",\"url\":\"https://api.github.com/users/web-flow\",\"html_url\":\"https://github.com/web-flow\",\"followers_url\":\"https://api.github.com/users/web-flow/followers\",\"following_url\":\"https://api.github.com/users/web-flow/following{/other_user}\",\"gists_url\":\"https://api.github.com/users/web-flow/gists{/gist_id}\",\"starred_url\":\"https://api.github.com/users/web-flow/starred{/owner}{/repo}\",\"subscriptions_url\":\"https://api.github.com/users/web-flow/subscriptions\",\"organizations_url\":\"https://api.github.com/users/web-flow/orgs\",\"repos_url\":\"https://api.github.com/users/web-flow/repos\",\"events_url\":\"https://api.github.com/users/web-flow/events{/privacy}\",\"received_events_url\":\"https://api.github.com/users/web-flow/received_events\",\"type\":\"User\",\"user_view_type\":\"public\",\"site_admin\":false},\"parents\":[{\"sha\":\"df0e150249474f1d465a45b01ad16a6771091cc8\",\"url\":\"https://api.github.com/repos/tidyverse/ggplot2/commits/df0e150249474f1d465a45b01ad16a6771091cc8\",\"html_url\":\"https://github.com/tidyverse/ggplot2/commit/df0e150249474f1d465a45b01ad16a6771091cc8\"}]},{\"sha\":\"df0e150249474f1d465a45b01ad16a6771091cc8\",\"node_id\":\"C_kwDNS-7aAChkZjBlMTUwMjQ5NDc0ZjFkNDY1YTQ1YjAxYWQxNmE2NzcxMDkxY2M4\",\"commit\":{\"author\":{\"name\":\"Teun van den Brand\",\"email\":\"49372158+teunbrand@users.noreply.github.com\",\"date\":\"2025-01-28T13:20:45Z\"},\"committer\":{\"name\":\"GitHub\",\"email\":\"noreply@github.com\",\"date\":\"2025-01-28T13:20:45Z\"},\"message\":\"✨ Point and polygon theme elements (#6249)\\\\n\\\\n* `translate_shape_string()` deals with non-character input\\\\r\\\\n\\\\r\\\\n* new element constructors\\\\r\\\\n\\\\r\\\\n* document new elements\\\\r\\\\n\\\\r\\\\n* add `element_grob()` methods\\\\r\\\\n\\\\r\\\\n* include `point` and `polygon` in theme\\\\r\\\\n\\\\r\\\\n* include template in default themes\\\\r\\\\n\\\\r\\\\n* :technologist: deal with `pathGrob()`\\'s id-logic.\\\\r\\\\n\\\\r\\\\n* add tests\\\\r\\\\n\\\\r\\\\n* add news bullet\",\"tree\":{\"sha\":\"2b0473d219f43a8e5c05300514b71fb54754e970\",\"url\":\"https://api.github.com/repos/tidyverse/ggplot2/git/trees/2b0473d219f43a8e5c05300514b71fb54754e970\"},\"url\":\"https://api.github.com/repos/tidyverse/ggplot2/git/commits/df0e150249474f1d465a45b01ad16a6771091cc8\",\"comment_count\":0,\"verification\":{\"verified\":true,\"reason\":\"valid\",\"signature\":\"-----BEGIN PGP SIGNATURE-----\\\\n\\\\nwsFcBAABCAAQBQJnmNmtCRC1aQ7uu5UhlAAA2soQAAvyNyoCHsDPR2jj+xipr4wv\\\\n7hLxo2gR9UtkohIw6elaeZTTdXtexGXZFp+3A/OSpWYmStmR0NUDNeLTC1Ra4t/p\\\\npItPUgxlZWQozAg+g1VnrDvc8Z5QaNJJCoOZcr8q8X1F8bTq3+UlSQatWh0gSbvP\\\\nNairw9fAlTtP9FZQqAhO+0+yA71/G4kSAgER4nSnzt33VnwpRp2L4wVifg0hp+WR\\\\nMYpSRb3FSYAkG82AFFpe9MM6Nzr0GAPmqskN8hGCv8sW4TyYeKUYgzGfyBUDZtRb\\\\nfHEJMxYI8yX01y0F7qr8Y8CaEIq1wkpZXb1FqIK4+dA8GNJkidhOElWB8xDEOFBc\\\\njSZaqwf6FgWOJEC+pwFxj5X66KBquywfF6FUVpcjFptkbDV9ohqc8cUMPX+T+ssO\\\\nq4xC4HKrPLLukR9MoWkPCeW3HNsVUydc0L+szybq/H6k9+OTUBd0rNr4vq6Nbm0+\\\\nCA2YyF47UjU0FRkqWCZq23pwp4Ww14Y66+smhgpDfTAAPmvbxGfXrioi41Bkbpvo\\\\nMwzeEkDAyQh9cwo8LGqn9i/3PjDAs8nrXaePo2S5OfIU1DtKet4QQbWBfzyewwcv\\\\nIY7xJI/lH3qgys0yaLUCf2FPQz+POBj/z0+jhs2j/AguDNIivtrQJDu3o7YQyAv8\\\\nj00ufznoKj47rzbVQiDg\\\\n=V2x+\\\\n-----END PGP SIGNATURE-----\\\\n\",\"payload\":\"tree 2b0473d219f43a8e5c05300514b71fb54754e970\\\\nparent df315af8e2a2b48b965a979ba4c80fade3247f62\\\\nauthor Teun van den Brand <49372158+teunbrand@users.noreply.github.com> 1738070445 +0100\\\\ncommitter GitHub <noreply@github.com> 1738070445 +0100\\\\n\\\\n✨ Point and polygon theme elements (#6249)\\\\n\\\\n* `translate_shape_string()` deals with non-character input\\\\r\\\\n\\\\r\\\\n* new element constructors\\\\r\\\\n\\\\r\\\\n* document new elements\\\\r\\\\n\\\\r\\\\n* add `element_grob()` methods\\\\r\\\\n\\\\r\\\\n* include `point` and `polygon` in theme\\\\r\\\\n\\\\r\\\\n* include template in default themes\\\\r\\\\n\\\\r\\\\n* :technologist: deal with `pathGrob()`\\'s id-logic.\\\\r\\\\n\\\\r\\\\n* add tests\\\\r\\\\n\\\\r\\\\n* add news bullet\",\"verified_at\":\"2025-01-28T13:20:53Z\"}},\"url\":\"https://api.github.com/repos/tidyverse/ggplot2/commits/df0e150249474f1d465a45b01ad16a6771091cc8\",\"html_url\":\"https://github.com/tidyverse/ggplot2/commit/df0e150249474f1d465a45b01ad16a6771091cc8\",\"comments_url\":\"https://api.github.com/repos/tidyverse/ggplot2/commits/df0e150249474f1d465a45b01ad16a6771091cc8/comments\",\"author\":{\"login\":\"teunbrand\",\"id\":49372158,\"node_id\":\"MDQ6VXNlcjQ5MzcyMTU4\",\"avatar_url\":\"https://avatars.githubusercontent.com/u/49372158?v=4\",\"gravatar_id\":\"\",\"url\":\"https://api.github.com/users/teunbrand\",\"html_url\":\"https://github.com/teunbrand\",\"followers_url\":\"https://api.github.com/users/teunbrand/followers\",\"following_url\":\"https://api.github.com/users/teunbrand/following{/other_user}\",\"gists_url\":\"https://api.github.com/users/teunbrand/gists{/gist_id}\",\"starred_url\":\"https://api.github.com/users/teunbrand/starred{/owner}{/repo}\",\"subscriptions_url\":\"https://api.github.com/users/teunbrand/subscriptions\",\"organizations_url\":\"https://api.github.com/users/teunbrand/orgs\",\"repos_url\":\"https://api.github.com/users/teunbrand/repos\",\"events_url\":\"https://api.github.com/users/teunbrand/events{/privacy}\",\"received_events_url\":\"https://api.github.com/users/teunbrand/received_events\",\"type\":\"User\",\"user_view_type\":\"public\",\"site_admin\":false},\"committer\":{\"login\":\"web-flow\",\"id\":19864447,\"node_id\":\"MDQ6VXNlcjE5ODY0NDQ3\",\"avatar_url\":\"https://avatars.githubusercontent.com/u/19864447?v=4\",\"gravatar_id\":\"\",\"url\":\"https://api.github.com/users/web-flow\",\"html_url\":\"https://github.com/web-flow\",\"followers_url\":\"https://api.github.com/users/web-flow/followers\",\"following_url\":\"https://api.github.com/users/web-flow/following{/other_user}\",\"gists_url\":\"https://api.github.com/users/web-flow/gists{/gist_id}\",\"starred_url\":\"https://api.github.com/users/web-flow/starred{/owner}{/repo}\",\"subscriptions_url\":\"https://api.github.com/users/web-flow/subscriptions\",\"organizations_url\":\"https://api.github.com/users/web-flow/orgs\",\"repos_url\":\"https://api.github.com/users/web-flow/repos\",\"events_url\":\"https://api.github.com/users/web-flow/events{/privacy}\",\"received_events_url\":\"https://api.github.com/users/web-flow/received_events\",\"type\":\"User\",\"user_view_type\":\"public\",\"site_admin\":false},\"parents\":[{\"sha\":\"df315af8e2a2b48b965a979ba4c80fade3247f62\",\"url\":\"https://api.github.com/repos/tidyverse/ggplot2/commits/df315af8e2a2b48b965a979ba4c80fade3247f62\",\"html_url\":\"https://github.com/tidyverse/ggplot2/commit/df315af8e2a2b48b965a979ba4c80fade3247f62\"}]},{\"sha\":\"df315af8e2a2b48b965a979ba4c80fade3247f62\",\"node_id\":\"C_kwDNS-7aAChkZjMxNWFmOGUyYTJiNDhiOTY1YTk3OWJhNGM4MGZhZGUzMjQ3ZjYy\",\"commit\":{\"author\":{\"name\":\"Teun van den Brand\",\"email\":\"49372158+teunbrand@users.noreply.github.com\",\"date\":\"2025-01-28T13:20:08Z\"},\"committer\":{\"name\":\"GitHub\",\"email\":\"noreply@github.com\",\"date\":\"2025-01-28T13:20:08Z\"},\"message\":\"protect if-clause (#6302)\",\"tree\":{\"sha\":\"ba0deafbdde576dfd9000ea4ca24cf6fee61d493\",\"url\":\"https://api.github.com/repos/tidyverse/ggplot2/git/trees/ba0deafbdde576dfd9000ea4ca24cf6fee61d493\"},\"url\":\"https://api.github.com/repos/tidyverse/ggplot2/git/commits/df315af8e2a2b48b965a979ba4c80fade3247f62\",\"comment_count\":0,\"verification\":{\"verified\":true,\"reason\":\"valid\",\"signature\":\"-----BEGIN PGP SIGNATURE-----\\\\n\\\\nwsFcBAABCAAQBQJnmNmICRC1aQ7uu5UhlAAAi0wQAIhMXjiHrb8iMe+QFfJAsJq1\\\\nb2+2WCkRkKN08XJJzoPBXqZWyVQH/g2MAnET6aXyMHEuZyOCNghfN3jJjnZm9wVf\\\\nzQoBIC5BtTiAHvs6zup9K7M+4cu5PvzsajqZK/7GP8fi4u+AVPvC5XIVph/slVVR\\\\n7vXe/Vx7r18NUAy2tRvXU17s13o59hXbBCS7Gs2NPGnYpi0NYNreVZ/mSPkegteC\\\\nO1JCA18+uN8244ImR3n4znlmgVd4WPSd6VM92Mn0W45ICZKIWrxZKC9qWhvDgpMR\\\\nVcEa54pi06fiEm/IdHu5tdEP3jY6ZGwKpTVLjkrq85Rwd6GrAY5xY1bVWbvHg+fY\\\\nLixykN/Cdc117eXYp1EiSxqFchhHMIBiiGZ2t6cYIZE/ZAW3cRyZ+k2ATcR3Y5Sr\\\\nEwXBogCdWZwMcddbI9HoLr6vhNzsu0WVUxXqV6oscr5ZMLnyWxcudNlQTFM7F3ft\\\\nk2u8UInEuiQz9P2aSe1SsNJ6aDk5LUTkZs2qFaReG/6VvfiyGLUwe1gY3v+94pbT\\\\nCKkJVwhIoyHh18eb8+kflWAgQfa56N5f0hLtBWrMFuhiCqzo5PkpRyOfiDaSauTx\\\\nivRM8G9nBIq8zjRJGA663IitPgCA4UK1t2o7ABqpZaxmxqTtLoBSU1dadHygqhNl\\\\npH4Pmx00uBXvs6QWE2e8\\\\n=5bFg\\\\n-----END PGP SIGNATURE-----\\\\n\",\"payload\":\"tree ba0deafbdde576dfd9000ea4ca24cf6fee61d493\\\\nparent 66d6ee422e450ba7e6c050a8ea90db257bc93649\\\\nauthor Teun van den Brand <49372158+teunbrand@users.noreply.github.com> 1738070408 +0100\\\\ncommitter GitHub <noreply@github.com> 1738070408 +0100\\\\n\\\\nprotect if-clause (#6302)\\\\n\\\\n\",\"verified_at\":\"2025-01-28T13:20:25Z\"}},\"url\":\"https://api.github.com/repos/tidyverse/ggplot2/commits/df315af8e2a2b48b965a979ba4c80fade3247f62\",\"html_url\":\"https://github.com/tidyverse/ggplot2/commit/df315af8e2a2b48b965a979ba4c80fade3247f62\",\"comments_url\":\"https://api.github.com/repos/tidyverse/ggplot2/commits/df315af8e2a2b48b965a979ba4c80fade3247f62/comments\",\"author\":{\"login\":\"teunbrand\",\"id\":49372158,\"node_id\":\"MDQ6VXNlcjQ5MzcyMTU4\",\"avatar_url\":\"https://avatars.githubusercontent.com/u/49372158?v=4\",\"gravatar_id\":\"\",\"url\":\"https://api.github.com/users/teunbrand\",\"html_url\":\"https://github.com/teunbrand\",\"followers_url\":\"https://api.github.com/users/teunbrand/followers\",\"following_url\":\"https://api.github.com/users/teunbrand/following{/other_user}\",\"gists_url\":\"https://api.github.com/users/teunbrand/gists{/gist_id}\",\"starred_url\":\"https://api.github.com/users/teunbrand/starred{/owner}{/repo}\",\"subscriptions_url\":\"https://api.github.com/users/teunbrand/subscriptions\",\"organizations_url\":\"https://api.github.com/users/teunbrand/orgs\",\"repos_url\":\"https://api.github.com/users/teunbrand/repos\",\"events_url\":\"https://api.github.com/users/teunbrand/events{/privacy}\",\"received_events_url\":\"https://api.github.com/users/teunbrand/received_events\",\"type\":\"User\",\"user_view_type\":\"public\",\"site_admin\":false},\"committer\":{\"login\":\"web-flow\",\"id\":19864447,\"node_id\":\"MDQ6VXNlcjE5ODY0NDQ3\",\"avatar_url\":\"https://avatars.githubusercontent.com/u/19864447?v=4\",\"gravatar_id\":\"\",\"url\":\"https://api.github.com/users/web-flow\",\"html_url\":\"https://github.com/web-flow\",\"followers_url\":\"https://api.github.com/users/web-flow/followers\",\"following_url\":\"https://api.github.com/users/web-flow/following{/other_user}\",\"gists_url\":\"https://api.github.com/users/web-flow/gists{/gist_id}\",\"starred_url\":\"https://api.github.com/users/web-flow/starred{/owner}{/repo}\",\"subscriptions_url\":\"https://api.github.com/users/web-flow/subscriptions\",\"organizations_url\":\"https://api.github.com/users/web-flow/orgs\",\"repos_url\":\"https://api.github.com/users/web-flow/repos\",\"events_url\":\"https://api.github.com/users/web-flow/events{/privacy}\",\"received_events_url\":\"https://api.github.com/users/web-flow/received_events\",\"type\":\"User\",\"user_view_type\":\"public\",\"site_admin\":false},\"parents\":[{\"sha\":\"66d6ee422e450ba7e6c050a8ea90db257bc93649\",\"url\":\"https://api.github.com/repos/tidyverse/ggplot2/commits/66d6ee422e450ba7e6c050a8ea90db257bc93649\",\"html_url\":\"https://github.com/tidyverse/ggplot2/commit/66d6ee422e450ba7e6c050a8ea90db257bc93649\"}]},{\"sha\":\"66d6ee422e450ba7e6c050a8ea90db257bc93649\",\"node_id\":\"C_kwDNS-7aACg2NmQ2ZWU0MjJlNDUwYmE3ZTZjMDUwYThlYTkwZGIyNTdiYzkzNjQ5\",\"commit\":{\"author\":{\"name\":\"Teun van den Brand\",\"email\":\"49372158+teunbrand@users.noreply.github.com\",\"date\":\"2025-01-28T12:27:38Z\"},\"committer\":{\"name\":\"GitHub\",\"email\":\"noreply@github.com\",\"date\":\"2025-01-28T12:27:38Z\"},\"message\":\"repair names that might have become lost (#6298)\",\"tree\":{\"sha\":\"21979b8d4f977c0c8c3785e5f04864ffde60514c\",\"url\":\"https://api.github.com/repos/tidyverse/ggplot2/git/trees/21979b8d4f977c0c8c3785e5f04864ffde60514c\"},\"url\":\"https://api.github.com/repos/tidyverse/ggplot2/git/commits/66d6ee422e450ba7e6c050a8ea90db257bc93649\",\"comment_count\":0,\"verification\":{\"verified\":true,\"reason\":\"valid\",\"signature\":\"-----BEGIN PGP SIGNATURE-----\\\\n\\\\nwsFcBAABCAAQBQJnmM06CRC1aQ7uu5UhlAAA/kkQAGNR9slW7xL5qhp0DUxDCih4\\\\n1anJYxFT92XAdzTpfhLnL9uaXd0XA3ft+yXuDUmm+1lC19N0i86MyC8HQr2okSps\\\\nCZmEkSP/5eMlsajWcnxHJndZad/5Nfd0etjrLDcO7iQQIS4qs1pfikxzQIKNefcf\\\\nGZJUCjaR/pfo7OGKGB1D1DTR+ZCOxJ87tohVoV7DpXPeLC4+pJz/8si3C1OPoUb9\\\\nNg3jM6+FOfXpV/okKC6GnfnCDc9Wal9LZyK92KY/Z2NyCAG/7rhlYLiFwdEnAFRS\\\\nTHPRIi56yx/nJ10qMad8V9+5KPMJ/nYesEEzJDWZg5zcBQhvtPHlA0s0B5HMJvyt\\\\nmlH1tUzyeTcGFsD1X9KNHFQ9lQTjX9bG+VeoC93HgV16H+DxUSngJ/95KVOOE1Qc\\\\n95nYLFTKlOAiGd+Yrxx+k1QuyJfmO4qQfD4sPbZsyDvzcCs9saqKgXVv/ZOut/RN\\\\nEzsdmZvz0aFFsQId9s2zI1z3AWu9Weo8B3JC70s2QF7EqUvPSssJXKLwTWM9KW6J\\\\nR3PLwtZThR0jv3Kk0eequRii+hmorZ+k0OyMdZivw5ruzfKiPl3k4GORqZ6yLRif\\\\nNf/hGa7IDG6KF5dzulAkxELapt3l8iZwZbjcaGzL7tWznR/bcW4PMnUPtNmD5/df\\\\nSkBH0xCwICXZnBzoRCQs\\\\n=NNaj\\\\n-----END PGP SIGNATURE-----\\\\n\",\"payload\":\"tree 21979b8d4f977c0c8c3785e5f04864ffde60514c\\\\nparent 8ef9c6ef3d3b9e26c862829f8cf6a0821b46c190\\\\nauthor Teun van den Brand <49372158+teunbrand@users.noreply.github.com> 1738067258 +0100\\\\ncommitter GitHub <noreply@github.com> 1738067258 +0100\\\\n\\\\nrepair names that might have become lost (#6298)\\\\n\\\\n\",\"verified_at\":\"2025-01-28T12:27:41Z\"}},\"url\":\"https://api.github.com/repos/tidyverse/ggplot2/commits/66d6ee422e450ba7e6c050a8ea90db257bc93649\",\"html_url\":\"https://github.com/tidyverse/ggplot2/commit/66d6ee422e450ba7e6c050a8ea90db257bc93649\",\"comments_url\":\"https://api.github.com/repos/tidyverse/ggplot2/commits/66d6ee422e450ba7e6c050a8ea90db257bc93649/comments\",\"author\":{\"login\":\"teunbrand\",\"id\":49372158,\"node_id\":\"MDQ6VXNlcjQ5MzcyMTU4\",\"avatar_url\":\"https://avatars.githubusercontent.com/u/49372158?v=4\",\"gravatar_id\":\"\",\"url\":\"https://api.github.com/users/teunbrand\",\"html_url\":\"https://github.com/teunbrand\",\"followers_url\":\"https://api.github.com/users/teunbrand/followers\",\"following_url\":\"https://api.github.com/users/teunbrand/following{/other_user}\",\"gists_url\":\"https://api.github.com/users/teunbrand/gists{/gist_id}\",\"starred_url\":\"https://api.github.com/users/teunbrand/starred{/owner}{/repo}\",\"subscriptions_url\":\"https://api.github.com/users/teunbrand/subscriptions\",\"organizations_url\":\"https://api.github.com/users/teunbrand/orgs\",\"repos_url\":\"https://api.github.com/users/teunbrand/repos\",\"events_url\":\"https://api.github.com/users/teunbrand/events{/privacy}\",\"received_events_url\":\"https://api.github.com/users/teunbrand/received_events\",\"type\":\"User\",\"user_view_type\":\"public\",\"site_admin\":false},\"committer\":{\"login\":\"web-flow\",\"id\":19864447,\"node_id\":\"MDQ6VXNlcjE5ODY0NDQ3\",\"avatar_url\":\"https://avatars.githubusercontent.com/u/19864447?v=4\",\"gravatar_id\":\"\",\"url\":\"https://api.github.com/users/web-flow\",\"html_url\":\"https://github.com/web-flow\",\"followers_url\":\"https://api.github.com/users/web-flow/followers\",\"following_url\":\"https://api.github.com/users/web-flow/following{/other_user}\",\"gists_url\":\"https://api.github.com/users/web-flow/gists{/gist_id}\",\"starred_url\":\"https://api.github.com/users/web-flow/starred{/owner}{/repo}\",\"subscriptions_url\":\"https://api.github.com/users/web-flow/subscriptions\",\"organizations_url\":\"https://api.github.com/users/web-flow/orgs\",\"repos_url\":\"https://api.github.com/users/web-flow/repos\",\"events_url\":\"https://api.github.com/users/web-flow/events{/privacy}\",\"received_events_url\":\"https://api.github.com/users/web-flow/received_events\",\"type\":\"User\",\"user_view_type\":\"public\",\"site_admin\":false},\"parents\":[{\"sha\":\"8ef9c6ef3d3b9e26c862829f8cf6a0821b46c190\",\"url\":\"https://api.github.com/repos/tidyverse/ggplot2/commits/8ef9c6ef3d3b9e26c862829f8cf6a0821b46c190\",\"html_url\":\"https://github.com/tidyverse/ggplot2/commit/8ef9c6ef3d3b9e26c862829f8cf6a0821b46c190\"}]},{\"sha\":\"8ef9c6ef3d3b9e26c862829f8cf6a0821b46c190\",\"node_id\":\"C_kwDNS-7aACg4ZWY5YzZlZjNkM2I5ZTI2Yzg2MjgyOWY4Y2Y2YTA4MjFiNDZjMTkw\",\"commit\":{\"author\":{\"name\":\"Teun van den Brand\",\"email\":\"49372158+teunbrand@users.noreply.github.com\",\"date\":\"2025-01-28T12:26:54Z\"},\"committer\":{\"name\":\"GitHub\",\"email\":\"noreply@github.com\",\"date\":\"2025-01-28T12:26:54Z\"},\"message\":\"replace `vec_slice()` (#6297)\",\"tree\":{\"sha\":\"0e0f5b48f990c504abff879e98c9121ed3642271\",\"url\":\"https://api.github.com/repos/tidyverse/ggplot2/git/trees/0e0f5b48f990c504abff879e98c9121ed3642271\"},\"url\":\"https://api.github.com/repos/tidyverse/ggplot2/git/commits/8ef9c6ef3d3b9e26c862829f8cf6a0821b46c190\",\"comment_count\":0,\"verification\":{\"verified\":true,\"reason\":\"valid\",\"signature\":\"-----BEGIN PGP SIGNATURE-----\\\\n\\\\nwsFcBAABCAAQBQJnmM0OCRC1aQ7uu5UhlAAA6SAQAF6UHAmB1UQ6FK/pkECDNIUR\\\\nT18XnVPqKGy2VrL1BtA8NXSi4+zRwZKARqbZt+eEpM5mH6BPEIzvUrmWQgxEgYy6\\\\ncMHRcXBqkSuJTvmFMuleQnWmx6VtPA1LJjsBevzE4eXuN4YyM3SeqEUT/DBpRRy1\\\\nlwwnh/5IuIO+mlzffpS2st6z1Poy2MbgvuWR3PZzUxznZdzzGCoYaUAAh/Ud2t+4\\\\nCBe3LSTTY5CmGz+39DRlOwUrqg9zdNdu/wqhu4I9kNxaH010DLjc+SIXZDjlE/wZ\\\\nQuCPrtxCO539HwrP+nu2g0pIdgJHwkfHTihGLPMPkSAyp6+hfcbDeFPxBnlkne3b\\\\n9rUyucGvs2i0PaePPsDIkQNTEPFyrlOGMae9qWh0cqlDnFs958TIcPw63SZzsTKJ\\\\nVWehr8KHKUVbwZoI3UkI/SGC4eu0N2DdWShTXK4S/mX3zTIZNiLXv68/6CMFn6li\\\\nyO23LCD8EGyxJ3OxWLiLVpyK+n6RTq7YBmAVYYdzN+S14pmJt1KVBnNaQXndlaCp\\\\nFg/NqQTObSv5R4YilLIIIA6iSXHrHGd4dkfMkcbCvXAT4Cidserh+XqfEn1kvY5o\\\\nym/KwdiZZpgbYeKm6C1x7lgs0PwGpwWKPYTUfIpDNTjYjjFz4NQmewqQNsmzHwmU\\\\n9lAplfrQ8UUAYQPJE37I\\\\n=6snI\\\\n-----END PGP SIGNATURE-----\\\\n\",\"payload\":\"tree 0e0f5b48f990c504abff879e98c9121ed3642271\\\\nparent aeaed9a4896b1315410c7df26ba44e0641f49f89\\\\nauthor Teun van den Brand <49372158+teunbrand@users.noreply.github.com> 1738067214 +0100\\\\ncommitter GitHub <noreply@github.com> 1738067214 +0100\\\\n\\\\nreplace `vec_slice()` (#6297)\\\\n\\\\n\",\"verified_at\":\"2025-01-28T12:26:57Z\"}},\"url\":\"https://api.github.com/repos/tidyverse/ggplot2/commits/8ef9c6ef3d3b9e26c862829f8cf6a0821b46c190\",\"html_url\":\"https://github.com/tidyverse/ggplot2/commit/8ef9c6ef3d3b9e26c862829f8cf6a0821b46c190\",\"comments_url\":\"https://api.github.com/repos/tidyverse/ggplot2/commits/8ef9c6ef3d3b9e26c862829f8cf6a0821b46c190/comments\",\"author\":{\"login\":\"teunbrand\",\"id\":49372158,\"node_id\":\"MDQ6VXNlcjQ5MzcyMTU4\",\"avatar_url\":\"https://avatars.githubusercontent.com/u/49372158?v=4\",\"gravatar_id\":\"\",\"url\":\"https://api.github.com/users/teunbrand\",\"html_url\":\"https://github.com/teunbrand\",\"followers_url\":\"https://api.github.com/users/teunbrand/followers\",\"following_url\":\"https://api.github.com/users/teunbrand/following{/other_user}\",\"gists_url\":\"https://api.github.com/users/teunbrand/gists{/gist_id}\",\"starred_url\":\"https://api.github.com/users/teunbrand/starred{/owner}{/repo}\",\"subscriptions_url\":\"https://api.github.com/users/teunbrand/subscriptions\",\"organizations_url\":\"https://api.github.com/users/teunbrand/orgs\",\"repos_url\":\"https://api.github.com/users/teunbrand/repos\",\"events_url\":\"https://api.github.com/users/teunbrand/events{/privacy}\",\"received_events_url\":\"https://api.github.com/users/teunbrand/received_events\",\"type\":\"User\",\"user_view_type\":\"public\",\"site_admin\":false},\"committer\":{\"login\":\"web-flow\",\"id\":19864447,\"node_id\":\"MDQ6VXNlcjE5ODY0NDQ3\",\"avatar_url\":\"https://avatars.githubusercontent.com/u/19864447?v=4\",\"gravatar_id\":\"\",\"url\":\"https://api.github.com/users/web-flow\",\"html_url\":\"https://github.com/web-flow\",\"followers_url\":\"https://api.github.com/users/web-flow/followers\",\"following_url\":\"https://api.github.com/users/web-flow/following{/other_user}\",\"gists_url\":\"https://api.github.com/users/web-flow/gists{/gist_id}\",\"starred_url\":\"https://api.github.com/users/web-flow/starred{/owner}{/repo}\",\"subscriptions_url\":\"https://api.github.com/users/web-flow/subscriptions\",\"organizations_url\":\"https://api.github.com/users/web-flow/orgs\",\"repos_url\":\"https://api.github.com/users/web-flow/repos\",\"events_url\":\"https://api.github.com/users/web-flow/events{/privacy}\",\"received_events_url\":\"https://api.github.com/users/web-flow/received_events\",\"type\":\"User\",\"user_view_type\":\"public\",\"site_admin\":false},\"parents\":[{\"sha\":\"aeaed9a4896b1315410c7df26ba44e0641f49f89\",\"url\":\"https://api.github.com/repos/tidyverse/ggplot2/commits/aeaed9a4896b1315410c7df26ba44e0641f49f89\",\"html_url\":\"https://github.com/tidyverse/ggplot2/commit/aeaed9a4896b1315410c7df26ba44e0641f49f89\"}]},{\"sha\":\"aeaed9a4896b1315410c7df26ba44e0641f49f89\",\"node_id\":\"C_kwDNS-7aAChhZWFlZDlhNDg5NmIxMzE1NDEwYzdkZjI2YmE0NGUwNjQxZjQ5Zjg5\",\"commit\":{\"author\":{\"name\":\"Teun van den Brand\",\"email\":\"49372158+teunbrand@users.noreply.github.com\",\"date\":\"2025-01-28T12:26:32Z\"},\"committer\":{\"name\":\"GitHub\",\"email\":\"noreply@github.com\",\"date\":\"2025-01-28T12:26:32Z\"},\"message\":\"🚑 Fix for revdep problem with adding `NULL` to theme (#6296)\\\\n\\\\n* use `add_theme()` directly\\\\r\\\\n\\\\r\\\\n* fallback for invalid `legend.position`\",\"tree\":{\"sha\":\"9524e37ba5963f1724952dcf314554c3c889d30e\",\"url\":\"https://api.github.com/repos/tidyverse/ggplot2/git/trees/9524e37ba5963f1724952dcf314554c3c889d30e\"},\"url\":\"https://api.github.com/repos/tidyverse/ggplot2/git/commits/aeaed9a4896b1315410c7df26ba44e0641f49f89\",\"comment_count\":0,\"verification\":{\"verified\":true,\"reason\":\"valid\",\"signature\":\"-----BEGIN PGP SIGNATURE-----\\\\n\\\\nwsFcBAABCAAQBQJnmMz4CRC1aQ7uu5UhlAAASzwQAGVhyCVwLxmZP+DCQZZ7Rpbn\\\\nXE/vy/Zm4Zt8NkR+1fnIDTex8+Hkl0Kv2GqontoSQIVvo6dnFPARUKd9vpPH9QOj\\\\nS73J361njfKWv3wTJwUGlN4e3M628kzsYbq3sQ3WiIA7zCrsQHT3Bl4fSKL1B8LG\\\\n1XDO8ujuod8fDg/+Y9q4JuxqXXEwQIlWNHGuZn1rjM40HU2UDIPjIhvqreIYCos/\\\\neuw7IJ6C3nvckRIcxNZuF6aFiJepkUAfTDwGYETCXUB9n517Q28yhMFqU66uB3Oy\\\\nqP/Sdshfe3/CjdQ6jaQoRsd7AMoLKDjsrZNOgyEIrRZ1wAQiA5qzlwBYHd4dqzJD\\\\n/u2ka+s0hGJZEa6aSeSeSggaRsS/hYmfDBVelC+i3y82X46gXiXnhcfNFhbZbC/6\\\\ngbh9QyEa6Te0hVX1ozLuDIpK9Ec0hDIXhVPScwQyALbenPIv/2d1AiaQLMitiTcV\\\\nfpVuhTKyxd/KhP2Anvxv431f7DCMOeoIAzBbXwMeaTsPG4aIsCkNVAcWfRn6hjGg\\\\nhWGr7Z9TkstRQfoAvH4tx82oJKkfVI9RXgincFCXdQrZbH62YVbR22A2sD9J7YXT\\\\npuz6nKp+eMiOTiBcoMFXw3SB5kDhz40438FmREz1h8teQgy1T636b04isPOhFnpA\\\\nYav8IPI3vSoD7V7TAtSm\\\\n=KmQ+\\\\n-----END PGP SIGNATURE-----\\\\n\",\"payload\":\"tree 9524e37ba5963f1724952dcf314554c3c889d30e\\\\nparent f82879419f93b192cf2d0a4040ece2dafb0d6f16\\\\nauthor Teun van den Brand <49372158+teunbrand@users.noreply.github.com> 1738067192 +0100\\\\ncommitter GitHub <noreply@github.com> 1738067192 +0100\\\\n\\\\n🚑 Fix for revdep problem with adding `NULL` to theme (#6296)\\\\n\\\\n* use `add_theme()` directly\\\\r\\\\n\\\\r\\\\n* fallback for invalid `legend.position`\",\"verified_at\":\"2025-01-28T12:26:35Z\"}},\"url\":\"https://api.github.com/repos/tidyverse/ggplot2/commits/aeaed9a4896b1315410c7df26ba44e0641f49f89\",\"html_url\":\"https://github.com/tidyverse/ggplot2/commit/aeaed9a4896b1315410c7df26ba44e0641f49f89\",\"comments_url\":\"https://api.github.com/repos/tidyverse/ggplot2/commits/aeaed9a4896b1315410c7df26ba44e0641f49f89/comments\",\"author\":{\"login\":\"teunbrand\",\"id\":49372158,\"node_id\":\"MDQ6VXNlcjQ5MzcyMTU4\",\"avatar_url\":\"https://avatars.githubusercontent.com/u/49372158?v=4\",\"gravatar_id\":\"\",\"url\":\"https://api.github.com/users/teunbrand\",\"html_url\":\"https://github.com/teunbrand\",\"followers_url\":\"https://api.github.com/users/teunbrand/followers\",\"following_url\":\"https://api.github.com/users/teunbrand/following{/other_user}\",\"gists_url\":\"https://api.github.com/users/teunbrand/gists{/gist_id}\",\"starred_url\":\"https://api.github.com/users/teunbrand/starred{/owner}{/repo}\",\"subscriptions_url\":\"https://api.github.com/users/teunbrand/subscriptions\",\"organizations_url\":\"https://api.github.com/users/teunbrand/orgs\",\"repos_url\":\"https://api.github.com/users/teunbrand/repos\",\"events_url\":\"https://api.github.com/users/teunbrand/events{/privacy}\",\"received_events_url\":\"https://api.github.com/users/teunbrand/received_events\",\"type\":\"User\",\"user_view_type\":\"public\",\"site_admin\":false},\"committer\":{\"login\":\"web-flow\",\"id\":19864447,\"node_id\":\"MDQ6VXNlcjE5ODY0NDQ3\",\"avatar_url\":\"https://avatars.githubusercontent.com/u/19864447?v=4\",\"gravatar_id\":\"\",\"url\":\"https://api.github.com/users/web-flow\",\"html_url\":\"https://github.com/web-flow\",\"followers_url\":\"https://api.github.com/users/web-flow/followers\",\"following_url\":\"https://api.github.com/users/web-flow/following{/other_user}\",\"gists_url\":\"https://api.github.com/users/web-flow/gists{/gist_id}\",\"starred_url\":\"https://api.github.com/users/web-flow/starred{/owner}{/repo}\",\"subscriptions_url\":\"https://api.github.com/users/web-flow/subscriptions\",\"organizations_url\":\"https://api.github.com/users/web-flow/orgs\",\"repos_url\":\"https://api.github.com/users/web-flow/repos\",\"events_url\":\"https://api.github.com/users/web-flow/events{/privacy}\",\"received_events_url\":\"https://api.github.com/users/web-flow/received_events\",\"type\":\"User\",\"user_view_type\":\"public\",\"site_admin\":false},\"parents\":[{\"sha\":\"f82879419f93b192cf2d0a4040ece2dafb0d6f16\",\"url\":\"https://api.github.com/repos/tidyverse/ggplot2/commits/f82879419f93b192cf2d0a4040ece2dafb0d6f16\",\"html_url\":\"https://github.com/tidyverse/ggplot2/commit/f82879419f93b192cf2d0a4040ece2dafb0d6f16\"}]},{\"sha\":\"f82879419f93b192cf2d0a4040ece2dafb0d6f16\",\"node_id\":\"C_kwDNS-7aAChmODI4Nzk0MTlmOTNiMTkyY2YyZDBhNDA0MGVjZTJkYWZiMGQ2ZjE2\",\"commit\":{\"author\":{\"name\":\"Teun van den Brand\",\"email\":\"49372158+teunbrand@users.noreply.github.com\",\"date\":\"2025-01-28T12:25:24Z\"},\"committer\":{\"name\":\"GitHub\",\"email\":\"noreply@github.com\",\"date\":\"2025-01-28T12:25:24Z\"},\"message\":\"✨ Using date breaks/minor breaks/labels in time scales. (#6282)\\\\n\\\\n* Allow `transform = \\\\\"hms\\\\\"` in `datetime_scale()`\\\\r\\\\n\\\\r\\\\n* add date arguments to time scales\\\\r\\\\n\\\\r\\\\n* use `datetime_scale()` in time scales\\\\r\\\\n\\\\r\\\\n* allow for additional underscore args\\\\r\\\\n\\\\r\\\\n* inherit position scale\\\\r\\\\n\\\\r\\\\n* `label_time()` can handle both <POSIXt> *and* <difftime> classes\\\\r\\\\n\\\\r\\\\n* add test\\\\r\\\\n\\\\r\\\\n* add news bullet\\\\r\\\\n\\\\r\\\\n* redocument\\\\r\\\\n\\\\r\\\\n* work in a skip\\\\r\\\\n\\\\r\\\\n* Revert \\\\\"`label_time()` can handle both <POSIXt> *and* <difftime> classes\\\\\"\\\\r\\\\n\\\\r\\\\nThis reverts commit adcd2cb13ee94048af044e46a9abe832dac6ff9c.\\\\r\\\\n\\\\r\\\\n* separate labelling logic\",\"tree\":{\"sha\":\"c28f79b277538240f23d86448a7aab190517840d\",\"url\":\"https://api.github.com/repos/tidyverse/ggplot2/git/trees/c28f79b277538240f23d86448a7aab190517840d\"},\"url\":\"https://api.github.com/repos/tidyverse/ggplot2/git/commits/f82879419f93b192cf2d0a4040ece2dafb0d6f16\",\"comment_count\":0,\"verification\":{\"verified\":true,\"reason\":\"valid\",\"signature\":\"-----BEGIN PGP SIGNATURE-----\\\\n\\\\nwsFcBAABCAAQBQJnmMy0CRC1aQ7uu5UhlAAA2AsQAA4aO16xwN1Lvk4xsnXgbRkF\\\\nkRJinIh8yDDX8E5fO36fq/tIPCPM2/etXgwNn6++hPeFxho1dnHZ03NatRrH4cuU\\\\nx7v9s1gDYHnM1VBvb4RDBKOJvYk7fv6vn+XobM40SDDgSpslXCL7Hr6wD2GbZbzO\\\\nuVlWUUq9uYtQOJwifNZogoQ7oCQxHN7DqfNMQ0sWssLdQd8o0liwWylq/hhL3UYa\\\\ns/Wnt7CHnKWwbrxLk1/6inH8GwsBendkQyZruysrxxxzOLgIVGjXjnYe3Rv4aei9\\\\nZgGTpUsa3her4zpsEbLUcmReWtGylF736NrUs6KSGODYdz5s16lDL+0D73jz+GZs\\\\nxcANIsNh5Et0b62hC8DJsEPE2vj04R5O4S9TbUlz0yjG5hudMLCUJ8lNhgfSZnei\\\\nxgep3jI66xWZk02vFnzLYrbwjzaUsvZmXSzqKSdrSUORPaLKpasYjrVer+n+DgPk\\\\n+wuQMKKOhcZQSubKG57aG/27uvADcvrMScZA2c3OuqyqNp8+EDuXxWyg5jIs3GsR\\\\naszZaagYbn78JSPhltwILKde4jZSbUl0nCYj8G6RVzupKCGuqBIbsW2X50DD61OH\\\\nciQ4goo/iKA+Hn5SINZS8sFo8aR83e3uLEgRzz5eglyBvBj5Q9lNS6aY464jPceg\\\\nxvPtC6Zr7VYLwSycY4bp\\\\n=fD8m\\\\n-----END PGP SIGNATURE-----\\\\n\",\"payload\":\"tree c28f79b277538240f23d86448a7aab190517840d\\\\nparent f2ad9484b2c92fee84a002ba12898510cb7ec4da\\\\nauthor Teun van den Brand <49372158+teunbrand@users.noreply.github.com> 1738067124 +0100\\\\ncommitter GitHub <noreply@github.com> 1738067124 +0100\\\\n\\\\n✨ Using date breaks/minor breaks/labels in time scales. (#6282)\\\\n\\\\n* Allow `transform = \\\\\"hms\\\\\"` in `datetime_scale()`\\\\r\\\\n\\\\r\\\\n* add date arguments to time scales\\\\r\\\\n\\\\r\\\\n* use `datetime_scale()` in time scales\\\\r\\\\n\\\\r\\\\n* allow for additional underscore args\\\\r\\\\n\\\\r\\\\n* inherit position scale\\\\r\\\\n\\\\r\\\\n* `label_time()` can handle both <POSIXt> *and* <difftime> classes\\\\r\\\\n\\\\r\\\\n* add test\\\\r\\\\n\\\\r\\\\n* add news bullet\\\\r\\\\n\\\\r\\\\n* redocument\\\\r\\\\n\\\\r\\\\n* work in a skip\\\\r\\\\n\\\\r\\\\n* Revert \\\\\"`label_time()` can handle both <POSIXt> *and* <difftime> classes\\\\\"\\\\r\\\\n\\\\r\\\\nThis reverts commit adcd2cb13ee94048af044e46a9abe832dac6ff9c.\\\\r\\\\n\\\\r\\\\n* separate labelling logic\",\"verified_at\":\"2025-01-28T12:25:27Z\"}},\"url\":\"https://api.github.com/repos/tidyverse/ggplot2/commits/f82879419f93b192cf2d0a4040ece2dafb0d6f16\",\"html_url\":\"https://github.com/tidyverse/ggplot2/commit/f82879419f93b192cf2d0a4040ece2dafb0d6f16\",\"comments_url\":\"https://api.github.com/repos/tidyverse/ggplot2/commits/f82879419f93b192cf2d0a4040ece2dafb0d6f16/comments\",\"author\":{\"login\":\"teunbrand\",\"id\":49372158,\"node_id\":\"MDQ6VXNlcjQ5MzcyMTU4\",\"avatar_url\":\"https://avatars.githubusercontent.com/u/49372158?v=4\",\"gravatar_id\":\"\",\"url\":\"https://api.github.com/users/teunbrand\",\"html_url\":\"https://github.com/teunbrand\",\"followers_url\":\"https://api.github.com/users/teunbrand/followers\",\"following_url\":\"https://api.github.com/users/teunbrand/following{/other_user}\",\"gists_url\":\"https://api.github.com/users/teunbrand/gists{/gist_id}\",\"starred_url\":\"https://api.github.com/users/teunbrand/starred{/owner}{/repo}\",\"subscriptions_url\":\"https://api.github.com/users/teunbrand/subscriptions\",\"organizations_url\":\"https://api.github.com/users/teunbrand/orgs\",\"repos_url\":\"https://api.github.com/users/teunbrand/repos\",\"events_url\":\"https://api.github.com/users/teunbrand/events{/privacy}\",\"received_events_url\":\"https://api.github.com/users/teunbrand/received_events\",\"type\":\"User\",\"user_view_type\":\"public\",\"site_admin\":false},\"committer\":{\"login\":\"web-flow\",\"id\":19864447,\"node_id\":\"MDQ6VXNlcjE5ODY0NDQ3\",\"avatar_url\":\"https://avatars.githubusercontent.com/u/19864447?v=4\",\"gravatar_id\":\"\",\"url\":\"https://api.github.com/users/web-flow\",\"html_url\":\"https://github.com/web-flow\",\"followers_url\":\"https://api.github.com/users/web-flow/followers\",\"following_url\":\"https://api.github.com/users/web-flow/following{/other_user}\",\"gists_url\":\"https://api.github.com/users/web-flow/gists{/gist_id}\",\"starred_url\":\"https://api.github.com/users/web-flow/starred{/owner}{/repo}\",\"subscriptions_url\":\"https://api.github.com/users/web-flow/subscriptions\",\"organizations_url\":\"https://api.github.com/users/web-flow/orgs\",\"repos_url\":\"https://api.github.com/users/web-flow/repos\",\"events_url\":\"https://api.github.com/users/web-flow/events{/privacy}\",\"received_events_url\":\"https://api.github.com/users/web-flow/received_events\",\"type\":\"User\",\"user_view_type\":\"public\",\"site_admin\":false},\"parents\":[{\"sha\":\"f2ad9484b2c92fee84a002ba12898510cb7ec4da\",\"url\":\"https://api.github.com/repos/tidyverse/ggplot2/commits/f2ad9484b2c92fee84a002ba12898510cb7ec4da\",\"html_url\":\"https://github.com/tidyverse/ggplot2/commit/f2ad9484b2c92fee84a002ba12898510cb7ec4da\"}]},{\"sha\":\"f2ad9484b2c92fee84a002ba12898510cb7ec4da\",\"node_id\":\"C_kwDNS-7aAChmMmFkOTQ4NGIyYzkyZmVlODRhMDAyYmExMjg5ODUxMGNiN2VjNGRh\",\"commit\":{\"author\":{\"name\":\"Teun van den Brand\",\"email\":\"49372158+teunbrand@users.noreply.github.com\",\"date\":\"2025-01-28T12:19:10Z\"},\"committer\":{\"name\":\"GitHub\",\"email\":\"noreply@github.com\",\"date\":\"2025-01-28T12:19:10Z\"},\"message\":\"📝 Mention (`fill_`)`alpha()` in theme element docs (#6283)\\\\n\\\\n* mention alpha/fill_alpha in params\\\\r\\\\n\\\\r\\\\n* sprinkle comments in examples\",\"tree\":{\"sha\":\"aeebe826e57bdda6ac8da3ba3c0a2b9638d5b48a\",\"url\":\"https://api.github.com/repos/tidyverse/ggplot2/git/trees/aeebe826e57bdda6ac8da3ba3c0a2b9638d5b48a\"},\"url\":\"https://api.github.com/repos/tidyverse/ggplot2/git/commits/f2ad9484b2c92fee84a002ba12898510cb7ec4da\",\"comment_count\":0,\"verification\":{\"verified\":true,\"reason\":\"valid\",\"signature\":\"-----BEGIN PGP SIGNATURE-----\\\\n\\\\nwsFcBAABCAAQBQJnmMs+CRC1aQ7uu5UhlAAAbUMQAC9dba+2U0BnDT7QG4GkWyH1\\\\nVAIr02DTUEGt3dL45A0AJE5bkjitBiJCqmcvNrWhkbXbABR0+vN80sQrXJFWigCM\\\\n14PahQ6Coj5MdIkysZS9psOZnkpsG3b/xLDmMvAOxpFvll6+wBtax4yPp1KrNoRH\\\\nuv8dvtQ6ncFSrvuOcOxeFVYcwa6/W4RSEyj1fQ1KWHs+Ft2JVpsOqcpmlbFm9q4y\\\\nVtfxHP80EqoiEM5HCc38XUmXMZo5AL1GFW327zi0S+1hW60XqxrreAnY4X8veOUT\\\\nTgOuXeOkGXQ8PsJBH0ODOslNO7xPUIQmUhCbHp6YfGK75ayWgTr/0sdderhr9Z3W\\\\njG5Ur31daYs4/lmw9iP8pvQxVuhCwB2pHoRA9bqUor2AxvsjwnHTGXIJj2gJd8jF\\\\naM4rvNpYmaSE73Qi1UA8y+UnUSDVtpozMo/oaedIstrxi4DUaBZ6RrBIJhRLQDqr\\\\nzh8gxLrgDLBSf7INcO8314XUJBhEaHGp5yCBPmXtrmvLg+nQ7YUou+z3FWw8r8f0\\\\n+aoCr70j0lfiZ9EhBRgqQ3N7R1bw8xBnBN1i0fX5+0KemR0QBIW0+X1qjPzVHALq\\\\n/05jGrORnE3aWnhrWmVMu3ulPt2vDoUxer9kNO/tD+r5DrQHK1/PounZT1kkneHi\\\\ne1nNONV+bQIDxnynZ4Dl\\\\n=lFe9\\\\n-----END PGP SIGNATURE-----\\\\n\",\"payload\":\"tree aeebe826e57bdda6ac8da3ba3c0a2b9638d5b48a\\\\nparent a85c6a268699721e3fbb12e53b08a3d82c89c272\\\\nauthor Teun van den Brand <49372158+teunbrand@users.noreply.github.com> 1738066750 +0100\\\\ncommitter GitHub <noreply@github.com> 1738066750 +0100\\\\n\\\\n📝 Mention (`fill_`)`alpha()` in theme element docs (#6283)\\\\n\\\\n* mention alpha/fill_alpha in params\\\\r\\\\n\\\\r\\\\n* sprinkle comments in examples\",\"verified_at\":\"2025-01-28T12:19:15Z\"}},\"url\":\"https://api.github.com/repos/tidyverse/ggplot2/commits/f2ad9484b2c92fee84a002ba12898510cb7ec4da\",\"html_url\":\"https://github.com/tidyverse/ggplot2/commit/f2ad9484b2c92fee84a002ba12898510cb7ec4da\",\"comments_url\":\"https://api.github.com/repos/tidyverse/ggplot2/commits/f2ad9484b2c92fee84a002ba12898510cb7ec4da/comments\",\"author\":{\"login\":\"teunbrand\",\"id\":49372158,\"node_id\":\"MDQ6VXNlcjQ5MzcyMTU4\",\"avatar_url\":\"https://avatars.githubusercontent.com/u/49372158?v=4\",\"gravatar_id\":\"\",\"url\":\"https://api.github.com/users/teunbrand\",\"html_url\":\"https://github.com/teunbrand\",\"followers_url\":\"https://api.github.com/users/teunbrand/followers\",\"following_url\":\"https://api.github.com/users/teunbrand/following{/other_user}\",\"gists_url\":\"https://api.github.com/users/teunbrand/gists{/gist_id}\",\"starred_url\":\"https://api.github.com/users/teunbrand/starred{/owner}{/repo}\",\"subscriptions_url\":\"https://api.github.com/users/teunbrand/subscriptions\",\"organizations_url\":\"https://api.github.com/users/teunbrand/orgs\",\"repos_url\":\"https://api.github.com/users/teunbrand/repos\",\"events_url\":\"https://api.github.com/users/teunbrand/events{/privacy}\",\"received_events_url\":\"https://api.github.com/users/teunbrand/received_events\",\"type\":\"User\",\"user_view_type\":\"public\",\"site_admin\":false},\"committer\":{\"login\":\"web-flow\",\"id\":19864447,\"node_id\":\"MDQ6VXNlcjE5ODY0NDQ3\",\"avatar_url\":\"https://avatars.githubusercontent.com/u/19864447?v=4\",\"gravatar_id\":\"\",\"url\":\"https://api.github.com/users/web-flow\",\"html_url\":\"https://github.com/web-flow\",\"followers_url\":\"https://api.github.com/users/web-flow/followers\",\"following_url\":\"https://api.github.com/users/web-flow/following{/other_user}\",\"gists_url\":\"https://api.github.com/users/web-flow/gists{/gist_id}\",\"starred_url\":\"https://api.github.com/users/web-flow/starred{/owner}{/repo}\",\"subscriptions_url\":\"https://api.github.com/users/web-flow/subscriptions\",\"organizations_url\":\"https://api.github.com/users/web-flow/orgs\",\"repos_url\":\"https://api.github.com/users/web-flow/repos\",\"events_url\":\"https://api.github.com/users/web-flow/events{/privacy}\",\"received_events_url\":\"https://api.github.com/users/web-flow/received_events\",\"type\":\"User\",\"user_view_type\":\"public\",\"site_admin\":false},\"parents\":[{\"sha\":\"a85c6a268699721e3fbb12e53b08a3d82c89c272\",\"url\":\"https://api.github.com/repos/tidyverse/ggplot2/commits/a85c6a268699721e3fbb12e53b08a3d82c89c272\",\"html_url\":\"https://github.com/tidyverse/ggplot2/commit/a85c6a268699721e3fbb12e53b08a3d82c89c272\"}]},{\"sha\":\"a85c6a268699721e3fbb12e53b08a3d82c89c272\",\"node_id\":\"C_kwDNS-7aAChhODVjNmEyNjg2OTk3MjFlM2ZiYjEyZTUzYjA4YTNkODJjODljMjcy\",\"commit\":{\"author\":{\"name\":\"Teun van den Brand\",\"email\":\"49372158+teunbrand@users.noreply.github.com\",\"date\":\"2025-01-28T12:18:35Z\"},\"committer\":{\"name\":\"GitHub\",\"email\":\"noreply@github.com\",\"date\":\"2025-01-28T12:18:35Z\"},\"message\":\"🩹 Turn off `size` fallback from `GeomBar` (#6281)\\\\n\\\\n* turn off `size` fallback mechanism\\\\r\\\\n\\\\r\\\\n* add news bullet\",\"tree\":{\"sha\":\"afad512822bee9bfc93817a1565d212f0ee83dc9\",\"url\":\"https://api.github.com/repos/tidyverse/ggplot2/git/trees/afad512822bee9bfc93817a1565d212f0ee83dc9\"},\"url\":\"https://api.github.com/repos/tidyverse/ggplot2/git/commits/a85c6a268699721e3fbb12e53b08a3d82c89c272\",\"comment_count\":0,\"verification\":{\"verified\":true,\"reason\":\"valid\",\"signature\":\"-----BEGIN PGP SIGNATURE-----\\\\n\\\\nwsFcBAABCAAQBQJnmMsbCRC1aQ7uu5UhlAAAutIQAHaITbOH0YM3Y4yyaCJcB+NR\\\\njHuzZ8gFfeSGTPRndhabiGEKgAGIZuLgbvi+XSKwINhn/wl+w3XVG79f/DzuJ8UH\\\\naTipBER13FNm+SC9TR4KJ+XDwsHSsCyMZzrx0tRbm4HgFpXx6S5WDj9nTczDLNy/\\\\nrRFYxjwePknMLWbYu90FO/02ot/Y8Ho+X6a4G8oxYI+D2S0MmQ18kMX6qdRMqvuz\\\\nZyvDVwN+gqbkXu+E2FBfhhy9VZPLwFwklQtJnE1CKCMDfqIEALvZ60yMefrgvyAG\\\\njTx0uT8ylndFyePeEY3djNHW866PUcabemuNAHE2WLH2Rfjj/22GeY/+xLucRx/8\\\\nLS32zRfRXPCDmesrmzBg6IDCq6Y8owu3xmC/Bcz3gUYWQNHaAr1k7ckUmIHMh2CO\\\\nqIu/CMwk//TJyc5G6++EoG7paOhVRmB67MvRoe1sIx1TP2TOHKKp1fUAarSPedvA\\\\n7HPMlbOgzuniu3VEugCgZRzlNrEpeS1LxkgxG04xzkIXuvmo32tioU+jRE7QG5zJ\\\\n3ShM2RlUGHJMZke0pNqrBy2KYF9jkuSn0tY84GF7Y1femCyih26P04ATBQIVnTXL\\\\nJMWD7VuRLCU75P40ZxK1olHA7Ws1W29bxhlX4I3+neL/2ZqnTlf3JswCTrB+lw/o\\\\ncAgTr7gcuAe87ugK3Irh\\\\n=GcR9\\\\n-----END PGP SIGNATURE-----\\\\n\",\"payload\":\"tree afad512822bee9bfc93817a1565d212f0ee83dc9\\\\nparent b9d1c79da0f59405ffef2279ebe44b18a8dad697\\\\nauthor Teun van den Brand <49372158+teunbrand@users.noreply.github.com> 1738066715 +0100\\\\ncommitter GitHub <noreply@github.com> 1738066715 +0100\\\\n\\\\n🩹 Turn off `size` fallback from `GeomBar` (#6281)\\\\n\\\\n* turn off `size` fallback mechanism\\\\r\\\\n\\\\r\\\\n* add news bullet\",\"verified_at\":\"2025-01-28T12:18:54Z\"}},\"url\":\"https://api.github.com/repos/tidyverse/ggplot2/commits/a85c6a268699721e3fbb12e53b08a3d82c89c272\",\"html_url\":\"https://github.com/tidyverse/ggplot2/commit/a85c6a268699721e3fbb12e53b08a3d82c89c272\",\"comments_url\":\"https://api.github.com/repos/tidyverse/ggplot2/commits/a85c6a268699721e3fbb12e53b08a3d82c89c272/comments\",\"author\":{\"login\":\"teunbrand\",\"id\":49372158,\"node_id\":\"MDQ6VXNlcjQ5MzcyMTU4\",\"avatar_url\":\"https://avatars.githubusercontent.com/u/49372158?v=4\",\"gravatar_id\":\"\",\"url\":\"https://api.github.com/users/teunbrand\",\"html_url\":\"https://github.com/teunbrand\",\"followers_url\":\"https://api.github.com/users/teunbrand/followers\",\"following_url\":\"https://api.github.com/users/teunbrand/following{/other_user}\",\"gists_url\":\"https://api.github.com/users/teunbrand/gists{/gist_id}\",\"starred_url\":\"https://api.github.com/users/teunbrand/starred{/owner}{/repo}\",\"subscriptions_url\":\"https://api.github.com/users/teunbrand/subscriptions\",\"organizations_url\":\"https://api.github.com/users/teunbrand/orgs\",\"repos_url\":\"https://api.github.com/users/teunbrand/repos\",\"events_url\":\"https://api.github.com/users/teunbrand/events{/privacy}\",\"received_events_url\":\"https://api.github.com/users/teunbrand/received_events\",\"type\":\"User\",\"user_view_type\":\"public\",\"site_admin\":false},\"committer\":{\"login\":\"web-flow\",\"id\":19864447,\"node_id\":\"MDQ6VXNlcjE5ODY0NDQ3\",\"avatar_url\":\"https://avatars.githubusercontent.com/u/19864447?v=4\",\"gravatar_id\":\"\",\"url\":\"https://api.github.com/users/web-flow\",\"html_url\":\"https://github.com/web-flow\",\"followers_url\":\"https://api.github.com/users/web-flow/followers\",\"following_url\":\"https://api.github.com/users/web-flow/following{/other_user}\",\"gists_url\":\"https://api.github.com/users/web-flow/gists{/gist_id}\",\"starred_url\":\"https://api.github.com/users/web-flow/starred{/owner}{/repo}\",\"subscriptions_url\":\"https://api.github.com/users/web-flow/subscriptions\",\"organizations_url\":\"https://api.github.com/users/web-flow/orgs\",\"repos_url\":\"https://api.github.com/users/web-flow/repos\",\"events_url\":\"https://api.github.com/users/web-flow/events{/privacy}\",\"received_events_url\":\"https://api.github.com/users/web-flow/received_events\",\"type\":\"User\",\"user_view_type\":\"public\",\"site_admin\":false},\"parents\":[{\"sha\":\"b9d1c79da0f59405ffef2279ebe44b18a8dad697\",\"url\":\"https://api.github.com/repos/tidyverse/ggplot2/commits/b9d1c79da0f59405ffef2279ebe44b18a8dad697\",\"html_url\":\"https://github.com/tidyverse/ggplot2/commit/b9d1c79da0f59405ffef2279ebe44b18a8dad697\"}]},{\"sha\":\"b9d1c79da0f59405ffef2279ebe44b18a8dad697\",\"node_id\":\"C_kwDNS-7aAChiOWQxYzc5ZGEwZjU5NDA1ZmZlZjIyNzllYmU0NGIxOGE4ZGFkNjk3\",\"commit\":{\"author\":{\"name\":\"Teun van den Brand\",\"email\":\"49372158+teunbrand@users.noreply.github.com\",\"date\":\"2025-01-28T11:44:59Z\"},\"committer\":{\"name\":\"GitHub\",\"email\":\"noreply@github.com\",\"date\":\"2025-01-28T11:44:59Z\"},\"message\":\"✨ Justification for legend keys (#6279)\\\\n\\\\n* combine glyph layers into a single key earlier\\\\r\\\\n\\\\r\\\\n* new `key.justification` theme element\\\\r\\\\n\\\\r\\\\n* apply key justification\\\\r\\\\n\\\\r\\\\n* add test\\\\r\\\\n\\\\r\\\\n* add news bullet\",\"tree\":{\"sha\":\"17917b47caadc6e1792adeaee54a9114baf19944\",\"url\":\"https://api.github.com/repos/tidyverse/ggplot2/git/trees/17917b47caadc6e1792adeaee54a9114baf19944\"},\"url\":\"https://api.github.com/repos/tidyverse/ggplot2/git/commits/b9d1c79da0f59405ffef2279ebe44b18a8dad697\",\"comment_count\":0,\"verification\":{\"verified\":true,\"reason\":\"valid\",\"signature\":\"-----BEGIN PGP SIGNATURE-----\\\\n\\\\nwsFcBAABCAAQBQJnmMM7CRC1aQ7uu5UhlAAA9rUQACrE+/kINgzKg5LwJOlVRerV\\\\nHoOSy6MjEPLfje3XievXYllLQdFM+pFHmwt2E4AKQD3EVu1dNLKhuCrmGLwsCnxu\\\\nvVodVaMRazzVEx9Y9PutUAofo86rIeYWgksU1ePhWvgfvgHRZMOjpjTPTqeLm/ML\\\\n0hNtLgt/wW6/RqGZFDiPFxRqbJibIM4NgITXn9sCXJyLF6TKJfYhwDdrMmxSP1i0\\\\nTq02Kms+toUV4oZZyzyh2/zB5BU19ru4PHszl49oyNWYGkm791J2aCXt3TcdRkCv\\\\nPI3Mm6odxtZKCw7QcQy2QtiH8AuLE1JI2GqpFAva2fi20LzlY+5Tm4fwkV5Krsbp\\\\nStMP6dUFV1x0j7YeEhg/zthFGFd1qvxZO6LS8S+nHOfxFKJ8ZvnKLq2xiUxr+ukK\\\\nV3MNBg+Hzi5HucqsAU8LCScLp8g29q9y998263jWfL9+JnUDlU380PT0QajTHxTC\\\\nmc0Jx5pgQFUW7LXJZjR8iM7ShkEXpiC3mUR6Atef0uEfwbcpqsV4wQ6ieKdScQMJ\\\\n8Z2RFbQjSutvP/lCtdhzakYGA6JI2p3J86+I58PaxhtVh8HGiXpOQUNW35fnW+6J\\\\nefH0+OehkBww9Q/JitXO8OCZybyIDCThTzeHkiaVqnZnZkLB9Y+/Oo0qmaKfi7rE\\\\n80q/BnzsJjrCvm4nxvlr\\\\n=+v3H\\\\n-----END PGP SIGNATURE-----\\\\n\",\"payload\":\"tree 17917b47caadc6e1792adeaee54a9114baf19944\\\\nparent 09776db1488a85f370b0203b20e64fea660ef11d\\\\nauthor Teun van den Brand <49372158+teunbrand@users.noreply.github.com> 1738064699 +0100\\\\ncommitter GitHub <noreply@github.com> 1738064699 +0100\\\\n\\\\n✨ Justification for legend keys (#6279)\\\\n\\\\n* combine glyph layers into a single key earlier\\\\r\\\\n\\\\r\\\\n* new `key.justification` theme element\\\\r\\\\n\\\\r\\\\n* apply key justification\\\\r\\\\n\\\\r\\\\n* add test\\\\r\\\\n\\\\r\\\\n* add news bullet\",\"verified_at\":\"2025-01-28T11:45:14Z\"}},\"url\":\"https://api.github.com/repos/tidyverse/ggplot2/commits/b9d1c79da0f59405ffef2279ebe44b18a8dad697\",\"html_url\":\"https://github.com/tidyverse/ggplot2/commit/b9d1c79da0f59405ffef2279ebe44b18a8dad697\",\"comments_url\":\"https://api.github.com/repos/tidyverse/ggplot2/commits/b9d1c79da0f59405ffef2279ebe44b18a8dad697/comments\",\"author\":{\"login\":\"teunbrand\",\"id\":49372158,\"node_id\":\"MDQ6VXNlcjQ5MzcyMTU4\",\"avatar_url\":\"https://avatars.githubusercontent.com/u/49372158?v=4\",\"gravatar_id\":\"\",\"url\":\"https://api.github.com/users/teunbrand\",\"html_url\":\"https://github.com/teunbrand\",\"followers_url\":\"https://api.github.com/users/teunbrand/followers\",\"following_url\":\"https://api.github.com/users/teunbrand/following{/other_user}\",\"gists_url\":\"https://api.github.com/users/teunbrand/gists{/gist_id}\",\"starred_url\":\"https://api.github.com/users/teunbrand/starred{/owner}{/repo}\",\"subscriptions_url\":\"https://api.github.com/users/teunbrand/subscriptions\",\"organizations_url\":\"https://api.github.com/users/teunbrand/orgs\",\"repos_url\":\"https://api.github.com/users/teunbrand/repos\",\"events_url\":\"https://api.github.com/users/teunbrand/events{/privacy}\",\"received_events_url\":\"https://api.github.com/users/teunbrand/received_events\",\"type\":\"User\",\"user_view_type\":\"public\",\"site_admin\":false},\"committer\":{\"login\":\"web-flow\",\"id\":19864447,\"node_id\":\"MDQ6VXNlcjE5ODY0NDQ3\",\"avatar_url\":\"https://avatars.githubusercontent.com/u/19864447?v=4\",\"gravatar_id\":\"\",\"url\":\"https://api.github.com/users/web-flow\",\"html_url\":\"https://github.com/web-flow\",\"followers_url\":\"https://api.github.com/users/web-flow/followers\",\"following_url\":\"https://api.github.com/users/web-flow/following{/other_user}\",\"gists_url\":\"https://api.github.com/users/web-flow/gists{/gist_id}\",\"starred_url\":\"https://api.github.com/users/web-flow/starred{/owner}{/repo}\",\"subscriptions_url\":\"https://api.github.com/users/web-flow/subscriptions\",\"organizations_url\":\"https://api.github.com/users/web-flow/orgs\",\"repos_url\":\"https://api.github.com/users/web-flow/repos\",\"events_url\":\"https://api.github.com/users/web-flow/events{/privacy}\",\"received_events_url\":\"https://api.github.com/users/web-flow/received_events\",\"type\":\"User\",\"user_view_type\":\"public\",\"site_admin\":false},\"parents\":[{\"sha\":\"09776db1488a85f370b0203b20e64fea660ef11d\",\"url\":\"https://api.github.com/repos/tidyverse/ggplot2/commits/09776db1488a85f370b0203b20e64fea660ef11d\",\"html_url\":\"https://github.com/tidyverse/ggplot2/commit/09776db1488a85f370b0203b20e64fea660ef11d\"}]},{\"sha\":\"09776db1488a85f370b0203b20e64fea660ef11d\",\"node_id\":\"C_kwDNS-7aACgwOTc3NmRiMTQ4OGE4NWYzNzBiMDIwM2IyMGU2NGZlYTY2MGVmMTFk\",\"commit\":{\"author\":{\"name\":\"Teun van den Brand\",\"email\":\"49372158+teunbrand@users.noreply.github.com\",\"date\":\"2025-01-28T11:44:13Z\"},\"committer\":{\"name\":\"GitHub\",\"email\":\"noreply@github.com\",\"date\":\"2025-01-28T11:44:13Z\"},\"message\":\"🐛 Deal with empty radial axes  (#6272)\\\\n\\\\n* Avoid assigning NULL to list, thereby deleting the element\\\\r\\\\n\\\\r\\\\n* protect theta guide better against empty keys\\\\r\\\\n\\\\r\\\\n* add test\\\\r\\\\n\\\\r\\\\n* add news bullet\\\\r\\\\n\\\\r\\\\n* Fix partial match\\\\r\\\\n\\\\r\\\\n* fix another partial match\",\"tree\":{\"sha\":\"bb2356044471b0ec4c24cb2ef953c701d6c94489\",\"url\":\"https://api.github.com/repos/tidyverse/ggplot2/git/trees/bb2356044471b0ec4c24cb2ef953c701d6c94489\"},\"url\":\"https://api.github.com/repos/tidyverse/ggplot2/git/commits/09776db1488a85f370b0203b20e64fea660ef11d\",\"comment_count\":0,\"verification\":{\"verified\":true,\"reason\":\"valid\",\"signature\":\"-----BEGIN PGP SIGNATURE-----\\\\n\\\\nwsFcBAABCAAQBQJnmMMNCRC1aQ7uu5UhlAAAHJsQAHVvVqLLIbtvfXkUvyDWzW5H\\\\n6n/ayhsYMuEkzmKT2HeIh/lwJg2vK33kfr5EXq2y60eZJSLZgPT9c/dJxAfDIquC\\\\nnVWwz3ayLSBmvqXKZi3xb8wm0mYabeP4PuihhhxZpw4znFlh9hcLqSK2H1vINP3c\\\\nFjhXYhzCwTs7FZU0Jx5912T7FTrWbBG8JXjPjqQFJOPcEe2PL4Zp1n3R66twr7NV\\\\nsOAEr/+ioOCZ7qeh7NY2iWLyHf+RUjgiGNrtEempW/hYPI5aZaiVZsOWbYHtNuiS\\\\nxkNAEtv1qDo7GSqNaF5jaifOJ9u5MtHRSfFNb7751qmZXBvnnmAGQ4Zs5cASmyVz\\\\ntR9ru3Yu1TIb/g5i8G39LUYKBPYZAt5MbGad/zI8JB5MBeueFrpuMlxczVGWdLtX\\\\nrmn6ssVZZDCs2TytleH73OUl2LUW9TIRw3IE0O+hZAFWOuHRs2vXxwSQhUwyymzf\\\\njNE830tTJIXk5XuH+W4kwVEUKbyeOYXHAXEjFlRw97HTZuA052aGEn3i6q4svWY3\\\\nwPHmtikkb1RJ/wOz2lLeehu4s79H57LTGrjsW3AQviWFrpPkaCKIUNY4i8WhYWO3\\\\nFybdSJWkPg5Szy8DQHHdBXpQOuXpSZOMBpLRAxoAoA+WJl7rPvdCZTgPyUvDGFRT\\\\nOHcVdIH1wMZy2qP9ijJH\\\\n=tUJk\\\\n-----END PGP SIGNATURE-----\\\\n\",\"payload\":\"tree bb2356044471b0ec4c24cb2ef953c701d6c94489\\\\nparent 12d1c98fd4efd60f05d0e50409c2244c701255b9\\\\nauthor Teun van den Brand <49372158+teunbrand@users.noreply.github.com> 1738064653 +0100\\\\ncommitter GitHub <noreply@github.com> 1738064653 +0100\\\\n\\\\n🐛 Deal with empty radial axes  (#6272)\\\\n\\\\n* Avoid assigning NULL to list, thereby deleting the element\\\\r\\\\n\\\\r\\\\n* protect theta guide better against empty keys\\\\r\\\\n\\\\r\\\\n* add test\\\\r\\\\n\\\\r\\\\n* add news bullet\\\\r\\\\n\\\\r\\\\n* Fix partial match\\\\r\\\\n\\\\r\\\\n* fix another partial match\",\"verified_at\":\"2025-01-28T11:44:16Z\"}},\"url\":\"https://api.github.com/repos/tidyverse/ggplot2/commits/09776db1488a85f370b0203b20e64fea660ef11d\",\"html_url\":\"https://github.com/tidyverse/ggplot2/commit/09776db1488a85f370b0203b20e64fea660ef11d\",\"comments_url\":\"https://api.github.com/repos/tidyverse/ggplot2/commits/09776db1488a85f370b0203b20e64fea660ef11d/comments\",\"author\":{\"login\":\"teunbrand\",\"id\":49372158,\"node_id\":\"MDQ6VXNlcjQ5MzcyMTU4\",\"avatar_url\":\"https://avatars.githubusercontent.com/u/49372158?v=4\",\"gravatar_id\":\"\",\"url\":\"https://api.github.com/users/teunbrand\",\"html_url\":\"https://github.com/teunbrand\",\"followers_url\":\"https://api.github.com/users/teunbrand/followers\",\"following_url\":\"https://api.github.com/users/teunbrand/following{/other_user}\",\"gists_url\":\"https://api.github.com/users/teunbrand/gists{/gist_id}\",\"starred_url\":\"https://api.github.com/users/teunbrand/starred{/owner}{/repo}\",\"subscriptions_url\":\"https://api.github.com/users/teunbrand/subscriptions\",\"organizations_url\":\"https://api.github.com/users/teunbrand/orgs\",\"repos_url\":\"https://api.github.com/users/teunbrand/repos\",\"events_url\":\"https://api.github.com/users/teunbrand/events{/privacy}\",\"received_events_url\":\"https://api.github.com/users/teunbrand/received_events\",\"type\":\"User\",\"user_view_type\":\"public\",\"site_admin\":false},\"committer\":{\"login\":\"web-flow\",\"id\":19864447,\"node_id\":\"MDQ6VXNlcjE5ODY0NDQ3\",\"avatar_url\":\"https://avatars.githubusercontent.com/u/19864447?v=4\",\"gravatar_id\":\"\",\"url\":\"https://api.github.com/users/web-flow\",\"html_url\":\"https://github.com/web-flow\",\"followers_url\":\"https://api.github.com/users/web-flow/followers\",\"following_url\":\"https://api.github.com/users/web-flow/following{/other_user}\",\"gists_url\":\"https://api.github.com/users/web-flow/gists{/gist_id}\",\"starred_url\":\"https://api.github.com/users/web-flow/starred{/owner}{/repo}\",\"subscriptions_url\":\"https://api.github.com/users/web-flow/subscriptions\",\"organizations_url\":\"https://api.github.com/users/web-flow/orgs\",\"repos_url\":\"https://api.github.com/users/web-flow/repos\",\"events_url\":\"https://api.github.com/users/web-flow/events{/privacy}\",\"received_events_url\":\"https://api.github.com/users/web-flow/received_events\",\"type\":\"User\",\"user_view_type\":\"public\",\"site_admin\":false},\"parents\":[{\"sha\":\"12d1c98fd4efd60f05d0e50409c2244c701255b9\",\"url\":\"https://api.github.com/repos/tidyverse/ggplot2/commits/12d1c98fd4efd60f05d0e50409c2244c701255b9\",\"html_url\":\"https://github.com/tidyverse/ggplot2/commit/12d1c98fd4efd60f05d0e50409c2244c701255b9\"}]},{\"sha\":\"12d1c98fd4efd60f05d0e50409c2244c701255b9\",\"node_id\":\"C_kwDNS-7aACgxMmQxYzk4ZmQ0ZWZkNjBmMDVkMGU1MDQwOWMyMjQ0YzcwMTI1NWI5\",\"commit\":{\"author\":{\"name\":\"Teun van den Brand\",\"email\":\"49372158+teunbrand@users.noreply.github.com\",\"date\":\"2025-01-28T11:06:11Z\"},\"committer\":{\"name\":\"GitHub\",\"email\":\"noreply@github.com\",\"date\":\"2025-01-28T11:06:11Z\"},\"message\":\"Document guide theme argument (#6268)\\\\n\\\\n* mention ignored arguments\\\\r\\\\n\\\\r\\\\n* No need to fuss over these specifics with axes\\\\r\\\\n\\\\r\\\\n* document\",\"tree\":{\"sha\":\"c4ff8f0f15dacc2f2bc371e97d4710186d10bd07\",\"url\":\"https://api.github.com/repos/tidyverse/ggplot2/git/trees/c4ff8f0f15dacc2f2bc371e97d4710186d10bd07\"},\"url\":\"https://api.github.com/repos/tidyverse/ggplot2/git/commits/12d1c98fd4efd60f05d0e50409c2244c701255b9\",\"comment_count\":0,\"verification\":{\"verified\":true,\"reason\":\"valid\",\"signature\":\"-----BEGIN PGP SIGNATURE-----\\\\n\\\\nwsFcBAABCAAQBQJnmLojCRC1aQ7uu5UhlAAACfUQAKedF8f0F+apeHm9zdnCvbSM\\\\ndV0B26MLyiXmLExEXVEbQSQrU1XlMGO5DtGXBsbQCvea9y34pz7qtiXTkWjqheWF\\\\nEtLtOMTxVjzGWZxr3zKdiOjxrZiEdkHseZiX/XuOWX/2TsHscLJ7XRB/3vWETnqw\\\\nxAXRHv2qO75hn8oACmFIeMLo/AW4/CTsGHEX7lGscC3cAlJcGWQyqSCwfhgxHw0D\\\\nqkTuH2NI+KvzcFo6oIuEqAn2QPQo7GvMaDRy0t8EX8CE4iI+WjiyQPs4JjDpvXn7\\\\n4wmT2NB22U67VzwiddQ20rASy4PHzFoNf7Thoil2YN6awucelSK1FAwHtobXxW9S\\\\nvOERG5rea/dw3mjkH5xCMQ18gil343MoFGDCYIMMJP5rjxE9g2F6HD1BlO/Qlhs4\\\\n9r4P2QpBo4zwv3ivPBs22Jej95zZKn1eaLyodoG8J4xanrWCFKYjsStfMOsjF9O8\\\\nYVUwq56rZY7WTu8DqOFgxz4uv2YiC2EzxvjCGJt85vY13LHz2h03XYQ2B98rAff4\\\\n6UhH6jeL+XmugSX/THML2qeLLg52M1sX9nLxy9srLXgSDaPzQDAupkpjOMHnqdBc\\\\n04jo5ggKomm/9KzbUNiyrTI4e52ljOIUO7a6H0Ry3WvlsTh5b1N3u91K4WLNXo1x\\\\n34oKk3SlQTOSaDujL8UE\\\\n=S9de\\\\n-----END PGP SIGNATURE-----\\\\n\",\"payload\":\"tree c4ff8f0f15dacc2f2bc371e97d4710186d10bd07\\\\nparent f8d98257fff4e71cb93494db5ca11573779e5c2f\\\\nauthor Teun van den Brand <49372158+teunbrand@users.noreply.github.com> 1738062371 +0100\\\\ncommitter GitHub <noreply@github.com> 1738062371 +0100\\\\n\\\\nDocument guide theme argument (#6268)\\\\n\\\\n* mention ignored arguments\\\\r\\\\n\\\\r\\\\n* No need to fuss over these specifics with axes\\\\r\\\\n\\\\r\\\\n* document\",\"verified_at\":\"2025-01-28T11:06:15Z\"}},\"url\":\"https://api.github.com/repos/tidyverse/ggplot2/commits/12d1c98fd4efd60f05d0e50409c2244c701255b9\",\"html_url\":\"https://github.com/tidyverse/ggplot2/commit/12d1c98fd4efd60f05d0e50409c2244c701255b9\",\"comments_url\":\"https://api.github.com/repos/tidyverse/ggplot2/commits/12d1c98fd4efd60f05d0e50409c2244c701255b9/comments\",\"author\":{\"login\":\"teunbrand\",\"id\":49372158,\"node_id\":\"MDQ6VXNlcjQ5MzcyMTU4\",\"avatar_url\":\"https://avatars.githubusercontent.com/u/49372158?v=4\",\"gravatar_id\":\"\",\"url\":\"https://api.github.com/users/teunbrand\",\"html_url\":\"https://github.com/teunbrand\",\"followers_url\":\"https://api.github.com/users/teunbrand/followers\",\"following_url\":\"https://api.github.com/users/teunbrand/following{/other_user}\",\"gists_url\":\"https://api.github.com/users/teunbrand/gists{/gist_id}\",\"starred_url\":\"https://api.github.com/users/teunbrand/starred{/owner}{/repo}\",\"subscriptions_url\":\"https://api.github.com/users/teunbrand/subscriptions\",\"organizations_url\":\"https://api.github.com/users/teunbrand/orgs\",\"repos_url\":\"https://api.github.com/users/teunbrand/repos\",\"events_url\":\"https://api.github.com/users/teunbrand/events{/privacy}\",\"received_events_url\":\"https://api.github.com/users/teunbrand/received_events\",\"type\":\"User\",\"user_view_type\":\"public\",\"site_admin\":false},\"committer\":{\"login\":\"web-flow\",\"id\":19864447,\"node_id\":\"MDQ6VXNlcjE5ODY0NDQ3\",\"avatar_url\":\"https://avatars.githubusercontent.com/u/19864447?v=4\",\"gravatar_id\":\"\",\"url\":\"https://api.github.com/users/web-flow\",\"html_url\":\"https://github.com/web-flow\",\"followers_url\":\"https://api.github.com/users/web-flow/followers\",\"following_url\":\"https://api.github.com/users/web-flow/following{/other_user}\",\"gists_url\":\"https://api.github.com/users/web-flow/gists{/gist_id}\",\"starred_url\":\"https://api.github.com/users/web-flow/starred{/owner}{/repo}\",\"subscriptions_url\":\"https://api.github.com/users/web-flow/subscriptions\",\"organizations_url\":\"https://api.github.com/users/web-flow/orgs\",\"repos_url\":\"https://api.github.com/users/web-flow/repos\",\"events_url\":\"https://api.github.com/users/web-flow/events{/privacy}\",\"received_events_url\":\"https://api.github.com/users/web-flow/received_events\",\"type\":\"User\",\"user_view_type\":\"public\",\"site_admin\":false},\"parents\":[{\"sha\":\"f8d98257fff4e71cb93494db5ca11573779e5c2f\",\"url\":\"https://api.github.com/repos/tidyverse/ggplot2/commits/f8d98257fff4e71cb93494db5ca11573779e5c2f\",\"html_url\":\"https://github.com/tidyverse/ggplot2/commit/f8d98257fff4e71cb93494db5ca11573779e5c2f\"}]},{\"sha\":\"f8d98257fff4e71cb93494db5ca11573779e5c2f\",\"node_id\":\"C_kwDNS-7aAChmOGQ5ODI1N2ZmZjRlNzFjYjkzNDk0ZGI1Y2ExMTU3Mzc3OWU1YzJm\",\"commit\":{\"author\":{\"name\":\"Teun van den Brand\",\"email\":\"49372158+teunbrand@users.noreply.github.com\",\"date\":\"2025-01-28T11:05:38Z\"},\"committer\":{\"name\":\"GitHub\",\"email\":\"noreply@github.com\",\"date\":\"2025-01-28T11:05:38Z\"},\"message\":\"Deprecate `fatten` (#6238)\\\\n\\\\n* deprecate fatten\\\\r\\\\n\\\\r\\\\n* `fatten` isn\\'t a formal argument to `geom_boxplot()`\\\\r\\\\n\\\\r\\\\n* document\\\\r\\\\n\\\\r\\\\n* add news bullet\",\"tree\":{\"sha\":\"98ef821aff41756ae654eec44da04822f5e07ae7\",\"url\":\"https://api.github.com/repos/tidyverse/ggplot2/git/trees/98ef821aff41756ae654eec44da04822f5e07ae7\"},\"url\":\"https://api.github.com/repos/tidyverse/ggplot2/git/commits/f8d98257fff4e71cb93494db5ca11573779e5c2f\",\"comment_count\":0,\"verification\":{\"verified\":true,\"reason\":\"valid\",\"signature\":\"-----BEGIN PGP SIGNATURE-----\\\\n\\\\nwsFcBAABCAAQBQJnmLoCCRC1aQ7uu5UhlAAA4NcQAI9VlWwovOgLsyoB/iNfDE6z\\\\n6cPYgHO8fCJs8op2S5Vxj/fDdQANw6jTGbYH59SerEh0O4Z6ZG7AfyNTETstg/OI\\\\nEOgRvxh9d2hQ75iWfV3JIZ6oeCoXiEx/DEr2Xe7cIYBQay+aof30edOLL0tKIFSS\\\\nausHfyOEANfiIb1MatKKyI4HcQwJih+8ZRIwYliq8vG5bXHO/Mb9v8gk6U12XNji\\\\nnTIGOxeFw+BHGCkgcYw40i8+v4yUX3/JUulf1DaifA4O1HaQVs/rAzniNr8g4gJA\\\\ndgvLFhYDHZo4zjsDQx0hEn+MG/lTbkbeum0Y7KWJMpCLdYJE2rVyvAMF+Uc/STAS\\\\nwkep8VDhnGpAyutz4REfXjOPe8KiprIOpH5HBON6/KeZrg3eZindJxavesucTvpp\\\\n0jvrw17hG779WFZb75Gq3XTkawD3Z+m96AjTGCjWcf/DG6IMxmpeup8SURcHpRwi\\\\nNUtBYm0VTVKVXnRvY1St1n/SlcDrt8WkcWwEP1T21idXwibrVQwd0+qCbdTN7J9w\\\\nV7zbS9nF1tPCDZaCU0ef2eQpksboQq5fnqsckwi+m9+kqctsx74/g0RihGBT6Rh9\\\\nJ3VaESCvbaiCyxG2P6FDOxQewzhy/84TxwyrmwyzU4wwXSuijCUesj84KWNIChhM\\\\nIcLv6kduAN6KHeMFhXkO\\\\n=j0CN\\\\n-----END PGP SIGNATURE-----\\\\n\",\"payload\":\"tree 98ef821aff41756ae654eec44da04822f5e07ae7\\\\nparent 1b9ee73e55261f38060b441091d8280a87f81b1c\\\\nauthor Teun van den Brand <49372158+teunbrand@users.noreply.github.com> 1738062338 +0100\\\\ncommitter GitHub <noreply@github.com> 1738062338 +0100\\\\n\\\\nDeprecate `fatten` (#6238)\\\\n\\\\n* deprecate fatten\\\\r\\\\n\\\\r\\\\n* `fatten` isn\\'t a formal argument to `geom_boxplot()`\\\\r\\\\n\\\\r\\\\n* document\\\\r\\\\n\\\\r\\\\n* add news bullet\",\"verified_at\":\"2025-01-28T11:05:42Z\"}},\"url\":\"https://api.github.com/repos/tidyverse/ggplot2/commits/f8d98257fff4e71cb93494db5ca11573779e5c2f\",\"html_url\":\"https://github.com/tidyverse/ggplot2/commit/f8d98257fff4e71cb93494db5ca11573779e5c2f\",\"comments_url\":\"https://api.github.com/repos/tidyverse/ggplot2/commits/f8d98257fff4e71cb93494db5ca11573779e5c2f/comments\",\"author\":{\"login\":\"teunbrand\",\"id\":49372158,\"node_id\":\"MDQ6VXNlcjQ5MzcyMTU4\",\"avatar_url\":\"https://avatars.githubusercontent.com/u/49372158?v=4\",\"gravatar_id\":\"\",\"url\":\"https://api.github.com/users/teunbrand\",\"html_url\":\"https://github.com/teunbrand\",\"followers_url\":\"https://api.github.com/users/teunbrand/followers\",\"following_url\":\"https://api.github.com/users/teunbrand/following{/other_user}\",\"gists_url\":\"https://api.github.com/users/teunbrand/gists{/gist_id}\",\"starred_url\":\"https://api.github.com/users/teunbrand/starred{/owner}{/repo}\",\"subscriptions_url\":\"https://api.github.com/users/teunbrand/subscriptions\",\"organizations_url\":\"https://api.github.com/users/teunbrand/orgs\",\"repos_url\":\"https://api.github.com/users/teunbrand/repos\",\"events_url\":\"https://api.github.com/users/teunbrand/events{/privacy}\",\"received_events_url\":\"https://api.github.com/users/teunbrand/received_events\",\"type\":\"User\",\"user_view_type\":\"public\",\"site_admin\":false},\"committer\":{\"login\":\"web-flow\",\"id\":19864447,\"node_id\":\"MDQ6VXNlcjE5ODY0NDQ3\",\"avatar_url\":\"https://avatars.githubusercontent.com/u/19864447?v=4\",\"gravatar_id\":\"\",\"url\":\"https://api.github.com/users/web-flow\",\"html_url\":\"https://github.com/web-flow\",\"followers_url\":\"https://api.github.com/users/web-flow/followers\",\"following_url\":\"https://api.github.com/users/web-flow/following{/other_user}\",\"gists_url\":\"https://api.github.com/users/web-flow/gists{/gist_id}\",\"starred_url\":\"https://api.github.com/users/web-flow/starred{/owner}{/repo}\",\"subscriptions_url\":\"https://api.github.com/users/web-flow/subscriptions\",\"organizations_url\":\"https://api.github.com/users/web-flow/orgs\",\"repos_url\":\"https://api.github.com/users/web-flow/repos\",\"events_url\":\"https://api.github.com/users/web-flow/events{/privacy}\",\"received_events_url\":\"https://api.github.com/users/web-flow/received_events\",\"type\":\"User\",\"user_view_type\":\"public\",\"site_admin\":false},\"parents\":[{\"sha\":\"1b9ee73e55261f38060b441091d8280a87f81b1c\",\"url\":\"https://api.github.com/repos/tidyverse/ggplot2/commits/1b9ee73e55261f38060b441091d8280a87f81b1c\",\"html_url\":\"https://github.com/tidyverse/ggplot2/commit/1b9ee73e55261f38060b441091d8280a87f81b1c\"}]},{\"sha\":\"1b9ee73e55261f38060b441091d8280a87f81b1c\",\"node_id\":\"C_kwDNS-7aACgxYjllZTczZTU1MjYxZjM4MDYwYjQ0MTA5MWQ4MjgwYTg3ZjgxYjFj\",\"commit\":{\"author\":{\"name\":\"Teun van den Brand\",\"email\":\"49372158+teunbrand@users.noreply.github.com\",\"date\":\"2025-01-28T10:38:41Z\"},\"committer\":{\"name\":\"GitHub\",\"email\":\"noreply@github.com\",\"date\":\"2025-01-28T10:38:41Z\"},\"message\":\"Encourage specifying `breaks` when giving labels as a vector (#6237)\",\"tree\":{\"sha\":\"8e0c4442f2647df1a1364528d3c7f33b6bbffdf5\",\"url\":\"https://api.github.com/repos/tidyverse/ggplot2/git/trees/8e0c4442f2647df1a1364528d3c7f33b6bbffdf5\"},\"url\":\"https://api.github.com/repos/tidyverse/ggplot2/git/commits/1b9ee73e55261f38060b441091d8280a87f81b1c\",\"comment_count\":0,\"verification\":{\"verified\":true,\"reason\":\"valid\",\"signature\":\"-----BEGIN PGP SIGNATURE-----\\\\n\\\\nwsFcBAABCAAQBQJnmLOxCRC1aQ7uu5UhlAAAMdUQACijgl6cTe3MBuAhaIAhgRiK\\\\nMlM7d2ngi7krRLHntXSHns+AYHsJxhVzZIX2o7yyQrdyEyiVxSgWmTzseUizdFnx\\\\nBTyD+V0G2+4FDIf2ODbh70W2JgKoNJ3bPNr2cFbpeHESigd/aUYSvuJuWYDqtF+p\\\\not4JF5fXhMROUDJss92X0cKc66WlQF3KiS0f4PGf33kTlpsHUxAmBR88CaCVZqbb\\\\nb3YiWsNcQPoS5l8RJb832FjKm9J008ueXGGkOC4ayCz8B1KcIPO3dMw3KBx9IwNS\\\\n1OU4gexpK3bGfHu5g4LNOeIOjjQrym2fAHB50hbE5udABz91np4Dq9z5f03b4PPT\\\\nI2hIw/sNrHuHN2VO3dXdhUy0zknUGodeRUE/F3MQvrxwC6akB7XyyMyGY3h4/Y1J\\\\nmycQnuAdjai5QxSRNEcVNVrh1Tp6uDGbWsVl0u3uiDARNbvwvCS7nlH6jQ1XvObt\\\\nCsq30zdaURj02B/dNi47s91B4bPyLHpuAwIb/fJP37GWDCet3NlR673pOMrSuHrD\\\\ny3JTkIsSjJLJ2LTYze4ScJrYgmuecXEse6ruFE9YtFvt4oe2vE3Ds84mQTh8SUvl\\\\nfKtVRzflTvwQV5FEZHJ5E6tI38n9JMUr7K7Vk+jsWnpX2pNnHD8kY52TnLJITQoq\\\\neqDqVQGw/uAcj4nXOUkS\\\\n=6dhW\\\\n-----END PGP SIGNATURE-----\\\\n\",\"payload\":\"tree 8e0c4442f2647df1a1364528d3c7f33b6bbffdf5\\\\nparent c052d8123440a18d6d132d2143757c74e61b6305\\\\nauthor Teun van den Brand <49372158+teunbrand@users.noreply.github.com> 1738060721 +0100\\\\ncommitter GitHub <noreply@github.com> 1738060721 +0100\\\\n\\\\nEncourage specifying `breaks` when giving labels as a vector (#6237)\\\\n\\\\n\",\"verified_at\":\"2025-01-28T10:38:45Z\"}},\"url\":\"https://api.github.com/repos/tidyverse/ggplot2/commits/1b9ee73e55261f38060b441091d8280a87f81b1c\",\"html_url\":\"https://github.com/tidyverse/ggplot2/commit/1b9ee73e55261f38060b441091d8280a87f81b1c\",\"comments_url\":\"https://api.github.com/repos/tidyverse/ggplot2/commits/1b9ee73e55261f38060b441091d8280a87f81b1c/comments\",\"author\":{\"login\":\"teunbrand\",\"id\":49372158,\"node_id\":\"MDQ6VXNlcjQ5MzcyMTU4\",\"avatar_url\":\"https://avatars.githubusercontent.com/u/49372158?v=4\",\"gravatar_id\":\"\",\"url\":\"https://api.github.com/users/teunbrand\",\"html_url\":\"https://github.com/teunbrand\",\"followers_url\":\"https://api.github.com/users/teunbrand/followers\",\"following_url\":\"https://api.github.com/users/teunbrand/following{/other_user}\",\"gists_url\":\"https://api.github.com/users/teunbrand/gists{/gist_id}\",\"starred_url\":\"https://api.github.com/users/teunbrand/starred{/owner}{/repo}\",\"subscriptions_url\":\"https://api.github.com/users/teunbrand/subscriptions\",\"organizations_url\":\"https://api.github.com/users/teunbrand/orgs\",\"repos_url\":\"https://api.github.com/users/teunbrand/repos\",\"events_url\":\"https://api.github.com/users/teunbrand/events{/privacy}\",\"received_events_url\":\"https://api.github.com/users/teunbrand/received_events\",\"type\":\"User\",\"user_view_type\":\"public\",\"site_admin\":false},\"committer\":{\"login\":\"web-flow\",\"id\":19864447,\"node_id\":\"MDQ6VXNlcjE5ODY0NDQ3\",\"avatar_url\":\"https://avatars.githubusercontent.com/u/19864447?v=4\",\"gravatar_id\":\"\",\"url\":\"https://api.github.com/users/web-flow\",\"html_url\":\"https://github.com/web-flow\",\"followers_url\":\"https://api.github.com/users/web-flow/followers\",\"following_url\":\"https://api.github.com/users/web-flow/following{/other_user}\",\"gists_url\":\"https://api.github.com/users/web-flow/gists{/gist_id}\",\"starred_url\":\"https://api.github.com/users/web-flow/starred{/owner}{/repo}\",\"subscriptions_url\":\"https://api.github.com/users/web-flow/subscriptions\",\"organizations_url\":\"https://api.github.com/users/web-flow/orgs\",\"repos_url\":\"https://api.github.com/users/web-flow/repos\",\"events_url\":\"https://api.github.com/users/web-flow/events{/privacy}\",\"received_events_url\":\"https://api.github.com/users/web-flow/received_events\",\"type\":\"User\",\"user_view_type\":\"public\",\"site_admin\":false},\"parents\":[{\"sha\":\"c052d8123440a18d6d132d2143757c74e61b6305\",\"url\":\"https://api.github.com/repos/tidyverse/ggplot2/commits/c052d8123440a18d6d132d2143757c74e61b6305\",\"html_url\":\"https://github.com/tidyverse/ggplot2/commit/c052d8123440a18d6d132d2143757c74e61b6305\"}]},{\"sha\":\"c052d8123440a18d6d132d2143757c74e61b6305\",\"node_id\":\"C_kwDNS-7aAChjMDUyZDgxMjM0NDBhMThkNmQxMzJkMjE0Mzc1N2M3NGU2MWI2MzA1\",\"commit\":{\"author\":{\"name\":\"Teun van den Brand\",\"email\":\"49372158+teunbrand@users.noreply.github.com\",\"date\":\"2025-01-28T10:35:34Z\"},\"committer\":{\"name\":\"GitHub\",\"email\":\"noreply@github.com\",\"date\":\"2025-01-28T10:35:34Z\"},\"message\":\"Scales expose `aesthetics` argument (#6227)\\\\n\\\\n* add news bullet\\\\r\\\\n\\\\r\\\\n* add `aesthetics` as parameter\\\\r\\\\n\\\\r\\\\n* redocument\\\\r\\\\n\\\\r\\\\n* add news bullet\",\"tree\":{\"sha\":\"d32e633d1e76fd720f0a00e1941db5ecd0d41f8b\",\"url\":\"https://api.github.com/repos/tidyverse/ggplot2/git/trees/d32e633d1e76fd720f0a00e1941db5ecd0d41f8b\"},\"url\":\"https://api.github.com/repos/tidyverse/ggplot2/git/commits/c052d8123440a18d6d132d2143757c74e61b6305\",\"comment_count\":0,\"verification\":{\"verified\":true,\"reason\":\"valid\",\"signature\":\"-----BEGIN PGP SIGNATURE-----\\\\n\\\\nwsFcBAABCAAQBQJnmLL2CRC1aQ7uu5UhlAAAbs4QAKoEJA1pqIkyHWdNAcsA4Mwn\\\\ncBKryLP33MtUoZsgVYyQxb/PS3W/xUQVjfAq3wO/FGSd9TBTA1cIvZDiyDf2lyme\\\\nS+UPsTlGZKzMQphoh8ZsLxIsU/x5ZBqMm4m2RnS3tOBxe0ebqRVOXDhhhHkUd+bs\\\\n/pIg7P8w6oMVc/bK8D6xK1ctIdhZ8IO2tCtFLf9IydKMxCtPrgeZazvMk1WzAnxq\\\\nYJ7YKCjoNqt7VMV20i0++IYgfkFkDSOzleiE8WnYhlt8K+hQjBOtlVei26MSltv5\\\\nesg/RJ7V8MOkRC2pMN0VVE2wFHQFYTaiEtg56q0e6d6WmIlrxQSt8L7pC6tUu7ND\\\\nLFy2/89CxCUkmsu3nLbU6cmo0aVKYNFxf6cD2Z/h91/OGItfi7vsekSZIlnxVyWU\\\\nBKOfzYcqUJgqWKa65CwGZWkySmniFpx7dlmqVkb55pS3XN8fThPmU0MpwVqXH2mO\\\\ntjOUEqJHMI22CCmgCcEyvDZsVwVS5tx/Hko6aEzFOUkPdWLewasZix7WuSm9wjHq\\\\nTRsVYP6jli+Qfe8pMR6LRj9DGvvYolFBI1QRXY+9cTI9k+cpkMSusYGrgjX/NTUk\\\\nFQUYazRog+F9UZyvf0ygxghHrtmm2LaKR2gvuwy5yuIWX5HydZ0lGKer10RqXnNc\\\\ng1K51CNqUsvCB83mwnab\\\\n=kkHj\\\\n-----END PGP SIGNATURE-----\\\\n\",\"payload\":\"tree d32e633d1e76fd720f0a00e1941db5ecd0d41f8b\\\\nparent 7356fe3029ade295dd53589d96869b8a64f17bf5\\\\nauthor Teun van den Brand <49372158+teunbrand@users.noreply.github.com> 1738060534 +0100\\\\ncommitter GitHub <noreply@github.com> 1738060534 +0100\\\\n\\\\nScales expose `aesthetics` argument (#6227)\\\\n\\\\n* add news bullet\\\\r\\\\n\\\\r\\\\n* add `aesthetics` as parameter\\\\r\\\\n\\\\r\\\\n* redocument\\\\r\\\\n\\\\r\\\\n* add news bullet\",\"verified_at\":\"2025-01-28T10:35:54Z\"}},\"url\":\"https://api.github.com/repos/tidyverse/ggplot2/commits/c052d8123440a18d6d132d2143757c74e61b6305\",\"html_url\":\"https://github.com/tidyverse/ggplot2/commit/c052d8123440a18d6d132d2143757c74e61b6305\",\"comments_url\":\"https://api.github.com/repos/tidyverse/ggplot2/commits/c052d8123440a18d6d132d2143757c74e61b6305/comments\",\"author\":{\"login\":\"teunbrand\",\"id\":49372158,\"node_id\":\"MDQ6VXNlcjQ5MzcyMTU4\",\"avatar_url\":\"https://avatars.githubusercontent.com/u/49372158?v=4\",\"gravatar_id\":\"\",\"url\":\"https://api.github.com/users/teunbrand\",\"html_url\":\"https://github.com/teunbrand\",\"followers_url\":\"https://api.github.com/users/teunbrand/followers\",\"following_url\":\"https://api.github.com/users/teunbrand/following{/other_user}\",\"gists_url\":\"https://api.github.com/users/teunbrand/gists{/gist_id}\",\"starred_url\":\"https://api.github.com/users/teunbrand/starred{/owner}{/repo}\",\"subscriptions_url\":\"https://api.github.com/users/teunbrand/subscriptions\",\"organizations_url\":\"https://api.github.com/users/teunbrand/orgs\",\"repos_url\":\"https://api.github.com/users/teunbrand/repos\",\"events_url\":\"https://api.github.com/users/teunbrand/events{/privacy}\",\"received_events_url\":\"https://api.github.com/users/teunbrand/received_events\",\"type\":\"User\",\"user_view_type\":\"public\",\"site_admin\":false},\"committer\":{\"login\":\"web-flow\",\"id\":19864447,\"node_id\":\"MDQ6VXNlcjE5ODY0NDQ3\",\"avatar_url\":\"https://avatars.githubusercontent.com/u/19864447?v=4\",\"gravatar_id\":\"\",\"url\":\"https://api.github.com/users/web-flow\",\"html_url\":\"https://github.com/web-flow\",\"followers_url\":\"https://api.github.com/users/web-flow/followers\",\"following_url\":\"https://api.github.com/users/web-flow/following{/other_user}\",\"gists_url\":\"https://api.github.com/users/web-flow/gists{/gist_id}\",\"starred_url\":\"https://api.github.com/users/web-flow/starred{/owner}{/repo}\",\"subscriptions_url\":\"https://api.github.com/users/web-flow/subscriptions\",\"organizations_url\":\"https://api.github.com/users/web-flow/orgs\",\"repos_url\":\"https://api.github.com/users/web-flow/repos\",\"events_url\":\"https://api.github.com/users/web-flow/events{/privacy}\",\"received_events_url\":\"https://api.github.com/users/web-flow/received_events\",\"type\":\"User\",\"user_view_type\":\"public\",\"site_admin\":false},\"parents\":[{\"sha\":\"7356fe3029ade295dd53589d96869b8a64f17bf5\",\"url\":\"https://api.github.com/repos/tidyverse/ggplot2/commits/7356fe3029ade295dd53589d96869b8a64f17bf5\",\"html_url\":\"https://github.com/tidyverse/ggplot2/commit/7356fe3029ade295dd53589d96869b8a64f17bf5\"}]},{\"sha\":\"7356fe3029ade295dd53589d96869b8a64f17bf5\",\"node_id\":\"C_kwDNS-7aACg3MzU2ZmUzMDI5YWRlMjk1ZGQ1MzU4OWQ5Njg2OWI4YTY0ZjE3YmY1\",\"commit\":{\"author\":{\"name\":\"Teun van den Brand\",\"email\":\"49372158+teunbrand@users.noreply.github.com\",\"date\":\"2025-01-28T10:35:02Z\"},\"committer\":{\"name\":\"GitHub\",\"email\":\"noreply@github.com\",\"date\":\"2025-01-28T10:35:02Z\"},\"message\":\"Coord sf breaks fallback (#6232)\\\\n\\\\n* add news bullet\\\\r\\\\n\\\\r\\\\n* fallback\\\\r\\\\n\\\\r\\\\n* avoid duplicated labels\\\\r\\\\n\\\\r\\\\n* add test\\\\r\\\\n\\\\r\\\\n* add news bullet\",\"tree\":{\"sha\":\"621ad8d0a691aea403c783c4fed2ce439f442f23\",\"url\":\"https://api.github.com/repos/tidyverse/ggplot2/git/trees/621ad8d0a691aea403c783c4fed2ce439f442f23\"},\"url\":\"https://api.github.com/repos/tidyverse/ggplot2/git/commits/7356fe3029ade295dd53589d96869b8a64f17bf5\",\"comment_count\":0,\"verification\":{\"verified\":true,\"reason\":\"valid\",\"signature\":\"-----BEGIN PGP SIGNATURE-----\\\\n\\\\nwsFcBAABCAAQBQJnmLLWCRC1aQ7uu5UhlAAAfHMQAGA20zHRiOdX3kbpYfb3Ok4o\\\\nwdpemK8CgH0waIDY72wgP6IRyz2mjPptLmZGEC4Iqi+BxDnmFO71ybt0jptIc1q3\\\\nDp49LUM9rl4egjB16gXykXkhbQBEBqe8R4eL+WF81gMmNHqepTswjkM9bZ/bpXDS\\\\nH2bdHASOM3F8aQNQcrA/QjO0UHOPSYM7keCXs2qm1i93jKqDSBu1Mfcextkt1aVK\\\\nuIj5xF/fZ6Dgnl/m89MmuyZDUkVC2xnBpibxe/x70jPfwX7Ty1D/6Yd26oSHMOuA\\\\nHtC8sxRcNm+5Z8jyrnvqJ3yj4uLLySwd15UnOtA5p6DKh/pENMgM0fayx03szuN0\\\\nfBxG+Qa0Jikozr3uBuaDMESdEXaGEyo+tr+AufWwaiT3mwrMwBlb4GC0mYqKATLa\\\\np02vAAfYkZvXc7Fr1r+AE7ZdRSWpc65Fzh81pAogwl43ungEdNc3J+ceNL7JDaQr\\\\nanjxQsJM7AFPQ6Fy5660FIrUWs0hOSkioinSyWnmVBU2BigY+N9TPnsFpW7nx12d\\\\nb3rLRgu3n+56XmAaPlTkTNsWPKR9xM7Kg+vhd90+MGGYKoYXotflw1l3MTAxZSIa\\\\nBWjcUGlBc8tFmtE5JGa/t/Gjp50pDoLc4V/pGY0NjuKQnke4SvptVgRveRdauzNX\\\\nAGStFZdXhuRjyMxwrBpb\\\\n=73lM\\\\n-----END PGP SIGNATURE-----\\\\n\",\"payload\":\"tree 621ad8d0a691aea403c783c4fed2ce439f442f23\\\\nparent fa7e2c1b5c6a8f24c7c9e1520600b6f11cb6b112\\\\nauthor Teun van den Brand <49372158+teunbrand@users.noreply.github.com> 1738060502 +0100\\\\ncommitter GitHub <noreply@github.com> 1738060502 +0100\\\\n\\\\nCoord sf breaks fallback (#6232)\\\\n\\\\n* add news bullet\\\\r\\\\n\\\\r\\\\n* fallback\\\\r\\\\n\\\\r\\\\n* avoid duplicated labels\\\\r\\\\n\\\\r\\\\n* add test\\\\r\\\\n\\\\r\\\\n* add news bullet\",\"verified_at\":\"2025-01-28T10:35:20Z\"}},\"url\":\"https://api.github.com/repos/tidyverse/ggplot2/commits/7356fe3029ade295dd53589d96869b8a64f17bf5\",\"html_url\":\"https://github.com/tidyverse/ggplot2/commit/7356fe3029ade295dd53589d96869b8a64f17bf5\",\"comments_url\":\"https://api.github.com/repos/tidyverse/ggplot2/commits/7356fe3029ade295dd53589d96869b8a64f17bf5/comments\",\"author\":{\"login\":\"teunbrand\",\"id\":49372158,\"node_id\":\"MDQ6VXNlcjQ5MzcyMTU4\",\"avatar_url\":\"https://avatars.githubusercontent.com/u/49372158?v=4\",\"gravatar_id\":\"\",\"url\":\"https://api.github.com/users/teunbrand\",\"html_url\":\"https://github.com/teunbrand\",\"followers_url\":\"https://api.github.com/users/teunbrand/followers\",\"following_url\":\"https://api.github.com/users/teunbrand/following{/other_user}\",\"gists_url\":\"https://api.github.com/users/teunbrand/gists{/gist_id}\",\"starred_url\":\"https://api.github.com/users/teunbrand/starred{/owner}{/repo}\",\"subscriptions_url\":\"https://api.github.com/users/teunbrand/subscriptions\",\"organizations_url\":\"https://api.github.com/users/teunbrand/orgs\",\"repos_url\":\"https://api.github.com/users/teunbrand/repos\",\"events_url\":\"https://api.github.com/users/teunbrand/events{/privacy}\",\"received_events_url\":\"https://api.github.com/users/teunbrand/received_events\",\"type\":\"User\",\"user_view_type\":\"public\",\"site_admin\":false},\"committer\":{\"login\":\"web-flow\",\"id\":19864447,\"node_id\":\"MDQ6VXNlcjE5ODY0NDQ3\",\"avatar_url\":\"https://avatars.githubusercontent.com/u/19864447?v=4\",\"gravatar_id\":\"\",\"url\":\"https://api.github.com/users/web-flow\",\"html_url\":\"https://github.com/web-flow\",\"followers_url\":\"https://api.github.com/users/web-flow/followers\",\"following_url\":\"https://api.github.com/users/web-flow/following{/other_user}\",\"gists_url\":\"https://api.github.com/users/web-flow/gists{/gist_id}\",\"starred_url\":\"https://api.github.com/users/web-flow/starred{/owner}{/repo}\",\"subscriptions_url\":\"https://api.github.com/users/web-flow/subscriptions\",\"organizations_url\":\"https://api.github.com/users/web-flow/orgs\",\"repos_url\":\"https://api.github.com/users/web-flow/repos\",\"events_url\":\"https://api.github.com/users/web-flow/events{/privacy}\",\"received_events_url\":\"https://api.github.com/users/web-flow/received_events\",\"type\":\"User\",\"user_view_type\":\"public\",\"site_admin\":false},\"parents\":[{\"sha\":\"fa7e2c1b5c6a8f24c7c9e1520600b6f11cb6b112\",\"url\":\"https://api.github.com/repos/tidyverse/ggplot2/commits/fa7e2c1b5c6a8f24c7c9e1520600b6f11cb6b112\",\"html_url\":\"https://github.com/tidyverse/ggplot2/commit/fa7e2c1b5c6a8f24c7c9e1520600b6f11cb6b112\"}]},{\"sha\":\"fa7e2c1b5c6a8f24c7c9e1520600b6f11cb6b112\",\"node_id\":\"C_kwDNS-7aAChmYTdlMmMxYjVjNmE4ZjI0YzdjOWUxNTIwNjAwYjZmMTFjYjZiMTEy\",\"commit\":{\"author\":{\"name\":\"Teun van den Brand\",\"email\":\"49372158+teunbrand@users.noreply.github.com\",\"date\":\"2025-01-28T08:34:30Z\"},\"committer\":{\"name\":\"GitHub\",\"email\":\"noreply@github.com\",\"date\":\"2025-01-28T08:34:30Z\"},\"message\":\"Include image of shape table (#6236)\\\\n\\\\n* add news bullet\\\\r\\\\n\\\\r\\\\n* add images\\\\r\\\\n\\\\r\\\\n* include in docs\\\\r\\\\n\\\\r\\\\n* Revert \\\\\"add news bullet\\\\\"\\\\r\\\\n\\\\r\\\\nThis reverts commit e16ae8b600180c1b3d95a0da39bdaa3e43296373.\",\"tree\":{\"sha\":\"8c797f0416a206e60474e5231d72c40732cd1f85\",\"url\":\"https://api.github.com/repos/tidyverse/ggplot2/git/trees/8c797f0416a206e60474e5231d72c40732cd1f85\"},\"url\":\"https://api.github.com/repos/tidyverse/ggplot2/git/commits/fa7e2c1b5c6a8f24c7c9e1520600b6f11cb6b112\",\"comment_count\":0,\"verification\":{\"verified\":true,\"reason\":\"valid\",\"signature\":\"-----BEGIN PGP SIGNATURE-----\\\\n\\\\nwsFcBAABCAAQBQJnmJaWCRC1aQ7uu5UhlAAATQUQAIa8Bi6xpTQekv585ZgR+XMD\\\\nmFpdgNIqPPNDOBdcO+CQCjEiZvEeEQ5EYehVNL+r6oFEJNxmOLddJBfx50n/Hd6F\\\\ndURHlh2vhITGUkQ15WxHKxL3xwpORnvOZG8DCmcoBGAMEYnKhqj1FXt47WnpLM/Q\\\\nXQIjFNt4BF2j1BhyjKIEX+jNBRW/kzBFX2if+F//sDZSQSpmpmlfMmMKmeh58BLP\\\\n2VsNMusIda9vnTDvuImkr3mEvIErUHOwU6/o53Cgnxc3uSOOH/Nt4OWCa5nJz6UU\\\\n+6pCtdusgltrXTe/xLD7hkHsjNeLcrbZ8E0/cgrOu5b5a3uvwXvnERiu9ItCF34i\\\\n1SxQ58IPTwM9Xti4iasVehtGgnMYbb6Fdal71xrF9kBTnJmCYDMHMJYqEYJTg4XX\\\\n5bstFAQP1pqH1MpJdVo6E8sJjPy7TWw15awIsRU6NqEdQwvz8cxvwU09AO7W+jfW\\\\npubGYn21fxs3SXhspT/xGLQeBuOctocefnpQ7ZGjhjpBZIeykOa2s1cCC2O0aann\\\\nEnaaiiQrWvnIfSO/GlcQJ9T21L6ckcIzD51GKFCc0NkCSd2GBBNwnq2gV8pM+xTj\\\\nNwrKx+YnqWH0stfxmoNuYm8fc2S5mgTuMDFbhWuqVGXf7J7DlR7hS6K4jnxgGpL3\\\\nTwgG2xyNXAPwN8oqbRUi\\\\n=uyQe\\\\n-----END PGP SIGNATURE-----\\\\n\",\"payload\":\"tree 8c797f0416a206e60474e5231d72c40732cd1f85\\\\nparent fdaa19510f58165878c44f1d7b021e03e0ec17fe\\\\nauthor Teun van den Brand <49372158+teunbrand@users.noreply.github.com> 1738053270 +0100\\\\ncommitter GitHub <noreply@github.com> 1738053270 +0100\\\\n\\\\nInclude image of shape table (#6236)\\\\n\\\\n* add news bullet\\\\r\\\\n\\\\r\\\\n* add images\\\\r\\\\n\\\\r\\\\n* include in docs\\\\r\\\\n\\\\r\\\\n* Revert \\\\\"add news bullet\\\\\"\\\\r\\\\n\\\\r\\\\nThis reverts commit e16ae8b600180c1b3d95a0da39bdaa3e43296373.\",\"verified_at\":\"2025-01-28T08:34:33Z\"}},\"url\":\"https://api.github.com/repos/tidyverse/ggplot2/commits/fa7e2c1b5c6a8f24c7c9e1520600b6f11cb6b112\",\"html_url\":\"https://github.com/tidyverse/ggplot2/commit/fa7e2c1b5c6a8f24c7c9e1520600b6f11cb6b112\",\"comments_url\":\"https://api.github.com/repos/tidyverse/ggplot2/commits/fa7e2c1b5c6a8f24c7c9e1520600b6f11cb6b112/comments\",\"author\":{\"login\":\"teunbrand\",\"id\":49372158,\"node_id\":\"MDQ6VXNlcjQ5MzcyMTU4\",\"avatar_url\":\"https://avatars.githubusercontent.com/u/49372158?v=4\",\"gravatar_id\":\"\",\"url\":\"https://api.github.com/users/teunbrand\",\"html_url\":\"https://github.com/teunbrand\",\"followers_url\":\"https://api.github.com/users/teunbrand/followers\",\"following_url\":\"https://api.github.com/users/teunbrand/following{/other_user}\",\"gists_url\":\"https://api.github.com/users/teunbrand/gists{/gist_id}\",\"starred_url\":\"https://api.github.com/users/teunbrand/starred{/owner}{/repo}\",\"subscriptions_url\":\"https://api.github.com/users/teunbrand/subscriptions\",\"organizations_url\":\"https://api.github.com/users/teunbrand/orgs\",\"repos_url\":\"https://api.github.com/users/teunbrand/repos\",\"events_url\":\"https://api.github.com/users/teunbrand/events{/privacy}\",\"received_events_url\":\"https://api.github.com/users/teunbrand/received_events\",\"type\":\"User\",\"user_view_type\":\"public\",\"site_admin\":false},\"committer\":{\"login\":\"web-flow\",\"id\":19864447,\"node_id\":\"MDQ6VXNlcjE5ODY0NDQ3\",\"avatar_url\":\"https://avatars.githubusercontent.com/u/19864447?v=4\",\"gravatar_id\":\"\",\"url\":\"https://api.github.com/users/web-flow\",\"html_url\":\"https://github.com/web-flow\",\"followers_url\":\"https://api.github.com/users/web-flow/followers\",\"following_url\":\"https://api.github.com/users/web-flow/following{/other_user}\",\"gists_url\":\"https://api.github.com/users/web-flow/gists{/gist_id}\",\"starred_url\":\"https://api.github.com/users/web-flow/starred{/owner}{/repo}\",\"subscriptions_url\":\"https://api.github.com/users/web-flow/subscriptions\",\"organizations_url\":\"https://api.github.com/users/web-flow/orgs\",\"repos_url\":\"https://api.github.com/users/web-flow/repos\",\"events_url\":\"https://api.github.com/users/web-flow/events{/privacy}\",\"received_events_url\":\"https://api.github.com/users/web-flow/received_events\",\"type\":\"User\",\"user_view_type\":\"public\",\"site_admin\":false},\"parents\":[{\"sha\":\"fdaa19510f58165878c44f1d7b021e03e0ec17fe\",\"url\":\"https://api.github.com/repos/tidyverse/ggplot2/commits/fdaa19510f58165878c44f1d7b021e03e0ec17fe\",\"html_url\":\"https://github.com/tidyverse/ggplot2/commit/fdaa19510f58165878c44f1d7b021e03e0ec17fe\"}]},{\"sha\":\"fdaa19510f58165878c44f1d7b021e03e0ec17fe\",\"node_id\":\"C_kwDNS-7aAChmZGFhMTk1MTBmNTgxNjU4NzhjNDRmMWQ3YjAyMWUwM2UwZWMxN2Zl\",\"commit\":{\"author\":{\"name\":\"Teun van den Brand\",\"email\":\"49372158+teunbrand@users.noreply.github.com\",\"date\":\"2025-01-28T08:32:55Z\"},\"committer\":{\"name\":\"GitHub\",\"email\":\"noreply@github.com\",\"date\":\"2025-01-28T08:32:55Z\"},\"message\":\"link blog (#6246)\",\"tree\":{\"sha\":\"a86338c0d366f7074b7109afe28eff8361153926\",\"url\":\"https://api.github.com/repos/tidyverse/ggplot2/git/trees/a86338c0d366f7074b7109afe28eff8361153926\"},\"url\":\"https://api.github.com/repos/tidyverse/ggplot2/git/commits/fdaa19510f58165878c44f1d7b021e03e0ec17fe\",\"comment_count\":0,\"verification\":{\"verified\":true,\"reason\":\"valid\",\"signature\":\"-----BEGIN PGP SIGNATURE-----\\\\n\\\\nwsFcBAABCAAQBQJnmJY3CRC1aQ7uu5UhlAAAcWMQAFM1ZvKB11bH/huv3oNSc+DG\\\\nUlwqIBayWV4Vba8HOxtR5zuuUCtLwDVmPp3josB2mKysofSmC1sIYVG8BZhkGmby\\\\nA/UB70eePYXpqZ0T/4hwN828IYZwq//ppc0QLpQx/NohdNUi7D3kcWSnOkbjwQ0Z\\\\nlUNeqmx45mdZXPDhcVaGA2Kjl+m3sEB0UkcrzGearuBABKiL2iEu6S0ihNDNa7oc\\\\nh38YnXq7O9oo8zI+L36mVcfgcSHYNi8BeFQoMEn4IQqo8L5FThpf6NOhc2N1M5bS\\\\ntMx/5pmcb7QHQMcZHm7nbmU0ev7+Vxb+xPwMtdEjBUaBgAySamENK3e/Bo8XqHf1\\\\nrmr7B2p+02spPyJnrb9byAzf0CzZdFWT/blsYXi7rn/M9uollJEsdNmliC4jRfg3\\\\n+WCxHXoUMLEZC5kBy76HQTWYzaqBNm38+zOMRb/f/walYIbyRNBFPNwIUoFMA/+M\\\\nt7cI7YAvM0PrFVVEYmciDjw41WuW9lX75bwZpb/BrKc6ddsDNW3ESMgaWxIEsqMH\\\\nnOW4dLHuNgQ2D9cpXb3+EUDD/0OdqmG/FhUOoynNN+yxtkcjJeJ0Kjh5wp5897x5\\\\n966gTGjKG1mfdPjDzcs/TgKBTXUY85oHK7bMk4zoNl/2D1pl+75QM/a2FHr9SGAH\\\\nqLhgchqAO6rsOx0ELzuz\\\\n=PmQc\\\\n-----END PGP SIGNATURE-----\\\\n\",\"payload\":\"tree a86338c0d366f7074b7109afe28eff8361153926\\\\nparent 212224dfcf934181ce88f846609be04b1e5e031d\\\\nauthor Teun van den Brand <49372158+teunbrand@users.noreply.github.com> 1738053175 +0100\\\\ncommitter GitHub <noreply@github.com> 1738053175 +0100\\\\n\\\\nlink blog (#6246)\\\\n\\\\n\",\"verified_at\":\"2025-01-28T08:32:59Z\"}},\"url\":\"https://api.github.com/repos/tidyverse/ggplot2/commits/fdaa19510f58165878c44f1d7b021e03e0ec17fe\",\"html_url\":\"https://github.com/tidyverse/ggplot2/commit/fdaa19510f58165878c44f1d7b021e03e0ec17fe\",\"comments_url\":\"https://api.github.com/repos/tidyverse/ggplot2/commits/fdaa19510f58165878c44f1d7b021e03e0ec17fe/comments\",\"author\":{\"login\":\"teunbrand\",\"id\":49372158,\"node_id\":\"MDQ6VXNlcjQ5MzcyMTU4\",\"avatar_url\":\"https://avatars.githubusercontent.com/u/49372158?v=4\",\"gravatar_id\":\"\",\"url\":\"https://api.github.com/users/teunbrand\",\"html_url\":\"https://github.com/teunbrand\",\"followers_url\":\"https://api.github.com/users/teunbrand/followers\",\"following_url\":\"https://api.github.com/users/teunbrand/following{/other_user}\",\"gists_url\":\"https://api.github.com/users/teunbrand/gists{/gist_id}\",\"starred_url\":\"https://api.github.com/users/teunbrand/starred{/owner}{/repo}\",\"subscriptions_url\":\"https://api.github.com/users/teunbrand/subscriptions\",\"organizations_url\":\"https://api.github.com/users/teunbrand/orgs\",\"repos_url\":\"https://api.github.com/users/teunbrand/repos\",\"events_url\":\"https://api.github.com/users/teunbrand/events{/privacy}\",\"received_events_url\":\"https://api.github.com/users/teunbrand/received_events\",\"type\":\"User\",\"user_view_type\":\"public\",\"site_admin\":false},\"committer\":{\"login\":\"web-flow\",\"id\":19864447,\"node_id\":\"MDQ6VXNlcjE5ODY0NDQ3\",\"avatar_url\":\"https://avatars.githubusercontent.com/u/19864447?v=4\",\"gravatar_id\":\"\",\"url\":\"https://api.github.com/users/web-flow\",\"html_url\":\"https://github.com/web-flow\",\"followers_url\":\"https://api.github.com/users/web-flow/followers\",\"following_url\":\"https://api.github.com/users/web-flow/following{/other_user}\",\"gists_url\":\"https://api.github.com/users/web-flow/gists{/gist_id}\",\"starred_url\":\"https://api.github.com/users/web-flow/starred{/owner}{/repo}\",\"subscriptions_url\":\"https://api.github.com/users/web-flow/subscriptions\",\"organizations_url\":\"https://api.github.com/users/web-flow/orgs\",\"repos_url\":\"https://api.github.com/users/web-flow/repos\",\"events_url\":\"https://api.github.com/users/web-flow/events{/privacy}\",\"received_events_url\":\"https://api.github.com/users/web-flow/received_events\",\"type\":\"User\",\"user_view_type\":\"public\",\"site_admin\":false},\"parents\":[{\"sha\":\"212224dfcf934181ce88f846609be04b1e5e031d\",\"url\":\"https://api.github.com/repos/tidyverse/ggplot2/commits/212224dfcf934181ce88f846609be04b1e5e031d\",\"html_url\":\"https://github.com/tidyverse/ggplot2/commit/212224dfcf934181ce88f846609be04b1e5e031d\"}]},{\"sha\":\"212224dfcf934181ce88f846609be04b1e5e031d\",\"node_id\":\"C_kwDNS-7aACgyMTIyMjRkZmNmOTM0MTgxY2U4OGY4NDY2MDliZTA0YjFlNWUwMzFk\",\"commit\":{\"author\":{\"name\":\"Teun van den Brand\",\"email\":\"49372158+teunbrand@users.noreply.github.com\",\"date\":\"2025-01-28T08:16:38Z\"},\"committer\":{\"name\":\"GitHub\",\"email\":\"noreply@github.com\",\"date\":\"2025-01-28T08:16:38Z\"},\"message\":\"Scale name function (#6200)\\\\n\\\\n* `Scale$make_title()` can uses functions\\\\r\\\\n\\\\r\\\\n* Disentangle `Layout$resolve_label()`\\\\r\\\\n\\\\r\\\\n* pre-resolve functions in `labs()`\\\\r\\\\n\\\\r\\\\n* rework how guides make titles\\\\r\\\\n\\\\r\\\\n* add test\\\\r\\\\n\\\\r\\\\n* add news bullet\",\"tree\":{\"sha\":\"ee9a7158d0c1a75eac7b912deea6c99155bb83af\",\"url\":\"https://api.github.com/repos/tidyverse/ggplot2/git/trees/ee9a7158d0c1a75eac7b912deea6c99155bb83af\"},\"url\":\"https://api.github.com/repos/tidyverse/ggplot2/git/commits/212224dfcf934181ce88f846609be04b1e5e031d\",\"comment_count\":0,\"verification\":{\"verified\":true,\"reason\":\"valid\",\"signature\":\"-----BEGIN PGP SIGNATURE-----\\\\n\\\\nwsFcBAABCAAQBQJnmJJmCRC1aQ7uu5UhlAAABHQQAIfxIuYbW2BCu2mSZXFuk0ab\\\\n9JpHtiHNGRaCfQrzlmvWVG+ZJu72sEFik0IfJHBqYrDtzZDSq9y3+2PDUGgIPkXx\\\\nhe1hXbqv4927GT2tIPybqeDhNWupIm2YeKrg+8VSC3VqQ2Dv+gfBBDLdG8gHodNP\\\\nXPod3IJ9qEMK6U/le2F5C8mXkhpFO4iFcxPnBsxxBlY/cd/PGNKJAiPg9iqAsCRO\\\\n1cBcCzIcuKQeffuhM+OzObiMlkhgSpy/tIgfW81zXinmxCGb0Hxl9RWAAzXtUXYZ\\\\nwVq/Jf1G8doJqSbTPbWLPz33HR/JfQowbTR6aMQsrxZHNcJ6hA0+lvYKsyL4cuZ1\\\\ntalWy95d4bcavwhvvsxP6ttB/tUabZdfk1dClF2YAaL7p+6oZi70kuaEFwLZ0jDd\\\\nzaFdoTDlpRbQf7VZ29onGM8q2M8mwzF/A94Falso/9QwqOJD8OSYTX4WhgrIVe6O\\\\nO2dvTGohkoXVNCH7mFRvja9yrgv5wovhUANqCpRbhDKnOF5nnmAGp2k6CHoLF/K6\\\\nu2iYNsMvcJ9NAmVHcSI3cyfIKzqMIz5kZFxbEe6vHVThznPrB29vUS4fxfD/Lfyv\\\\nPK8uApcroFtw60yQ1mLNam9K9ElWwNx00tQ9gl/TYYI1Wc8WlMLkvLvQ16befohc\\\\nhD/945F3s4jU+LJ9xGjP\\\\n=paAy\\\\n-----END PGP SIGNATURE-----\\\\n\",\"payload\":\"tree ee9a7158d0c1a75eac7b912deea6c99155bb83af\\\\nparent 4b887b713392a3a5fdfdbcf4e7d2c4143098b967\\\\nauthor Teun van den Brand <49372158+teunbrand@users.noreply.github.com> 1738052198 +0100\\\\ncommitter GitHub <noreply@github.com> 1738052198 +0100\\\\n\\\\nScale name function (#6200)\\\\n\\\\n* `Scale$make_title()` can uses functions\\\\r\\\\n\\\\r\\\\n* Disentangle `Layout$resolve_label()`\\\\r\\\\n\\\\r\\\\n* pre-resolve functions in `labs()`\\\\r\\\\n\\\\r\\\\n* rework how guides make titles\\\\r\\\\n\\\\r\\\\n* add test\\\\r\\\\n\\\\r\\\\n* add news bullet\",\"verified_at\":\"2025-01-28T08:16:41Z\"}},\"url\":\"https://api.github.com/repos/tidyverse/ggplot2/commits/212224dfcf934181ce88f846609be04b1e5e031d\",\"html_url\":\"https://github.com/tidyverse/ggplot2/commit/212224dfcf934181ce88f846609be04b1e5e031d\",\"comments_url\":\"https://api.github.com/repos/tidyverse/ggplot2/commits/212224dfcf934181ce88f846609be04b1e5e031d/comments\",\"author\":{\"login\":\"teunbrand\",\"id\":49372158,\"node_id\":\"MDQ6VXNlcjQ5MzcyMTU4\",\"avatar_url\":\"https://avatars.githubusercontent.com/u/49372158?v=4\",\"gravatar_id\":\"\",\"url\":\"https://api.github.com/users/teunbrand\",\"html_url\":\"https://github.com/teunbrand\",\"followers_url\":\"https://api.github.com/users/teunbrand/followers\",\"following_url\":\"https://api.github.com/users/teunbrand/following{/other_user}\",\"gists_url\":\"https://api.github.com/users/teunbrand/gists{/gist_id}\",\"starred_url\":\"https://api.github.com/users/teunbrand/starred{/owner}{/repo}\",\"subscriptions_url\":\"https://api.github.com/users/teunbrand/subscriptions\",\"organizations_url\":\"https://api.github.com/users/teunbrand/orgs\",\"repos_url\":\"https://api.github.com/users/teunbrand/repos\",\"events_url\":\"https://api.github.com/users/teunbrand/events{/privacy}\",\"received_events_url\":\"https://api.github.com/users/teunbrand/received_events\",\"type\":\"User\",\"user_view_type\":\"public\",\"site_admin\":false},\"committer\":{\"login\":\"web-flow\",\"id\":19864447,\"node_id\":\"MDQ6VXNlcjE5ODY0NDQ3\",\"avatar_url\":\"https://avatars.githubusercontent.com/u/19864447?v=4\",\"gravatar_id\":\"\",\"url\":\"https://api.github.com/users/web-flow\",\"html_url\":\"https://github.com/web-flow\",\"followers_url\":\"https://api.github.com/users/web-flow/followers\",\"following_url\":\"https://api.github.com/users/web-flow/following{/other_user}\",\"gists_url\":\"https://api.github.com/users/web-flow/gists{/gist_id}\",\"starred_url\":\"https://api.github.com/users/web-flow/starred{/owner}{/repo}\",\"subscriptions_url\":\"https://api.github.com/users/web-flow/subscriptions\",\"organizations_url\":\"https://api.github.com/users/web-flow/orgs\",\"repos_url\":\"https://api.github.com/users/web-flow/repos\",\"events_url\":\"https://api.github.com/users/web-flow/events{/privacy}\",\"received_events_url\":\"https://api.github.com/users/web-flow/received_events\",\"type\":\"User\",\"user_view_type\":\"public\",\"site_admin\":false},\"parents\":[{\"sha\":\"4b887b713392a3a5fdfdbcf4e7d2c4143098b967\",\"url\":\"https://api.github.com/repos/tidyverse/ggplot2/commits/4b887b713392a3a5fdfdbcf4e7d2c4143098b967\",\"html_url\":\"https://github.com/tidyverse/ggplot2/commit/4b887b713392a3a5fdfdbcf4e7d2c4143098b967\"}]},{\"sha\":\"4b887b713392a3a5fdfdbcf4e7d2c4143098b967\",\"node_id\":\"C_kwDNS-7aACg0Yjg4N2I3MTMzOTJhM2E1ZmRmZGJjZjRlN2QyYzQxNDMwOThiOTY3\",\"commit\":{\"author\":{\"name\":\"Teun van den Brand\",\"email\":\"49372158+teunbrand@users.noreply.github.com\",\"date\":\"2025-01-27T18:45:31Z\"},\"committer\":{\"name\":\"GitHub\",\"email\":\"noreply@github.com\",\"date\":\"2025-01-27T18:45:31Z\"},\"message\":\"Tweak polar distance (#6226)\\\\n\\\\n* add boosts to radius\\\\r\\\\n\\\\r\\\\n* tweak test\\\\r\\\\n\\\\r\\\\n* accept snapshots\\\\r\\\\n\\\\r\\\\n* add news bullet\",\"tree\":{\"sha\":\"d31f93d13542b2e34f6e6ed5e4e26abdf1128b66\",\"url\":\"https://api.github.com/repos/tidyverse/ggplot2/git/trees/d31f93d13542b2e34f6e6ed5e4e26abdf1128b66\"},\"url\":\"https://api.github.com/repos/tidyverse/ggplot2/git/commits/4b887b713392a3a5fdfdbcf4e7d2c4143098b967\",\"comment_count\":0,\"verification\":{\"verified\":true,\"reason\":\"valid\",\"signature\":\"-----BEGIN PGP SIGNATURE-----\\\\n\\\\nwsFcBAABCAAQBQJnl9RLCRC1aQ7uu5UhlAAALk0QAKp2YIvvLXHOVrMoA1jZjiJs\\\\nU9euxHmTLiN5pWHw6MqyftHvxZG6UlNa+5hJw1Kkun/6Td/CqHUu2gna+DftoVoY\\\\n4KCrki1TGNYlOyycGgwhWCXL63xXlD/HYwlakQeQwtSKQRuDTye3jJhlZZVyuGKY\\\\n6FbwmdN38oFvhSFOAWfCWsLYCWWql9ZTukXwhseDy+HFI/WaLo/DWP5UmvhhToFu\\\\nsqgwWot1i18fH+R7sPshDZR8YczaFyiZx0v2Z4Y8ya+8TZk2j+gYosGhvXJtRKCS\\\\nN9CXm9G8AwHfeZv6AhkxdvtJFtxntBoaOcJKlb7aRJLYCE/oyt7L/F1NfOVgq6lL\\\\nBR/Pot2T0hM+FmqqXdeey/DdyXqZtOxaMS66cbwmVkZxvQ+nxP7eyg2CjMW/tQxP\\\\nbvUV2f3G194cwwnwZvN03fLvTq39mRca1LnjYdwYNLqELz91tdt5fPV0DfzD3mtr\\\\npE2DhWjgBotJYi/bVe72ps4j2SJXg3GXnRYks57l5eAfdhhBifw2Q4OgpnfOfYaa\\\\nL6xW5a7rS719Wmt5iv14fI5co17NBvEnl7u7U5CoyQWpvEsCeaszgCOGc7a9G7B4\\\\nzaK2Yvv/YLh9d1Ex7LZPJ/FW959+AUJyMJxZgGktWRC7P9HnpiNzjLCm/k1Bl+Yl\\\\nvyAkk7RBXD/H135YQ3w+\\\\n=UqU7\\\\n-----END PGP SIGNATURE-----\\\\n\",\"payload\":\"tree d31f93d13542b2e34f6e6ed5e4e26abdf1128b66\\\\nparent e30642b0b65e5288e8dea0a3ed59f84e63be502a\\\\nauthor Teun van den Brand <49372158+teunbrand@users.noreply.github.com> 1738003531 +0100\\\\ncommitter GitHub <noreply@github.com> 1738003531 +0100\\\\n\\\\nTweak polar distance (#6226)\\\\n\\\\n* add boosts to radius\\\\r\\\\n\\\\r\\\\n* tweak test\\\\r\\\\n\\\\r\\\\n* accept snapshots\\\\r\\\\n\\\\r\\\\n* add news bullet\",\"verified_at\":\"2025-01-27T18:45:34Z\"}},\"url\":\"https://api.github.com/repos/tidyverse/ggplot2/commits/4b887b713392a3a5fdfdbcf4e7d2c4143098b967\",\"html_url\":\"https://github.com/tidyverse/ggplot2/commit/4b887b713392a3a5fdfdbcf4e7d2c4143098b967\",\"comments_url\":\"https://api.github.com/repos/tidyverse/ggplot2/commits/4b887b713392a3a5fdfdbcf4e7d2c4143098b967/comments\",\"author\":{\"login\":\"teunbrand\",\"id\":49372158,\"node_id\":\"MDQ6VXNlcjQ5MzcyMTU4\",\"avatar_url\":\"https://avatars.githubusercontent.com/u/49372158?v=4\",\"gravatar_id\":\"\",\"url\":\"https://api.github.com/users/teunbrand\",\"html_url\":\"https://github.com/teunbrand\",\"followers_url\":\"https://api.github.com/users/teunbrand/followers\",\"following_url\":\"https://api.github.com/users/teunbrand/following{/other_user}\",\"gists_url\":\"https://api.github.com/users/teunbrand/gists{/gist_id}\",\"starred_url\":\"https://api.github.com/users/teunbrand/starred{/owner}{/repo}\",\"subscriptions_url\":\"https://api.github.com/users/teunbrand/subscriptions\",\"organizations_url\":\"https://api.github.com/users/teunbrand/orgs\",\"repos_url\":\"https://api.github.com/users/teunbrand/repos\",\"events_url\":\"https://api.github.com/users/teunbrand/events{/privacy}\",\"received_events_url\":\"https://api.github.com/users/teunbrand/received_events\",\"type\":\"User\",\"user_view_type\":\"public\",\"site_admin\":false},\"committer\":{\"login\":\"web-flow\",\"id\":19864447,\"node_id\":\"MDQ6VXNlcjE5ODY0NDQ3\",\"avatar_url\":\"https://avatars.githubusercontent.com/u/19864447?v=4\",\"gravatar_id\":\"\",\"url\":\"https://api.github.com/users/web-flow\",\"html_url\":\"https://github.com/web-flow\",\"followers_url\":\"https://api.github.com/users/web-flow/followers\",\"following_url\":\"https://api.github.com/users/web-flow/following{/other_user}\",\"gists_url\":\"https://api.github.com/users/web-flow/gists{/gist_id}\",\"starred_url\":\"https://api.github.com/users/web-flow/starred{/owner}{/repo}\",\"subscriptions_url\":\"https://api.github.com/users/web-flow/subscriptions\",\"organizations_url\":\"https://api.github.com/users/web-flow/orgs\",\"repos_url\":\"https://api.github.com/users/web-flow/repos\",\"events_url\":\"https://api.github.com/users/web-flow/events{/privacy}\",\"received_events_url\":\"https://api.github.com/users/web-flow/received_events\",\"type\":\"User\",\"user_view_type\":\"public\",\"site_admin\":false},\"parents\":[{\"sha\":\"e30642b0b65e5288e8dea0a3ed59f84e63be502a\",\"url\":\"https://api.github.com/repos/tidyverse/ggplot2/commits/e30642b0b65e5288e8dea0a3ed59f84e63be502a\",\"html_url\":\"https://github.com/tidyverse/ggplot2/commit/e30642b0b65e5288e8dea0a3ed59f84e63be502a\"}]},{\"sha\":\"e30642b0b65e5288e8dea0a3ed59f84e63be502a\",\"node_id\":\"C_kwDNS-7aAChlMzA2NDJiMGI2NWU1Mjg4ZThkZWEwYTNlZDU5Zjg0ZTYzYmU1MDJh\",\"commit\":{\"author\":{\"name\":\"Teun van den Brand\",\"email\":\"49372158+teunbrand@users.noreply.github.com\",\"date\":\"2025-01-27T15:52:49Z\"},\"committer\":{\"name\":\"GitHub\",\"email\":\"noreply@github.com\",\"date\":\"2025-01-27T15:52:49Z\"},\"message\":\"Limits of binned scales when data has zero width (#6225)\\\\n\\\\n* fallback for zero-range limits\\\\r\\\\n\\\\r\\\\n* add test\\\\r\\\\n\\\\r\\\\n* add news bullet\",\"tree\":{\"sha\":\"c2e57607a4f2c3509164459d841bac7d1192b1d0\",\"url\":\"https://api.github.com/repos/tidyverse/ggplot2/git/trees/c2e57607a4f2c3509164459d841bac7d1192b1d0\"},\"url\":\"https://api.github.com/repos/tidyverse/ggplot2/git/commits/e30642b0b65e5288e8dea0a3ed59f84e63be502a\",\"comment_count\":0,\"verification\":{\"verified\":true,\"reason\":\"valid\",\"signature\":\"-----BEGIN PGP SIGNATURE-----\\\\n\\\\nwsFcBAABCAAQBQJnl6vRCRC1aQ7uu5UhlAAAr70QAA+G3UO1YOA2kJtyBbXndNz3\\\\nfpit4uqDh7HeRP6MinvTcCNiKaYdoFeu64FwgSuZqu1CPYgBmzVDD0oimqWYhvF6\\\\nalKAniQlEcXRyn4OJPb9C2YkX8XM1EXk8F809K1XxzVy1edPnIuEQjP8XSUMdE8H\\\\nRvwd/6Ae8VY2XwAX8qpMUqVUf4/fsLCy7qOnx19k1wHxsoWdvZF0tSFEtl6CamtY\\\\npsvXTQf+qlRfES5OkyTP0haNArhuZw6kiOemsLlfA1exSgeGB7PuYYBHgYGUaUXP\\\\nRDezBDGol7ZehxaagUyVLp4OY+cUfxBqByNC8CfJozs77io9zrJk+VDFMzytk+zU\\\\n59w0V1qr9kduziiYSaf7oQ5ZOuGft/9xiJYEXBiGq0vapsW/1wlZOvPoBCAqujZJ\\\\nUUFg/uewmznEQw1UeqNLTGOiAnbGYW/etLGL8PUKhclo0P3CptmMdJ0YUTWaOED/\\\\nQfxmhB888x1THEuLLUw/W4CCIhFqA6/+bwZuHwh9orEdu4/lveVI2BWZTMBf0VqA\\\\neayCgiAp3o76+iqalSsi29xyVFN+Us20cdcUS9E9IHjFy7Ks1i0rDGDfk2P8lQR6\\\\n5yU0DsDeVwOK9fzrUWTGC9BSgT5lHolDap3EhQH6v7D9TlAOtcYOn8fUH3K4cFZW\\\\ngi2ibhB6NOVfCadVuOIl\\\\n=vLmp\\\\n-----END PGP SIGNATURE-----\\\\n\",\"payload\":\"tree c2e57607a4f2c3509164459d841bac7d1192b1d0\\\\nparent 7eeb6365be8cfa559aabeda9b59828414515d785\\\\nauthor Teun van den Brand <49372158+teunbrand@users.noreply.github.com> 1737993169 +0100\\\\ncommitter GitHub <noreply@github.com> 1737993169 +0100\\\\n\\\\nLimits of binned scales when data has zero width (#6225)\\\\n\\\\n* fallback for zero-range limits\\\\r\\\\n\\\\r\\\\n* add test\\\\r\\\\n\\\\r\\\\n* add news bullet\",\"verified_at\":\"2025-01-27T15:52:53Z\"}},\"url\":\"https://api.github.com/repos/tidyverse/ggplot2/commits/e30642b0b65e5288e8dea0a3ed59f84e63be502a\",\"html_url\":\"https://github.com/tidyverse/ggplot2/commit/e30642b0b65e5288e8dea0a3ed59f84e63be502a\",\"comments_url\":\"https://api.github.com/repos/tidyverse/ggplot2/commits/e30642b0b65e5288e8dea0a3ed59f84e63be502a/comments\",\"author\":{\"login\":\"teunbrand\",\"id\":49372158,\"node_id\":\"MDQ6VXNlcjQ5MzcyMTU4\",\"avatar_url\":\"https://avatars.githubusercontent.com/u/49372158?v=4\",\"gravatar_id\":\"\",\"url\":\"https://api.github.com/users/teunbrand\",\"html_url\":\"https://github.com/teunbrand\",\"followers_url\":\"https://api.github.com/users/teunbrand/followers\",\"following_url\":\"https://api.github.com/users/teunbrand/following{/other_user}\",\"gists_url\":\"https://api.github.com/users/teunbrand/gists{/gist_id}\",\"starred_url\":\"https://api.github.com/users/teunbrand/starred{/owner}{/repo}\",\"subscriptions_url\":\"https://api.github.com/users/teunbrand/subscriptions\",\"organizations_url\":\"https://api.github.com/users/teunbrand/orgs\",\"repos_url\":\"https://api.github.com/users/teunbrand/repos\",\"events_url\":\"https://api.github.com/users/teunbrand/events{/privacy}\",\"received_events_url\":\"https://api.github.com/users/teunbrand/received_events\",\"type\":\"User\",\"user_view_type\":\"public\",\"site_admin\":false},\"committer\":{\"login\":\"web-flow\",\"id\":19864447,\"node_id\":\"MDQ6VXNlcjE5ODY0NDQ3\",\"avatar_url\":\"https://avatars.githubusercontent.com/u/19864447?v=4\",\"gravatar_id\":\"\",\"url\":\"https://api.github.com/users/web-flow\",\"html_url\":\"https://github.com/web-flow\",\"followers_url\":\"https://api.github.com/users/web-flow/followers\",\"following_url\":\"https://api.github.com/users/web-flow/following{/other_user}\",\"gists_url\":\"https://api.github.com/users/web-flow/gists{/gist_id}\",\"starred_url\":\"https://api.github.com/users/web-flow/starred{/owner}{/repo}\",\"subscriptions_url\":\"https://api.github.com/users/web-flow/subscriptions\",\"organizations_url\":\"https://api.github.com/users/web-flow/orgs\",\"repos_url\":\"https://api.github.com/users/web-flow/repos\",\"events_url\":\"https://api.github.com/users/web-flow/events{/privacy}\",\"received_events_url\":\"https://api.github.com/users/web-flow/received_events\",\"type\":\"User\",\"user_view_type\":\"public\",\"site_admin\":false},\"parents\":[{\"sha\":\"7eeb6365be8cfa559aabeda9b59828414515d785\",\"url\":\"https://api.github.com/repos/tidyverse/ggplot2/commits/7eeb6365be8cfa559aabeda9b59828414515d785\",\"html_url\":\"https://github.com/tidyverse/ggplot2/commit/7eeb6365be8cfa559aabeda9b59828414515d785\"}]},{\"sha\":\"7eeb6365be8cfa559aabeda9b59828414515d785\",\"node_id\":\"C_kwDNS-7aACg3ZWViNjM2NWJlOGNmYTU1OWFhYmVkYTliNTk4Mjg0MTQ1MTVkNzg1\",\"commit\":{\"author\":{\"name\":\"Teun van den Brand\",\"email\":\"49372158+teunbrand@users.noreply.github.com\",\"date\":\"2025-01-27T15:52:01Z\"},\"committer\":{\"name\":\"GitHub\",\"email\":\"noreply@github.com\",\"date\":\"2025-01-27T15:52:01Z\"},\"message\":\"Sanitise bin calculations (#6212)\\\\n\\\\n* capture bin argument fixup in function\\\\r\\\\n\\\\r\\\\n* capture binning logic in function\\\\r\\\\n\\\\r\\\\n* helper for cutting bins\\\\r\\\\n\\\\r\\\\n* consistency of `stat_bin2d()`\\\\r\\\\n\\\\r\\\\n* necromancy: resurrect `stat_bin(drop)` by sacrificing `stat_bin(keep.zeroes)`\\\\r\\\\n\\\\r\\\\n* fix `boundary = 0`\\\\r\\\\n\\\\r\\\\n* same treatment for `stat_summary2d()`\\\\r\\\\n\\\\r\\\\n* Implement `StatBin2d` as subclass of `StatSummary2d`\\\\r\\\\n\\\\r\\\\n* consistency for `stat_summary_bin()`\\\\r\\\\n\\\\r\\\\n* document\\\\r\\\\n\\\\r\\\\n* collect bin utilities in one place\\\\r\\\\n\\\\r\\\\n* remove vestigial `bin2d_breaks()`\\\\r\\\\n\\\\r\\\\n* discard superfluous `self`\\\\r\\\\n\\\\r\\\\n* bring `stat_bindot()` into the fold\\\\r\\\\n\\\\r\\\\n* centralise argument checking in `compute_bins()`\\\\r\\\\n\\\\r\\\\n* `stat_bin_2d(boundary)` internally defaults to 0\\\\r\\\\n\\\\r\\\\n* add news bullets\\\\r\\\\n\\\\r\\\\n* allow lambda notation for breaks/binwidth/bins\\\\r\\\\n\\\\r\\\\n* improve docs\",\"tree\":{\"sha\":\"3051a3dfca264b4dacc2b83de37c6776dd8d92b2\",\"url\":\"https://api.github.com/repos/tidyverse/ggplot2/git/trees/3051a3dfca264b4dacc2b83de37c6776dd8d92b2\"},\"url\":\"https://api.github.com/repos/tidyverse/ggplot2/git/commits/7eeb6365be8cfa559aabeda9b59828414515d785\",\"comment_count\":0,\"verification\":{\"verified\":true,\"reason\":\"valid\",\"signature\":\"-----BEGIN PGP SIGNATURE-----\\\\n\\\\nwsFcBAABCAAQBQJnl6uhCRC1aQ7uu5UhlAAAfBsQAHkukIv7AjVftm7/CAf/p4WL\\\\nfh0O1TlitYsl/y+eUXXoJ1Vcl2BsGuZSw6tb32P7NyJUBgLSljnkj9ZfCh35Mvo0\\\\n2bEbIfaTotmju0++FnBFvOxxH7TYxAuxeJCRdLkc2ENtYWDSOOfuDk+KHetgu++V\\\\njLYOmC5X1rYZi+HRInsERthO+kak2NCIJ3VpicSuYLE8aN4EHPXVSDpXGMz1AoJv\\\\nzChjTDxeC3L0gB2yzwgQq60sMsPvZ3UYIzCrNWHM94pTAEwjohtqv2VlekDyKvrg\\\\ncjBRufH8vdMd3JGW0BKWusOVp6/NQq+ifZm+e21D2ITF+A+WkIXWSNutQL7VjDjM\\\\ndxwRZbHk0bmnPlUd7ZcjgDEKyhpDCHn0a4Q3g2i8X5xfnABUQPpzXQ70v8BDSPm0\\\\nDZ6hnXm8kQfTUc/jN5oC7hL0bcPB0gFbBHmbxgbDe68ZJ/2JbyZ708utwVW7hU+B\\\\nOA/yblLx/5vL+8keWSwcn27NKmf8WerpwG/Bgzkc0qcATyLj6+ZWJVCIjnyL78EI\\\\njCtrZICLP4NadZQXaRrZP5eZyWTif1TsMl9m/CXTVjLqpv+BfDpyFHpWqPkB3s/o\\\\nmfnjfw+tqt2TEK0l8qPUgzYxGMS5l7bGhQk0vZXuowciamB6miIEDLwk3mC4S7Lb\\\\n5E3Z4X1RWas4B383PBRF\\\\n=YKgp\\\\n-----END PGP SIGNATURE-----\\\\n\",\"payload\":\"tree 3051a3dfca264b4dacc2b83de37c6776dd8d92b2\\\\nparent 321b300bd9ef1b902ca84def2e0e69c88d16f54f\\\\nauthor Teun van den Brand <49372158+teunbrand@users.noreply.github.com> 1737993121 +0100\\\\ncommitter GitHub <noreply@github.com> 1737993121 +0100\\\\n\\\\nSanitise bin calculations (#6212)\\\\n\\\\n* capture bin argument fixup in function\\\\r\\\\n\\\\r\\\\n* capture binning logic in function\\\\r\\\\n\\\\r\\\\n* helper for cutting bins\\\\r\\\\n\\\\r\\\\n* consistency of `stat_bin2d()`\\\\r\\\\n\\\\r\\\\n* necromancy: resurrect `stat_bin(drop)` by sacrificing `stat_bin(keep.zeroes)`\\\\r\\\\n\\\\r\\\\n* fix `boundary = 0`\\\\r\\\\n\\\\r\\\\n* same treatment for `stat_summary2d()`\\\\r\\\\n\\\\r\\\\n* Implement `StatBin2d` as subclass of `StatSummary2d`\\\\r\\\\n\\\\r\\\\n* consistency for `stat_summary_bin()`\\\\r\\\\n\\\\r\\\\n* document\\\\r\\\\n\\\\r\\\\n* collect bin utilities in one place\\\\r\\\\n\\\\r\\\\n* remove vestigial `bin2d_breaks()`\\\\r\\\\n\\\\r\\\\n* discard superfluous `self`\\\\r\\\\n\\\\r\\\\n* bring `stat_bindot()` into the fold\\\\r\\\\n\\\\r\\\\n* centralise argument checking in `compute_bins()`\\\\r\\\\n\\\\r\\\\n* `stat_bin_2d(boundary)` internally defaults to 0\\\\r\\\\n\\\\r\\\\n* add news bullets\\\\r\\\\n\\\\r\\\\n* allow lambda notation for breaks/binwidth/bins\\\\r\\\\n\\\\r\\\\n* improve docs\",\"verified_at\":\"2025-01-27T15:52:04Z\"}},\"url\":\"https://api.github.com/repos/tidyverse/ggplot2/commits/7eeb6365be8cfa559aabeda9b59828414515d785\",\"html_url\":\"https://github.com/tidyverse/ggplot2/commit/7eeb6365be8cfa559aabeda9b59828414515d785\",\"comments_url\":\"https://api.github.com/repos/tidyverse/ggplot2/commits/7eeb6365be8cfa559aabeda9b59828414515d785/comments\",\"author\":{\"login\":\"teunbrand\",\"id\":49372158,\"node_id\":\"MDQ6VXNlcjQ5MzcyMTU4\",\"avatar_url\":\"https://avatars.githubusercontent.com/u/49372158?v=4\",\"gravatar_id\":\"\",\"url\":\"https://api.github.com/users/teunbrand\",\"html_url\":\"https://github.com/teunbrand\",\"followers_url\":\"https://api.github.com/users/teunbrand/followers\",\"following_url\":\"https://api.github.com/users/teunbrand/following{/other_user}\",\"gists_url\":\"https://api.github.com/users/teunbrand/gists{/gist_id}\",\"starred_url\":\"https://api.github.com/users/teunbrand/starred{/owner}{/repo}\",\"subscriptions_url\":\"https://api.github.com/users/teunbrand/subscriptions\",\"organizations_url\":\"https://api.github.com/users/teunbrand/orgs\",\"repos_url\":\"https://api.github.com/users/teunbrand/repos\",\"events_url\":\"https://api.github.com/users/teunbrand/events{/privacy}\",\"received_events_url\":\"https://api.github.com/users/teunbrand/received_events\",\"type\":\"User\",\"user_view_type\":\"public\",\"site_admin\":false},\"committer\":{\"login\":\"web-flow\",\"id\":19864447,\"node_id\":\"MDQ6VXNlcjE5ODY0NDQ3\",\"avatar_url\":\"https://avatars.githubusercontent.com/u/19864447?v=4\",\"gravatar_id\":\"\",\"url\":\"https://api.github.com/users/web-flow\",\"html_url\":\"https://github.com/web-flow\",\"followers_url\":\"https://api.github.com/users/web-flow/followers\",\"following_url\":\"https://api.github.com/users/web-flow/following{/other_user}\",\"gists_url\":\"https://api.github.com/users/web-flow/gists{/gist_id}\",\"starred_url\":\"https://api.github.com/users/web-flow/starred{/owner}{/repo}\",\"subscriptions_url\":\"https://api.github.com/users/web-flow/subscriptions\",\"organizations_url\":\"https://api.github.com/users/web-flow/orgs\",\"repos_url\":\"https://api.github.com/users/web-flow/repos\",\"events_url\":\"https://api.github.com/users/web-flow/events{/privacy}\",\"received_events_url\":\"https://api.github.com/users/web-flow/received_events\",\"type\":\"User\",\"user_view_type\":\"public\",\"site_admin\":false},\"parents\":[{\"sha\":\"321b300bd9ef1b902ca84def2e0e69c88d16f54f\",\"url\":\"https://api.github.com/repos/tidyverse/ggplot2/commits/321b300bd9ef1b902ca84def2e0e69c88d16f54f\",\"html_url\":\"https://github.com/tidyverse/ggplot2/commit/321b300bd9ef1b902ca84def2e0e69c88d16f54f\"}]},{\"sha\":\"321b300bd9ef1b902ca84def2e0e69c88d16f54f\",\"node_id\":\"C_kwDNS-7aACgzMjFiMzAwYmQ5ZWYxYjkwMmNhODRkZWYyZTBlNjljODhkMTZmNTRm\",\"commit\":{\"author\":{\"name\":\"Teun van den Brand\",\"email\":\"49372158+teunbrand@users.noreply.github.com\",\"date\":\"2025-01-27T15:10:54Z\"},\"committer\":{\"name\":\"GitHub\",\"email\":\"noreply@github.com\",\"date\":\"2025-01-27T15:10:54Z\"},\"message\":\"missing contour parameter defaults to `TRUE` (#6222)\",\"tree\":{\"sha\":\"b8b90ec24ab99ec5c36d20b146308906698faccf\",\"url\":\"https://api.github.com/repos/tidyverse/ggplot2/git/trees/b8b90ec24ab99ec5c36d20b146308906698faccf\"},\"url\":\"https://api.github.com/repos/tidyverse/ggplot2/git/commits/321b300bd9ef1b902ca84def2e0e69c88d16f54f\",\"comment_count\":0,\"verification\":{\"verified\":true,\"reason\":\"valid\",\"signature\":\"-----BEGIN PGP SIGNATURE-----\\\\n\\\\nwsFcBAABCAAQBQJnl6H+CRC1aQ7uu5UhlAAABmIQAAMspeI/iLvuTMuOKv8OKU4D\\\\nWcaDysGiXvrVylnNYOyRrtracooLh86TlMBAsMFgfQNgOviZh0N+vXWSQ1zn103Q\\\\nOdY92gsmYhSwO+c5lM35PW2hlZeBJ5eMUsXEGLnQlGPHIW7kkDjnIP5GibHG9oqw\\\\nO3hm2Esp7c3KLgayWuz9F/LuIcQJiX0g54UkYw5UfHgOO3ZmkCtjagjEPFh04cUK\\\\nq8jdwVV62vJrso5TZp3Qm2VaJ/crzBWl0vtwO5WF8j0OQzYSVul65lBob2CxLlHA\\\\nNLL0p2A6dQ0fH8KcOaKlsm2vV/8tG6digZ2/JS7yG6WbNUJkxpfUrQU84xYJFqKe\\\\nuIy1ksaWrYn9YTDk/TVtgbZWdsSF0Q6CUaWN8wNcbXjX8V2x/hwikmRo+bJu9pH5\\\\nhVUHbffJ0OtTgIHS1eGjCqYDmZZch9bc2Ilqt3CJ5lHJ7Bt12BSsHOPnZ+l4uQYy\\\\nP69GXqhtldZXHPi5I1mxz2dxrxfjUyzrlD18rxDyMlH/mw8BViHJigpJHTqyHEla\\\\noWODEwbwCu4XAFNd6sc9wl5Vrt2RMCqsP9Q5HMqCOlb6XXrad7sXGu3W0zEn8+I8\\\\nxE1FkvVGaVvFyKjnXMg6TUheNjnJZeKNRqX/sHUEPZWSKKBjcbQHHDVgztiXASp4\\\\n0LOhbhvGQ4SNnGUqeFcM\\\\n=JDjf\\\\n-----END PGP SIGNATURE-----\\\\n\",\"payload\":\"tree b8b90ec24ab99ec5c36d20b146308906698faccf\\\\nparent 0b6751674b14d5572a17267b95386547095e98b6\\\\nauthor Teun van den Brand <49372158+teunbrand@users.noreply.github.com> 1737990654 +0100\\\\ncommitter GitHub <noreply@github.com> 1737990654 +0100\\\\n\\\\nmissing contour parameter defaults to `TRUE` (#6222)\\\\n\\\\n\",\"verified_at\":\"2025-01-27T15:11:09Z\"}},\"url\":\"https://api.github.com/repos/tidyverse/ggplot2/commits/321b300bd9ef1b902ca84def2e0e69c88d16f54f\",\"html_url\":\"https://github.com/tidyverse/ggplot2/commit/321b300bd9ef1b902ca84def2e0e69c88d16f54f\",\"comments_url\":\"https://api.github.com/repos/tidyverse/ggplot2/commits/321b300bd9ef1b902ca84def2e0e69c88d16f54f/comments\",\"author\":{\"login\":\"teunbrand\",\"id\":49372158,\"node_id\":\"MDQ6VXNlcjQ5MzcyMTU4\",\"avatar_url\":\"https://avatars.githubusercontent.com/u/49372158?v=4\",\"gravatar_id\":\"\",\"url\":\"https://api.github.com/users/teunbrand\",\"html_url\":\"https://github.com/teunbrand\",\"followers_url\":\"https://api.github.com/users/teunbrand/followers\",\"following_url\":\"https://api.github.com/users/teunbrand/following{/other_user}\",\"gists_url\":\"https://api.github.com/users/teunbrand/gists{/gist_id}\",\"starred_url\":\"https://api.github.com/users/teunbrand/starred{/owner}{/repo}\",\"subscriptions_url\":\"https://api.github.com/users/teunbrand/subscriptions\",\"organizations_url\":\"https://api.github.com/users/teunbrand/orgs\",\"repos_url\":\"https://api.github.com/users/teunbrand/repos\",\"events_url\":\"https://api.github.com/users/teunbrand/events{/privacy}\",\"received_events_url\":\"https://api.github.com/users/teunbrand/received_events\",\"type\":\"User\",\"user_view_type\":\"public\",\"site_admin\":false},\"committer\":{\"login\":\"web-flow\",\"id\":19864447,\"node_id\":\"MDQ6VXNlcjE5ODY0NDQ3\",\"avatar_url\":\"https://avatars.githubusercontent.com/u/19864447?v=4\",\"gravatar_id\":\"\",\"url\":\"https://api.github.com/users/web-flow\",\"html_url\":\"https://github.com/web-flow\",\"followers_url\":\"https://api.github.com/users/web-flow/followers\",\"following_url\":\"https://api.github.com/users/web-flow/following{/other_user}\",\"gists_url\":\"https://api.github.com/users/web-flow/gists{/gist_id}\",\"starred_url\":\"https://api.github.com/users/web-flow/starred{/owner}{/repo}\",\"subscriptions_url\":\"https://api.github.com/users/web-flow/subscriptions\",\"organizations_url\":\"https://api.github.com/users/web-flow/orgs\",\"repos_url\":\"https://api.github.com/users/web-flow/repos\",\"events_url\":\"https://api.github.com/users/web-flow/events{/privacy}\",\"received_events_url\":\"https://api.github.com/users/web-flow/received_events\",\"type\":\"User\",\"user_view_type\":\"public\",\"site_admin\":false},\"parents\":[{\"sha\":\"0b6751674b14d5572a17267b95386547095e98b6\",\"url\":\"https://api.github.com/repos/tidyverse/ggplot2/commits/0b6751674b14d5572a17267b95386547095e98b6\",\"html_url\":\"https://github.com/tidyverse/ggplot2/commit/0b6751674b14d5572a17267b95386547095e98b6\"}]},{\"sha\":\"0b6751674b14d5572a17267b95386547095e98b6\",\"node_id\":\"C_kwDNS-7aACgwYjY3NTE2NzRiMTRkNTU3MmExNzI2N2I5NTM4NjU0NzA5NWU5OGI2\",\"commit\":{\"author\":{\"name\":\"Teun van den Brand\",\"email\":\"49372158+teunbrand@users.noreply.github.com\",\"date\":\"2025-01-27T15:07:43Z\"},\"committer\":{\"name\":\"GitHub\",\"email\":\"noreply@github.com\",\"date\":\"2025-01-27T15:07:43Z\"},\"message\":\"Clip qq line (#6220)\\\\n\\\\n* `geom/stat_qq_line()` use `stat = \\\\\"abline\\\\\"`\\\\r\\\\n\\\\r\\\\n* document new computed variables\\\\r\\\\n\\\\r\\\\n* add news bullet\",\"tree\":{\"sha\":\"b9da868a703fdc5a61b2bac96703dbb50a8ef135\",\"url\":\"https://api.github.com/repos/tidyverse/ggplot2/git/trees/b9da868a703fdc5a61b2bac96703dbb50a8ef135\"},\"url\":\"https://api.github.com/repos/tidyverse/ggplot2/git/commits/0b6751674b14d5572a17267b95386547095e98b6\",\"comment_count\":0,\"verification\":{\"verified\":true,\"reason\":\"valid\",\"signature\":\"-----BEGIN PGP SIGNATURE-----\\\\n\\\\nwsFcBAABCAAQBQJnl6E/CRC1aQ7uu5UhlAAA1xkQAJNtdvykxAw7cEdRo5bTmS/9\\\\nCQKSMYo2f3oUaQrGL9mP1r0GtF359/vIVT3k7LevJOkX5cqRcd5JcNGUhIp2qxIo\\\\n9PdBuEKXrBdWjGSxArPj8LxMPD0maYRmdjBJDAs3k3ApMSC6OpHiJJKZDCiKi6R3\\\\n4Rn5LHhyaCPgQTr29Zlh2G51lxfft+QlgJLu72wrWYEgtRw9XuGer7HMoTnYfAnW\\\\nf0etAAXbaWixkjXE3PXhiwRFGPh82h7gE0dpYcuNCm0PJLSIonmDIqFEroaUkg8l\\\\nFzvjoIcVLwsD6LDIDV1MZfbxdOVVr5FE6do4ajZ7IJg9ZB/bnfOauQl7uBsnMwFp\\\\nutrW+/A2dFKIsJ2XIyryOU8VDYkPYgQ/LSpqveuG4PscTx+9XfipHx/SvTYErOqF\\\\nVOFr9rJREegpj4IlgqevChB7XPaG52+rkgiE5/VpURC/dWAlnNh5WgRC11wvN2Zs\\\\nAoNduWPRlG05G5HNv5sF6hVL5mEYkr5odggieBwdCLusdYdrcCaFtzuEczSD1OKk\\\\n80zZSKB6Xv/sxiPKVo96Fam22c3yVKucbiqndsVtSxUj9eS1aJTZp8FpZUOL182R\\\\nHjElnXLKajdvU4ZJPAvPeydQ5vslTkqaV9BH3TvrgLtJD2ni9pdmF4e72OdDRk32\\\\nsJT5/2spTj5DBQNDwb7I\\\\n=Nfif\\\\n-----END PGP SIGNATURE-----\\\\n\",\"payload\":\"tree b9da868a703fdc5a61b2bac96703dbb50a8ef135\\\\nparent e327a5e08f4dd6da14c769ad5020118095f70eff\\\\nauthor Teun van den Brand <49372158+teunbrand@users.noreply.github.com> 1737990463 +0100\\\\ncommitter GitHub <noreply@github.com> 1737990463 +0100\\\\n\\\\nClip qq line (#6220)\\\\n\\\\n* `geom/stat_qq_line()` use `stat = \\\\\"abline\\\\\"`\\\\r\\\\n\\\\r\\\\n* document new computed variables\\\\r\\\\n\\\\r\\\\n* add news bullet\",\"verified_at\":\"2025-01-27T15:07:46Z\"}},\"url\":\"https://api.github.com/repos/tidyverse/ggplot2/commits/0b6751674b14d5572a17267b95386547095e98b6\",\"html_url\":\"https://github.com/tidyverse/ggplot2/commit/0b6751674b14d5572a17267b95386547095e98b6\",\"comments_url\":\"https://api.github.com/repos/tidyverse/ggplot2/commits/0b6751674b14d5572a17267b95386547095e98b6/comments\",\"author\":{\"login\":\"teunbrand\",\"id\":49372158,\"node_id\":\"MDQ6VXNlcjQ5MzcyMTU4\",\"avatar_url\":\"https://avatars.githubusercontent.com/u/49372158?v=4\",\"gravatar_id\":\"\",\"url\":\"https://api.github.com/users/teunbrand\",\"html_url\":\"https://github.com/teunbrand\",\"followers_url\":\"https://api.github.com/users/teunbrand/followers\",\"following_url\":\"https://api.github.com/users/teunbrand/following{/other_user}\",\"gists_url\":\"https://api.github.com/users/teunbrand/gists{/gist_id}\",\"starred_url\":\"https://api.github.com/users/teunbrand/starred{/owner}{/repo}\",\"subscriptions_url\":\"https://api.github.com/users/teunbrand/subscriptions\",\"organizations_url\":\"https://api.github.com/users/teunbrand/orgs\",\"repos_url\":\"https://api.github.com/users/teunbrand/repos\",\"events_url\":\"https://api.github.com/users/teunbrand/events{/privacy}\",\"received_events_url\":\"https://api.github.com/users/teunbrand/received_events\",\"type\":\"User\",\"user_view_type\":\"public\",\"site_admin\":false},\"committer\":{\"login\":\"web-flow\",\"id\":19864447,\"node_id\":\"MDQ6VXNlcjE5ODY0NDQ3\",\"avatar_url\":\"https://avatars.githubusercontent.com/u/19864447?v=4\",\"gravatar_id\":\"\",\"url\":\"https://api.github.com/users/web-flow\",\"html_url\":\"https://github.com/web-flow\",\"followers_url\":\"https://api.github.com/users/web-flow/followers\",\"following_url\":\"https://api.github.com/users/web-flow/following{/other_user}\",\"gists_url\":\"https://api.github.com/users/web-flow/gists{/gist_id}\",\"starred_url\":\"https://api.github.com/users/web-flow/starred{/owner}{/repo}\",\"subscriptions_url\":\"https://api.github.com/users/web-flow/subscriptions\",\"organizations_url\":\"https://api.github.com/users/web-flow/orgs\",\"repos_url\":\"https://api.github.com/users/web-flow/repos\",\"events_url\":\"https://api.github.com/users/web-flow/events{/privacy}\",\"received_events_url\":\"https://api.github.com/users/web-flow/received_events\",\"type\":\"User\",\"user_view_type\":\"public\",\"site_admin\":false},\"parents\":[{\"sha\":\"e327a5e08f4dd6da14c769ad5020118095f70eff\",\"url\":\"https://api.github.com/repos/tidyverse/ggplot2/commits/e327a5e08f4dd6da14c769ad5020118095f70eff\",\"html_url\":\"https://github.com/tidyverse/ggplot2/commit/e327a5e08f4dd6da14c769ad5020118095f70eff\"}]}]'"
      ]
     },
     "execution_count": 118,
     "metadata": {},
     "output_type": "execute_result"
    }
   ],
   "source": [
    "r.text"
   ]
  },
  {
   "cell_type": "code",
   "execution_count": 119,
   "id": "137292c0",
   "metadata": {},
   "outputs": [],
   "source": [
    "json_data = r.text"
   ]
  },
  {
   "cell_type": "code",
   "execution_count": 120,
   "id": "c673be1d",
   "metadata": {},
   "outputs": [
    {
     "name": "stdout",
     "output_type": "stream",
     "text": [
      "<class 'list'> 30\n"
     ]
    }
   ],
   "source": [
    "python_data = json.loads(json_data) # From json to python\n",
    "print(type(python_data),len(python_data))"
   ]
  },
  {
   "cell_type": "code",
   "execution_count": 121,
   "id": "e2100aab",
   "metadata": {},
   "outputs": [
    {
     "name": "stdout",
     "output_type": "stream",
     "text": [
      "<class 'dict'> 9\n"
     ]
    }
   ],
   "source": [
    "print(type(python_data[0]),len(python_data[0]))"
   ]
  },
  {
   "cell_type": "code",
   "execution_count": null,
   "id": "37d23ef6",
   "metadata": {},
   "outputs": [],
   "source": [
    "# requests - download the webcontent \n",
    "# bs4  - web scraping \n",
    "\n",
    "bs4.BeautifulSoup('Webpage') -> SoupObject.<htmlTag> ->data\n",
    "                                    <or>\n",
    "                             -> SoupObject.find('<htmlTag>') ->data\n",
    "                                    <or>\n",
    "                             -> SoupObject.find_all('<htmlTag>') -> [data ...data]\n",
    "                \n",
    "<a class='id1' img='source'>\n",
    " | ----------  -------------//like a dictContent {'class':'id1'} \n",
    " |\n",
    "outerTag\n",
    "\n",
    "search - parent - child ; siblings\n",
    "\n",
    "<html>\n",
    "<head>\n",
    "<title>...</title>   title.parent - will get <head>...</head>\n",
    "<body>\n",
    "<p> ..</p>\n",
    "</body>\n",
    "</head>\n",
    "</html>"
   ]
  },
  {
   "cell_type": "code",
   "execution_count": 122,
   "id": "d2729207",
   "metadata": {},
   "outputs": [],
   "source": [
    "import bs4"
   ]
  },
  {
   "cell_type": "code",
   "execution_count": 123,
   "id": "a670ff91",
   "metadata": {},
   "outputs": [
    {
     "data": {
      "text/plain": [
       "'text/html; charset=ISO-8859-1'"
      ]
     },
     "execution_count": 123,
     "metadata": {},
     "output_type": "execute_result"
    }
   ],
   "source": [
    "r = requests.get('https://www.google.com')\n",
    "if(r.status_code != 200):\n",
    "    print('url download is failed')\n",
    "    exit\n",
    "    \n",
    "r.headers['Content-Type']"
   ]
  },
  {
   "cell_type": "code",
   "execution_count": 124,
   "id": "139474f2",
   "metadata": {},
   "outputs": [],
   "source": [
    "web_page = r.text"
   ]
  },
  {
   "cell_type": "code",
   "execution_count": 125,
   "id": "1f323ca6",
   "metadata": {},
   "outputs": [
    {
     "name": "stdout",
     "output_type": "stream",
     "text": [
      "<class 'str'> 19051\n"
     ]
    }
   ],
   "source": [
    "print(type(web_page),len(web_page))"
   ]
  },
  {
   "cell_type": "code",
   "execution_count": 126,
   "id": "8e577db1",
   "metadata": {},
   "outputs": [],
   "source": [
    "import bs4\n",
    "gpage = bs4.BeautifulSoup(web_page)"
   ]
  },
  {
   "cell_type": "code",
   "execution_count": 127,
   "id": "4a576894",
   "metadata": {},
   "outputs": [
    {
     "data": {
      "text/plain": [
       "<title>Google</title>"
      ]
     },
     "execution_count": 127,
     "metadata": {},
     "output_type": "execute_result"
    }
   ],
   "source": [
    "gpage.title"
   ]
  },
  {
   "cell_type": "code",
   "execution_count": 128,
   "id": "d8d4b318",
   "metadata": {},
   "outputs": [
    {
     "data": {
      "text/plain": [
       "<p style=\"font-size:8pt;color:#70757a\">© 2025 - <a href=\"/intl/en/policies/privacy/\">Privacy</a> - <a href=\"/intl/en/policies/terms/\">Terms</a></p>"
      ]
     },
     "execution_count": 128,
     "metadata": {},
     "output_type": "execute_result"
    }
   ],
   "source": [
    "gpage.p"
   ]
  },
  {
   "cell_type": "code",
   "execution_count": 131,
   "id": "c3d4fc04",
   "metadata": {},
   "outputs": [
    {
     "data": {
      "text/plain": [
       "'Google'"
      ]
     },
     "execution_count": 131,
     "metadata": {},
     "output_type": "execute_result"
    }
   ],
   "source": [
    "gpage.title.string"
   ]
  },
  {
   "cell_type": "code",
   "execution_count": 132,
   "id": "72338a43",
   "metadata": {},
   "outputs": [
    {
     "data": {
      "text/plain": [
       "<p style=\"font-size:8pt;color:#70757a\">© 2025 - <a href=\"/intl/en/policies/privacy/\">Privacy</a> - <a href=\"/intl/en/policies/terms/\">Terms</a></p>"
      ]
     },
     "execution_count": 132,
     "metadata": {},
     "output_type": "execute_result"
    }
   ],
   "source": [
    "gpage.find('p')"
   ]
  },
  {
   "cell_type": "code",
   "execution_count": 133,
   "id": "ca30e06d",
   "metadata": {},
   "outputs": [
    {
     "data": {
      "text/plain": [
       "[<p style=\"font-size:8pt;color:#70757a\">© 2025 - <a href=\"/intl/en/policies/privacy/\">Privacy</a> - <a href=\"/intl/en/policies/terms/\">Terms</a></p>]"
      ]
     },
     "execution_count": 133,
     "metadata": {},
     "output_type": "execute_result"
    }
   ],
   "source": [
    "gpage.find_all('p')"
   ]
  },
  {
   "cell_type": "code",
   "execution_count": 134,
   "id": "8fbf3e19",
   "metadata": {},
   "outputs": [],
   "source": [
    "gpage.find('h1')"
   ]
  },
  {
   "cell_type": "code",
   "execution_count": 135,
   "id": "52b48917",
   "metadata": {},
   "outputs": [
    {
     "data": {
      "text/plain": [
       "<a class=\"gb1\" href=\"https://www.google.com/imghp?hl=en&amp;tab=wi\">Images</a>"
      ]
     },
     "execution_count": 135,
     "metadata": {},
     "output_type": "execute_result"
    }
   ],
   "source": [
    "gpage.find('a')"
   ]
  },
  {
   "cell_type": "code",
   "execution_count": 136,
   "id": "624f4d1a",
   "metadata": {},
   "outputs": [
    {
     "data": {
      "text/plain": [
       "['gb1']"
      ]
     },
     "execution_count": 136,
     "metadata": {},
     "output_type": "execute_result"
    }
   ],
   "source": [
    "gpage.find('a')['class'] # dict "
   ]
  },
  {
   "cell_type": "code",
   "execution_count": 137,
   "id": "15b9cde8",
   "metadata": {},
   "outputs": [
    {
     "data": {
      "text/plain": [
       "'V1'"
      ]
     },
     "execution_count": 137,
     "metadata": {},
     "output_type": "execute_result"
    }
   ],
   "source": [
    "d={'K1':'V1'}\n",
    "d.get('K1') # d['K1'] "
   ]
  },
  {
   "cell_type": "code",
   "execution_count": 139,
   "id": "84c56de0",
   "metadata": {},
   "outputs": [],
   "source": [
    "# d['K2']  ->KeyError\n",
    "d.get('K2') ->None"
   ]
  },
  {
   "cell_type": "code",
   "execution_count": 140,
   "id": "e3f522e9",
   "metadata": {},
   "outputs": [
    {
     "data": {
      "text/plain": [
       "['gb1']"
      ]
     },
     "execution_count": 140,
     "metadata": {},
     "output_type": "execute_result"
    }
   ],
   "source": [
    "gpage.find('a').get('class')"
   ]
  },
  {
   "cell_type": "code",
   "execution_count": 141,
   "id": "4f0365e7",
   "metadata": {},
   "outputs": [
    {
     "data": {
      "text/plain": [
       "<a class=\"gb1\" href=\"https://www.google.com/imghp?hl=en&amp;tab=wi\">Images</a>"
      ]
     },
     "execution_count": 141,
     "metadata": {},
     "output_type": "execute_result"
    }
   ],
   "source": [
    "gpage.find('a')"
   ]
  },
  {
   "cell_type": "code",
   "execution_count": 142,
   "id": "d9eb8dba",
   "metadata": {},
   "outputs": [
    {
     "data": {
      "text/plain": [
       "'https://www.google.com/imghp?hl=en&tab=wi'"
      ]
     },
     "execution_count": 142,
     "metadata": {},
     "output_type": "execute_result"
    }
   ],
   "source": [
    "gpage.find('a').get('href')"
   ]
  },
  {
   "cell_type": "code",
   "execution_count": 143,
   "id": "174060b1",
   "metadata": {},
   "outputs": [
    {
     "data": {
      "text/plain": [
       "'Images'"
      ]
     },
     "execution_count": 143,
     "metadata": {},
     "output_type": "execute_result"
    }
   ],
   "source": [
    "gpage.find('a').string"
   ]
  },
  {
   "cell_type": "code",
   "execution_count": 144,
   "id": "86f1e7b4",
   "metadata": {
    "scrolled": false
   },
   "outputs": [
    {
     "data": {
      "text/plain": [
       "[<a class=\"gb1\" href=\"https://www.google.com/imghp?hl=en&amp;tab=wi\">Images</a>,\n",
       " <a class=\"gb1\" href=\"https://maps.google.co.in/maps?hl=en&amp;tab=wl\">Maps</a>,\n",
       " <a class=\"gb1\" href=\"https://play.google.com/?hl=en&amp;tab=w8\">Play</a>,\n",
       " <a class=\"gb1\" href=\"https://www.youtube.com/?tab=w1\">YouTube</a>,\n",
       " <a class=\"gb1\" href=\"https://news.google.com/?tab=wn\">News</a>,\n",
       " <a class=\"gb1\" href=\"https://mail.google.com/mail/?tab=wm\">Gmail</a>,\n",
       " <a class=\"gb1\" href=\"https://drive.google.com/?tab=wo\">Drive</a>,\n",
       " <a class=\"gb1\" href=\"https://www.google.co.in/intl/en/about/products?tab=wh\" style=\"text-decoration:none\"><u>More</u> »</a>,\n",
       " <a class=\"gb4\" href=\"http://www.google.co.in/history/optout?hl=en\">Web History</a>,\n",
       " <a class=\"gb4\" href=\"/preferences?hl=en\">Settings</a>,\n",
       " <a class=\"gb4\" href=\"https://accounts.google.com/ServiceLogin?hl=en&amp;passive=true&amp;continue=https://www.google.com/&amp;ec=GAZAAQ\" id=\"gb_70\" target=\"_top\">Sign in</a>,\n",
       " <a href=\"/advanced_search?hl=en-IN&amp;authuser=0\">Advanced search</a>,\n",
       " <a href=\"https://www.google.com/setprefs?sig=0_rMXklYNR4YtlL2uj-cdTXdozKJA%3D&amp;hl=hi&amp;source=homepage&amp;sa=X&amp;ved=0ahUKEwj74byp5IGMAxV4J7kGHaHWBtEQ2ZgBCAY\">हिन्दी</a>,\n",
       " <a href=\"https://www.google.com/setprefs?sig=0_rMXklYNR4YtlL2uj-cdTXdozKJA%3D&amp;hl=bn&amp;source=homepage&amp;sa=X&amp;ved=0ahUKEwj74byp5IGMAxV4J7kGHaHWBtEQ2ZgBCAc\">বাংলা</a>,\n",
       " <a href=\"https://www.google.com/setprefs?sig=0_rMXklYNR4YtlL2uj-cdTXdozKJA%3D&amp;hl=te&amp;source=homepage&amp;sa=X&amp;ved=0ahUKEwj74byp5IGMAxV4J7kGHaHWBtEQ2ZgBCAg\">తెలుగు</a>,\n",
       " <a href=\"https://www.google.com/setprefs?sig=0_rMXklYNR4YtlL2uj-cdTXdozKJA%3D&amp;hl=mr&amp;source=homepage&amp;sa=X&amp;ved=0ahUKEwj74byp5IGMAxV4J7kGHaHWBtEQ2ZgBCAk\">मराठी</a>,\n",
       " <a href=\"https://www.google.com/setprefs?sig=0_rMXklYNR4YtlL2uj-cdTXdozKJA%3D&amp;hl=ta&amp;source=homepage&amp;sa=X&amp;ved=0ahUKEwj74byp5IGMAxV4J7kGHaHWBtEQ2ZgBCAo\">தமிழ்</a>,\n",
       " <a href=\"https://www.google.com/setprefs?sig=0_rMXklYNR4YtlL2uj-cdTXdozKJA%3D&amp;hl=gu&amp;source=homepage&amp;sa=X&amp;ved=0ahUKEwj74byp5IGMAxV4J7kGHaHWBtEQ2ZgBCAs\">ગુજરાતી</a>,\n",
       " <a href=\"https://www.google.com/setprefs?sig=0_rMXklYNR4YtlL2uj-cdTXdozKJA%3D&amp;hl=kn&amp;source=homepage&amp;sa=X&amp;ved=0ahUKEwj74byp5IGMAxV4J7kGHaHWBtEQ2ZgBCAw\">ಕನ್ನಡ</a>,\n",
       " <a href=\"https://www.google.com/setprefs?sig=0_rMXklYNR4YtlL2uj-cdTXdozKJA%3D&amp;hl=ml&amp;source=homepage&amp;sa=X&amp;ved=0ahUKEwj74byp5IGMAxV4J7kGHaHWBtEQ2ZgBCA0\">മലയാളം</a>,\n",
       " <a href=\"https://www.google.com/setprefs?sig=0_rMXklYNR4YtlL2uj-cdTXdozKJA%3D&amp;hl=pa&amp;source=homepage&amp;sa=X&amp;ved=0ahUKEwj74byp5IGMAxV4J7kGHaHWBtEQ2ZgBCA4\">ਪੰਜਾਬੀ</a>,\n",
       " <a href=\"/intl/en/ads/\">Advertising</a>,\n",
       " <a href=\"http://www.google.co.in/services/\">Business Solutions</a>,\n",
       " <a href=\"/intl/en/about.html\">About Google</a>,\n",
       " <a href=\"https://www.google.com/setprefdomain?prefdom=IN&amp;prev=https://www.google.co.in/&amp;sig=K_1TZeKSCCjPF1R4QbqfsAfpSs4uQ%3D\">Google.co.in</a>,\n",
       " <a href=\"/intl/en/policies/privacy/\">Privacy</a>,\n",
       " <a href=\"/intl/en/policies/terms/\">Terms</a>]"
      ]
     },
     "execution_count": 144,
     "metadata": {},
     "output_type": "execute_result"
    }
   ],
   "source": [
    "gpage.find_all('a')"
   ]
  },
  {
   "cell_type": "code",
   "execution_count": 148,
   "id": "016cf5ca",
   "metadata": {
    "scrolled": true
   },
   "outputs": [
    {
     "name": "stdout",
     "output_type": "stream",
     "text": [
      "https://www.google.com/imghp?hl=en&tab=wi\n",
      "https://maps.google.co.in/maps?hl=en&tab=wl\n",
      "https://play.google.com/?hl=en&tab=w8\n",
      "https://www.youtube.com/?tab=w1\n",
      "https://news.google.com/?tab=wn\n",
      "https://mail.google.com/mail/?tab=wm\n",
      "https://drive.google.com/?tab=wo\n",
      "https://www.google.co.in/intl/en/about/products?tab=wh\n",
      "http://www.google.co.in/history/optout?hl=en\n",
      "/preferences?hl=en\n",
      "https://accounts.google.com/ServiceLogin?hl=en&passive=true&continue=https://www.google.com/&ec=GAZAAQ\n",
      "/advanced_search?hl=en-IN&authuser=0\n",
      "https://www.google.com/setprefs?sig=0_rMXklYNR4YtlL2uj-cdTXdozKJA%3D&hl=hi&source=homepage&sa=X&ved=0ahUKEwj74byp5IGMAxV4J7kGHaHWBtEQ2ZgBCAY\n",
      "https://www.google.com/setprefs?sig=0_rMXklYNR4YtlL2uj-cdTXdozKJA%3D&hl=bn&source=homepage&sa=X&ved=0ahUKEwj74byp5IGMAxV4J7kGHaHWBtEQ2ZgBCAc\n",
      "https://www.google.com/setprefs?sig=0_rMXklYNR4YtlL2uj-cdTXdozKJA%3D&hl=te&source=homepage&sa=X&ved=0ahUKEwj74byp5IGMAxV4J7kGHaHWBtEQ2ZgBCAg\n",
      "https://www.google.com/setprefs?sig=0_rMXklYNR4YtlL2uj-cdTXdozKJA%3D&hl=mr&source=homepage&sa=X&ved=0ahUKEwj74byp5IGMAxV4J7kGHaHWBtEQ2ZgBCAk\n",
      "https://www.google.com/setprefs?sig=0_rMXklYNR4YtlL2uj-cdTXdozKJA%3D&hl=ta&source=homepage&sa=X&ved=0ahUKEwj74byp5IGMAxV4J7kGHaHWBtEQ2ZgBCAo\n",
      "https://www.google.com/setprefs?sig=0_rMXklYNR4YtlL2uj-cdTXdozKJA%3D&hl=gu&source=homepage&sa=X&ved=0ahUKEwj74byp5IGMAxV4J7kGHaHWBtEQ2ZgBCAs\n",
      "https://www.google.com/setprefs?sig=0_rMXklYNR4YtlL2uj-cdTXdozKJA%3D&hl=kn&source=homepage&sa=X&ved=0ahUKEwj74byp5IGMAxV4J7kGHaHWBtEQ2ZgBCAw\n",
      "https://www.google.com/setprefs?sig=0_rMXklYNR4YtlL2uj-cdTXdozKJA%3D&hl=ml&source=homepage&sa=X&ved=0ahUKEwj74byp5IGMAxV4J7kGHaHWBtEQ2ZgBCA0\n",
      "https://www.google.com/setprefs?sig=0_rMXklYNR4YtlL2uj-cdTXdozKJA%3D&hl=pa&source=homepage&sa=X&ved=0ahUKEwj74byp5IGMAxV4J7kGHaHWBtEQ2ZgBCA4\n",
      "/intl/en/ads/\n",
      "http://www.google.co.in/services/\n",
      "/intl/en/about.html\n",
      "https://www.google.com/setprefdomain?prefdom=IN&prev=https://www.google.co.in/&sig=K_1TZeKSCCjPF1R4QbqfsAfpSs4uQ%3D\n",
      "/intl/en/policies/privacy/\n",
      "/intl/en/policies/terms/\n"
     ]
    }
   ],
   "source": [
    "for var in gpage.find_all('a'):\n",
    "    print(var.get('href'))"
   ]
  },
  {
   "cell_type": "code",
   "execution_count": 149,
   "id": "a5fc4af3",
   "metadata": {},
   "outputs": [
    {
     "name": "stdout",
     "output_type": "stream",
     "text": [
      "Images\n",
      "Maps\n",
      "Play\n",
      "YouTube\n",
      "News\n",
      "Gmail\n",
      "Drive\n",
      "None\n",
      "Web History\n",
      "Settings\n",
      "Sign in\n",
      "Advanced search\n",
      "हिन्दी\n",
      "বাংলা\n",
      "తెలుగు\n",
      "मराठी\n",
      "தமிழ்\n",
      "ગુજરાતી\n",
      "ಕನ್ನಡ\n",
      "മലയാളം\n",
      "ਪੰਜਾਬੀ\n",
      "Advertising\n",
      "Business Solutions\n",
      "About Google\n",
      "Google.co.in\n",
      "Privacy\n",
      "Terms\n"
     ]
    }
   ],
   "source": [
    "for var in gpage.find_all('a'):\n",
    "    print(var.string)"
   ]
  },
  {
   "cell_type": "code",
   "execution_count": 150,
   "id": "e4f2f935",
   "metadata": {},
   "outputs": [
    {
     "name": "stdout",
     "output_type": "stream",
     "text": [
      "https://www.google.com/imghp?hl=en&tab=wi\n",
      "https://maps.google.co.in/maps?hl=en&tab=wl\n",
      "https://play.google.com/?hl=en&tab=w8\n",
      "https://www.youtube.com/?tab=w1\n",
      "https://news.google.com/?tab=wn\n",
      "https://mail.google.com/mail/?tab=wm\n",
      "https://drive.google.com/?tab=wo\n",
      "https://www.google.co.in/intl/en/about/products?tab=wh\n",
      "http://www.google.co.in/history/optout?hl=en\n",
      "https://accounts.google.com/ServiceLogin?hl=en&passive=true&continue=https://www.google.com/&ec=GAZAAQ\n",
      "https://www.google.com/setprefs?sig=0_rMXklYNR4YtlL2uj-cdTXdozKJA%3D&hl=hi&source=homepage&sa=X&ved=0ahUKEwj74byp5IGMAxV4J7kGHaHWBtEQ2ZgBCAY\n",
      "https://www.google.com/setprefs?sig=0_rMXklYNR4YtlL2uj-cdTXdozKJA%3D&hl=bn&source=homepage&sa=X&ved=0ahUKEwj74byp5IGMAxV4J7kGHaHWBtEQ2ZgBCAc\n",
      "https://www.google.com/setprefs?sig=0_rMXklYNR4YtlL2uj-cdTXdozKJA%3D&hl=te&source=homepage&sa=X&ved=0ahUKEwj74byp5IGMAxV4J7kGHaHWBtEQ2ZgBCAg\n",
      "https://www.google.com/setprefs?sig=0_rMXklYNR4YtlL2uj-cdTXdozKJA%3D&hl=mr&source=homepage&sa=X&ved=0ahUKEwj74byp5IGMAxV4J7kGHaHWBtEQ2ZgBCAk\n",
      "https://www.google.com/setprefs?sig=0_rMXklYNR4YtlL2uj-cdTXdozKJA%3D&hl=ta&source=homepage&sa=X&ved=0ahUKEwj74byp5IGMAxV4J7kGHaHWBtEQ2ZgBCAo\n",
      "https://www.google.com/setprefs?sig=0_rMXklYNR4YtlL2uj-cdTXdozKJA%3D&hl=gu&source=homepage&sa=X&ved=0ahUKEwj74byp5IGMAxV4J7kGHaHWBtEQ2ZgBCAs\n",
      "https://www.google.com/setprefs?sig=0_rMXklYNR4YtlL2uj-cdTXdozKJA%3D&hl=kn&source=homepage&sa=X&ved=0ahUKEwj74byp5IGMAxV4J7kGHaHWBtEQ2ZgBCAw\n",
      "https://www.google.com/setprefs?sig=0_rMXklYNR4YtlL2uj-cdTXdozKJA%3D&hl=ml&source=homepage&sa=X&ved=0ahUKEwj74byp5IGMAxV4J7kGHaHWBtEQ2ZgBCA0\n",
      "https://www.google.com/setprefs?sig=0_rMXklYNR4YtlL2uj-cdTXdozKJA%3D&hl=pa&source=homepage&sa=X&ved=0ahUKEwj74byp5IGMAxV4J7kGHaHWBtEQ2ZgBCA4\n",
      "http://www.google.co.in/services/\n",
      "https://www.google.com/setprefdomain?prefdom=IN&prev=https://www.google.co.in/&sig=K_1TZeKSCCjPF1R4QbqfsAfpSs4uQ%3D\n"
     ]
    }
   ],
   "source": [
    "import re\n",
    "for var in gpage.find_all('a'):\n",
    "    if(re.search('^(http|https)',var.get('href'))):\n",
    "        print(var.get('href'))"
   ]
  },
  {
   "cell_type": "code",
   "execution_count": 156,
   "id": "1f598662",
   "metadata": {},
   "outputs": [],
   "source": [
    "gpage_urls = []"
   ]
  },
  {
   "cell_type": "code",
   "execution_count": 157,
   "id": "fe95d4ad",
   "metadata": {},
   "outputs": [],
   "source": [
    "for var in gpage.find_all('a'):\n",
    "    if(re.search('^(http|https)',var.get('href'))):\n",
    "        gpage_urls.append(var.get('href'))"
   ]
  },
  {
   "cell_type": "code",
   "execution_count": 158,
   "id": "870be843",
   "metadata": {},
   "outputs": [
    {
     "data": {
      "text/plain": [
       "['https://www.google.com/imghp?hl=en&tab=wi',\n",
       " 'https://maps.google.co.in/maps?hl=en&tab=wl',\n",
       " 'https://play.google.com/?hl=en&tab=w8',\n",
       " 'https://www.youtube.com/?tab=w1',\n",
       " 'https://news.google.com/?tab=wn',\n",
       " 'https://mail.google.com/mail/?tab=wm',\n",
       " 'https://drive.google.com/?tab=wo',\n",
       " 'https://www.google.co.in/intl/en/about/products?tab=wh',\n",
       " 'http://www.google.co.in/history/optout?hl=en',\n",
       " 'https://accounts.google.com/ServiceLogin?hl=en&passive=true&continue=https://www.google.com/&ec=GAZAAQ',\n",
       " 'https://www.google.com/setprefs?sig=0_rMXklYNR4YtlL2uj-cdTXdozKJA%3D&hl=hi&source=homepage&sa=X&ved=0ahUKEwj74byp5IGMAxV4J7kGHaHWBtEQ2ZgBCAY',\n",
       " 'https://www.google.com/setprefs?sig=0_rMXklYNR4YtlL2uj-cdTXdozKJA%3D&hl=bn&source=homepage&sa=X&ved=0ahUKEwj74byp5IGMAxV4J7kGHaHWBtEQ2ZgBCAc',\n",
       " 'https://www.google.com/setprefs?sig=0_rMXklYNR4YtlL2uj-cdTXdozKJA%3D&hl=te&source=homepage&sa=X&ved=0ahUKEwj74byp5IGMAxV4J7kGHaHWBtEQ2ZgBCAg',\n",
       " 'https://www.google.com/setprefs?sig=0_rMXklYNR4YtlL2uj-cdTXdozKJA%3D&hl=mr&source=homepage&sa=X&ved=0ahUKEwj74byp5IGMAxV4J7kGHaHWBtEQ2ZgBCAk',\n",
       " 'https://www.google.com/setprefs?sig=0_rMXklYNR4YtlL2uj-cdTXdozKJA%3D&hl=ta&source=homepage&sa=X&ved=0ahUKEwj74byp5IGMAxV4J7kGHaHWBtEQ2ZgBCAo',\n",
       " 'https://www.google.com/setprefs?sig=0_rMXklYNR4YtlL2uj-cdTXdozKJA%3D&hl=gu&source=homepage&sa=X&ved=0ahUKEwj74byp5IGMAxV4J7kGHaHWBtEQ2ZgBCAs',\n",
       " 'https://www.google.com/setprefs?sig=0_rMXklYNR4YtlL2uj-cdTXdozKJA%3D&hl=kn&source=homepage&sa=X&ved=0ahUKEwj74byp5IGMAxV4J7kGHaHWBtEQ2ZgBCAw',\n",
       " 'https://www.google.com/setprefs?sig=0_rMXklYNR4YtlL2uj-cdTXdozKJA%3D&hl=ml&source=homepage&sa=X&ved=0ahUKEwj74byp5IGMAxV4J7kGHaHWBtEQ2ZgBCA0',\n",
       " 'https://www.google.com/setprefs?sig=0_rMXklYNR4YtlL2uj-cdTXdozKJA%3D&hl=pa&source=homepage&sa=X&ved=0ahUKEwj74byp5IGMAxV4J7kGHaHWBtEQ2ZgBCA4',\n",
       " 'http://www.google.co.in/services/',\n",
       " 'https://www.google.com/setprefdomain?prefdom=IN&prev=https://www.google.co.in/&sig=K_1TZeKSCCjPF1R4QbqfsAfpSs4uQ%3D']"
      ]
     },
     "execution_count": 158,
     "metadata": {},
     "output_type": "execute_result"
    }
   ],
   "source": [
    "gpage_urls"
   ]
  },
  {
   "cell_type": "code",
   "execution_count": 159,
   "id": "b779a472",
   "metadata": {},
   "outputs": [
    {
     "data": {
      "text/plain": [
       "{'K1': ['D1', 'D2', 'D3', 'D4'], 'K2': [10, 20, 30, 40]}"
      ]
     },
     "execution_count": 159,
     "metadata": {},
     "output_type": "execute_result"
    }
   ],
   "source": [
    "d={'K1':['D1','D2','D3','D4'],'K2':[10,20,30,40]}\n",
    "d"
   ]
  },
  {
   "cell_type": "code",
   "execution_count": 160,
   "id": "586ca2e4",
   "metadata": {},
   "outputs": [],
   "source": [
    "d['Google']=gpage_urls # adding new data to an existing dict"
   ]
  },
  {
   "cell_type": "code",
   "execution_count": 161,
   "id": "5cb33980",
   "metadata": {},
   "outputs": [
    {
     "data": {
      "text/plain": [
       "{'K1': ['D1', 'D2', 'D3', 'D4'],\n",
       " 'K2': [10, 20, 30, 40],\n",
       " 'Google': ['https://www.google.com/imghp?hl=en&tab=wi',\n",
       "  'https://maps.google.co.in/maps?hl=en&tab=wl',\n",
       "  'https://play.google.com/?hl=en&tab=w8',\n",
       "  'https://www.youtube.com/?tab=w1',\n",
       "  'https://news.google.com/?tab=wn',\n",
       "  'https://mail.google.com/mail/?tab=wm',\n",
       "  'https://drive.google.com/?tab=wo',\n",
       "  'https://www.google.co.in/intl/en/about/products?tab=wh',\n",
       "  'http://www.google.co.in/history/optout?hl=en',\n",
       "  'https://accounts.google.com/ServiceLogin?hl=en&passive=true&continue=https://www.google.com/&ec=GAZAAQ',\n",
       "  'https://www.google.com/setprefs?sig=0_rMXklYNR4YtlL2uj-cdTXdozKJA%3D&hl=hi&source=homepage&sa=X&ved=0ahUKEwj74byp5IGMAxV4J7kGHaHWBtEQ2ZgBCAY',\n",
       "  'https://www.google.com/setprefs?sig=0_rMXklYNR4YtlL2uj-cdTXdozKJA%3D&hl=bn&source=homepage&sa=X&ved=0ahUKEwj74byp5IGMAxV4J7kGHaHWBtEQ2ZgBCAc',\n",
       "  'https://www.google.com/setprefs?sig=0_rMXklYNR4YtlL2uj-cdTXdozKJA%3D&hl=te&source=homepage&sa=X&ved=0ahUKEwj74byp5IGMAxV4J7kGHaHWBtEQ2ZgBCAg',\n",
       "  'https://www.google.com/setprefs?sig=0_rMXklYNR4YtlL2uj-cdTXdozKJA%3D&hl=mr&source=homepage&sa=X&ved=0ahUKEwj74byp5IGMAxV4J7kGHaHWBtEQ2ZgBCAk',\n",
       "  'https://www.google.com/setprefs?sig=0_rMXklYNR4YtlL2uj-cdTXdozKJA%3D&hl=ta&source=homepage&sa=X&ved=0ahUKEwj74byp5IGMAxV4J7kGHaHWBtEQ2ZgBCAo',\n",
       "  'https://www.google.com/setprefs?sig=0_rMXklYNR4YtlL2uj-cdTXdozKJA%3D&hl=gu&source=homepage&sa=X&ved=0ahUKEwj74byp5IGMAxV4J7kGHaHWBtEQ2ZgBCAs',\n",
       "  'https://www.google.com/setprefs?sig=0_rMXklYNR4YtlL2uj-cdTXdozKJA%3D&hl=kn&source=homepage&sa=X&ved=0ahUKEwj74byp5IGMAxV4J7kGHaHWBtEQ2ZgBCAw',\n",
       "  'https://www.google.com/setprefs?sig=0_rMXklYNR4YtlL2uj-cdTXdozKJA%3D&hl=ml&source=homepage&sa=X&ved=0ahUKEwj74byp5IGMAxV4J7kGHaHWBtEQ2ZgBCA0',\n",
       "  'https://www.google.com/setprefs?sig=0_rMXklYNR4YtlL2uj-cdTXdozKJA%3D&hl=pa&source=homepage&sa=X&ved=0ahUKEwj74byp5IGMAxV4J7kGHaHWBtEQ2ZgBCA4',\n",
       "  'http://www.google.co.in/services/',\n",
       "  'https://www.google.com/setprefdomain?prefdom=IN&prev=https://www.google.co.in/&sig=K_1TZeKSCCjPF1R4QbqfsAfpSs4uQ%3D']}"
      ]
     },
     "execution_count": 161,
     "metadata": {},
     "output_type": "execute_result"
    }
   ],
   "source": [
    "d"
   ]
  },
  {
   "cell_type": "code",
   "execution_count": 162,
   "id": "362bd8c9",
   "metadata": {},
   "outputs": [
    {
     "data": {
      "text/plain": [
       "21"
      ]
     },
     "execution_count": 162,
     "metadata": {},
     "output_type": "execute_result"
    }
   ],
   "source": [
    "len(d['Google']) # no.of urls"
   ]
  },
  {
   "cell_type": "code",
   "execution_count": 163,
   "id": "06ee10cc",
   "metadata": {},
   "outputs": [],
   "source": [
    "d = {'K1': ['D1', 'D2', 'D3', 'D4','D5','D6','D7'],\n",
    " 'K2': [10, 20, 30, 40,50,60,70],\n",
    " 'Google': ['https://www.google.com/imghp?hl=en&tab=wi',\n",
    "  'https://maps.google.co.in/maps?hl=en&tab=wl',\n",
    "  'https://play.google.com/?hl=en&tab=w8',\n",
    "  'https://www.youtube.com/?tab=w1',\n",
    "  'https://news.google.com/?tab=wn',\n",
    "  'https://mail.google.com/mail/?tab=wm',\n",
    "  'https://drive.google.com/?tab=wo']\n",
    "}"
   ]
  },
  {
   "cell_type": "code",
   "execution_count": 164,
   "id": "4ebd2b6d",
   "metadata": {},
   "outputs": [
    {
     "data": {
      "text/html": [
       "<div>\n",
       "<style scoped>\n",
       "    .dataframe tbody tr th:only-of-type {\n",
       "        vertical-align: middle;\n",
       "    }\n",
       "\n",
       "    .dataframe tbody tr th {\n",
       "        vertical-align: top;\n",
       "    }\n",
       "\n",
       "    .dataframe thead th {\n",
       "        text-align: right;\n",
       "    }\n",
       "</style>\n",
       "<table border=\"1\" class=\"dataframe\">\n",
       "  <thead>\n",
       "    <tr style=\"text-align: right;\">\n",
       "      <th></th>\n",
       "      <th>K1</th>\n",
       "      <th>K2</th>\n",
       "      <th>Google</th>\n",
       "    </tr>\n",
       "  </thead>\n",
       "  <tbody>\n",
       "    <tr>\n",
       "      <th>0</th>\n",
       "      <td>D1</td>\n",
       "      <td>10</td>\n",
       "      <td>https://www.google.com/imghp?hl=en&amp;tab=wi</td>\n",
       "    </tr>\n",
       "    <tr>\n",
       "      <th>1</th>\n",
       "      <td>D2</td>\n",
       "      <td>20</td>\n",
       "      <td>https://maps.google.co.in/maps?hl=en&amp;tab=wl</td>\n",
       "    </tr>\n",
       "    <tr>\n",
       "      <th>2</th>\n",
       "      <td>D3</td>\n",
       "      <td>30</td>\n",
       "      <td>https://play.google.com/?hl=en&amp;tab=w8</td>\n",
       "    </tr>\n",
       "    <tr>\n",
       "      <th>3</th>\n",
       "      <td>D4</td>\n",
       "      <td>40</td>\n",
       "      <td>https://www.youtube.com/?tab=w1</td>\n",
       "    </tr>\n",
       "    <tr>\n",
       "      <th>4</th>\n",
       "      <td>D5</td>\n",
       "      <td>50</td>\n",
       "      <td>https://news.google.com/?tab=wn</td>\n",
       "    </tr>\n",
       "    <tr>\n",
       "      <th>5</th>\n",
       "      <td>D6</td>\n",
       "      <td>60</td>\n",
       "      <td>https://mail.google.com/mail/?tab=wm</td>\n",
       "    </tr>\n",
       "    <tr>\n",
       "      <th>6</th>\n",
       "      <td>D7</td>\n",
       "      <td>70</td>\n",
       "      <td>https://drive.google.com/?tab=wo</td>\n",
       "    </tr>\n",
       "  </tbody>\n",
       "</table>\n",
       "</div>"
      ],
      "text/plain": [
       "   K1  K2                                       Google\n",
       "0  D1  10    https://www.google.com/imghp?hl=en&tab=wi\n",
       "1  D2  20  https://maps.google.co.in/maps?hl=en&tab=wl\n",
       "2  D3  30        https://play.google.com/?hl=en&tab=w8\n",
       "3  D4  40              https://www.youtube.com/?tab=w1\n",
       "4  D5  50              https://news.google.com/?tab=wn\n",
       "5  D6  60         https://mail.google.com/mail/?tab=wm\n",
       "6  D7  70             https://drive.google.com/?tab=wo"
      ]
     },
     "execution_count": 164,
     "metadata": {},
     "output_type": "execute_result"
    }
   ],
   "source": [
    "import pandas\n",
    "pandas.DataFrame(d)"
   ]
  },
  {
   "cell_type": "code",
   "execution_count": null,
   "id": "64baae35",
   "metadata": {},
   "outputs": [],
   "source": [
    "# python.org\n",
    "#https://docs.python.org/3/c-api/intro.html#include-files\n",
    "\n",
    "# dict of list \n",
    "\n",
    "# download - requests module\n",
    "# bs4 module"
   ]
  },
  {
   "cell_type": "code",
   "execution_count": 168,
   "id": "73c3fdb6",
   "metadata": {},
   "outputs": [
    {
     "name": "stdout",
     "output_type": "stream",
     "text": [
      "response is webpage - do web scraping\n"
     ]
    }
   ],
   "source": [
    "def download_url(URL):\n",
    "    r = requests.get(URL)\n",
    "    if (r.status_code != 200):\n",
    "        print(\"Download is failed\")\n",
    "        return 0\n",
    "    if('text/html' in r.headers['Content-Type']):\n",
    "        print('response is webpage - do web scraping')\n",
    "    elif('application/json' in r.headers['Content-Type']):\n",
    "        print('response is data response')\n",
    "\n"
   ]
  },
  {
   "cell_type": "code",
   "execution_count": 170,
   "id": "37e2ef10",
   "metadata": {},
   "outputs": [
    {
     "name": "stdout",
     "output_type": "stream",
     "text": [
      "response is webpage - do web scraping\n",
      "response is data response\n",
      "response is webpage - do web scraping\n",
      "response is data response\n"
     ]
    }
   ],
   "source": [
    "L=['https://www.google.com','https://api.github.com/repositories/19438/commits',\n",
    "   'https://www.python.org',\n",
    "  'https://api.github.com/users/hadley/orgs']\n",
    "\n",
    "for var in L:\n",
    "    download_url(var)"
   ]
  },
  {
   "cell_type": "code",
   "execution_count": null,
   "id": "32388f27",
   "metadata": {},
   "outputs": [],
   "source": []
  },
  {
   "cell_type": "code",
   "execution_count": 181,
   "id": "c0d44239",
   "metadata": {},
   "outputs": [],
   "source": [
    "def download_url(URL):\n",
    "    r = requests.get(URL)\n",
    "    if (r.status_code != 200):\n",
    "        print(\"Download is failed\")\n",
    "        return 0\n",
    "    if('text/html' in r.headers['Content-Type']):\n",
    "        print('response is webpage - do web scraping')\n",
    "        webpage = r.text\n",
    "        f1(webpage) # functionCall args\n",
    "    elif('application/json' in r.headers['Content-Type']):\n",
    "        print('response is data response')\n",
    "        json_data = r.text\n",
    "        f2(json_data)  \n",
    "\n"
   ]
  },
  {
   "cell_type": "code",
   "execution_count": null,
   "id": "68f922e7",
   "metadata": {},
   "outputs": [],
   "source": []
  },
  {
   "cell_type": "code",
   "execution_count": 182,
   "id": "9838327e",
   "metadata": {},
   "outputs": [],
   "source": [
    "L=[]\n",
    "\n",
    "def f1(webpage):\n",
    "    sobj = bs4.BeautifulSoup(webpage)\n",
    "    s = sobj.title.string\n",
    "    for var in sobj.find_all('a'):\n",
    "        L.append(var.get('href'))\n",
    "    \n",
    "def f2(json_data):\n",
    "    python_data = json.loads(json_data) # from json to python\n",
    "    print(type(python_data),len(python_data))\n",
    "    #pprint.pprint(python_data)"
   ]
  },
  {
   "cell_type": "code",
   "execution_count": 183,
   "id": "4e244206",
   "metadata": {},
   "outputs": [
    {
     "name": "stdout",
     "output_type": "stream",
     "text": [
      "response is webpage - do web scraping\n",
      "response is data response\n",
      "<class 'list'> 30\n",
      "response is webpage - do web scraping\n",
      "response is data response\n",
      "<class 'list'> 10\n"
     ]
    }
   ],
   "source": [
    "URLs=['https://www.google.com','https://api.github.com/repositories/19438/commits',\n",
    "   'https://www.python.org',\n",
    "  'https://api.github.com/users/hadley/orgs']\n",
    "\n",
    "for var in URLs:\n",
    "    download_url(var)"
   ]
  },
  {
   "cell_type": "code",
   "execution_count": 186,
   "id": "3fa4fc72",
   "metadata": {},
   "outputs": [
    {
     "data": {
      "text/plain": [
       "233"
      ]
     },
     "execution_count": 186,
     "metadata": {},
     "output_type": "execute_result"
    }
   ],
   "source": [
    "mydict={}\n",
    "mydict['Google']=L\n",
    "len(mydict['Google'])"
   ]
  },
  {
   "cell_type": "code",
   "execution_count": 187,
   "id": "9b272fb2",
   "metadata": {},
   "outputs": [
    {
     "data": {
      "text/plain": [
       "['/psf-landing/',\n",
       " '/about/legal/',\n",
       " 'https://policies.python.org/python.org/Privacy-Notice/']"
      ]
     },
     "execution_count": 187,
     "metadata": {},
     "output_type": "execute_result"
    }
   ],
   "source": [
    "mydict['Google'][-3:]"
   ]
  },
  {
   "cell_type": "code",
   "execution_count": 188,
   "id": "6dd94f25",
   "metadata": {},
   "outputs": [
    {
     "data": {
      "text/plain": [
       "{'Google': ['url1', 'url2', 'url3'], 'Python_org': ['urlA', 'urlB', 'urlC']}"
      ]
     },
     "execution_count": 188,
     "metadata": {},
     "output_type": "execute_result"
    }
   ],
   "source": [
    "d={'Google':['url1','url2','url3'],'Python_org':['urlA','urlB','urlC']}\n",
    "d"
   ]
  },
  {
   "cell_type": "code",
   "execution_count": 189,
   "id": "4c315f75",
   "metadata": {},
   "outputs": [
    {
     "data": {
      "text/plain": [
       "<Response [401]>"
      ]
     },
     "execution_count": 189,
     "metadata": {},
     "output_type": "execute_result"
    }
   ],
   "source": [
    "requests.get('https://api.openweathermap.org/data/3.0/onecall/timemachine?lat={lat}&lon={lon}&dt={time}&appid={API key}')"
   ]
  },
  {
   "cell_type": "code",
   "execution_count": 190,
   "id": "04a62cc1",
   "metadata": {},
   "outputs": [
    {
     "data": {
      "text/plain": [
       "<Response [200]>"
      ]
     },
     "execution_count": 190,
     "metadata": {},
     "output_type": "execute_result"
    }
   ],
   "source": [
    "requests.get('https://openweathermap.org/weathermap?basemap=map&cities=true&layer=temperature&lat=18.7711&lon=81.3428&zoom=5')"
   ]
  },
  {
   "cell_type": "code",
   "execution_count": 191,
   "id": "4d0c1985",
   "metadata": {},
   "outputs": [
    {
     "data": {
      "text/plain": [
       "{'Server': 'nginx/1.24.0', 'Date': 'Tue, 11 Mar 2025 10:56:16 GMT', 'Content-Type': 'text/html; charset=UTF-8', 'Transfer-Encoding': 'chunked', 'Connection': 'keep-alive', 'Cache-Control': 'private, must-revalidate', 'pragma': 'no-cache', 'expires': '-1', 'Set-Cookie': 'winter_session=eyJpdiI6IjhVZkw1cHBEVTRpK0xyeSs1VHRwMEE9PSIsInZhbHVlIjoieCtxUEgyK0hXZVVva0doNXpxZDA2L0YzMmR6TzVxcTBGdGlOZlBOVlFkTThiRlB5aW5WdXkycnJLaGpiN3hCYzdnbGh6NEJJNGZPbGx5MVR5TGt5bDh2cHJTS1VwUWE2L2E5bWRtSkwzOTkvaVJNMnVSN2E5RlNjWFBWRGZBVTYiLCJtYWMiOiI4OTVkY2ZjYzY5MDVhZTI4MjgxOTBhMTcyMmJjOTAwNDMxNmNjNzlmNDg4NzFmMzM3ODBlZWE3OGVhMGQxZGFmIiwidGFnIjoiIn0%3D; expires=Tue, 11 Mar 2025 12:56:16 GMT; Max-Age=7200; path=/; httponly; samesite=lax', 'Content-Encoding': 'gzip'}"
      ]
     },
     "execution_count": 191,
     "metadata": {},
     "output_type": "execute_result"
    }
   ],
   "source": [
    "r=requests.get('https://openweathermap.org/weathermap?basemap=map&cities=true&layer=temperature&lat=18.7711&lon=81.3428&zoom=5')\n",
    "r.headers"
   ]
  },
  {
   "cell_type": "code",
   "execution_count": 194,
   "id": "7acc3069",
   "metadata": {},
   "outputs": [],
   "source": [
    "#print(r.text)"
   ]
  },
  {
   "cell_type": "code",
   "execution_count": null,
   "id": "2302ac95",
   "metadata": {},
   "outputs": [],
   "source": [
    "numpy\n",
    "------\n",
    " |->numerical python  \n",
    "      |->mathematical operation\n",
    "        "
   ]
  },
  {
   "cell_type": "code",
   "execution_count": 195,
   "id": "0a9e391a",
   "metadata": {},
   "outputs": [
    {
     "data": {
      "text/plain": [
       "[10, 20, 30, 15, 25, 35]"
      ]
     },
     "execution_count": 195,
     "metadata": {},
     "output_type": "execute_result"
    }
   ],
   "source": [
    "# python list - collection of different types of item\n",
    "\n",
    "L1 = [10,20,30]\n",
    "L2 = [15,25,35]\n",
    "L1+L2"
   ]
  },
  {
   "cell_type": "code",
   "execution_count": 196,
   "id": "b1099690",
   "metadata": {},
   "outputs": [
    {
     "ename": "TypeError",
     "evalue": "can only concatenate list (not \"int\") to list",
     "output_type": "error",
     "traceback": [
      "\u001b[1;31m---------------------------------------------------------------------------\u001b[0m",
      "\u001b[1;31mTypeError\u001b[0m                                 Traceback (most recent call last)",
      "Cell \u001b[1;32mIn[196], line 1\u001b[0m\n\u001b[1;32m----> 1\u001b[0m L1\u001b[38;5;241m+\u001b[39m\u001b[38;5;241m100\u001b[39m\n",
      "\u001b[1;31mTypeError\u001b[0m: can only concatenate list (not \"int\") to list"
     ]
    }
   ],
   "source": [
    "L1+100"
   ]
  },
  {
   "cell_type": "code",
   "execution_count": 197,
   "id": "b51e2764",
   "metadata": {},
   "outputs": [
    {
     "ename": "TypeError",
     "evalue": "'>' not supported between instances of 'list' and 'int'",
     "output_type": "error",
     "traceback": [
      "\u001b[1;31m---------------------------------------------------------------------------\u001b[0m",
      "\u001b[1;31mTypeError\u001b[0m                                 Traceback (most recent call last)",
      "Cell \u001b[1;32mIn[197], line 1\u001b[0m\n\u001b[1;32m----> 1\u001b[0m L1 \u001b[38;5;241m>\u001b[39m \u001b[38;5;241m15\u001b[39m\n",
      "\u001b[1;31mTypeError\u001b[0m: '>' not supported between instances of 'list' and 'int'"
     ]
    }
   ],
   "source": [
    "L1 > 15"
   ]
  },
  {
   "cell_type": "code",
   "execution_count": 198,
   "id": "9dcf9f71",
   "metadata": {},
   "outputs": [
    {
     "data": {
      "text/plain": [
       "[10, 20, 30, 'data']"
      ]
     },
     "execution_count": 198,
     "metadata": {},
     "output_type": "execute_result"
    }
   ],
   "source": [
    "L1.append(\"data\")\n",
    "L1"
   ]
  },
  {
   "cell_type": "code",
   "execution_count": 199,
   "id": "47e57749",
   "metadata": {},
   "outputs": [
    {
     "name": "stdout",
     "output_type": "stream",
     "text": [
      "<class 'array.array'>\n"
     ]
    }
   ],
   "source": [
    "import array\n",
    "print(array.array)"
   ]
  },
  {
   "cell_type": "code",
   "execution_count": 201,
   "id": "1c06e0d7",
   "metadata": {},
   "outputs": [
    {
     "data": {
      "text/plain": [
       "array('i')"
      ]
     },
     "execution_count": 201,
     "metadata": {},
     "output_type": "execute_result"
    }
   ],
   "source": [
    "#help(array.array)\n",
    "array.array('i')"
   ]
  },
  {
   "cell_type": "code",
   "execution_count": 203,
   "id": "a7b57665",
   "metadata": {},
   "outputs": [
    {
     "data": {
      "text/plain": [
       "array('i', [10, -1, 45])"
      ]
     },
     "execution_count": 203,
     "metadata": {},
     "output_type": "execute_result"
    }
   ],
   "source": [
    "arr = array.array('i') # int\n",
    "arr.append(10)\n",
    "arr.append(-1)\n",
    "arr.append(45)\n",
    "arr"
   ]
  },
  {
   "cell_type": "code",
   "execution_count": 204,
   "id": "c3b244ba",
   "metadata": {},
   "outputs": [
    {
     "ename": "TypeError",
     "evalue": "'float' object cannot be interpreted as an integer",
     "output_type": "error",
     "traceback": [
      "\u001b[1;31m---------------------------------------------------------------------------\u001b[0m",
      "\u001b[1;31mTypeError\u001b[0m                                 Traceback (most recent call last)",
      "Cell \u001b[1;32mIn[204], line 1\u001b[0m\n\u001b[1;32m----> 1\u001b[0m arr\u001b[38;5;241m.\u001b[39mappend(\u001b[38;5;241m56.0\u001b[39m)\n",
      "\u001b[1;31mTypeError\u001b[0m: 'float' object cannot be interpreted as an integer"
     ]
    }
   ],
   "source": [
    "arr.append(56.0)"
   ]
  },
  {
   "cell_type": "code",
   "execution_count": 205,
   "id": "a52933a1",
   "metadata": {},
   "outputs": [
    {
     "data": {
      "text/plain": [
       "array('i', [10, -1, 45])"
      ]
     },
     "execution_count": 205,
     "metadata": {},
     "output_type": "execute_result"
    }
   ],
   "source": [
    "arr"
   ]
  },
  {
   "cell_type": "code",
   "execution_count": 206,
   "id": "7e13d685",
   "metadata": {},
   "outputs": [
    {
     "ename": "TypeError",
     "evalue": "can only append array (not \"int\") to array",
     "output_type": "error",
     "traceback": [
      "\u001b[1;31m---------------------------------------------------------------------------\u001b[0m",
      "\u001b[1;31mTypeError\u001b[0m                                 Traceback (most recent call last)",
      "Cell \u001b[1;32mIn[206], line 1\u001b[0m\n\u001b[1;32m----> 1\u001b[0m arr\u001b[38;5;241m+\u001b[39m\u001b[38;5;241m100\u001b[39m\n",
      "\u001b[1;31mTypeError\u001b[0m: can only append array (not \"int\") to array"
     ]
    }
   ],
   "source": [
    "arr+100"
   ]
  },
  {
   "cell_type": "code",
   "execution_count": 207,
   "id": "57b97060",
   "metadata": {},
   "outputs": [
    {
     "ename": "TypeError",
     "evalue": "'>' not supported between instances of 'array.array' and 'int'",
     "output_type": "error",
     "traceback": [
      "\u001b[1;31m---------------------------------------------------------------------------\u001b[0m",
      "\u001b[1;31mTypeError\u001b[0m                                 Traceback (most recent call last)",
      "Cell \u001b[1;32mIn[207], line 1\u001b[0m\n\u001b[1;32m----> 1\u001b[0m arr \u001b[38;5;241m>\u001b[39m\u001b[38;5;241m15\u001b[39m\n",
      "\u001b[1;31mTypeError\u001b[0m: '>' not supported between instances of 'array.array' and 'int'"
     ]
    }
   ],
   "source": [
    "arr >15"
   ]
  },
  {
   "cell_type": "code",
   "execution_count": 209,
   "id": "5341384f",
   "metadata": {},
   "outputs": [
    {
     "data": {
      "text/plain": [
       "array([10, 20, 30])"
      ]
     },
     "execution_count": 209,
     "metadata": {},
     "output_type": "execute_result"
    }
   ],
   "source": [
    "import numpy\n",
    "numpy.array([10,20,30])"
   ]
  },
  {
   "cell_type": "code",
   "execution_count": 210,
   "id": "1b4329e5",
   "metadata": {},
   "outputs": [
    {
     "name": "stdout",
     "output_type": "stream",
     "text": [
      "<class 'numpy.ndarray'>\n"
     ]
    }
   ],
   "source": [
    "a1 = numpy.array([10,20,30])\n",
    "print(type(a1))"
   ]
  },
  {
   "cell_type": "code",
   "execution_count": 211,
   "id": "6e72727f",
   "metadata": {},
   "outputs": [
    {
     "data": {
      "text/plain": [
       "array([110, 120, 130])"
      ]
     },
     "execution_count": 211,
     "metadata": {},
     "output_type": "execute_result"
    }
   ],
   "source": [
    "a1+100"
   ]
  },
  {
   "cell_type": "code",
   "execution_count": 212,
   "id": "e7732643",
   "metadata": {},
   "outputs": [
    {
     "data": {
      "text/plain": [
       "array([False,  True,  True])"
      ]
     },
     "execution_count": 212,
     "metadata": {},
     "output_type": "execute_result"
    }
   ],
   "source": [
    "a1 >15"
   ]
  },
  {
   "cell_type": "code",
   "execution_count": 213,
   "id": "8b51ab06",
   "metadata": {},
   "outputs": [
    {
     "name": "stdout",
     "output_type": "stream",
     "text": [
      "10 10 10\n"
     ]
    }
   ],
   "source": [
    "L1 = [10,20,30] # list \n",
    "\n",
    "A1 = array.array('i',[10,20,30]) # array\n",
    "\n",
    "NA1 = numpy.array([10,20,30])\n",
    "\n",
    "print(L1[0],A1[0],NA1[0])"
   ]
  },
  {
   "cell_type": "code",
   "execution_count": 214,
   "id": "3ef80d91",
   "metadata": {},
   "outputs": [
    {
     "data": {
      "text/plain": [
       "array([110, 120, 130])"
      ]
     },
     "execution_count": 214,
     "metadata": {},
     "output_type": "execute_result"
    }
   ],
   "source": [
    "# L1+100 ->Error\n",
    "\n",
    "# A1+100 ->Error\n",
    "\n",
    "NA1+100"
   ]
  },
  {
   "cell_type": "code",
   "execution_count": 215,
   "id": "8763008b",
   "metadata": {},
   "outputs": [
    {
     "name": "stdout",
     "output_type": "stream",
     "text": [
      "[110 220 330 440 550]\n",
      "[ 90 180 270 360 450]\n",
      "[ 50 100 150 200 250]\n"
     ]
    }
   ],
   "source": [
    "na1 = numpy.array([10,20,30,40,50])\n",
    "na2 = numpy.array([100,200,300,400,500])\n",
    "print(na1+na2)\n",
    "print(na2-na1)\n",
    "print(na1*5)"
   ]
  },
  {
   "cell_type": "markdown",
   "id": "1d1206d4",
   "metadata": {},
   "source": [
    "import abcdefghijklmn   ---> import abcdefghijklmn as ab\n",
    "abcdefghijklmn.fx()          ab.fx() //valid\n",
    "\n",
    "import D1.D2.abcd  -----------> import D1.D2.abcd as mymodule\n",
    "D1.D2.abcd.fx()                 mymodule.fx()\n",
    "D1.D2.xyz.fy()                  mymodule.fy() //valid\n",
    "\n",
    "import numpy as np\n",
    "np.array([10,20,30])"
   ]
  },
  {
   "cell_type": "code",
   "execution_count": 216,
   "id": "9b00f349",
   "metadata": {},
   "outputs": [
    {
     "data": {
      "text/plain": [
       "'1.24.3'"
      ]
     },
     "execution_count": 216,
     "metadata": {},
     "output_type": "execute_result"
    }
   ],
   "source": [
    "import numpy as np\n",
    "np.__version__"
   ]
  },
  {
   "cell_type": "code",
   "execution_count": null,
   "id": "3e33e038",
   "metadata": {},
   "outputs": [],
   "source": [
    "numpy\n",
    " --->array creation\n",
    " --->N-dArray\n",
    " --->attributes\n",
    " --->indexing ; slicing\n",
    "ufnc\n",
    " |--->Math function\n",
    " |--->statistical function"
   ]
  },
  {
   "cell_type": "code",
   "execution_count": 217,
   "id": "a3adf704",
   "metadata": {},
   "outputs": [
    {
     "data": {
      "text/plain": [
       "array([10, 20, 30, 40, 50])"
      ]
     },
     "execution_count": 217,
     "metadata": {},
     "output_type": "execute_result"
    }
   ],
   "source": [
    "import numpy as np\n",
    "np.array([10,20,30,40,50])"
   ]
  },
  {
   "cell_type": "code",
   "execution_count": 218,
   "id": "349ca4a0",
   "metadata": {},
   "outputs": [
    {
     "data": {
      "text/plain": [
       "10"
      ]
     },
     "execution_count": 218,
     "metadata": {},
     "output_type": "execute_result"
    }
   ],
   "source": [
    "arr1 = np.array([10,20,30,40,50])\n",
    "arr1[0]"
   ]
  },
  {
   "cell_type": "code",
   "execution_count": 219,
   "id": "6969e09d",
   "metadata": {},
   "outputs": [
    {
     "data": {
      "text/plain": [
       "array([20, 30, 40, 50])"
      ]
     },
     "execution_count": 219,
     "metadata": {},
     "output_type": "execute_result"
    }
   ],
   "source": [
    "arr1[1:]"
   ]
  },
  {
   "cell_type": "code",
   "execution_count": 220,
   "id": "6e0c0fbb",
   "metadata": {},
   "outputs": [
    {
     "data": {
      "text/plain": [
       "dtype('int32')"
      ]
     },
     "execution_count": 220,
     "metadata": {},
     "output_type": "execute_result"
    }
   ],
   "source": [
    "arr1.dtype"
   ]
  },
  {
   "cell_type": "code",
   "execution_count": 221,
   "id": "587be7df",
   "metadata": {},
   "outputs": [
    {
     "data": {
      "text/plain": [
       "dtype('float64')"
      ]
     },
     "execution_count": 221,
     "metadata": {},
     "output_type": "execute_result"
    }
   ],
   "source": [
    "np.array([10,20,30,40,50.0]).dtype"
   ]
  },
  {
   "cell_type": "code",
   "execution_count": 222,
   "id": "2c6d0c96",
   "metadata": {},
   "outputs": [
    {
     "data": {
      "text/plain": [
       "dtype('<U32')"
      ]
     },
     "execution_count": 222,
     "metadata": {},
     "output_type": "execute_result"
    }
   ],
   "source": [
    "np.array([10,20,30,40,50.0,'abc']).dtype"
   ]
  },
  {
   "cell_type": "code",
   "execution_count": 223,
   "id": "f74a8819",
   "metadata": {},
   "outputs": [
    {
     "data": {
      "text/plain": [
       "dtype('bool')"
      ]
     },
     "execution_count": 223,
     "metadata": {},
     "output_type": "execute_result"
    }
   ],
   "source": [
    "np.array([True,False]).dtype"
   ]
  },
  {
   "cell_type": "code",
   "execution_count": 224,
   "id": "6b84e902",
   "metadata": {},
   "outputs": [
    {
     "data": {
      "text/plain": [
       "dtype('int32')"
      ]
     },
     "execution_count": 224,
     "metadata": {},
     "output_type": "execute_result"
    }
   ],
   "source": [
    "np.array([True,False,0]).dtype"
   ]
  },
  {
   "cell_type": "code",
   "execution_count": 225,
   "id": "5b3db986",
   "metadata": {},
   "outputs": [
    {
     "data": {
      "text/plain": [
       "dtype('int32')"
      ]
     },
     "execution_count": 225,
     "metadata": {},
     "output_type": "execute_result"
    }
   ],
   "source": [
    "np.array([10,20,30,40,50]).dtype"
   ]
  },
  {
   "cell_type": "code",
   "execution_count": 226,
   "id": "e99954d4",
   "metadata": {},
   "outputs": [
    {
     "data": {
      "text/plain": [
       "array([10, 20, 30, 40, 50], dtype=int64)"
      ]
     },
     "execution_count": 226,
     "metadata": {},
     "output_type": "execute_result"
    }
   ],
   "source": [
    "np.array([10,20,30,40,50],dtype='int64')"
   ]
  },
  {
   "cell_type": "code",
   "execution_count": 227,
   "id": "1933451d",
   "metadata": {},
   "outputs": [
    {
     "data": {
      "text/plain": [
       "dtype('int64')"
      ]
     },
     "execution_count": 227,
     "metadata": {},
     "output_type": "execute_result"
    }
   ],
   "source": [
    "a1 = np.array([10,20,30,40,50],dtype='int64')\n",
    "a1.dtype"
   ]
  },
  {
   "cell_type": "code",
   "execution_count": 228,
   "id": "0adcaa30",
   "metadata": {},
   "outputs": [
    {
     "data": {
      "text/plain": [
       "array([0.70867388, 0.2595142 , 0.73830998, 0.33620302, 0.07711308])"
      ]
     },
     "execution_count": 228,
     "metadata": {},
     "output_type": "execute_result"
    }
   ],
   "source": [
    "np.random.rand(5)"
   ]
  },
  {
   "cell_type": "code",
   "execution_count": 229,
   "id": "5357b2d9",
   "metadata": {},
   "outputs": [
    {
     "data": {
      "text/plain": [
       "dtype('float64')"
      ]
     },
     "execution_count": 229,
     "metadata": {},
     "output_type": "execute_result"
    }
   ],
   "source": [
    "np.random.rand(5).dtype"
   ]
  },
  {
   "cell_type": "code",
   "execution_count": 230,
   "id": "ca32603b",
   "metadata": {},
   "outputs": [
    {
     "data": {
      "text/plain": [
       "array([0, 1, 2, 3, 4])"
      ]
     },
     "execution_count": 230,
     "metadata": {},
     "output_type": "execute_result"
    }
   ],
   "source": [
    "np.arange(5)"
   ]
  },
  {
   "cell_type": "code",
   "execution_count": 231,
   "id": "a0c34fa6",
   "metadata": {},
   "outputs": [
    {
     "name": "stdout",
     "output_type": "stream",
     "text": [
      "int32\n",
      "1\n"
     ]
    }
   ],
   "source": [
    "a1 = np.array([10,20,30])\n",
    "print(a1.dtype)\n",
    "print(a1.ndim) # dimension"
   ]
  },
  {
   "cell_type": "code",
   "execution_count": 234,
   "id": "d174d0b3",
   "metadata": {},
   "outputs": [
    {
     "name": "stdout",
     "output_type": "stream",
     "text": [
      "1\n",
      "2\n",
      "3\n"
     ]
    },
    {
     "data": {
      "text/plain": [
       "5"
      ]
     },
     "execution_count": 234,
     "metadata": {},
     "output_type": "execute_result"
    }
   ],
   "source": [
    "a1 = np.array([10,20,30])\n",
    "print(a1.ndim)\n",
    "\n",
    "a2 = np.array([[10,20,30]])\n",
    "print(a2.ndim) # 2D Table - row X Col\n",
    "\n",
    "a3 = np.array([[[10,20,30]]])\n",
    "print(a3.ndim) # 3D Table - slicing,rowxcols - cube width,height,depth\n",
    "\n",
    "an = np.array([[[[[10,20]]]]])\n",
    "an.ndim"
   ]
  },
  {
   "cell_type": "code",
   "execution_count": 237,
   "id": "cef622a6",
   "metadata": {},
   "outputs": [
    {
     "name": "stdout",
     "output_type": "stream",
     "text": [
      "[10 20 30] 10\n",
      "[[10 20 30]] [10 20 30]\n",
      "[[10 20 30]] [10 20 30] 10\n"
     ]
    }
   ],
   "source": [
    "print(a1,a1[0])\n",
    "print(a2,a2[0])\n",
    "print(a2,a2[0],a2[0][0])"
   ]
  },
  {
   "cell_type": "code",
   "execution_count": 239,
   "id": "45aa288b",
   "metadata": {},
   "outputs": [
    {
     "name": "stdout",
     "output_type": "stream",
     "text": [
      "[[[10 20 30]]] [[10 20 30]] [10 20 30] 10\n"
     ]
    }
   ],
   "source": [
    "print(a3,a3[0],a3[0][0],a3[0][0][0])"
   ]
  },
  {
   "cell_type": "code",
   "execution_count": 240,
   "id": "80936907",
   "metadata": {},
   "outputs": [
    {
     "name": "stdout",
     "output_type": "stream",
     "text": [
      "10\n",
      "10\n"
     ]
    }
   ],
   "source": [
    "print(a2[0][0])\n",
    "print(a2[0,0])"
   ]
  },
  {
   "cell_type": "code",
   "execution_count": 241,
   "id": "a46b8f82",
   "metadata": {},
   "outputs": [
    {
     "data": {
      "text/plain": [
       "2"
      ]
     },
     "execution_count": 241,
     "metadata": {},
     "output_type": "execute_result"
    }
   ],
   "source": [
    "arr = np.array([[10,20,30,40],[50,60,70,80]])\n",
    "arr.ndim"
   ]
  },
  {
   "cell_type": "code",
   "execution_count": 243,
   "id": "883184e4",
   "metadata": {},
   "outputs": [
    {
     "data": {
      "text/plain": [
       "array([[10, 20, 30, 40],\n",
       "       [50, 60, 70, 80]])"
      ]
     },
     "execution_count": 243,
     "metadata": {},
     "output_type": "execute_result"
    }
   ],
   "source": [
    "arr"
   ]
  },
  {
   "cell_type": "code",
   "execution_count": 245,
   "id": "84509062",
   "metadata": {},
   "outputs": [
    {
     "name": "stdout",
     "output_type": "stream",
     "text": [
      "70\n",
      "70\n"
     ]
    }
   ],
   "source": [
    "print(arr[1][2])\n",
    "print(arr[1,2])"
   ]
  },
  {
   "cell_type": "code",
   "execution_count": 246,
   "id": "f06a0200",
   "metadata": {},
   "outputs": [
    {
     "data": {
      "text/plain": [
       "(2, 4)"
      ]
     },
     "execution_count": 246,
     "metadata": {},
     "output_type": "execute_result"
    }
   ],
   "source": [
    "arr.shape"
   ]
  },
  {
   "cell_type": "code",
   "execution_count": 247,
   "id": "9951b617",
   "metadata": {},
   "outputs": [
    {
     "name": "stdout",
     "output_type": "stream",
     "text": [
      "2 (3, 4)\n"
     ]
    }
   ],
   "source": [
    "# change the dimension - based on available of data\n",
    "\n",
    "a1 = np.array([[10,20,30,33],[40,50,60,77],[35,45,55,42]])\n",
    "print(a1.ndim,a1.shape)"
   ]
  },
  {
   "cell_type": "code",
   "execution_count": 248,
   "id": "2481c012",
   "metadata": {},
   "outputs": [
    {
     "data": {
      "text/plain": [
       "array([[10, 20, 30],\n",
       "       [33, 40, 50],\n",
       "       [60, 77, 35],\n",
       "       [45, 55, 42]])"
      ]
     },
     "execution_count": 248,
     "metadata": {},
     "output_type": "execute_result"
    }
   ],
   "source": [
    "a1.reshape(4,3) # 4rows X 3cols"
   ]
  },
  {
   "cell_type": "code",
   "execution_count": 249,
   "id": "31c89521",
   "metadata": {},
   "outputs": [
    {
     "data": {
      "text/plain": [
       "array([[10, 20, 30, 33, 40, 50, 60, 77, 35, 45, 55, 42]])"
      ]
     },
     "execution_count": 249,
     "metadata": {},
     "output_type": "execute_result"
    }
   ],
   "source": [
    "a1.reshape(1,12)"
   ]
  },
  {
   "cell_type": "code",
   "execution_count": 250,
   "id": "180e40c1",
   "metadata": {},
   "outputs": [
    {
     "data": {
      "text/plain": [
       "array([[10, 20, 30, 33, 40, 50],\n",
       "       [60, 77, 35, 45, 55, 42]])"
      ]
     },
     "execution_count": 250,
     "metadata": {},
     "output_type": "execute_result"
    }
   ],
   "source": [
    "a1.reshape(2,6)"
   ]
  },
  {
   "cell_type": "code",
   "execution_count": 251,
   "id": "5b113120",
   "metadata": {},
   "outputs": [
    {
     "ename": "ValueError",
     "evalue": "cannot reshape array of size 12 into shape (3,5)",
     "output_type": "error",
     "traceback": [
      "\u001b[1;31m---------------------------------------------------------------------------\u001b[0m",
      "\u001b[1;31mValueError\u001b[0m                                Traceback (most recent call last)",
      "Cell \u001b[1;32mIn[251], line 1\u001b[0m\n\u001b[1;32m----> 1\u001b[0m a1\u001b[38;5;241m.\u001b[39mreshape(\u001b[38;5;241m3\u001b[39m,\u001b[38;5;241m5\u001b[39m)\n",
      "\u001b[1;31mValueError\u001b[0m: cannot reshape array of size 12 into shape (3,5)"
     ]
    }
   ],
   "source": [
    "a1.reshape(3,5)"
   ]
  },
  {
   "cell_type": "code",
   "execution_count": 252,
   "id": "dd9985ca",
   "metadata": {},
   "outputs": [
    {
     "ename": "ValueError",
     "evalue": "cannot reshape array of size 12 into shape (3,2)",
     "output_type": "error",
     "traceback": [
      "\u001b[1;31m---------------------------------------------------------------------------\u001b[0m",
      "\u001b[1;31mValueError\u001b[0m                                Traceback (most recent call last)",
      "Cell \u001b[1;32mIn[252], line 1\u001b[0m\n\u001b[1;32m----> 1\u001b[0m a1\u001b[38;5;241m.\u001b[39mreshape(\u001b[38;5;241m3\u001b[39m,\u001b[38;5;241m2\u001b[39m)\n",
      "\u001b[1;31mValueError\u001b[0m: cannot reshape array of size 12 into shape (3,2)"
     ]
    }
   ],
   "source": [
    "a1.reshape(3,2)"
   ]
  },
  {
   "cell_type": "code",
   "execution_count": 253,
   "id": "86c67c54",
   "metadata": {},
   "outputs": [
    {
     "data": {
      "text/plain": [
       "497"
      ]
     },
     "execution_count": 253,
     "metadata": {},
     "output_type": "execute_result"
    }
   ],
   "source": [
    "np.sum(a1)"
   ]
  },
  {
   "cell_type": "markdown",
   "id": "1adcea02",
   "metadata": {},
   "source": [
    "     C1 C2 C3\n",
    " R1  10 20 30\n",
    " R2  40 50 60"
   ]
  },
  {
   "cell_type": "code",
   "execution_count": 254,
   "id": "5df13b33",
   "metadata": {},
   "outputs": [
    {
     "name": "stdout",
     "output_type": "stream",
     "text": [
      "210\n"
     ]
    }
   ],
   "source": [
    "a2 = np.array([[10,20,30],[40,50,60]])\n",
    "print(np.sum(a2))"
   ]
  },
  {
   "cell_type": "code",
   "execution_count": 255,
   "id": "8d5da21c",
   "metadata": {},
   "outputs": [
    {
     "name": "stdout",
     "output_type": "stream",
     "text": [
      "[50 70 90]\n"
     ]
    }
   ],
   "source": [
    "print(np.sum(a2,axis=0)) # columns"
   ]
  },
  {
   "cell_type": "code",
   "execution_count": null,
   "id": "85ce3579",
   "metadata": {},
   "outputs": [],
   "source": [
    "C1 = 10+40 =>50\n",
    "C2 = 20+50 =>70\n",
    "C3 = 30+60 =>90"
   ]
  },
  {
   "cell_type": "code",
   "execution_count": 256,
   "id": "02ce415d",
   "metadata": {},
   "outputs": [
    {
     "name": "stdout",
     "output_type": "stream",
     "text": [
      "[ 60 150]\n"
     ]
    }
   ],
   "source": [
    "print(np.sum(a2,axis=1)) # row\n",
    "# R1 -> 10+20+30 ->60\n",
    "# R2 -> 40+50+60 ->150"
   ]
  },
  {
   "cell_type": "code",
   "execution_count": 257,
   "id": "d40004c4",
   "metadata": {},
   "outputs": [
    {
     "data": {
      "text/plain": [
       "60"
      ]
     },
     "execution_count": 257,
     "metadata": {},
     "output_type": "execute_result"
    }
   ],
   "source": [
    "np.max(a2)"
   ]
  },
  {
   "cell_type": "code",
   "execution_count": 258,
   "id": "254f929d",
   "metadata": {},
   "outputs": [
    {
     "data": {
      "text/plain": [
       "10"
      ]
     },
     "execution_count": 258,
     "metadata": {},
     "output_type": "execute_result"
    }
   ],
   "source": [
    "np.min(a2)"
   ]
  },
  {
   "cell_type": "code",
   "execution_count": 259,
   "id": "06bb92b3",
   "metadata": {},
   "outputs": [
    {
     "data": {
      "text/plain": [
       "35.0"
      ]
     },
     "execution_count": 259,
     "metadata": {},
     "output_type": "execute_result"
    }
   ],
   "source": [
    "np.mean(a2)"
   ]
  },
  {
   "cell_type": "code",
   "execution_count": null,
   "id": "d8b0eb28",
   "metadata": {},
   "outputs": [],
   "source": [
    "np.sum\n",
    "np.median\n",
    "np.max\n",
    "np.min\n",
    "np.mean\n",
    "np.unique\n",
    "np.random\n",
    "np.arange\n",
    "\n",
    "mathematical functions\n",
    " - abs()\n",
    " - sqrt()\n",
    "..\n",
    " -> sin,cos,tan...\n",
    " ->log\n",
    " ->set operation"
   ]
  },
  {
   "cell_type": "code",
   "execution_count": 260,
   "id": "c999824d",
   "metadata": {},
   "outputs": [
    {
     "data": {
      "text/plain": [
       "array([10, 20, 30, 40, 50, 60])"
      ]
     },
     "execution_count": 260,
     "metadata": {},
     "output_type": "execute_result"
    }
   ],
   "source": [
    "a1= np.array([10,20,30])\n",
    "a2= np.array([40,50,60])\n",
    "np.union1d(a1,a2) # like set(L1)|set(L2)"
   ]
  },
  {
   "cell_type": "code",
   "execution_count": null,
   "id": "608d60ba",
   "metadata": {},
   "outputs": [],
   "source": [
    "np.intersect1d - intersection\n",
    "np.setdiff1d - difference\n",
    "np.setxor1d - symmetric_difference "
   ]
  },
  {
   "cell_type": "code",
   "execution_count": 262,
   "id": "9fc12d3f",
   "metadata": {},
   "outputs": [
    {
     "data": {
      "text/plain": [
       "array([ 3,  4,  5,  6,  7,  8,  9, 10, 11, 12, 13, 14])"
      ]
     },
     "execution_count": 262,
     "metadata": {},
     "output_type": "execute_result"
    }
   ],
   "source": [
    "a3 = np.arange(3,15)\n",
    "a3"
   ]
  },
  {
   "cell_type": "code",
   "execution_count": 263,
   "id": "839ff94c",
   "metadata": {},
   "outputs": [
    {
     "data": {
      "text/plain": [
       "array([False, False, False, False, False, False, False, False,  True,\n",
       "        True,  True,  True])"
      ]
     },
     "execution_count": 263,
     "metadata": {},
     "output_type": "execute_result"
    }
   ],
   "source": [
    "a3 > 10"
   ]
  },
  {
   "cell_type": "code",
   "execution_count": 264,
   "id": "e22849ac",
   "metadata": {},
   "outputs": [
    {
     "data": {
      "text/plain": [
       "array([11, 12, 13, 14])"
      ]
     },
     "execution_count": 264,
     "metadata": {},
     "output_type": "execute_result"
    }
   ],
   "source": [
    "# boolean indexing\n",
    "\n",
    "a3[a3 >10] # like filter() - returns True value only"
   ]
  },
  {
   "cell_type": "markdown",
   "id": "fe3a3a01",
   "metadata": {},
   "source": [
    "# Task\n",
    "create numpy array - initialize dept name list\n",
    "- determine dimension\n",
    "- determine type\n",
    "- determine shape\n",
    "- filter - specific dept - apply boolean indexing"
   ]
  },
  {
   "cell_type": "code",
   "execution_count": 265,
   "id": "9d6f6d3d",
   "metadata": {},
   "outputs": [
    {
     "name": "stdout",
     "output_type": "stream",
     "text": [
      "1 <U5 (8,)\n"
     ]
    }
   ],
   "source": [
    "dept = np.array(['sales','prod','QA','CRM','DBA','sales','prod','sales'])\n",
    "print(dept.ndim,dept.dtype,dept.shape)\n"
   ]
  },
  {
   "cell_type": "code",
   "execution_count": 266,
   "id": "8728d565",
   "metadata": {},
   "outputs": [
    {
     "data": {
      "text/plain": [
       "array([ True, False, False, False, False,  True, False,  True])"
      ]
     },
     "execution_count": 266,
     "metadata": {},
     "output_type": "execute_result"
    }
   ],
   "source": [
    "dept == 'sales'"
   ]
  },
  {
   "cell_type": "code",
   "execution_count": 267,
   "id": "0a9ef3b8",
   "metadata": {},
   "outputs": [
    {
     "data": {
      "text/plain": [
       "array(['sales', 'sales', 'sales'], dtype='<U5')"
      ]
     },
     "execution_count": 267,
     "metadata": {},
     "output_type": "execute_result"
    }
   ],
   "source": [
    "dept[dept =='sales']"
   ]
  },
  {
   "cell_type": "code",
   "execution_count": 268,
   "id": "6be5cf40",
   "metadata": {},
   "outputs": [
    {
     "name": "stdout",
     "output_type": "stream",
     "text": [
      "1500\n"
     ]
    }
   ],
   "source": [
    "# empID empName empDept empCost\n",
    "#                        ...\n",
    "\n",
    "empCost = [100,200,300,400,500]\n",
    "t=0\n",
    "for var in empCost:\n",
    "    t=t+var\n",
    "print(t)"
   ]
  },
  {
   "cell_type": "code",
   "execution_count": 269,
   "id": "5abae753",
   "metadata": {},
   "outputs": [
    {
     "data": {
      "text/plain": [
       "1500"
      ]
     },
     "execution_count": 269,
     "metadata": {},
     "output_type": "execute_result"
    }
   ],
   "source": [
    "np.sum(empCost) # <== using numpy way"
   ]
  },
  {
   "cell_type": "code",
   "execution_count": 270,
   "id": "eea320f8",
   "metadata": {},
   "outputs": [
    {
     "data": {
      "text/plain": [
       "dtype('<U6')"
      ]
     },
     "execution_count": 270,
     "metadata": {},
     "output_type": "execute_result"
    }
   ],
   "source": [
    "empCost = ['100Rs','Rs200','300$','400INR','500rs']\n",
    "np.array(empCost).dtype"
   ]
  },
  {
   "cell_type": "code",
   "execution_count": 272,
   "id": "7c323485",
   "metadata": {},
   "outputs": [],
   "source": [
    "# np.sum(empCost) -> UFuncTypeError"
   ]
  },
  {
   "cell_type": "code",
   "execution_count": 275,
   "id": "1b8ac369",
   "metadata": {},
   "outputs": [
    {
     "data": {
      "text/plain": [
       "'100'"
      ]
     },
     "execution_count": 275,
     "metadata": {},
     "output_type": "execute_result"
    }
   ],
   "source": [
    "s='100Rs'\n",
    "re.sub('[A-Za-z]+','',s) # target string is empty - like delete "
   ]
  },
  {
   "cell_type": "code",
   "execution_count": 276,
   "id": "031b5a9a",
   "metadata": {},
   "outputs": [
    {
     "data": {
      "text/plain": [
       "'450$'"
      ]
     },
     "execution_count": 276,
     "metadata": {},
     "output_type": "execute_result"
    }
   ],
   "source": [
    "s='450$'\n",
    "re.sub('$$','',s)"
   ]
  },
  {
   "cell_type": "code",
   "execution_count": 277,
   "id": "b128a009",
   "metadata": {},
   "outputs": [
    {
     "data": {
      "text/plain": [
       "'450'"
      ]
     },
     "execution_count": 277,
     "metadata": {},
     "output_type": "execute_result"
    }
   ],
   "source": [
    "re.sub('\\$$','',s)"
   ]
  },
  {
   "cell_type": "code",
   "execution_count": 278,
   "id": "750b2223",
   "metadata": {},
   "outputs": [
    {
     "data": {
      "text/plain": [
       "'14560069'"
      ]
     },
     "execution_count": 278,
     "metadata": {},
     "output_type": "execute_result"
    }
   ],
   "source": [
    "re.sub(\"['A-Za-z']+|[^\\w\\s]+\",\"\",\"145Rs600$69INR\")"
   ]
  },
  {
   "cell_type": "code",
   "execution_count": 280,
   "id": "0e94b603",
   "metadata": {},
   "outputs": [
    {
     "data": {
      "text/plain": [
       "['100', '200', '300', '400', '500']"
      ]
     },
     "execution_count": 280,
     "metadata": {},
     "output_type": "execute_result"
    }
   ],
   "source": [
    "empCost = ['100Rs','Rs200','300$','400INR','500rs']\n",
    "\n",
    "L = []\n",
    "for var in empCost:\n",
    "    r = re.sub(\"['A-Za-z']+|[^\\w\\s]+\",\"\",var)\n",
    "    L.append(r)\n",
    "    \n",
    "L"
   ]
  },
  {
   "cell_type": "code",
   "execution_count": 281,
   "id": "948a2c55",
   "metadata": {},
   "outputs": [],
   "source": [
    "def fx(a):\n",
    "    return int(re.sub(\"['A-Za-z']+|[^\\w\\s]+\",\"\",str(a)))"
   ]
  },
  {
   "cell_type": "code",
   "execution_count": 282,
   "id": "911b462a",
   "metadata": {},
   "outputs": [
    {
     "data": {
      "text/plain": [
       "[100, 200, 300, 400, 500]"
      ]
     },
     "execution_count": 282,
     "metadata": {},
     "output_type": "execute_result"
    }
   ],
   "source": [
    "empCost = ['100Rs','Rs200','300$','400INR','500rs']\n",
    "\n",
    "L = []\n",
    "for var in empCost:\n",
    "    r=fx(var)\n",
    "    L.append(r)\n",
    "    \n",
    "L"
   ]
  },
  {
   "cell_type": "code",
   "execution_count": null,
   "id": "a5fca132",
   "metadata": {},
   "outputs": [],
   "source": [
    "lambda arguments:basicoperation\n",
    "|\n",
    "f = lambda a: substitute_operation\n",
    "f('100Rs')\n",
    "f('200Rs')\n",
    "f('300$')\n",
    "\n",
    "map(function,<collection>) -><generator> => list(geobj) ->[value1,value2,...valueN] ->np.sum()\n",
    "     |          |\n",
    "    //lambda,empCost"
   ]
  },
  {
   "cell_type": "code",
   "execution_count": 285,
   "id": "136c37f9",
   "metadata": {},
   "outputs": [
    {
     "data": {
      "text/plain": [
       "1500"
      ]
     },
     "execution_count": 285,
     "metadata": {},
     "output_type": "execute_result"
    }
   ],
   "source": [
    "np.sum(list(map(lambda a:int(re.sub(\"['A-Za-z']+|[^\\w\\s]+\",\"\",str(a))),empCost)))"
   ]
  },
  {
   "cell_type": "code",
   "execution_count": 286,
   "id": "38b73f7d",
   "metadata": {},
   "outputs": [
    {
     "name": "stdout",
     "output_type": "stream",
     "text": [
      "Below 2000\n"
     ]
    }
   ],
   "source": [
    "if (np.sum(list(map(lambda a:int(re.sub(\"['A-Za-z']+|[^\\w\\s]+\",\"\",str(a))),empCost))) >2000):\n",
    "    print('Sum of emp cost is above 2000')\n",
    "else:\n",
    "    print('Below 2000')"
   ]
  },
  {
   "cell_type": "code",
   "execution_count": 290,
   "id": "0103e9ae",
   "metadata": {},
   "outputs": [
    {
     "name": "stdout",
     "output_type": "stream",
     "text": [
      "10 - host07:10.20.30.45:98.45,99,32,90,120,400,99,80.44\n",
      "11 - host08:10.20.30.46:98.25,99,32,90,120,200,99,90.45\n",
      "12 - \n",
      "13 - \n",
      "14 - host09:10.20.30.47:88.45,99,32,90,120,500,99,80.44\n",
      "15 - host09:10.20.30.47:98.75,99,32,90,120,200,99,80.43\n"
     ]
    }
   ],
   "source": [
    "for line,data in enumerate(open('sysinfo.log'),1):\n",
    "    if(line >=10 and line <=15):\n",
    "        print(f'{line} - {data.strip()}')"
   ]
  },
  {
   "cell_type": "code",
   "execution_count": 293,
   "id": "86fc149c",
   "metadata": {},
   "outputs": [
    {
     "data": {
      "text/plain": [
       "['host07:10.20.30.45:98.45,99,32,90,120,400,99,80.44',\n",
       " 'host08:10.20.30.46:98.25,99,32,90,120,200,99,90.45',\n",
       " '',\n",
       " '',\n",
       " 'host09:10.20.30.47:88.45,99,32,90,120,500,99,80.44',\n",
       " 'host09:10.20.30.47:98.75,99,32,90,120,200,99,80.43']"
      ]
     },
     "execution_count": 293,
     "metadata": {},
     "output_type": "execute_result"
    }
   ],
   "source": [
    "[data.strip() for line,data in enumerate(open('sysinfo.log'),1) if line >=10 and line <= 15]"
   ]
  },
  {
   "cell_type": "code",
   "execution_count": 294,
   "id": "f10bb6cf",
   "metadata": {},
   "outputs": [
    {
     "data": {
      "text/plain": [
       "{'MsgLog': ['host07:10.20.30.45:98.45,99,32,90,120,400,99,80.44',\n",
       "  'host08:10.20.30.46:98.25,99,32,90,120,200,99,90.45',\n",
       "  '',\n",
       "  '',\n",
       "  'host09:10.20.30.47:88.45,99,32,90,120,500,99,80.44',\n",
       "  'host09:10.20.30.47:98.75,99,32,90,120,200,99,80.43']}"
      ]
     },
     "execution_count": 294,
     "metadata": {},
     "output_type": "execute_result"
    }
   ],
   "source": [
    "d={}\n",
    "d['MsgLog']=[data.strip() for line,data in enumerate(open('sysinfo.log'),1) if line >=10 and line <= 15]\n",
    "d"
   ]
  },
  {
   "cell_type": "code",
   "execution_count": null,
   "id": "d37900c7",
   "metadata": {},
   "outputs": [],
   "source": [
    "json.dumps(d) # convert to json\n",
    "\n",
    "pd.DataFrame(d) # convert to DataFrame"
   ]
  }
 ],
 "metadata": {
  "kernelspec": {
   "display_name": "Python 3 (ipykernel)",
   "language": "python",
   "name": "python3"
  },
  "language_info": {
   "codemirror_mode": {
    "name": "ipython",
    "version": 3
   },
   "file_extension": ".py",
   "mimetype": "text/x-python",
   "name": "python",
   "nbconvert_exporter": "python",
   "pygments_lexer": "ipython3",
   "version": "3.11.5"
  }
 },
 "nbformat": 4,
 "nbformat_minor": 5
}
